{
 "cells": [
  {
   "cell_type": "markdown",
   "metadata": {
    "id": "gau9xEXMGY8s"
   },
   "source": [
    "# CS 447 Homework 4 $-$ Dependency Parsing\n",
    "In this homework you will build a neural transition-based dependency parser, based off the paper <a href=\"https://nlp.stanford.edu/pubs/emnlp2014-depparser.pdf\">A Fast and Accurate Dependency Parser using Neural Networks</a>.\n",
    "\n",
    "The setup for a dependency parser is somewhat more sophisticated than tasks like classification or translation. Therfore, this homework contains many small functions that can be tested incrementally. In addition to Gradescope tests, we also provide substantial tests in the notebook that you can use to debug your code.\n",
    "\n",
    "<font color='green'><b>Hint:</b> We suggest that you work on this homework in <b>CPU</b> until you are ready to train. At that point, you should switch your runtime to <b>GPU</b>. You can do this by going to <TT>Runtime > Change Runtime Type</TT> and select \"GPU\" from the dropdown menu.\n",
    "* You will find it easier to debug on CPU, and the error messages will be more understandable.\n",
    "* Google monitors your GPU usage and will occasionally restrict GPU access if you use it too much. In these cases, you can either switch to a different Google account or wait for your access to be restored.</font>"
   ]
  },
  {
   "cell_type": "markdown",
   "metadata": {
    "id": "hJLXyMdr1Nxz"
   },
   "source": [
    "# Step 0: Provided Testing Functions\n",
    "\n",
    "The following cells set up the tests that you can use in the notebook. You should <b>not</b> edit any of these cells."
   ]
  },
  {
   "cell_type": "code",
   "execution_count": 1,
   "metadata": {
    "id": "KvqfpNVH11S5"
   },
   "outputs": [],
   "source": [
    "### DO NOT EDIT ###\n",
    "\n",
    "if __name__ == '__main__':\n",
    "    import cloudpickle as cp\n",
    "    from urllib.request import urlopen\n",
    "\n",
    "    testing_bundle = cp.load(urlopen(\"https://drive.google.com/uc?export=download&id=1-9lWbXuXZYGjJWQRKD7um_83O-I3ER63\"))"
   ]
  },
  {
   "cell_type": "code",
   "execution_count": 2,
   "metadata": {
    "id": "f1GQITfH1k_O"
   },
   "outputs": [],
   "source": [
    "### DO NOT EDIT ###\n",
    "\n",
    "def sanityCheck(test_fxn, i=None, test_bundle=None, to_print = 'all', do_return=False, display_sent=True, do_raise=True):\n",
    "    to_test = test_fxn.__name__ + (('_' + str(i)) if i is not None else '')\n",
    "    if test_fxn.__name__ not in {'get_gold_action', 'get_lc', 'get_rc', 'get_top3_stack_features', 'get_top3_buffer_features'}: assert i is not None\n",
    "    assert to_test in {'get_gold_action', 'get_lc', 'get_rc', 'get_top3_stack_features', 'get_top3_buffer_features', 'get_lc1_lc2_features_1',\n",
    "                       'get_lc1_lc2_features_2', 'get_rc1_rc2_features_1', 'get_rc1_rc2_features_2', 'get_llc_rrc_features_1', 'get_llc_rrc_features_2'}\n",
    "    assert to_print in {'all', 'incorrect', 'none'}\n",
    "    test_bundle = testing_bundle if test_bundle is None else test_bundle\n",
    "    sentences, configs, gold_actions, gold_features, _ = test_bundle\n",
    "    vocab = Vocabulary(sentences)\n",
    "    testsents = vocab.buildSentences(sentences)\n",
    "\n",
    "    # # # for testing ==> comment later\n",
    "    # sent, gold_deps = testsents[1][0], testsents[1][1]\n",
    "    # print(f\"gold_deps in the start are are: {gold_deps}\")\n",
    "    #\n",
    "    # parser_config = ParserConfiguration(sent, vocab)\n",
    "    # parser_config.parse_step('LA-punct')\n",
    "\n",
    "    sents_correct, printag = 0, None # printag will collect the first error you encounter (used in Gradescope)\n",
    "\n",
    "\n",
    "    for i in range(len(sentences)):\n",
    "\n",
    "        printsent = \"\" # printsent is full printout for this sentence (only needed when to_print != 'none')\n",
    "        sent, gold_deps = testsents[i][0], testsents[i][1]\n",
    "        print(f\"gold_deps are: {gold_deps}\")\n",
    "        # self.arcs = []\n",
    "        # self.vocab = vocab\n",
    "        # self.dep_to_head_mapping = {}\n",
    "\n",
    "        # # comment later later later on\n",
    "        # gold_deps_arcs_output = gold_deps.arcs\n",
    "        # gold_deps_vocab_output = gold_deps.vocab\n",
    "        # gold_deps_dep_to_head_mapping_output = gold_deps.dep_to_head_mapping\n",
    "        #\n",
    "        # print(f\"gold_deps_arcs_output: {gold_deps_arcs_output}\")\n",
    "        # print(f\"gold_deps_vocab_output: {gold_deps_vocab_output}\")\n",
    "        # print(f\"gold_deps_dep_to_head_mapping_output: {gold_deps_dep_to_head_mapping_output}\")\n",
    "\n",
    "        # gold_deps are: <__main__.Dependencies object at 0x7fb7e6e0ff10>\n",
    "        # gold_deps_arcs_output: [<__main__.Arc object at 0x7fb7e6e0fc70>, <__main__.Arc object at 0x7fb7e9e9d760>, <__main__.Arc object at 0x7fb7e9e9dd30>, <__main__.Arc object at 0x7fb7e9e9de80>, <__main__.Arc object at 0x7fb7e9e9d910>, <__main__.Arc object at 0x7fb7e6dc3160>, <__main__.Arc object at 0x7fb7e6dc3be0>, <__main__.Arc object at 0x7fb7e6dc3220>, <__main__.Arc object at 0x7fb7e6dc3d00>]\n",
    "        # gold_deps_vocab_output: <__main__.Vocabulary object at 0x7fb7e6e0f5e0>\n",
    "        # gold_deps_dep_to_head_mapping_output: {1: <__main__.Arc object at 0x7fb7e6e0fc70>, 2: <__main__.Arc object at 0x7fb7e9e9d760>, 3: <__main__.Arc object at 0x7fb7e9e9dd30>, 4: <__main__.Arc object at 0x7fb7e9e9de80>, 5: <__main__.Arc object at 0x7fb7e9e9d910>, 6: <__main__.Arc object at 0x7fb7e6dc3160>, 7: <__main__.Arc object at 0x7fb7e6dc3be0>, 8: <__main__.Arc object at 0x7fb7e6dc3220>, 9: <__main__.Arc object at 0x7fb7e6dc3d00>}\n",
    "\n",
    "\n",
    "        if to_test == 'get_gold_action':\n",
    "            printsent += 'gold_dependencies: ' +str([str(arc) for arc in gold_deps.arcs]) + '\\n\\n'\n",
    "\n",
    "        for j in range(len(configs[i])):\n",
    "            # Manually create Stack, Buffer, Dependencies & ParserConfiguration objects from test case\n",
    "            stk, buf, deps = configs[i][j]\n",
    "            stack, buffer, dependencies = Stack([sent[idx] for idx in stk]), Buffer([sent[idx] for idx in buf]), Dependencies(vocab)\n",
    "            for arc in deps: dependencies.add(sent[arc[0]], sent[arc[1]], arc[2])\n",
    "            parser_config = ParserConfiguration(sent, vocab)\n",
    "            parser_config.stack, parser_config.buffer, parser_config.dependencies = stack, buffer, dependencies\n",
    "\n",
    "            if to_test == 'get_gold_action' or not (gold_actions[i][j] is None or gold_actions[i][j] == 'DONE'): # Don't need to test if Done or None when not testing get_gold_action\n",
    "                \n",
    "                # Call the student code\n",
    "                arg = stack.get_si(1) if to_test in {'get_lc', 'get_rc'} else (int(to_test[-1]) if to_test[-1] in {'1', '2'} else None)\n",
    "                if to_test == 'get_gold_action': fxn = lambda: test_fxn(stack, buffer, gold_deps)\n",
    "                elif to_test in {'get_top3_stack_features', 'get_top3_buffer_features'}: fxn = lambda: test_fxn(parser_config)\n",
    "                else: fxn = lambda: test_fxn(parser_config, arg)\n",
    "                tt = to_test[:-2] if to_test[-1] in {'1', '2'} else to_test\n",
    "                \n",
    "                exception=None\n",
    "\n",
    "                try:\n",
    "                    yours = fxn()\n",
    "                except Exception as e:\n",
    "                    yours = \"Raised Exception: \" + str(e)\n",
    "                    exception=e\n",
    "                correct = gold_actions[i][j] if to_test == 'get_gold_action' else gold_features[i][j][to_test]\n",
    "                fxn_name = 'get_gold_action(stack, buffer, gold_dependencies)' if to_test == 'get_gold_action'else  tt + ('(parser_config, 1)' if to_test not in to_test in {'get_lc', 'get_rc'} else '(parser_config, ' + str(arg) + ')')\n",
    "                \n",
    "                if to_test in {'get_lc', 'get_rc'} and exception is None: \n",
    "                    if type(yours) != list or (len(yours) > 0 and type(yours[0]) != Arc): \n",
    "                        yours = 'Your ' + to_test + '(...) did not return a list of Arcs' # note: exact quote used below, so if need to change, change in both places\n",
    "                    else: yours = [str(arc) for arc in yours]\n",
    "                # if random.random() < 0.05: yours = [None, None, None, None, None, None] # simulate getting it wrong\n",
    "                is_correct = yours == correct\n",
    "                \n",
    "                # Make the printouts!\n",
    "                printsent += 'Step ' + str(j+1) + ' | stack: ' + str([str(word) if to_test != 'get_gold_action' else word.word for word in stack]) + '\\tbuffer: ' + str([str(word) if to_test != 'get_gold_action' else word.word for word in buffer]) + (('\\tdependencies: ' + str([str(arc) for arc in dependencies.arcs])) if to_test != 'get_gold_action' else \"\") + '\\n'\n",
    "                printsent += '\\tTesting '+ fxn_name +':\\n'\n",
    "                printsent += '\\t\\tYour Result: ' + str(yours) + '\\t\\tCorrect Result: ' + str(correct) + ('\\t\\tCorrect!' if is_correct else \"\") + '\\n'\n",
    "                if not is_correct:\n",
    "                    printsent += '\\t\\tIncorrect! Halting parse of this sentence.\\n\\n'\n",
    "                    if printag is None: \n",
    "                        statement=yours if yours == 'Your ' + to_test + '(...) did not return a list of Arcs' else str(yours)[:20]+(\"... \" if len(str(yours)) > 20 else \"\")\n",
    "                        statement = \"Your first error (on a hidden test sentence): You returned \" + statement + \"; expected \" + str(correct) + \".\"\n",
    "                        printag = statement if exception is None else (statement, exception)\n",
    "                    if to_print != 'none': \n",
    "                        print(\"Testing Sentence \" + str(i+1) + '...')\n",
    "                        if display_sent: display_sentence(sentences[i])\n",
    "                        print(printsent)\n",
    "                        print('Test Sentence ' + str(i+1) + ' failed.')\n",
    "                        print(('\\n' + '-'*100 + '\\n'))\n",
    "                    if do_raise and exception is not None:\n",
    "                        raise exception\n",
    "                    break\n",
    "                else: printsent += '\\n'\n",
    "      \n",
    "        else:\n",
    "            sents_correct += 1\n",
    "            if to_print == 'all': \n",
    "                print(\"Testing Sentence \" + str(i+1) + '...')\n",
    "                if display_sent: display_sentence(sentences[i])\n",
    "                print(printsent)\n",
    "                print('Test Sentence ' + str(i+1) + ' passed!')\n",
    "                print(('\\n' + '-'*100 + '\\n'))\n",
    "    score = sents_correct / len(sentences)\n",
    "    print(sents_correct, '/', len(sentences), '=', str(score*100)+'%', 'of test cases passed!')\n",
    "    if do_return:\n",
    "        return score, printag\n",
    "\n",
    "def sanityCheck_generate_training_examples(test_fxn, feat_extract = None, test_bundle=None, to_print='all', do_return=False, display_sent=True, do_raise=True):\n",
    "    assert test_fxn.__name__ == 'generate_training_examples' and (feat_extract is None or feat_extract.__name__ == 'extract_features')\n",
    "    test_bundle = testing_bundle if test_bundle is None else test_bundle\n",
    "    sentences, _, _, _, gold_examples = test_bundle\n",
    "    vocab = Vocabulary(sentences)\n",
    "    testsents = vocab.buildSentences(sentences)\n",
    "    sents_correct, printag = 0, None\n",
    "    for i in range(len(sentences)):\n",
    "        sent, gold_deps = testsents[i][0], testsents[i][1]\n",
    "        exception=None\n",
    "        try:\n",
    "            your_examples = test_fxn(sent, gold_deps, vocab, feat_extract=feat_extract if feat_extract is not None else lambda p: [])\n",
    "        except Exception as e:\n",
    "            your_examples = \"Raised Exception: \" + str(e)\n",
    "            exception=e\n",
    "        # if random.random() < 0.5: your_examples = [None, None, None, None, None, None, None, None] # simulate getting it wrong\n",
    "        is_correct = your_examples == gold_examples[i][0 if feat_extract == None else 1]\n",
    "        if to_print == 'all' or to_print == 'incorrect' and not is_correct:\n",
    "            print(\"Testing Sentence \" + str(i+1) + '...')\n",
    "            if display_sent: display_sentence(sentences[i])\n",
    "            print(\"sentence: \" + str([word.word for word in sent]) + '\\tgold_dependencies: ' + str([str(arc) for arc in gold_deps.arcs]))\n",
    "            print(\"\\tTesting generate_training_examples(sentence, gold_dependencies, vocab\" + ('' if feat_extract is None else ', feat_extract=extract_features') + \"):\")\n",
    "            print('\\t\\tYour Training Examples:   ', your_examples, '\\n\\t\\tCorrect Training Examples:', gold_examples[i][0 if feat_extract == None else 1])\n",
    "            print('\\t\\tCorrect!\\n\\n' if is_correct else '\\t\\tIncorrect!\\n\\n')\n",
    "        if not is_correct and printag is None:\n",
    "            statement = \"Your first error (on a hidden test sentence): You returned \" + str(your_examples)[0:20]+(\"... \" if len(str(your_examples)) > 20 else \"\") + \"; expected \" + str(gold_examples[i]) + \".\"\n",
    "            printag = statement if exception is None else (statement, exception)\n",
    "        if to_print == 'all' or to_print == 'incorrect' and not is_correct:\n",
    "            print(('Test Sentence ' + str(i+1) + ' passed!') if is_correct else ('Test Sentence ' + str(i+1) + ' failed.'))\n",
    "            print('\\n'+ '-'*100, '\\n')\n",
    "        if is_correct: sents_correct += 1\n",
    "        if do_raise and exception is not None:\n",
    "            raise exception\n",
    "        \n",
    "    score = sents_correct / len(sentences)\n",
    "    print(sents_correct, '/', len(sentences), '=', str(score*100)+'%', 'of test cases passed!')\n",
    "    if do_return:\n",
    "        return score, printag\n",
    "\n",
    "def sanityCheckStackBuffer():\n",
    "    sanity_stack = Stack()\n",
    "    item1 = Word('she', 'PRP', 0)\n",
    "    item2 = Word('is', 'VBP', 1)\n",
    "    item3 = Word('working', 'VBG', 2)\n",
    "    sanity_stack.push(item1)\n",
    "    sanity_stack.push(item2)\n",
    "    sanity_stack.push(item3)\n",
    "    p1 = False\n",
    "    p2 = False\n",
    "    p3 = False\n",
    "    pop_item = sanity_stack.pop()\n",
    "    if (pop_item.idx == 2 and pop_item.word == 'working' and pop_item.pos == 'VBG'):\n",
    "        p1 = True\n",
    "    pop_item = sanity_stack.pop()\n",
    "    if (pop_item.idx == 1 and pop_item.word == 'is' and pop_item.pos == 'VBP'):\n",
    "        p2 = True\n",
    "    pop_item = sanity_stack.pop()\n",
    "    if (pop_item.idx == 0 and pop_item.word == 'she' and pop_item.pos == 'PRP'):\n",
    "        p3 = True\n",
    "    if p1 and p2 and p3:\n",
    "        print(\"Stack sanity check PASSED\")\n",
    "    else:\n",
    "        print(\"Stack sanity check FAILED\")\n",
    "\n",
    "    sentence = [item1, item2, item3]\n",
    "    sanity_buffer = Buffer(sentence)\n",
    "\n",
    "    # following methods exist in buffer class\n",
    "    # def __getitem__(self, idx):\n",
    "    #     return self.buffer[idx]\n",
    "    #\n",
    "    # def __len__(self):\n",
    "    #     return len(self.buffer)\n",
    "    #\n",
    "    # def __str__(self):\n",
    "    #     return str([str(x) for x in self.buffer])\n",
    "\n",
    "    # # comment later later later on\n",
    "    # sanity_buffer_get_bi_output = sanity_buffer.get_bi(1)\n",
    "    # sanity_buffer_get_item_output = sanity_buffer.__getitem__(1)\n",
    "    # sanity_buffer_get_len_output = sanity_buffer.__len__()\n",
    "    # sanity_buffer_get_str_output = sanity_buffer.__str__()\n",
    "    #\n",
    "    # print(f\"sanity_buffer.get_bi(0): {sanity_buffer_get_bi_output}\")\n",
    "    # print(f\"sanity_buffer.__getitem__(1): {sanity_buffer_get_item_output}\")\n",
    "    # print(f\"sanity_buffer.__len__(): {sanity_buffer_get_len_output}\")\n",
    "    # print(f\"sanity_buffer.__str__(): {sanity_buffer_get_str_output}\")\n",
    "\n",
    "\n",
    "    p1 = False\n",
    "    p2 = False\n",
    "    p3 = False\n",
    "    pop_item = sanity_buffer.pop()\n",
    "\n",
    "    if (pop_item.idx == 0 and pop_item.word == 'she' and pop_item.pos == 'PRP'):\n",
    "        p1 = True\n",
    "    pop_item = sanity_buffer.pop()\n",
    "    if (pop_item.idx == 1 and pop_item.word == 'is' and pop_item.pos == 'VBP'):\n",
    "        p2 = True\n",
    "    pop_item = sanity_buffer.pop()\n",
    "    if (pop_item.idx == 2 and pop_item.word == 'working' and pop_item.pos == 'VBG'):\n",
    "        p3 = True\n",
    "    if p1 and p2 and p3:\n",
    "        print(\"Buffer sanity check PASSED\")\n",
    "    else:\n",
    "        print(\"Buffer sanity check FAILED\")\n",
    "\n",
    "count_parameters = lambda model: sum(p.numel() for p in model.parameters() if p.requires_grad)\n",
    "\n",
    "def sanityCheckModel(all_test_params, model, expected_outputs, init_or_forward, batch_sizes=None):\n",
    "    print('--- TEST: ' + ('Number of Model Parameters (tests __init__(...))' if init_or_forward=='init' else 'Output shape of forward(...)') + ' ---')\n",
    "\n",
    "    for tp_idx, (test_params, expected_output) in enumerate(zip(all_test_params, expected_outputs)):       \n",
    "        if init_or_forward == \"forward\":\n",
    "            assert len(batch_sizes) == len(all_test_params)\n",
    "            texts = torch.randint(1,4,(batch_sizes[tp_idx], test_params['n_features']))\n",
    "\n",
    "        # Construct the student model\n",
    "        tps = {k:v for k, v in test_params.items() if k != 'batch_size'}\n",
    "        stu_parser_model = model(**tps)\n",
    "        \n",
    "        if init_or_forward == \"forward\":\n",
    "            with torch.no_grad(): \n",
    "                stu_out = stu_parser_model(texts)\n",
    "            ref_out_shape = expected_output\n",
    "\n",
    "            has_passed = torch.is_tensor(stu_out)\n",
    "            if not has_passed: msg = 'Output must be a torch.Tensor; received ' + str(type(stu_out))\n",
    "            else: \n",
    "                has_passed = stu_out.shape == ref_out_shape\n",
    "                msg = 'Your Output Shape: ' + str(stu_out.shape)\n",
    "            \n",
    "\n",
    "            status = 'PASSED' if has_passed else 'FAILED'\n",
    "            message = '\\t' + status + \"\\t Init Input: \" + str({k:v for k,v in tps.items()}) + '\\tForward Input Shape: ' + str(texts.shape) + '\\tExpected Output Shape: ' + str(ref_out_shape) + '\\t' + msg\n",
    "            print(message)\n",
    "        else:\n",
    "            assert batch_sizes is None\n",
    "            stu_num_params = count_parameters(stu_parser_model)\n",
    "            ref_num_params = expected_output\n",
    "            comparison_result = (stu_num_params == ref_num_params)\n",
    "\n",
    "            status = 'PASSED' if comparison_result else 'FAILED'\n",
    "            message = '\\t' + status + \"\\tInput: \" + str({k:v for k,v in test_params.items()}) + ('\\tExpected Num. Params: ' + str(ref_num_params) + '\\tYour Num. Params: '+ str(stu_num_params))\n",
    "            print(message)\n",
    "\n",
    "        del stu_parser_model"
   ]
  },
  {
   "cell_type": "markdown",
   "metadata": {
    "id": "oetuJnpcKceg"
   },
   "source": [
    "# Step 1: Prepare Data\n",
    "\n",
    "\n"
   ]
  },
  {
   "cell_type": "code",
   "execution_count": 3,
   "metadata": {
    "id": "mx_-2tlmkzju"
   },
   "outputs": [],
   "source": [
    "### DO NOT EDIT ###\n",
    "\n",
    "import numpy as np\n",
    "from spacy import displacy\n",
    "import random"
   ]
  },
  {
   "cell_type": "markdown",
   "metadata": {
    "id": "16uFydR7ooyy"
   },
   "source": [
    "## Read & Visualize Data\n",
    "\n",
    "We provide the data in a format preprocessed for this assignment. Here are some links if you are interested in learning more about the data:\n",
    "* We use one of the Universal Dependencies datasets from http://universaldependencies.org/docsv1/. Specifically, we use the UD_English dataset in version 1.4.\n",
    "* Refer to https://universaldependencies.org/ if you want to know more about the Universal Dependencies framework in general.\n",
    "* The data license can be found here: https://lindat.mff.cuni.cz/repository/xmlui/page/licence-UD-1.4\n",
    "\n",
    "Run the following cells to load the data and see the number of sentences. You do <b>not</b> need to edit these cells."
   ]
  },
  {
   "cell_type": "code",
   "execution_count": 4,
   "metadata": {
    "id": "llYdv429tNa3"
   },
   "outputs": [],
   "source": [
    "### DO NOT EDIT ###\n",
    "\n",
    "def load_data():\n",
    "    train_set = cp.load(urlopen(\"https://drive.google.com/uc?export=download&id=1N4B4bC4ua0bFMIYeNdtNQQ72LxxKLPas\"))\n",
    "    test_set = cp.load(urlopen(\"https://drive.google.com/uc?export=download&id=1TE2AflhABbz41dLMGmD1kTm7WevYpU31\"))\n",
    "    return train_set, test_set"
   ]
  },
  {
   "cell_type": "code",
   "execution_count": 5,
   "metadata": {
    "id": "USK3sLcNk8UM"
   },
   "outputs": [
    {
     "name": "stdout",
     "output_type": "stream",
     "text": [
      "Num. Train Examples: 12543\n",
      "Num. Test Examples:  2002\n"
     ]
    }
   ],
   "source": [
    "### DO NOT EDIT ###\n",
    "\n",
    "if __name__ == '__main__':\n",
    "    train_set, test_set = load_data()\n",
    "    print(\"Num. Train Examples:\", len(train_set))\n",
    "    print(\"Num. Test Examples: \", len(test_set))"
   ]
  },
  {
   "cell_type": "markdown",
   "metadata": {
    "id": "7zBxXO3EiYqw"
   },
   "source": [
    "Next, we visualize the training data, which contains labeled dependency trees. At test time, our goal will be to predict the dependency arcs & labels for a given sentence."
   ]
  },
  {
   "cell_type": "code",
   "execution_count": 6,
   "metadata": {
    "id": "fskHaHIslhrL"
   },
   "outputs": [],
   "source": [
    "### DO NOT EDIT ###\n",
    "\n",
    "def display_sentence(sent):\n",
    "    res = {'words': [{'text': \"<ROOT>\", 'tag': 'POS_ROOT'}], 'arcs': []}\n",
    "    for i in range (len(sent['word'])):\n",
    "        res['words'].append({'text': sent['word'][i], 'tag': sent['pos'][i]})\n",
    "        s = i + 1\n",
    "        e = sent['head'][i]\n",
    "        direc = \"left\"\n",
    "        if s > e: \n",
    "            s = sent['head'][i]\n",
    "            e = i + 1\n",
    "            direc = 'right'\n",
    "        cur = {'start': s, 'end': e, 'label': sent['label'][i], 'dir': direc}\n",
    "        res['arcs'].append(cur)\n",
    "    displacy.render(res, style=\"dep\", manual=True, jupyter=True, options={'distance': 70})\n"
   ]
  },
  {
   "cell_type": "code",
   "execution_count": 7,
   "metadata": {},
   "outputs": [
    {
     "data": {
      "text/plain": "<IPython.core.display.HTML object>",
      "text/html": "<span class=\"tex2jax_ignore\"><svg xmlns=\"http://www.w3.org/2000/svg\" xmlns:xlink=\"http://www.w3.org/1999/xlink\" xml:lang=\"en\" id=\"7aefe8a377ad431cbb1fe9d7f9a7cbe4-0\" class=\"displacy\" width=\"750\" height=\"277.0\" direction=\"ltr\" style=\"max-width: none; height: 277.0px; color: #000000; background: #ffffff; font-family: Arial; direction: ltr\">\n<text class=\"displacy-token\" fill=\"currentColor\" text-anchor=\"middle\" y=\"187.0\">\n    <tspan class=\"displacy-word\" fill=\"currentColor\" x=\"50\">&lt;ROOT&gt;</tspan>\n    <tspan class=\"displacy-tag\" dy=\"2em\" fill=\"currentColor\" x=\"50\">POS_ROOT</tspan>\n</text>\n\n<text class=\"displacy-token\" fill=\"currentColor\" text-anchor=\"middle\" y=\"187.0\">\n    <tspan class=\"displacy-word\" fill=\"currentColor\" x=\"120\">what</tspan>\n    <tspan class=\"displacy-tag\" dy=\"2em\" fill=\"currentColor\" x=\"120\">WP</tspan>\n</text>\n\n<text class=\"displacy-token\" fill=\"currentColor\" text-anchor=\"middle\" y=\"187.0\">\n    <tspan class=\"displacy-word\" fill=\"currentColor\" x=\"190\">s</tspan>\n    <tspan class=\"displacy-tag\" dy=\"2em\" fill=\"currentColor\" x=\"190\">VBZ</tspan>\n</text>\n\n<text class=\"displacy-token\" fill=\"currentColor\" text-anchor=\"middle\" y=\"187.0\">\n    <tspan class=\"displacy-word\" fill=\"currentColor\" x=\"260\">your</tspan>\n    <tspan class=\"displacy-tag\" dy=\"2em\" fill=\"currentColor\" x=\"260\">PRP$</tspan>\n</text>\n\n<text class=\"displacy-token\" fill=\"currentColor\" text-anchor=\"middle\" y=\"187.0\">\n    <tspan class=\"displacy-word\" fill=\"currentColor\" x=\"330\">favorite</tspan>\n    <tspan class=\"displacy-tag\" dy=\"2em\" fill=\"currentColor\" x=\"330\">JJ</tspan>\n</text>\n\n<text class=\"displacy-token\" fill=\"currentColor\" text-anchor=\"middle\" y=\"187.0\">\n    <tspan class=\"displacy-word\" fill=\"currentColor\" x=\"400\">part</tspan>\n    <tspan class=\"displacy-tag\" dy=\"2em\" fill=\"currentColor\" x=\"400\">NN</tspan>\n</text>\n\n<text class=\"displacy-token\" fill=\"currentColor\" text-anchor=\"middle\" y=\"187.0\">\n    <tspan class=\"displacy-word\" fill=\"currentColor\" x=\"470\">about</tspan>\n    <tspan class=\"displacy-tag\" dy=\"2em\" fill=\"currentColor\" x=\"470\">IN</tspan>\n</text>\n\n<text class=\"displacy-token\" fill=\"currentColor\" text-anchor=\"middle\" y=\"187.0\">\n    <tspan class=\"displacy-word\" fill=\"currentColor\" x=\"540\">trail</tspan>\n    <tspan class=\"displacy-tag\" dy=\"2em\" fill=\"currentColor\" x=\"540\">NN</tspan>\n</text>\n\n<text class=\"displacy-token\" fill=\"currentColor\" text-anchor=\"middle\" y=\"187.0\">\n    <tspan class=\"displacy-word\" fill=\"currentColor\" x=\"610\">riding</tspan>\n    <tspan class=\"displacy-tag\" dy=\"2em\" fill=\"currentColor\" x=\"610\">NN</tspan>\n</text>\n\n<text class=\"displacy-token\" fill=\"currentColor\" text-anchor=\"middle\" y=\"187.0\">\n    <tspan class=\"displacy-word\" fill=\"currentColor\" x=\"680\">?</tspan>\n    <tspan class=\"displacy-tag\" dy=\"2em\" fill=\"currentColor\" x=\"680\">.</tspan>\n</text>\n\n<g class=\"displacy-arrow\">\n    <path class=\"displacy-arc\" id=\"arrow-7aefe8a377ad431cbb1fe9d7f9a7cbe4-0-0\" stroke-width=\"2px\" d=\"M70,142.0 C70,107.0 105.0,107.0 105.0,142.0\" fill=\"none\" stroke=\"currentColor\"/>\n    <text dy=\"1.25em\" style=\"font-size: 0.8em; letter-spacing: 1px\">\n        <textPath xlink:href=\"#arrow-7aefe8a377ad431cbb1fe9d7f9a7cbe4-0-0\" class=\"displacy-label\" startOffset=\"50%\" side=\"left\" fill=\"currentColor\" text-anchor=\"middle\">root</textPath>\n    </text>\n    <path class=\"displacy-arrowhead\" d=\"M105.0,144.0 L113.0,132.0 97.0,132.0\" fill=\"currentColor\"/>\n</g>\n\n<g class=\"displacy-arrow\">\n    <path class=\"displacy-arc\" id=\"arrow-7aefe8a377ad431cbb1fe9d7f9a7cbe4-0-1\" stroke-width=\"2px\" d=\"M140,142.0 C140,107.0 175.0,107.0 175.0,142.0\" fill=\"none\" stroke=\"currentColor\"/>\n    <text dy=\"1.25em\" style=\"font-size: 0.8em; letter-spacing: 1px\">\n        <textPath xlink:href=\"#arrow-7aefe8a377ad431cbb1fe9d7f9a7cbe4-0-1\" class=\"displacy-label\" startOffset=\"50%\" side=\"left\" fill=\"currentColor\" text-anchor=\"middle\">cop</textPath>\n    </text>\n    <path class=\"displacy-arrowhead\" d=\"M175.0,144.0 L183.0,132.0 167.0,132.0\" fill=\"currentColor\"/>\n</g>\n\n<g class=\"displacy-arrow\">\n    <path class=\"displacy-arc\" id=\"arrow-7aefe8a377ad431cbb1fe9d7f9a7cbe4-0-2\" stroke-width=\"2px\" d=\"M280,142.0 C280,72.0 390.0,72.0 390.0,142.0\" fill=\"none\" stroke=\"currentColor\"/>\n    <text dy=\"1.25em\" style=\"font-size: 0.8em; letter-spacing: 1px\">\n        <textPath xlink:href=\"#arrow-7aefe8a377ad431cbb1fe9d7f9a7cbe4-0-2\" class=\"displacy-label\" startOffset=\"50%\" side=\"left\" fill=\"currentColor\" text-anchor=\"middle\">nmod:poss</textPath>\n    </text>\n    <path class=\"displacy-arrowhead\" d=\"M280,144.0 L272,132.0 288,132.0\" fill=\"currentColor\"/>\n</g>\n\n<g class=\"displacy-arrow\">\n    <path class=\"displacy-arc\" id=\"arrow-7aefe8a377ad431cbb1fe9d7f9a7cbe4-0-3\" stroke-width=\"2px\" d=\"M350,142.0 C350,107.0 385.0,107.0 385.0,142.0\" fill=\"none\" stroke=\"currentColor\"/>\n    <text dy=\"1.25em\" style=\"font-size: 0.8em; letter-spacing: 1px\">\n        <textPath xlink:href=\"#arrow-7aefe8a377ad431cbb1fe9d7f9a7cbe4-0-3\" class=\"displacy-label\" startOffset=\"50%\" side=\"left\" fill=\"currentColor\" text-anchor=\"middle\">amod</textPath>\n    </text>\n    <path class=\"displacy-arrowhead\" d=\"M350,144.0 L342,132.0 358,132.0\" fill=\"currentColor\"/>\n</g>\n\n<g class=\"displacy-arrow\">\n    <path class=\"displacy-arc\" id=\"arrow-7aefe8a377ad431cbb1fe9d7f9a7cbe4-0-4\" stroke-width=\"2px\" d=\"M140,142.0 C140,37.0 395.0,37.0 395.0,142.0\" fill=\"none\" stroke=\"currentColor\"/>\n    <text dy=\"1.25em\" style=\"font-size: 0.8em; letter-spacing: 1px\">\n        <textPath xlink:href=\"#arrow-7aefe8a377ad431cbb1fe9d7f9a7cbe4-0-4\" class=\"displacy-label\" startOffset=\"50%\" side=\"left\" fill=\"currentColor\" text-anchor=\"middle\">nsubj</textPath>\n    </text>\n    <path class=\"displacy-arrowhead\" d=\"M395.0,144.0 L403.0,132.0 387.0,132.0\" fill=\"currentColor\"/>\n</g>\n\n<g class=\"displacy-arrow\">\n    <path class=\"displacy-arc\" id=\"arrow-7aefe8a377ad431cbb1fe9d7f9a7cbe4-0-5\" stroke-width=\"2px\" d=\"M490,142.0 C490,72.0 600.0,72.0 600.0,142.0\" fill=\"none\" stroke=\"currentColor\"/>\n    <text dy=\"1.25em\" style=\"font-size: 0.8em; letter-spacing: 1px\">\n        <textPath xlink:href=\"#arrow-7aefe8a377ad431cbb1fe9d7f9a7cbe4-0-5\" class=\"displacy-label\" startOffset=\"50%\" side=\"left\" fill=\"currentColor\" text-anchor=\"middle\">case</textPath>\n    </text>\n    <path class=\"displacy-arrowhead\" d=\"M490,144.0 L482,132.0 498,132.0\" fill=\"currentColor\"/>\n</g>\n\n<g class=\"displacy-arrow\">\n    <path class=\"displacy-arc\" id=\"arrow-7aefe8a377ad431cbb1fe9d7f9a7cbe4-0-6\" stroke-width=\"2px\" d=\"M560,142.0 C560,107.0 595.0,107.0 595.0,142.0\" fill=\"none\" stroke=\"currentColor\"/>\n    <text dy=\"1.25em\" style=\"font-size: 0.8em; letter-spacing: 1px\">\n        <textPath xlink:href=\"#arrow-7aefe8a377ad431cbb1fe9d7f9a7cbe4-0-6\" class=\"displacy-label\" startOffset=\"50%\" side=\"left\" fill=\"currentColor\" text-anchor=\"middle\">compound</textPath>\n    </text>\n    <path class=\"displacy-arrowhead\" d=\"M560,144.0 L552,132.0 568,132.0\" fill=\"currentColor\"/>\n</g>\n\n<g class=\"displacy-arrow\">\n    <path class=\"displacy-arc\" id=\"arrow-7aefe8a377ad431cbb1fe9d7f9a7cbe4-0-7\" stroke-width=\"2px\" d=\"M420,142.0 C420,37.0 605.0,37.0 605.0,142.0\" fill=\"none\" stroke=\"currentColor\"/>\n    <text dy=\"1.25em\" style=\"font-size: 0.8em; letter-spacing: 1px\">\n        <textPath xlink:href=\"#arrow-7aefe8a377ad431cbb1fe9d7f9a7cbe4-0-7\" class=\"displacy-label\" startOffset=\"50%\" side=\"left\" fill=\"currentColor\" text-anchor=\"middle\">nmod</textPath>\n    </text>\n    <path class=\"displacy-arrowhead\" d=\"M605.0,144.0 L613.0,132.0 597.0,132.0\" fill=\"currentColor\"/>\n</g>\n\n<g class=\"displacy-arrow\">\n    <path class=\"displacy-arc\" id=\"arrow-7aefe8a377ad431cbb1fe9d7f9a7cbe4-0-8\" stroke-width=\"2px\" d=\"M140,142.0 C140,2.0 680.0,2.0 680.0,142.0\" fill=\"none\" stroke=\"currentColor\"/>\n    <text dy=\"1.25em\" style=\"font-size: 0.8em; letter-spacing: 1px\">\n        <textPath xlink:href=\"#arrow-7aefe8a377ad431cbb1fe9d7f9a7cbe4-0-8\" class=\"displacy-label\" startOffset=\"50%\" side=\"left\" fill=\"currentColor\" text-anchor=\"middle\">punct</textPath>\n    </text>\n    <path class=\"displacy-arrowhead\" d=\"M680.0,144.0 L688.0,132.0 672.0,132.0\" fill=\"currentColor\"/>\n</g>\n</svg></span>"
     },
     "metadata": {},
     "output_type": "display_data"
    },
    {
     "data": {
      "text/plain": "<IPython.core.display.HTML object>",
      "text/html": "<span class=\"tex2jax_ignore\"><svg xmlns=\"http://www.w3.org/2000/svg\" xmlns:xlink=\"http://www.w3.org/1999/xlink\" xml:lang=\"en\" id=\"c6cdfe78baac4c30ad7bb90846128073-0\" class=\"displacy\" width=\"960\" height=\"277.0\" direction=\"ltr\" style=\"max-width: none; height: 277.0px; color: #000000; background: #ffffff; font-family: Arial; direction: ltr\">\n<text class=\"displacy-token\" fill=\"currentColor\" text-anchor=\"middle\" y=\"187.0\">\n    <tspan class=\"displacy-word\" fill=\"currentColor\" x=\"50\">&lt;ROOT&gt;</tspan>\n    <tspan class=\"displacy-tag\" dy=\"2em\" fill=\"currentColor\" x=\"50\">POS_ROOT</tspan>\n</text>\n\n<text class=\"displacy-token\" fill=\"currentColor\" text-anchor=\"middle\" y=\"187.0\">\n    <tspan class=\"displacy-word\" fill=\"currentColor\" x=\"120\">i</tspan>\n    <tspan class=\"displacy-tag\" dy=\"2em\" fill=\"currentColor\" x=\"120\">PRP</tspan>\n</text>\n\n<text class=\"displacy-token\" fill=\"currentColor\" text-anchor=\"middle\" y=\"187.0\">\n    <tspan class=\"displacy-word\" fill=\"currentColor\" x=\"190\">do</tspan>\n    <tspan class=\"displacy-tag\" dy=\"2em\" fill=\"currentColor\" x=\"190\">VBP</tspan>\n</text>\n\n<text class=\"displacy-token\" fill=\"currentColor\" text-anchor=\"middle\" y=\"187.0\">\n    <tspan class=\"displacy-word\" fill=\"currentColor\" x=\"260\">not</tspan>\n    <tspan class=\"displacy-tag\" dy=\"2em\" fill=\"currentColor\" x=\"260\">RB</tspan>\n</text>\n\n<text class=\"displacy-token\" fill=\"currentColor\" text-anchor=\"middle\" y=\"187.0\">\n    <tspan class=\"displacy-word\" fill=\"currentColor\" x=\"330\">think</tspan>\n    <tspan class=\"displacy-tag\" dy=\"2em\" fill=\"currentColor\" x=\"330\">VB</tspan>\n</text>\n\n<text class=\"displacy-token\" fill=\"currentColor\" text-anchor=\"middle\" y=\"187.0\">\n    <tspan class=\"displacy-word\" fill=\"currentColor\" x=\"400\">the</tspan>\n    <tspan class=\"displacy-tag\" dy=\"2em\" fill=\"currentColor\" x=\"400\">DT</tspan>\n</text>\n\n<text class=\"displacy-token\" fill=\"currentColor\" text-anchor=\"middle\" y=\"187.0\">\n    <tspan class=\"displacy-word\" fill=\"currentColor\" x=\"470\">prior</tspan>\n    <tspan class=\"displacy-tag\" dy=\"2em\" fill=\"currentColor\" x=\"470\">JJ</tspan>\n</text>\n\n<text class=\"displacy-token\" fill=\"currentColor\" text-anchor=\"middle\" y=\"187.0\">\n    <tspan class=\"displacy-word\" fill=\"currentColor\" x=\"540\">e-mail</tspan>\n    <tspan class=\"displacy-tag\" dy=\"2em\" fill=\"currentColor\" x=\"540\">NN</tspan>\n</text>\n\n<text class=\"displacy-token\" fill=\"currentColor\" text-anchor=\"middle\" y=\"187.0\">\n    <tspan class=\"displacy-word\" fill=\"currentColor\" x=\"610\">got</tspan>\n    <tspan class=\"displacy-tag\" dy=\"2em\" fill=\"currentColor\" x=\"610\">VBD</tspan>\n</text>\n\n<text class=\"displacy-token\" fill=\"currentColor\" text-anchor=\"middle\" y=\"187.0\">\n    <tspan class=\"displacy-word\" fill=\"currentColor\" x=\"680\">through</tspan>\n    <tspan class=\"displacy-tag\" dy=\"2em\" fill=\"currentColor\" x=\"680\">RB</tspan>\n</text>\n\n<text class=\"displacy-token\" fill=\"currentColor\" text-anchor=\"middle\" y=\"187.0\">\n    <tspan class=\"displacy-word\" fill=\"currentColor\" x=\"750\">to</tspan>\n    <tspan class=\"displacy-tag\" dy=\"2em\" fill=\"currentColor\" x=\"750\">IN</tspan>\n</text>\n\n<text class=\"displacy-token\" fill=\"currentColor\" text-anchor=\"middle\" y=\"187.0\">\n    <tspan class=\"displacy-word\" fill=\"currentColor\" x=\"820\">kay</tspan>\n    <tspan class=\"displacy-tag\" dy=\"2em\" fill=\"currentColor\" x=\"820\">NNP</tspan>\n</text>\n\n<text class=\"displacy-token\" fill=\"currentColor\" text-anchor=\"middle\" y=\"187.0\">\n    <tspan class=\"displacy-word\" fill=\"currentColor\" x=\"890\">.</tspan>\n    <tspan class=\"displacy-tag\" dy=\"2em\" fill=\"currentColor\" x=\"890\">.</tspan>\n</text>\n\n<g class=\"displacy-arrow\">\n    <path class=\"displacy-arc\" id=\"arrow-c6cdfe78baac4c30ad7bb90846128073-0-0\" stroke-width=\"2px\" d=\"M140,142.0 C140,37.0 325.0,37.0 325.0,142.0\" fill=\"none\" stroke=\"currentColor\"/>\n    <text dy=\"1.25em\" style=\"font-size: 0.8em; letter-spacing: 1px\">\n        <textPath xlink:href=\"#arrow-c6cdfe78baac4c30ad7bb90846128073-0-0\" class=\"displacy-label\" startOffset=\"50%\" side=\"left\" fill=\"currentColor\" text-anchor=\"middle\">nsubj</textPath>\n    </text>\n    <path class=\"displacy-arrowhead\" d=\"M140,144.0 L132,132.0 148,132.0\" fill=\"currentColor\"/>\n</g>\n\n<g class=\"displacy-arrow\">\n    <path class=\"displacy-arc\" id=\"arrow-c6cdfe78baac4c30ad7bb90846128073-0-1\" stroke-width=\"2px\" d=\"M210,142.0 C210,72.0 320.0,72.0 320.0,142.0\" fill=\"none\" stroke=\"currentColor\"/>\n    <text dy=\"1.25em\" style=\"font-size: 0.8em; letter-spacing: 1px\">\n        <textPath xlink:href=\"#arrow-c6cdfe78baac4c30ad7bb90846128073-0-1\" class=\"displacy-label\" startOffset=\"50%\" side=\"left\" fill=\"currentColor\" text-anchor=\"middle\">aux</textPath>\n    </text>\n    <path class=\"displacy-arrowhead\" d=\"M210,144.0 L202,132.0 218,132.0\" fill=\"currentColor\"/>\n</g>\n\n<g class=\"displacy-arrow\">\n    <path class=\"displacy-arc\" id=\"arrow-c6cdfe78baac4c30ad7bb90846128073-0-2\" stroke-width=\"2px\" d=\"M280,142.0 C280,107.0 315.0,107.0 315.0,142.0\" fill=\"none\" stroke=\"currentColor\"/>\n    <text dy=\"1.25em\" style=\"font-size: 0.8em; letter-spacing: 1px\">\n        <textPath xlink:href=\"#arrow-c6cdfe78baac4c30ad7bb90846128073-0-2\" class=\"displacy-label\" startOffset=\"50%\" side=\"left\" fill=\"currentColor\" text-anchor=\"middle\">neg</textPath>\n    </text>\n    <path class=\"displacy-arrowhead\" d=\"M280,144.0 L272,132.0 288,132.0\" fill=\"currentColor\"/>\n</g>\n\n<g class=\"displacy-arrow\">\n    <path class=\"displacy-arc\" id=\"arrow-c6cdfe78baac4c30ad7bb90846128073-0-3\" stroke-width=\"2px\" d=\"M70,142.0 C70,2.0 330.0,2.0 330.0,142.0\" fill=\"none\" stroke=\"currentColor\"/>\n    <text dy=\"1.25em\" style=\"font-size: 0.8em; letter-spacing: 1px\">\n        <textPath xlink:href=\"#arrow-c6cdfe78baac4c30ad7bb90846128073-0-3\" class=\"displacy-label\" startOffset=\"50%\" side=\"left\" fill=\"currentColor\" text-anchor=\"middle\">root</textPath>\n    </text>\n    <path class=\"displacy-arrowhead\" d=\"M330.0,144.0 L338.0,132.0 322.0,132.0\" fill=\"currentColor\"/>\n</g>\n\n<g class=\"displacy-arrow\">\n    <path class=\"displacy-arc\" id=\"arrow-c6cdfe78baac4c30ad7bb90846128073-0-4\" stroke-width=\"2px\" d=\"M420,142.0 C420,72.0 530.0,72.0 530.0,142.0\" fill=\"none\" stroke=\"currentColor\"/>\n    <text dy=\"1.25em\" style=\"font-size: 0.8em; letter-spacing: 1px\">\n        <textPath xlink:href=\"#arrow-c6cdfe78baac4c30ad7bb90846128073-0-4\" class=\"displacy-label\" startOffset=\"50%\" side=\"left\" fill=\"currentColor\" text-anchor=\"middle\">det</textPath>\n    </text>\n    <path class=\"displacy-arrowhead\" d=\"M420,144.0 L412,132.0 428,132.0\" fill=\"currentColor\"/>\n</g>\n\n<g class=\"displacy-arrow\">\n    <path class=\"displacy-arc\" id=\"arrow-c6cdfe78baac4c30ad7bb90846128073-0-5\" stroke-width=\"2px\" d=\"M490,142.0 C490,107.0 525.0,107.0 525.0,142.0\" fill=\"none\" stroke=\"currentColor\"/>\n    <text dy=\"1.25em\" style=\"font-size: 0.8em; letter-spacing: 1px\">\n        <textPath xlink:href=\"#arrow-c6cdfe78baac4c30ad7bb90846128073-0-5\" class=\"displacy-label\" startOffset=\"50%\" side=\"left\" fill=\"currentColor\" text-anchor=\"middle\">amod</textPath>\n    </text>\n    <path class=\"displacy-arrowhead\" d=\"M490,144.0 L482,132.0 498,132.0\" fill=\"currentColor\"/>\n</g>\n\n<g class=\"displacy-arrow\">\n    <path class=\"displacy-arc\" id=\"arrow-c6cdfe78baac4c30ad7bb90846128073-0-6\" stroke-width=\"2px\" d=\"M560,142.0 C560,107.0 595.0,107.0 595.0,142.0\" fill=\"none\" stroke=\"currentColor\"/>\n    <text dy=\"1.25em\" style=\"font-size: 0.8em; letter-spacing: 1px\">\n        <textPath xlink:href=\"#arrow-c6cdfe78baac4c30ad7bb90846128073-0-6\" class=\"displacy-label\" startOffset=\"50%\" side=\"left\" fill=\"currentColor\" text-anchor=\"middle\">nsubj</textPath>\n    </text>\n    <path class=\"displacy-arrowhead\" d=\"M560,144.0 L552,132.0 568,132.0\" fill=\"currentColor\"/>\n</g>\n\n<g class=\"displacy-arrow\">\n    <path class=\"displacy-arc\" id=\"arrow-c6cdfe78baac4c30ad7bb90846128073-0-7\" stroke-width=\"2px\" d=\"M350,142.0 C350,37.0 605.0,37.0 605.0,142.0\" fill=\"none\" stroke=\"currentColor\"/>\n    <text dy=\"1.25em\" style=\"font-size: 0.8em; letter-spacing: 1px\">\n        <textPath xlink:href=\"#arrow-c6cdfe78baac4c30ad7bb90846128073-0-7\" class=\"displacy-label\" startOffset=\"50%\" side=\"left\" fill=\"currentColor\" text-anchor=\"middle\">ccomp</textPath>\n    </text>\n    <path class=\"displacy-arrowhead\" d=\"M605.0,144.0 L613.0,132.0 597.0,132.0\" fill=\"currentColor\"/>\n</g>\n\n<g class=\"displacy-arrow\">\n    <path class=\"displacy-arc\" id=\"arrow-c6cdfe78baac4c30ad7bb90846128073-0-8\" stroke-width=\"2px\" d=\"M630,142.0 C630,107.0 665.0,107.0 665.0,142.0\" fill=\"none\" stroke=\"currentColor\"/>\n    <text dy=\"1.25em\" style=\"font-size: 0.8em; letter-spacing: 1px\">\n        <textPath xlink:href=\"#arrow-c6cdfe78baac4c30ad7bb90846128073-0-8\" class=\"displacy-label\" startOffset=\"50%\" side=\"left\" fill=\"currentColor\" text-anchor=\"middle\">advmod</textPath>\n    </text>\n    <path class=\"displacy-arrowhead\" d=\"M665.0,144.0 L673.0,132.0 657.0,132.0\" fill=\"currentColor\"/>\n</g>\n\n<g class=\"displacy-arrow\">\n    <path class=\"displacy-arc\" id=\"arrow-c6cdfe78baac4c30ad7bb90846128073-0-9\" stroke-width=\"2px\" d=\"M770,142.0 C770,107.0 805.0,107.0 805.0,142.0\" fill=\"none\" stroke=\"currentColor\"/>\n    <text dy=\"1.25em\" style=\"font-size: 0.8em; letter-spacing: 1px\">\n        <textPath xlink:href=\"#arrow-c6cdfe78baac4c30ad7bb90846128073-0-9\" class=\"displacy-label\" startOffset=\"50%\" side=\"left\" fill=\"currentColor\" text-anchor=\"middle\">case</textPath>\n    </text>\n    <path class=\"displacy-arrowhead\" d=\"M770,144.0 L762,132.0 778,132.0\" fill=\"currentColor\"/>\n</g>\n\n<g class=\"displacy-arrow\">\n    <path class=\"displacy-arc\" id=\"arrow-c6cdfe78baac4c30ad7bb90846128073-0-10\" stroke-width=\"2px\" d=\"M630,142.0 C630,72.0 810.0,72.0 810.0,142.0\" fill=\"none\" stroke=\"currentColor\"/>\n    <text dy=\"1.25em\" style=\"font-size: 0.8em; letter-spacing: 1px\">\n        <textPath xlink:href=\"#arrow-c6cdfe78baac4c30ad7bb90846128073-0-10\" class=\"displacy-label\" startOffset=\"50%\" side=\"left\" fill=\"currentColor\" text-anchor=\"middle\">nmod</textPath>\n    </text>\n    <path class=\"displacy-arrowhead\" d=\"M810.0,144.0 L818.0,132.0 802.0,132.0\" fill=\"currentColor\"/>\n</g>\n\n<g class=\"displacy-arrow\">\n    <path class=\"displacy-arc\" id=\"arrow-c6cdfe78baac4c30ad7bb90846128073-0-11\" stroke-width=\"2px\" d=\"M350,142.0 C350,2.0 890.0,2.0 890.0,142.0\" fill=\"none\" stroke=\"currentColor\"/>\n    <text dy=\"1.25em\" style=\"font-size: 0.8em; letter-spacing: 1px\">\n        <textPath xlink:href=\"#arrow-c6cdfe78baac4c30ad7bb90846128073-0-11\" class=\"displacy-label\" startOffset=\"50%\" side=\"left\" fill=\"currentColor\" text-anchor=\"middle\">punct</textPath>\n    </text>\n    <path class=\"displacy-arrowhead\" d=\"M890.0,144.0 L898.0,132.0 882.0,132.0\" fill=\"currentColor\"/>\n</g>\n</svg></span>"
     },
     "metadata": {},
     "output_type": "display_data"
    },
    {
     "data": {
      "text/plain": "<IPython.core.display.HTML object>",
      "text/html": "<span class=\"tex2jax_ignore\"><svg xmlns=\"http://www.w3.org/2000/svg\" xmlns:xlink=\"http://www.w3.org/1999/xlink\" xml:lang=\"en\" id=\"e6804d6eded44d4888fb2fc68793fe9f-0\" class=\"displacy\" width=\"400\" height=\"242.0\" direction=\"ltr\" style=\"max-width: none; height: 242.0px; color: #000000; background: #ffffff; font-family: Arial; direction: ltr\">\n<text class=\"displacy-token\" fill=\"currentColor\" text-anchor=\"middle\" y=\"152.0\">\n    <tspan class=\"displacy-word\" fill=\"currentColor\" x=\"50\">&lt;ROOT&gt;</tspan>\n    <tspan class=\"displacy-tag\" dy=\"2em\" fill=\"currentColor\" x=\"50\">POS_ROOT</tspan>\n</text>\n\n<text class=\"displacy-token\" fill=\"currentColor\" text-anchor=\"middle\" y=\"152.0\">\n    <tspan class=\"displacy-word\" fill=\"currentColor\" x=\"120\">were</tspan>\n    <tspan class=\"displacy-tag\" dy=\"2em\" fill=\"currentColor\" x=\"120\">VBD</tspan>\n</text>\n\n<text class=\"displacy-token\" fill=\"currentColor\" text-anchor=\"middle\" y=\"152.0\">\n    <tspan class=\"displacy-word\" fill=\"currentColor\" x=\"190\">there</tspan>\n    <tspan class=\"displacy-tag\" dy=\"2em\" fill=\"currentColor\" x=\"190\">EX</tspan>\n</text>\n\n<text class=\"displacy-token\" fill=\"currentColor\" text-anchor=\"middle\" y=\"152.0\">\n    <tspan class=\"displacy-word\" fill=\"currentColor\" x=\"260\">any</tspan>\n    <tspan class=\"displacy-tag\" dy=\"2em\" fill=\"currentColor\" x=\"260\">DT</tspan>\n</text>\n\n<text class=\"displacy-token\" fill=\"currentColor\" text-anchor=\"middle\" y=\"152.0\">\n    <tspan class=\"displacy-word\" fill=\"currentColor\" x=\"330\">?</tspan>\n    <tspan class=\"displacy-tag\" dy=\"2em\" fill=\"currentColor\" x=\"330\">.</tspan>\n</text>\n\n<g class=\"displacy-arrow\">\n    <path class=\"displacy-arc\" id=\"arrow-e6804d6eded44d4888fb2fc68793fe9f-0-0\" stroke-width=\"2px\" d=\"M70,107.0 C70,72.0 110.0,72.0 110.0,107.0\" fill=\"none\" stroke=\"currentColor\"/>\n    <text dy=\"1.25em\" style=\"font-size: 0.8em; letter-spacing: 1px\">\n        <textPath xlink:href=\"#arrow-e6804d6eded44d4888fb2fc68793fe9f-0-0\" class=\"displacy-label\" startOffset=\"50%\" side=\"left\" fill=\"currentColor\" text-anchor=\"middle\">root</textPath>\n    </text>\n    <path class=\"displacy-arrowhead\" d=\"M110.0,109.0 L118.0,97.0 102.0,97.0\" fill=\"currentColor\"/>\n</g>\n\n<g class=\"displacy-arrow\">\n    <path class=\"displacy-arc\" id=\"arrow-e6804d6eded44d4888fb2fc68793fe9f-0-1\" stroke-width=\"2px\" d=\"M140,107.0 C140,72.0 180.0,72.0 180.0,107.0\" fill=\"none\" stroke=\"currentColor\"/>\n    <text dy=\"1.25em\" style=\"font-size: 0.8em; letter-spacing: 1px\">\n        <textPath xlink:href=\"#arrow-e6804d6eded44d4888fb2fc68793fe9f-0-1\" class=\"displacy-label\" startOffset=\"50%\" side=\"left\" fill=\"currentColor\" text-anchor=\"middle\">expl</textPath>\n    </text>\n    <path class=\"displacy-arrowhead\" d=\"M180.0,109.0 L188.0,97.0 172.0,97.0\" fill=\"currentColor\"/>\n</g>\n\n<g class=\"displacy-arrow\">\n    <path class=\"displacy-arc\" id=\"arrow-e6804d6eded44d4888fb2fc68793fe9f-0-2\" stroke-width=\"2px\" d=\"M140,107.0 C140,37.0 255.0,37.0 255.0,107.0\" fill=\"none\" stroke=\"currentColor\"/>\n    <text dy=\"1.25em\" style=\"font-size: 0.8em; letter-spacing: 1px\">\n        <textPath xlink:href=\"#arrow-e6804d6eded44d4888fb2fc68793fe9f-0-2\" class=\"displacy-label\" startOffset=\"50%\" side=\"left\" fill=\"currentColor\" text-anchor=\"middle\">nsubj</textPath>\n    </text>\n    <path class=\"displacy-arrowhead\" d=\"M255.0,109.0 L263.0,97.0 247.0,97.0\" fill=\"currentColor\"/>\n</g>\n\n<g class=\"displacy-arrow\">\n    <path class=\"displacy-arc\" id=\"arrow-e6804d6eded44d4888fb2fc68793fe9f-0-3\" stroke-width=\"2px\" d=\"M140,107.0 C140,2.0 330.0,2.0 330.0,107.0\" fill=\"none\" stroke=\"currentColor\"/>\n    <text dy=\"1.25em\" style=\"font-size: 0.8em; letter-spacing: 1px\">\n        <textPath xlink:href=\"#arrow-e6804d6eded44d4888fb2fc68793fe9f-0-3\" class=\"displacy-label\" startOffset=\"50%\" side=\"left\" fill=\"currentColor\" text-anchor=\"middle\">punct</textPath>\n    </text>\n    <path class=\"displacy-arrowhead\" d=\"M330.0,109.0 L338.0,97.0 322.0,97.0\" fill=\"currentColor\"/>\n</g>\n</svg></span>"
     },
     "metadata": {},
     "output_type": "display_data"
    },
    {
     "data": {
      "text/plain": "<IPython.core.display.HTML object>",
      "text/html": "<span class=\"tex2jax_ignore\"><svg xmlns=\"http://www.w3.org/2000/svg\" xmlns:xlink=\"http://www.w3.org/1999/xlink\" xml:lang=\"en\" id=\"139fa2809460497dacc9a66795fb0629-0\" class=\"displacy\" width=\"470\" height=\"207.0\" direction=\"ltr\" style=\"max-width: none; height: 207.0px; color: #000000; background: #ffffff; font-family: Arial; direction: ltr\">\n<text class=\"displacy-token\" fill=\"currentColor\" text-anchor=\"middle\" y=\"117.0\">\n    <tspan class=\"displacy-word\" fill=\"currentColor\" x=\"50\">&lt;ROOT&gt;</tspan>\n    <tspan class=\"displacy-tag\" dy=\"2em\" fill=\"currentColor\" x=\"50\">POS_ROOT</tspan>\n</text>\n\n<text class=\"displacy-token\" fill=\"currentColor\" text-anchor=\"middle\" y=\"117.0\">\n    <tspan class=\"displacy-word\" fill=\"currentColor\" x=\"120\">paul</tspan>\n    <tspan class=\"displacy-tag\" dy=\"2em\" fill=\"currentColor\" x=\"120\">NNP</tspan>\n</text>\n\n<text class=\"displacy-token\" fill=\"currentColor\" text-anchor=\"middle\" y=\"117.0\">\n    <tspan class=\"displacy-word\" fill=\"currentColor\" x=\"190\">thomas</tspan>\n    <tspan class=\"displacy-tag\" dy=\"2em\" fill=\"currentColor\" x=\"190\">NNP</tspan>\n</text>\n\n<text class=\"displacy-token\" fill=\"currentColor\" text-anchor=\"middle\" y=\"117.0\">\n    <tspan class=\"displacy-word\" fill=\"currentColor\" x=\"260\">excellent</tspan>\n    <tspan class=\"displacy-tag\" dy=\"2em\" fill=\"currentColor\" x=\"260\">JJ</tspan>\n</text>\n\n<text class=\"displacy-token\" fill=\"currentColor\" text-anchor=\"middle\" y=\"117.0\">\n    <tspan class=\"displacy-word\" fill=\"currentColor\" x=\"330\">$</tspan>\n    <tspan class=\"displacy-tag\" dy=\"2em\" fill=\"currentColor\" x=\"330\">$</tspan>\n</text>\n\n<text class=\"displacy-token\" fill=\"currentColor\" text-anchor=\"middle\" y=\"117.0\">\n    <tspan class=\"displacy-word\" fill=\"currentColor\" x=\"400\">55,008</tspan>\n    <tspan class=\"displacy-tag\" dy=\"2em\" fill=\"currentColor\" x=\"400\">CD</tspan>\n</text>\n\n<g class=\"displacy-arrow\">\n    <path class=\"displacy-arc\" id=\"arrow-139fa2809460497dacc9a66795fb0629-0-0\" stroke-width=\"2px\" d=\"M140,72.0 C140,37.0 185.0,37.0 185.0,72.0\" fill=\"none\" stroke=\"currentColor\"/>\n    <text dy=\"1.25em\" style=\"font-size: 0.8em; letter-spacing: 1px\">\n        <textPath xlink:href=\"#arrow-139fa2809460497dacc9a66795fb0629-0-0\" class=\"displacy-label\" startOffset=\"50%\" side=\"left\" fill=\"currentColor\" text-anchor=\"middle\">name</textPath>\n    </text>\n    <path class=\"displacy-arrowhead\" d=\"M140,74.0 L132,62.0 148,62.0\" fill=\"currentColor\"/>\n</g>\n\n<g class=\"displacy-arrow\">\n    <path class=\"displacy-arc\" id=\"arrow-139fa2809460497dacc9a66795fb0629-0-1\" stroke-width=\"2px\" d=\"M70,72.0 C70,2.0 190.0,2.0 190.0,72.0\" fill=\"none\" stroke=\"currentColor\"/>\n    <text dy=\"1.25em\" style=\"font-size: 0.8em; letter-spacing: 1px\">\n        <textPath xlink:href=\"#arrow-139fa2809460497dacc9a66795fb0629-0-1\" class=\"displacy-label\" startOffset=\"50%\" side=\"left\" fill=\"currentColor\" text-anchor=\"middle\">root</textPath>\n    </text>\n    <path class=\"displacy-arrowhead\" d=\"M190.0,74.0 L198.0,62.0 182.0,62.0\" fill=\"currentColor\"/>\n</g>\n\n<g class=\"displacy-arrow\">\n    <path class=\"displacy-arc\" id=\"arrow-139fa2809460497dacc9a66795fb0629-0-2\" stroke-width=\"2px\" d=\"M210,72.0 C210,37.0 255.0,37.0 255.0,72.0\" fill=\"none\" stroke=\"currentColor\"/>\n    <text dy=\"1.25em\" style=\"font-size: 0.8em; letter-spacing: 1px\">\n        <textPath xlink:href=\"#arrow-139fa2809460497dacc9a66795fb0629-0-2\" class=\"displacy-label\" startOffset=\"50%\" side=\"left\" fill=\"currentColor\" text-anchor=\"middle\">list</textPath>\n    </text>\n    <path class=\"displacy-arrowhead\" d=\"M255.0,74.0 L263.0,62.0 247.0,62.0\" fill=\"currentColor\"/>\n</g>\n\n<g class=\"displacy-arrow\">\n    <path class=\"displacy-arc\" id=\"arrow-139fa2809460497dacc9a66795fb0629-0-3\" stroke-width=\"2px\" d=\"M210,72.0 C210,2.0 330.0,2.0 330.0,72.0\" fill=\"none\" stroke=\"currentColor\"/>\n    <text dy=\"1.25em\" style=\"font-size: 0.8em; letter-spacing: 1px\">\n        <textPath xlink:href=\"#arrow-139fa2809460497dacc9a66795fb0629-0-3\" class=\"displacy-label\" startOffset=\"50%\" side=\"left\" fill=\"currentColor\" text-anchor=\"middle\">list</textPath>\n    </text>\n    <path class=\"displacy-arrowhead\" d=\"M330.0,74.0 L338.0,62.0 322.0,62.0\" fill=\"currentColor\"/>\n</g>\n\n<g class=\"displacy-arrow\">\n    <path class=\"displacy-arc\" id=\"arrow-139fa2809460497dacc9a66795fb0629-0-4\" stroke-width=\"2px\" d=\"M350,72.0 C350,37.0 395.0,37.0 395.0,72.0\" fill=\"none\" stroke=\"currentColor\"/>\n    <text dy=\"1.25em\" style=\"font-size: 0.8em; letter-spacing: 1px\">\n        <textPath xlink:href=\"#arrow-139fa2809460497dacc9a66795fb0629-0-4\" class=\"displacy-label\" startOffset=\"50%\" side=\"left\" fill=\"currentColor\" text-anchor=\"middle\">nummod</textPath>\n    </text>\n    <path class=\"displacy-arrowhead\" d=\"M395.0,74.0 L403.0,62.0 387.0,62.0\" fill=\"currentColor\"/>\n</g>\n</svg></span>"
     },
     "metadata": {},
     "output_type": "display_data"
    },
    {
     "data": {
      "text/plain": "<IPython.core.display.HTML object>",
      "text/html": "<span class=\"tex2jax_ignore\"><svg xmlns=\"http://www.w3.org/2000/svg\" xmlns:xlink=\"http://www.w3.org/1999/xlink\" xml:lang=\"en\" id=\"4b5cbe68223c4483a201d8461a091ff8-0\" class=\"displacy\" width=\"1310\" height=\"382.0\" direction=\"ltr\" style=\"max-width: none; height: 382.0px; color: #000000; background: #ffffff; font-family: Arial; direction: ltr\">\n<text class=\"displacy-token\" fill=\"currentColor\" text-anchor=\"middle\" y=\"292.0\">\n    <tspan class=\"displacy-word\" fill=\"currentColor\" x=\"50\">&lt;ROOT&gt;</tspan>\n    <tspan class=\"displacy-tag\" dy=\"2em\" fill=\"currentColor\" x=\"50\">POS_ROOT</tspan>\n</text>\n\n<text class=\"displacy-token\" fill=\"currentColor\" text-anchor=\"middle\" y=\"292.0\">\n    <tspan class=\"displacy-word\" fill=\"currentColor\" x=\"120\">we</tspan>\n    <tspan class=\"displacy-tag\" dy=\"2em\" fill=\"currentColor\" x=\"120\">PRP</tspan>\n</text>\n\n<text class=\"displacy-token\" fill=\"currentColor\" text-anchor=\"middle\" y=\"292.0\">\n    <tspan class=\"displacy-word\" fill=\"currentColor\" x=\"190\">had</tspan>\n    <tspan class=\"displacy-tag\" dy=\"2em\" fill=\"currentColor\" x=\"190\">VBD</tspan>\n</text>\n\n<text class=\"displacy-token\" fill=\"currentColor\" text-anchor=\"middle\" y=\"292.0\">\n    <tspan class=\"displacy-word\" fill=\"currentColor\" x=\"260\">fewer</tspan>\n    <tspan class=\"displacy-tag\" dy=\"2em\" fill=\"currentColor\" x=\"260\">JJR</tspan>\n</text>\n\n<text class=\"displacy-token\" fill=\"currentColor\" text-anchor=\"middle\" y=\"292.0\">\n    <tspan class=\"displacy-word\" fill=\"currentColor\" x=\"330\">social</tspan>\n    <tspan class=\"displacy-tag\" dy=\"2em\" fill=\"currentColor\" x=\"330\">JJ</tspan>\n</text>\n\n<text class=\"displacy-token\" fill=\"currentColor\" text-anchor=\"middle\" y=\"292.0\">\n    <tspan class=\"displacy-word\" fill=\"currentColor\" x=\"400\">benefits</tspan>\n    <tspan class=\"displacy-tag\" dy=\"2em\" fill=\"currentColor\" x=\"400\">NNS</tspan>\n</text>\n\n<text class=\"displacy-token\" fill=\"currentColor\" text-anchor=\"middle\" y=\"292.0\">\n    <tspan class=\"displacy-word\" fill=\"currentColor\" x=\"470\">at</tspan>\n    <tspan class=\"displacy-tag\" dy=\"2em\" fill=\"currentColor\" x=\"470\">IN</tspan>\n</text>\n\n<text class=\"displacy-token\" fill=\"currentColor\" text-anchor=\"middle\" y=\"292.0\">\n    <tspan class=\"displacy-word\" fill=\"currentColor\" x=\"540\">that</tspan>\n    <tspan class=\"displacy-tag\" dy=\"2em\" fill=\"currentColor\" x=\"540\">DT</tspan>\n</text>\n\n<text class=\"displacy-token\" fill=\"currentColor\" text-anchor=\"middle\" y=\"292.0\">\n    <tspan class=\"displacy-word\" fill=\"currentColor\" x=\"610\">time</tspan>\n    <tspan class=\"displacy-tag\" dy=\"2em\" fill=\"currentColor\" x=\"610\">NN</tspan>\n</text>\n\n<text class=\"displacy-token\" fill=\"currentColor\" text-anchor=\"middle\" y=\"292.0\">\n    <tspan class=\"displacy-word\" fill=\"currentColor\" x=\"680\">for</tspan>\n    <tspan class=\"displacy-tag\" dy=\"2em\" fill=\"currentColor\" x=\"680\">IN</tspan>\n</text>\n\n<text class=\"displacy-token\" fill=\"currentColor\" text-anchor=\"middle\" y=\"292.0\">\n    <tspan class=\"displacy-word\" fill=\"currentColor\" x=\"750\">people</tspan>\n    <tspan class=\"displacy-tag\" dy=\"2em\" fill=\"currentColor\" x=\"750\">NNS</tspan>\n</text>\n\n<text class=\"displacy-token\" fill=\"currentColor\" text-anchor=\"middle\" y=\"292.0\">\n    <tspan class=\"displacy-word\" fill=\"currentColor\" x=\"820\">so</tspan>\n    <tspan class=\"displacy-tag\" dy=\"2em\" fill=\"currentColor\" x=\"820\">RB</tspan>\n</text>\n\n<text class=\"displacy-token\" fill=\"currentColor\" text-anchor=\"middle\" y=\"292.0\">\n    <tspan class=\"displacy-word\" fill=\"currentColor\" x=\"890\">many</tspan>\n    <tspan class=\"displacy-tag\" dy=\"2em\" fill=\"currentColor\" x=\"890\">JJ</tspan>\n</text>\n\n<text class=\"displacy-token\" fill=\"currentColor\" text-anchor=\"middle\" y=\"292.0\">\n    <tspan class=\"displacy-word\" fill=\"currentColor\" x=\"960\">immigrants</tspan>\n    <tspan class=\"displacy-tag\" dy=\"2em\" fill=\"currentColor\" x=\"960\">NNS</tspan>\n</text>\n\n<text class=\"displacy-token\" fill=\"currentColor\" text-anchor=\"middle\" y=\"292.0\">\n    <tspan class=\"displacy-word\" fill=\"currentColor\" x=\"1030\">were</tspan>\n    <tspan class=\"displacy-tag\" dy=\"2em\" fill=\"currentColor\" x=\"1030\">VBD</tspan>\n</text>\n\n<text class=\"displacy-token\" fill=\"currentColor\" text-anchor=\"middle\" y=\"292.0\">\n    <tspan class=\"displacy-word\" fill=\"currentColor\" x=\"1100\">not</tspan>\n    <tspan class=\"displacy-tag\" dy=\"2em\" fill=\"currentColor\" x=\"1100\">RB</tspan>\n</text>\n\n<text class=\"displacy-token\" fill=\"currentColor\" text-anchor=\"middle\" y=\"292.0\">\n    <tspan class=\"displacy-word\" fill=\"currentColor\" x=\"1170\">counted</tspan>\n    <tspan class=\"displacy-tag\" dy=\"2em\" fill=\"currentColor\" x=\"1170\">VBN</tspan>\n</text>\n\n<text class=\"displacy-token\" fill=\"currentColor\" text-anchor=\"middle\" y=\"292.0\">\n    <tspan class=\"displacy-word\" fill=\"currentColor\" x=\"1240\">.</tspan>\n    <tspan class=\"displacy-tag\" dy=\"2em\" fill=\"currentColor\" x=\"1240\">.</tspan>\n</text>\n\n<g class=\"displacy-arrow\">\n    <path class=\"displacy-arc\" id=\"arrow-4b5cbe68223c4483a201d8461a091ff8-0-0\" stroke-width=\"2px\" d=\"M140,247.0 C140,212.0 160.0,212.0 160.0,247.0\" fill=\"none\" stroke=\"currentColor\"/>\n    <text dy=\"1.25em\" style=\"font-size: 0.8em; letter-spacing: 1px\">\n        <textPath xlink:href=\"#arrow-4b5cbe68223c4483a201d8461a091ff8-0-0\" class=\"displacy-label\" startOffset=\"50%\" side=\"left\" fill=\"currentColor\" text-anchor=\"middle\">nsubj</textPath>\n    </text>\n    <path class=\"displacy-arrowhead\" d=\"M140,249.0 L132,237.0 148,237.0\" fill=\"currentColor\"/>\n</g>\n\n<g class=\"displacy-arrow\">\n    <path class=\"displacy-arc\" id=\"arrow-4b5cbe68223c4483a201d8461a091ff8-0-1\" stroke-width=\"2px\" d=\"M70,247.0 C70,177.0 165.0,177.0 165.0,247.0\" fill=\"none\" stroke=\"currentColor\"/>\n    <text dy=\"1.25em\" style=\"font-size: 0.8em; letter-spacing: 1px\">\n        <textPath xlink:href=\"#arrow-4b5cbe68223c4483a201d8461a091ff8-0-1\" class=\"displacy-label\" startOffset=\"50%\" side=\"left\" fill=\"currentColor\" text-anchor=\"middle\">root</textPath>\n    </text>\n    <path class=\"displacy-arrowhead\" d=\"M165.0,249.0 L173.0,237.0 157.0,237.0\" fill=\"currentColor\"/>\n</g>\n\n<g class=\"displacy-arrow\">\n    <path class=\"displacy-arc\" id=\"arrow-4b5cbe68223c4483a201d8461a091ff8-0-2\" stroke-width=\"2px\" d=\"M280,247.0 C280,177.0 375.0,177.0 375.0,247.0\" fill=\"none\" stroke=\"currentColor\"/>\n    <text dy=\"1.25em\" style=\"font-size: 0.8em; letter-spacing: 1px\">\n        <textPath xlink:href=\"#arrow-4b5cbe68223c4483a201d8461a091ff8-0-2\" class=\"displacy-label\" startOffset=\"50%\" side=\"left\" fill=\"currentColor\" text-anchor=\"middle\">amod</textPath>\n    </text>\n    <path class=\"displacy-arrowhead\" d=\"M280,249.0 L272,237.0 288,237.0\" fill=\"currentColor\"/>\n</g>\n\n<g class=\"displacy-arrow\">\n    <path class=\"displacy-arc\" id=\"arrow-4b5cbe68223c4483a201d8461a091ff8-0-3\" stroke-width=\"2px\" d=\"M350,247.0 C350,212.0 370.0,212.0 370.0,247.0\" fill=\"none\" stroke=\"currentColor\"/>\n    <text dy=\"1.25em\" style=\"font-size: 0.8em; letter-spacing: 1px\">\n        <textPath xlink:href=\"#arrow-4b5cbe68223c4483a201d8461a091ff8-0-3\" class=\"displacy-label\" startOffset=\"50%\" side=\"left\" fill=\"currentColor\" text-anchor=\"middle\">amod</textPath>\n    </text>\n    <path class=\"displacy-arrowhead\" d=\"M350,249.0 L342,237.0 358,237.0\" fill=\"currentColor\"/>\n</g>\n\n<g class=\"displacy-arrow\">\n    <path class=\"displacy-arc\" id=\"arrow-4b5cbe68223c4483a201d8461a091ff8-0-4\" stroke-width=\"2px\" d=\"M210,247.0 C210,142.0 380.0,142.0 380.0,247.0\" fill=\"none\" stroke=\"currentColor\"/>\n    <text dy=\"1.25em\" style=\"font-size: 0.8em; letter-spacing: 1px\">\n        <textPath xlink:href=\"#arrow-4b5cbe68223c4483a201d8461a091ff8-0-4\" class=\"displacy-label\" startOffset=\"50%\" side=\"left\" fill=\"currentColor\" text-anchor=\"middle\">dobj</textPath>\n    </text>\n    <path class=\"displacy-arrowhead\" d=\"M380.0,249.0 L388.0,237.0 372.0,237.0\" fill=\"currentColor\"/>\n</g>\n\n<g class=\"displacy-arrow\">\n    <path class=\"displacy-arc\" id=\"arrow-4b5cbe68223c4483a201d8461a091ff8-0-5\" stroke-width=\"2px\" d=\"M490,247.0 C490,177.0 585.0,177.0 585.0,247.0\" fill=\"none\" stroke=\"currentColor\"/>\n    <text dy=\"1.25em\" style=\"font-size: 0.8em; letter-spacing: 1px\">\n        <textPath xlink:href=\"#arrow-4b5cbe68223c4483a201d8461a091ff8-0-5\" class=\"displacy-label\" startOffset=\"50%\" side=\"left\" fill=\"currentColor\" text-anchor=\"middle\">case</textPath>\n    </text>\n    <path class=\"displacy-arrowhead\" d=\"M490,249.0 L482,237.0 498,237.0\" fill=\"currentColor\"/>\n</g>\n\n<g class=\"displacy-arrow\">\n    <path class=\"displacy-arc\" id=\"arrow-4b5cbe68223c4483a201d8461a091ff8-0-6\" stroke-width=\"2px\" d=\"M560,247.0 C560,212.0 580.0,212.0 580.0,247.0\" fill=\"none\" stroke=\"currentColor\"/>\n    <text dy=\"1.25em\" style=\"font-size: 0.8em; letter-spacing: 1px\">\n        <textPath xlink:href=\"#arrow-4b5cbe68223c4483a201d8461a091ff8-0-6\" class=\"displacy-label\" startOffset=\"50%\" side=\"left\" fill=\"currentColor\" text-anchor=\"middle\">det</textPath>\n    </text>\n    <path class=\"displacy-arrowhead\" d=\"M560,249.0 L552,237.0 568,237.0\" fill=\"currentColor\"/>\n</g>\n\n<g class=\"displacy-arrow\">\n    <path class=\"displacy-arc\" id=\"arrow-4b5cbe68223c4483a201d8461a091ff8-0-7\" stroke-width=\"2px\" d=\"M210,247.0 C210,107.0 595.0,107.0 595.0,247.0\" fill=\"none\" stroke=\"currentColor\"/>\n    <text dy=\"1.25em\" style=\"font-size: 0.8em; letter-spacing: 1px\">\n        <textPath xlink:href=\"#arrow-4b5cbe68223c4483a201d8461a091ff8-0-7\" class=\"displacy-label\" startOffset=\"50%\" side=\"left\" fill=\"currentColor\" text-anchor=\"middle\">nmod</textPath>\n    </text>\n    <path class=\"displacy-arrowhead\" d=\"M595.0,249.0 L603.0,237.0 587.0,237.0\" fill=\"currentColor\"/>\n</g>\n\n<g class=\"displacy-arrow\">\n    <path class=\"displacy-arc\" id=\"arrow-4b5cbe68223c4483a201d8461a091ff8-0-8\" stroke-width=\"2px\" d=\"M700,247.0 C700,212.0 720.0,212.0 720.0,247.0\" fill=\"none\" stroke=\"currentColor\"/>\n    <text dy=\"1.25em\" style=\"font-size: 0.8em; letter-spacing: 1px\">\n        <textPath xlink:href=\"#arrow-4b5cbe68223c4483a201d8461a091ff8-0-8\" class=\"displacy-label\" startOffset=\"50%\" side=\"left\" fill=\"currentColor\" text-anchor=\"middle\">case</textPath>\n    </text>\n    <path class=\"displacy-arrowhead\" d=\"M700,249.0 L692,237.0 708,237.0\" fill=\"currentColor\"/>\n</g>\n\n<g class=\"displacy-arrow\">\n    <path class=\"displacy-arc\" id=\"arrow-4b5cbe68223c4483a201d8461a091ff8-0-9\" stroke-width=\"2px\" d=\"M210,247.0 C210,72.0 740.0,72.0 740.0,247.0\" fill=\"none\" stroke=\"currentColor\"/>\n    <text dy=\"1.25em\" style=\"font-size: 0.8em; letter-spacing: 1px\">\n        <textPath xlink:href=\"#arrow-4b5cbe68223c4483a201d8461a091ff8-0-9\" class=\"displacy-label\" startOffset=\"50%\" side=\"left\" fill=\"currentColor\" text-anchor=\"middle\">nmod</textPath>\n    </text>\n    <path class=\"displacy-arrowhead\" d=\"M740.0,249.0 L748.0,237.0 732.0,237.0\" fill=\"currentColor\"/>\n</g>\n\n<g class=\"displacy-arrow\">\n    <path class=\"displacy-arc\" id=\"arrow-4b5cbe68223c4483a201d8461a091ff8-0-10\" stroke-width=\"2px\" d=\"M840,247.0 C840,107.0 1155.0,107.0 1155.0,247.0\" fill=\"none\" stroke=\"currentColor\"/>\n    <text dy=\"1.25em\" style=\"font-size: 0.8em; letter-spacing: 1px\">\n        <textPath xlink:href=\"#arrow-4b5cbe68223c4483a201d8461a091ff8-0-10\" class=\"displacy-label\" startOffset=\"50%\" side=\"left\" fill=\"currentColor\" text-anchor=\"middle\">advmod</textPath>\n    </text>\n    <path class=\"displacy-arrowhead\" d=\"M840,249.0 L832,237.0 848,237.0\" fill=\"currentColor\"/>\n</g>\n\n<g class=\"displacy-arrow\">\n    <path class=\"displacy-arc\" id=\"arrow-4b5cbe68223c4483a201d8461a091ff8-0-11\" stroke-width=\"2px\" d=\"M910,247.0 C910,212.0 930.0,212.0 930.0,247.0\" fill=\"none\" stroke=\"currentColor\"/>\n    <text dy=\"1.25em\" style=\"font-size: 0.8em; letter-spacing: 1px\">\n        <textPath xlink:href=\"#arrow-4b5cbe68223c4483a201d8461a091ff8-0-11\" class=\"displacy-label\" startOffset=\"50%\" side=\"left\" fill=\"currentColor\" text-anchor=\"middle\">amod</textPath>\n    </text>\n    <path class=\"displacy-arrowhead\" d=\"M910,249.0 L902,237.0 918,237.0\" fill=\"currentColor\"/>\n</g>\n\n<g class=\"displacy-arrow\">\n    <path class=\"displacy-arc\" id=\"arrow-4b5cbe68223c4483a201d8461a091ff8-0-12\" stroke-width=\"2px\" d=\"M980,247.0 C980,142.0 1150.0,142.0 1150.0,247.0\" fill=\"none\" stroke=\"currentColor\"/>\n    <text dy=\"1.25em\" style=\"font-size: 0.8em; letter-spacing: 1px\">\n        <textPath xlink:href=\"#arrow-4b5cbe68223c4483a201d8461a091ff8-0-12\" class=\"displacy-label\" startOffset=\"50%\" side=\"left\" fill=\"currentColor\" text-anchor=\"middle\">nsubjpass</textPath>\n    </text>\n    <path class=\"displacy-arrowhead\" d=\"M980,249.0 L972,237.0 988,237.0\" fill=\"currentColor\"/>\n</g>\n\n<g class=\"displacy-arrow\">\n    <path class=\"displacy-arc\" id=\"arrow-4b5cbe68223c4483a201d8461a091ff8-0-13\" stroke-width=\"2px\" d=\"M1050,247.0 C1050,177.0 1145.0,177.0 1145.0,247.0\" fill=\"none\" stroke=\"currentColor\"/>\n    <text dy=\"1.25em\" style=\"font-size: 0.8em; letter-spacing: 1px\">\n        <textPath xlink:href=\"#arrow-4b5cbe68223c4483a201d8461a091ff8-0-13\" class=\"displacy-label\" startOffset=\"50%\" side=\"left\" fill=\"currentColor\" text-anchor=\"middle\">auxpass</textPath>\n    </text>\n    <path class=\"displacy-arrowhead\" d=\"M1050,249.0 L1042,237.0 1058,237.0\" fill=\"currentColor\"/>\n</g>\n\n<g class=\"displacy-arrow\">\n    <path class=\"displacy-arc\" id=\"arrow-4b5cbe68223c4483a201d8461a091ff8-0-14\" stroke-width=\"2px\" d=\"M1120,247.0 C1120,212.0 1140.0,212.0 1140.0,247.0\" fill=\"none\" stroke=\"currentColor\"/>\n    <text dy=\"1.25em\" style=\"font-size: 0.8em; letter-spacing: 1px\">\n        <textPath xlink:href=\"#arrow-4b5cbe68223c4483a201d8461a091ff8-0-14\" class=\"displacy-label\" startOffset=\"50%\" side=\"left\" fill=\"currentColor\" text-anchor=\"middle\">neg</textPath>\n    </text>\n    <path class=\"displacy-arrowhead\" d=\"M1120,249.0 L1112,237.0 1128,237.0\" fill=\"currentColor\"/>\n</g>\n\n<g class=\"displacy-arrow\">\n    <path class=\"displacy-arc\" id=\"arrow-4b5cbe68223c4483a201d8461a091ff8-0-15\" stroke-width=\"2px\" d=\"M210,247.0 C210,37.0 1165.0,37.0 1165.0,247.0\" fill=\"none\" stroke=\"currentColor\"/>\n    <text dy=\"1.25em\" style=\"font-size: 0.8em; letter-spacing: 1px\">\n        <textPath xlink:href=\"#arrow-4b5cbe68223c4483a201d8461a091ff8-0-15\" class=\"displacy-label\" startOffset=\"50%\" side=\"left\" fill=\"currentColor\" text-anchor=\"middle\">conj</textPath>\n    </text>\n    <path class=\"displacy-arrowhead\" d=\"M1165.0,249.0 L1173.0,237.0 1157.0,237.0\" fill=\"currentColor\"/>\n</g>\n\n<g class=\"displacy-arrow\">\n    <path class=\"displacy-arc\" id=\"arrow-4b5cbe68223c4483a201d8461a091ff8-0-16\" stroke-width=\"2px\" d=\"M210,247.0 C210,2.0 1240.0,2.0 1240.0,247.0\" fill=\"none\" stroke=\"currentColor\"/>\n    <text dy=\"1.25em\" style=\"font-size: 0.8em; letter-spacing: 1px\">\n        <textPath xlink:href=\"#arrow-4b5cbe68223c4483a201d8461a091ff8-0-16\" class=\"displacy-label\" startOffset=\"50%\" side=\"left\" fill=\"currentColor\" text-anchor=\"middle\">punct</textPath>\n    </text>\n    <path class=\"displacy-arrowhead\" d=\"M1240.0,249.0 L1248.0,237.0 1232.0,237.0\" fill=\"currentColor\"/>\n</g>\n</svg></span>"
     },
     "metadata": {},
     "output_type": "display_data"
    }
   ],
   "source": [
    "if __name__ == '__main__':\n",
    "    MIN_SENT_LEN, MAX_SENT_LEN = 4, 17 # You can change this if you're interested in seeing shorter/longer sentences\n",
    "    for x in random.sample(list(filter(lambda x: len(x['word']) >= MIN_SENT_LEN and len(x['word']) <= MAX_SENT_LEN, train_set)), 5):\n",
    "        display_sentence(x)"
   ]
  },
  {
   "cell_type": "markdown",
   "metadata": {},
   "source": [
    "## Build Vocabulary\n",
    "\n",
    "Next, we build the `Vocabulary` class. This maps each word, part-of-speech tag (POS), and label to an id (index), which we will later use in our embeddings. We also need to enumerate each possible transition, and map it to an id, since this is what our neural network will try to predict. The `Vocabulary` class does this as follows. Suppose there are $n$ labels. For each label, we create a Left-Arc (LA) and Right-Arc (RA) action for that label; and we also create a separate Shift (S) action. This creates a total of $2n+1$ actions that our dependency parser will be able to choose from.\n",
    "\n",
    "You do <b>not</b> need to edit this cell."
   ]
  },
  {
   "cell_type": "code",
   "execution_count": 8,
   "metadata": {},
   "outputs": [],
   "source": [
    "### DO NOT EDIT ###\n",
    "\n",
    "class Vocabulary(object):\n",
    "    def __init__(self, dataset):\n",
    "\n",
    "        UNK = '<UNK>'\n",
    "        NULL = '<NULL>'\n",
    "        ROOT = '<ROOT>'\n",
    "\n",
    "        # Find the label of the root\n",
    "        root_labels = list([l for ex in dataset for (h, l) in zip(ex['head'], ex['label']) if h == 0])\n",
    "        assert len(set(root_labels)) == 1\n",
    "        self.root_label = root_labels[0]\n",
    "\n",
    "        # Create mapping from transitions to ids\n",
    "        labels = sorted(list(set([w for ex in dataset for w in ex['label'] if w != self.root_label]))) # list of unique non-root labels\n",
    "        labels = [self.root_label] + labels # add root label too\n",
    "        self.n_labels = len(labels)\n",
    "\n",
    "        transitions = ['LA-' + l for l in labels] + ['RA-' + l for l in labels] + ['S']\n",
    "        self.n_trans = len(transitions) # 2*n_labels + 1\n",
    "        self.tran2id = {t: i for (i, t) in enumerate(transitions)}\n",
    "        self.id2tran = {i: t for (i, t) in enumerate(transitions)}\n",
    "\n",
    "        # Create mapping from word, pos, & label to id\n",
    "        # Do labels first\n",
    "        self.LABEL_PREFIX = '<l>:'\n",
    "        self.tok2id = {self.LABEL_PREFIX + l: i for (i, l) in enumerate(labels)}\n",
    "        self.LABEL_NULL = self.tok2id[self.LABEL_PREFIX + NULL] = len(self.tok2id) # Add null label in\n",
    "\n",
    "        # Do pos's\n",
    "        self.POS_PREFIX = '<p>:'\n",
    "        all_pos = sorted(set([self.POS_PREFIX + w for ex in dataset for w in ex['pos']])) # Get pos's\n",
    "        self.tok2id.update({w: index + len(self.tok2id) for (index, w) in enumerate(all_pos)}) # Add poses in\n",
    "        self.POS_NULL = self.tok2id[self.POS_PREFIX + NULL] = len(self.tok2id) # Add null pos\n",
    "        self.POS_ROOT = self.tok2id[self.POS_PREFIX + ROOT] = len(self.tok2id) # Add root pos\n",
    "        self.n_pos = 2 + len(all_pos) # +3 for null, root\n",
    "\n",
    "        # Do words\n",
    "        all_word = sorted(set([w for ex in dataset for w in ex['word']]))\n",
    "        self.tok2id.update({w: index + len(self.tok2id) for (index, w) in enumerate(all_word)}) # Add words in\n",
    "        self.WORD_UNK = self.tok2id[UNK] = len(self.tok2id) # Add unk word\n",
    "        self.WORD_NULL = self.tok2id[NULL] = len(self.tok2id) # Add null word\n",
    "        self.WORD_ROOT = self.tok2id[ROOT] = len(self.tok2id) # Add root word\n",
    "        self.n_words = 3 + len(all_word) # +3 for unk, null, root\n",
    "\n",
    "        self.id2tok = {v: k for (k, v) in self.tok2id.items()} # Flip it\n",
    "        self.n_tokens = len(self.tok2id)\n",
    "\n",
    "    def printStats(self):\n",
    "        print('Num. labels:', self.n_labels)\n",
    "        print('Num. transitions (2*n_labels + 1):', self.n_trans)\n",
    "        print('Num. pos:', self.n_pos)\n",
    "        print('Num. words:', self.n_words)\n",
    "        print('Num. tokens:', self.n_tokens)\n",
    "\n",
    "\n",
    "    def buildSentences(self, examples):\n",
    "        processed_sentences = []\n",
    "        for ex in examples:\n",
    "            # Initialize words & dependencies\n",
    "            words = [Word('<ROOT>', '<POS_ROOT>', 0, self.WORD_ROOT, self.POS_ROOT)]\n",
    "            deps = []\n",
    "\n",
    "            # Loop over words in sentence\n",
    "            for i  in  range(len(ex['word'])):\n",
    "                w = ex['word'][i]\n",
    "                word_id = (self.tok2id[w] if w in self.tok2id else self.WORD_UNK)\n",
    "                pos = self.POS_PREFIX + ex['pos'][i]\n",
    "                pos_id = self.tok2id[pos]\n",
    "                word = Word(ex['word'][i], ex['pos'][i],i+1, word_id, pos_id)\n",
    "\n",
    "                words.append(word)\n",
    "                deps.append((ex['head'][i], word, ex['label'][i] ))\n",
    "\n",
    "            # Create dependencies\n",
    "            dependencies = Dependencies(self)\n",
    "            for dep in deps:\n",
    "                dependencies.add(words[dep[0]], dep[1], dep[2])\n",
    "\n",
    "            processed_sentences.append((words, dependencies))\n",
    "\n",
    "        return processed_sentences"
   ]
  },
  {
   "cell_type": "markdown",
   "metadata": {
    "id": "0wzjGJj_mK_X"
   },
   "source": [
    "Run the following cell to see some stats from the vocabulary."
   ]
  },
  {
   "cell_type": "code",
   "execution_count": 9,
   "metadata": {
    "id": "O_ExUJ4ijnNu"
   },
   "outputs": [
    {
     "name": "stdout",
     "output_type": "stream",
     "text": [
      "Num. labels: 47\n",
      "Num. transitions (2*n_labels + 1): 95\n",
      "Num. pos: 52\n",
      "Num. words: 16635\n",
      "Num. tokens: 16735\n"
     ]
    }
   ],
   "source": [
    "### DO NOT EDIT ###\n",
    "\n",
    "if __name__ == '__main__':\n",
    "    Vocabulary(train_set).printStats()"
   ]
  },
  {
   "cell_type": "markdown",
   "metadata": {
    "id": "iNJ1pSc5DnF4"
   },
   "source": [
    "# Step 2: Parser Data Structures [12 points]\n",
    "In this section, we define some useful data structures for dependency parsing. In particular, you will implement the `Stack` and `Buffer` structures, which make up a `ParserConfiguration`. You will also write a function to update these data structures based on a particular transition."
   ]
  },
  {
   "cell_type": "markdown",
   "metadata": {
    "id": "ZF5HszmJHNIu"
   },
   "source": [
    "## Helpful Data Structures\n",
    "\n",
    "First, we define some data classes that you will find useful. You will be working with these a lot, so you should understand the data they contain as well as their methods. You do <b>not</b> need to edit this cell."
   ]
  },
  {
   "cell_type": "code",
   "execution_count": 10,
   "metadata": {
    "id": "3EnIONNfHP_U"
   },
   "outputs": [],
   "source": [
    "### DO NOT EDIT ###\n",
    "\n",
    "class Word(object):\n",
    "    '''\n",
    "    Represents a word in the sentence.\n",
    "    '''\n",
    "\n",
    "    def __init__(self, word, pos, idx, word_id=None, pos_id=None):\n",
    "        self.word = word\n",
    "        self.pos = pos\n",
    "        self.idx = idx\n",
    "        self.word_id = word_id\n",
    "        self.pos_id = pos_id\n",
    "\n",
    "    def __str__(self):\n",
    "        return 'Word(idx=' + str(self.idx) + \", word='\" + self.word+\"', pos='\"+self.pos+\"', word_id=\"+str(self.word_id)+', pos_id='+ str(self.pos_id) +')'\n",
    "\n",
    "    def copy(self):\n",
    "        return Word(self.word, self.pos, self.idx, self.word_id, self.pos_id)\n",
    "\n",
    "    def __eq__(self, obj):\n",
    "        if not isinstance(obj, Word): return False\n",
    "        if obj.idx == self.idx:\n",
    "            assert obj.word == self.word and obj.pos == self.pos and obj.word_id == self.word_id and obj.pos_id == self.pos_id, 'Your Word object has been corrupted.'\n",
    "        return obj.idx == self.idx\n",
    "\n",
    "\n",
    "class Arc(object):\n",
    "    '''\n",
    "    Represents an arc between two words.\n",
    "    '''\n",
    "\n",
    "    def __init__(self, head, dependent, label, label_id):\n",
    "        self.head=head # Word object\n",
    "        self.dependent=dependent # Word object\n",
    "        self.label=label\n",
    "        self.label_id = label_id\n",
    "\n",
    "    def __str__(self):\n",
    "        return 'Arc(head_idx='+str(self.head.idx)+', dep_idx='+str(self.dependent.idx)+', label_id='+ str(self.label_id)+')'\n",
    "\n",
    "\n",
    "class Dependencies(object):\n",
    "    '''\n",
    "    Represents the dependency arcs in a sentence.\n",
    "    '''\n",
    "\n",
    "    def __init__(self, vocab):\n",
    "        self.arcs = []\n",
    "        self.vocab = vocab\n",
    "        self.dep_to_head_mapping = {} # For fast lookup\n",
    "    \n",
    "    def add(self, head, dependent, label):\n",
    "        '''\n",
    "        Add a dependency from head to dependent with label.\n",
    "        Inputs:\n",
    "            head: Word object\n",
    "            dependent: Word object\n",
    "            label: str\n",
    "        '''\n",
    "\n",
    "        # comment it out later\n",
    "        # print(f\"head is: {head}\")\n",
    "        # print(f\"dependent is: {dependent}\")\n",
    "        # print(f\"label is: {label}\")\n",
    "\n",
    "        assert label[:3] != 'LA-' and label[:3] != 'RA-', 'You need to pass in just the label to add(...), not the entire action.'\n",
    "        assert head is not None and dependent is not None, \"You must pass in two Word objects to add(...).\"\n",
    "\n",
    "        self.arcs.append(Arc(head, dependent, label, self.vocab.tok2id[self.vocab.LABEL_PREFIX+label]))\n",
    "        assert dependent.idx not in self.dep_to_head_mapping\n",
    "        self.dep_to_head_mapping[dependent.idx] = self.arcs[-1]\n",
    "\n",
    "    def getArcToHead(self, dependent):\n",
    "        '''\n",
    "        Returns the Arc that connects the head of dependent to dependent.\n",
    "        Inputs:\n",
    "            dependent: Word object\n",
    "        '''\n",
    "        if dependent.idx == 0: # Special case for ROOT\n",
    "            return Arc(None, dependent, None, None)\n",
    "        return self.dep_to_head_mapping[dependent.idx]\n",
    "\n",
    "    def __iter__(self):\n",
    "        return iter(self.arcs) # Allows you to iterate \"for x in Dependencies(...)\""
   ]
  },
  {
   "cell_type": "markdown",
   "metadata": {
    "id": "KZt_VfSQ4DLK"
   },
   "source": [
    "## <font color='red'>TODO</font>: Stack & Buffer [6 points]\n",
    "\n",
    "Here, we provide you with the outline of stack and buffer data structures. Your task is to implement the `push(...)` and `pop(...)` methods of the `Stack`, and the `pop(...)` method of the `Buffer`. Each method is worth <b>2 points</b>."
   ]
  },
  {
   "cell_type": "code",
   "execution_count": 11,
   "metadata": {
    "id": "sWA0Hyz-N_LG"
   },
   "outputs": [],
   "source": [
    "class Stack(object):\n",
    "    def __init__(self, input=[]):\n",
    "        '''\n",
    "        Initialize an (empty) stack.\n",
    "        '''\n",
    "        self.stack = [word.copy() for word in input]\n",
    "        # print(f\"self.stack in init of Stack class is: {self.stack}\")\n",
    "\n",
    "    def push(self, item):\n",
    "        '''\n",
    "        Push item onto (the end of) self.stack. Returns nothing.\n",
    "        '''\n",
    "\n",
    "\n",
    "        self.stack.append(item)\n",
    "\n",
    "\n",
    "\n",
    "        # print(f\"Pushing item : {item}\")\n",
    "        #Pushing item : Word(idx=0, word='she', pos='PRP', word_id=None, pos_id=None)\n",
    "\n",
    "        # print(f\"Word object attributes : {item.__str__()}\")\n",
    "        # Word object attributes : Word(idx=0, word='she', pos='PRP', word_id=None, pos_id=None)\n",
    "\n",
    "        # print(f\"self.stack in Stack class push method is: {self.stack}\")\n",
    "        # self.stack in Stack class push method is: [<__main__.Word object at 0x7fb1b0b1d1f0>]\n",
    "\n",
    "        return None\n",
    "\n",
    "\n",
    "        # pass\n",
    "\n",
    "    def pop(self):        \n",
    "        '''\n",
    "        Pop item from (the end of) self.stack. Returns the item popped.\n",
    "        '''\n",
    "        assert len(self.stack) > 0\n",
    "\n",
    "\n",
    "        # print(f\"self.stack before pop is: {self.stack}\")\n",
    "        popped_item = self.stack.pop()\n",
    "        # print(f\"popped_item is: {popped_item}\")\n",
    "        # print(f\"self.stack after pop is: {self.stack}\")\n",
    "\n",
    "        # return None\n",
    "        return popped_item\n",
    "\n",
    "    def get_si(self, i):\n",
    "        '''\n",
    "        Returns si (the ith element of the stack) if it exists, otherwise None.\n",
    "        '''\n",
    "        assert i > 0, 'Must provide i > 0'\n",
    "        return self.stack[-i] if len(self.stack) >= i else None\n",
    "\n",
    "    def __getitem__(self, idx):\n",
    "        return self.stack[idx]\n",
    "\n",
    "    def __len__(self):\n",
    "        return len(self.stack)\n",
    "\n",
    "    def __str__(self):\n",
    "        return str([str(x) for x in self.stack])\n",
    "\n",
    "\n",
    "class Buffer(object):\n",
    "    def __init__(self, sentence):\n",
    "        '''\n",
    "        Initialize as a list of words in sentence.\n",
    "        '''\n",
    "        self.buffer = [word.copy() for word in sentence]\n",
    "\n",
    "    def pop(self):\n",
    "        '''\n",
    "        Pop item from (the beginning of) self.buffer. Returns the item popped.\n",
    "        '''\n",
    "        assert len(self.buffer) > 0\n",
    "\n",
    "        # print(f\"self.buffer before pop is: {self.buffer}\")\n",
    "        popped_buffer_item =  self.buffer.pop(0)\n",
    "\n",
    "\n",
    "        # print(f\"popped_item is: {popped_buffer_item}\")\n",
    "        # print(f\"self.buffer after pop is: {self.buffer}\")\n",
    "\n",
    "\n",
    "\n",
    "\n",
    "        \n",
    "        # return None\n",
    "        return popped_buffer_item\n",
    "\n",
    "    def get_bi(self, i):\n",
    "        '''\n",
    "        Returns bi (the ith element of the buffer) if it exists, otherwise None.\n",
    "        '''\n",
    "        assert i > 0, 'Must provide i > 0'\n",
    "        return self.buffer[i-1] if len(self.buffer) >= i else None\n",
    "\n",
    "    def __getitem__(self, idx):\n",
    "        return self.buffer[idx]\n",
    "\n",
    "    def __len__(self):\n",
    "        return len(self.buffer)\n",
    "\n",
    "    def __str__(self):\n",
    "        return str([str(x) for x in self.buffer])"
   ]
  },
  {
   "cell_type": "markdown",
   "metadata": {
    "id": "FE81AVCUuhv2"
   },
   "source": [
    "The code below runs a sanity check for your `Stack` and `Buffer` classes. The tests are similar to the hidden ones in Gradescope. However, note that passing the sanity check does <b>not</b> guarantee that you will pass the autograder; it is intended to help you debug."
   ]
  },
  {
   "cell_type": "code",
   "execution_count": 12,
   "metadata": {
    "id": "CxZaPXsCugfp"
   },
   "outputs": [
    {
     "name": "stdout",
     "output_type": "stream",
     "text": [
      "Stack sanity check PASSED\n",
      "Buffer sanity check PASSED\n"
     ]
    }
   ],
   "source": [
    "if __name__ == '__main__':\n",
    "    sanityCheckStackBuffer()"
   ]
  },
  {
   "cell_type": "markdown",
   "metadata": {
    "id": "9wZpV9p6K-_C"
   },
   "source": [
    "## <font color='red'>TODO</font>: Parser Configuration [6 points]\n",
    "\n",
    "Next, we create a `ParserConfiguration` class, which contains the `Stack`, `Buffer`, and `Dependencies` data structures. You only need to implement `parse_step(self, transition)`, which modifies these structures based on `transition`. This method is worth <b>6 points</b>.\n",
    "\n",
    "More specifically, let $\\sigma$ represent the stack, $\\beta$ the buffer, and $A$ the set of arcs (dependencies). Based on the value of `transition`, `parse_step(self, transition)` should do the following:\n",
    "* `transition = 'S'`: &nbsp;<b>Shift</b> $w_k$ from the buffer to the stack. $(\\sigma, w_k|\\beta, A) \\Rightarrow (\\sigma|w_k, \\beta, A)$\n",
    "* `transition = 'LA-label'`: &nbsp;Add a <b>left arc</b> with label $label$ from $w_j$ to $w_i$. $(\\sigma |w_i w_j , \\beta, A) \\Rightarrow (\\sigma |w_j, \\beta, A \\cup \\{(w_j, label, w_i)\\})$\n",
    "* `transition = 'RA-label'`: &nbsp;Add a <b>right arc</b> with label $label$ from $w_i$ to $w_j$. $(\\sigma |w_i w_j , \\beta, A) \\Rightarrow (\\sigma |w_i, \\beta, A \\cup \\{(w_i, label, w_j)\\})$\n",
    "\n",
    "<font color='green'><b>Hint:</b> Use your `push(...)` and `pop(...)` operations here, and look at the methods of the `Dependencies` class to see how to add an arc to it.</font>"
   ]
  },
  {
   "cell_type": "code",
   "execution_count": 13,
   "metadata": {
    "id": "h3TbkOknPGzt"
   },
   "outputs": [],
   "source": [
    "class ParserConfiguration(object):\n",
    "    def __init__(self, sentence, vocab):\n",
    "        '''\n",
    "        Inputs:\n",
    "            sentence: list of Word objects\n",
    "            vocab: Vocabulary object\n",
    "        '''\n",
    "\n",
    "        self.vocab = vocab\n",
    "\n",
    "        assert sentence[0].word_id == self.vocab.WORD_ROOT\n",
    "        self.stack = Stack([sentence[0]]) # Initialize stack with ROOT\n",
    "        self.buffer = Buffer(sentence[1:]) # Initialize buffer with sentence\n",
    "\n",
    "        # sentence in parser configuration is: [<__main__.Word object at 0x7f54916fb2b0>, <__main__.Word object at 0x7f54916fbf40>, <__main__.Word object at 0x7f54916fbfd0>, <__main__.Word object at 0x7f54916fb100>, <__main__.Word object at 0x7f54916fb9a0>, <__main__.Word object at 0x7f54916fb250>]\n",
    "        # print(f\"sentence in parser configuration is: {sentence}\")\n",
    "\n",
    "        # print(f\"first word in sentence is: {sentence[0]}\")\n",
    "        # first word in sentence is: Word(idx=0, word='<ROOT>', pos='<POS_ROOT>', word_id=72, pos_id=33)\n",
    "        # self.word = word\n",
    "        # self.pos = pos\n",
    "        # self.idx = idx\n",
    "        # self.word_id = word_id\n",
    "        # self.pos_id = pos_id\n",
    "\n",
    "\n",
    "        self.dependencies = Dependencies(vocab)\n",
    "\n",
    "        # # comment later later later on\n",
    "        # dependencies_arcs_output = self.dependencies.arcs\n",
    "        # dependencies_vocab_output = self.dependencies.vocab\n",
    "        # dependencies_dep_to_head_mapping_output = self.dependencies.dep_to_head_mapping\n",
    "        #\n",
    "        # print(f\"dependencies_arcs_output: {dependencies_arcs_output}\")\n",
    "        # print(f\"dependencies_vocab_output: {dependencies_vocab_output}\")\n",
    "        # print(f\"dependencies_dep_to_head_mapping_output: {dependencies_dep_to_head_mapping_output}\")\n",
    "\n",
    "        # self.dependencies: <__main__.Dependencies object at 0x7f549168bf40>\n",
    "        # print(f\"self.dependencies: {self.dependencies}\")\n",
    "\n",
    "        # gold_deps are: <__main__.Dependencies object at 0x7fb7e6e0ff10>\n",
    "        # gold_deps_arcs_output: [<__main__.Arc object at 0x7fb7e6e0fc70>, <__main__.Arc object at 0x7fb7e9e9d760>, <__main__.Arc object at 0x7fb7e9e9dd30>, <__main__.Arc object at 0x7fb7e9e9de80>, <__main__.Arc object at 0x7fb7e9e9d910>, <__main__.Arc object at 0x7fb7e6dc3160>, <__main__.Arc object at 0x7fb7e6dc3be0>, <__main__.Arc object at 0x7fb7e6dc3220>, <__main__.Arc object at 0x7fb7e6dc3d00>]\n",
    "        # gold_deps_vocab_output: <__main__.Vocabulary object at 0x7fb7e6e0f5e0>\n",
    "        # gold_deps_dep_to_head_mapping_output: {1: <__main__.Arc object at 0x7fb7e6e0fc70>, 2: <__main__.Arc object at 0x7fb7e9e9d760>, 3: <__main__.Arc object at 0x7fb7e9e9dd30>, 4: <__main__.Arc object at 0x7fb7e9e9de80>, 5: <__main__.Arc object at 0x7fb7e9e9d910>, 6: <__main__.Arc object at 0x7fb7e6dc3160>, 7: <__main__.Arc object at 0x7fb7e6dc3be0>, 8: <__main__.Arc object at 0x7fb7e6dc3220>, 9: <__main__.Arc object at 0x7fb7e6dc3d00>}\n",
    "\n",
    "    def parse_step(self, transition):\n",
    "        #TODO: how can I test parse_Step?\n",
    "        '''\n",
    "        Update stack, buffer, and dependencies based on transition.\n",
    "        Inputs:\n",
    "            transition: str, \"S\", \"LA-label\", or \"RA-label\", where label is a valid label\n",
    "        '''\n",
    "        assert transition in self.vocab.tran2id\n",
    "\n",
    "        # print(f\"transition is: {transition}\")\n",
    "        ### DONE ###\n",
    "        # print(f\"self.stack before pop is: {self.stack}\")\n",
    "        # popped_item = self.stack.pop()\n",
    "        # print(f\"popped_item is: {popped_item}\")\n",
    "        # print(f\"self.stack after pop is: {self.stack}\")\n",
    "\n",
    "        # head is: Word(idx=3, word='had', pos='VBD', word_id=48, pos_id=26)\n",
    "        # dependent is: Word(idx=2, word='news', pos='NN', word_id=55, pos_id=23)\n",
    "        # label is: nsubj\n",
    "\n",
    "\n",
    "\n",
    "\n",
    "        if transition[0] == \"S\":\n",
    "            buffer_pop_output = self.buffer.pop()\n",
    "            self.stack.push(buffer_pop_output)\n",
    "\n",
    "        #DONE: How to check the following?? ==> Gradescope has the test for parse step\n",
    "        elif transition[0] == \"L\":\n",
    "            label = transition[3:]\n",
    "            # w_i = self.stack.get_si(2)\n",
    "            # w_j = self.stack.get_si(1)\n",
    "\n",
    "            w_j = self.stack.pop()\n",
    "            w_i = self.stack.pop()\n",
    "            head = w_j\n",
    "            dependent = w_i\n",
    "            self.stack.push(w_j)\n",
    "\n",
    "            #need to pop w_i\n",
    "            # w_j_stack = self.stack.pop()\n",
    "            # w_i_stack = self.stack.pop()\n",
    "            # self.stack.push(w_j_stack)\n",
    "\n",
    "            self.dependencies.add(head, dependent, label)\n",
    "\n",
    "\n",
    "\n",
    "        elif transition[0] == \"R\":\n",
    "            label = transition[3:]\n",
    "            w_i = self.stack.get_si(2)\n",
    "            w_j = self.stack.pop()\n",
    "            head = w_i\n",
    "            dependent = w_j\n",
    "\n",
    "            # w_j_stack = self.stack.pop()\n",
    "\n",
    "            self.dependencies.add(head, dependent, label)\n",
    "\n",
    "        pass"
   ]
  },
  {
   "cell_type": "markdown",
   "metadata": {
    "id": "5ty_IGY9KvFi"
   },
   "source": [
    "# Step 3: Generate Training Data [44 points]\n",
    "\n",
    "As you saw above, the dataset contains many sentences along with their gold dependency parses. In order to use a transition-based parsing algorithm, we must predict the next parser action at each time step, based on the current parser configuration. Thus, we will need to transform each sentence into a series of training examples, where the input features are based on the current parser configuration and the correct label is the gold action.\n",
    "\n",
    "In this section, you will first write an algorithm to select the next parser action at each time step based on the gold dependency parse. Then, you will extract features from each step's parser configuration, which the neural network will use to predict the next action."
   ]
  },
  {
   "cell_type": "markdown",
   "metadata": {
    "id": "sZSOg7bCdqFz"
   },
   "source": [
    "## <font color='red'>TODO</font>: Compute Gold Action [8 points]\n",
    "\n",
    "Next, you will write a function `get_gold_action(stack, buffer, gold_dependencies)`. Given a stack and buffer, this function should return the next action of the parser based on the gold dependencies. We encourage you to review the example of a sentence parsing in the lecture slides before attempting to implement this function. This method is worth <b>8 points</b>.\n",
    "\n",
    "Let $s_i$ be $i$th element of the stack and $h(s_i)$ be the head word of $s_i$. The pseudocode is as follows:\n",
    "\n",
    "1. If the stack only contains `ROOT`:\n",
    " - If the buffer is not empty, return `S` (shift).\n",
    " - If the buffer is empty, return `DONE`, indicating the parse is complete.\n",
    "2. If $h(s_2)=s_1$, return `LA-label`. Here, `label` is the label of the arc that attaches $s_2$ to $s_1$.\n",
    "3. If $h(s_1)=s_2$ <b>and</b> $h(b_i) \\neq s_1$ for all words $b_i$ in the buffer, return `RA-label`. Here, `label` is the label of the arc that attaches $s_1$ to $s_2$.\n",
    " - This condition means that you cannot attach $s_1$ until everything in the buffer that depends on $s_1$ is attached. You should think about why this condition is necessary!\n",
    "4. Otherwise:\n",
    " - If the buffer is not empty, return `S`. \n",
    " - If the buffer is empty, return `None`, indicating a failed parse (i.e., the sentence is non-projective).\n",
    "\n",
    "<font color='green'><b>Hint:</b> To get the $i$th word on the stack or buffer, call `stack.get_si(i)` or `buffer.get_bi(i)`. To find the head of a word `w`, call `gold_dependencies.getArcToHead(w)`.</font>"
   ]
  },
  {
   "cell_type": "code",
   "execution_count": 22,
   "metadata": {
    "id": "NoZRaLj-z1Ss"
   },
   "outputs": [],
   "source": [
    "def get_gold_action(stack, buffer, gold_dependencies):\n",
    "    '''\n",
    "    Given stack & buffer, compute the next gold action based on gold_dependencies.\n",
    "    Args:\n",
    "        - stack: Stack object\n",
    "        - buffer: Buffer object\n",
    "        - gold_dependencies: Dependencies object\n",
    "    Returns:\n",
    "        - action: str; 'S', 'LA-label', or 'RA-label', where 'label' is a valid label. Return None if no action possible and 'DONE' if the parse is complete.\n",
    "    '''\n",
    "    action = None\n",
    "\n",
    "    # def __getitem__(self, idx):\n",
    "    #     return self.stack[idx]\n",
    "    #\n",
    "    # def __len__(self):\n",
    "    #     return len(self.stack)\n",
    "    #\n",
    "    # def __str__(self):\n",
    "    #     return str([str(x) for x in self.stack])\n",
    "\n",
    "    ### TODO ###\n",
    "    print(f\"stack is :{str(stack)}\")\n",
    "    print(f\"buffer is :{str(buffer)}\")\n",
    "    s1 = stack.get_si(1)\n",
    "    print(f\"s1 is: {s1}\")\n",
    "\n",
    "    s2 = stack.get_si(2)\n",
    "    print(f\"s2 is: {s2}\\n\")\n",
    "\n",
    "\n",
    "\n",
    "\n",
    "\n",
    "    if len(stack) == 1:     #TODO: len()\n",
    "        if stack.__getitem__(0).word == '<ROOT>':  #TODO\n",
    "            # if buffer.__len__() > 0:\n",
    "            if len(buffer) > 0:\n",
    "                # return 'S'\n",
    "                print(f\"len of buffer {len(buffer)} > 0 and there is only root in the stack hence action = 'S'\")\n",
    "                action = 'S'\n",
    "                return action\n",
    "\n",
    "            # elif buffer.__len__() == 0:\n",
    "            elif len(buffer) == 0:\n",
    "                # return 'DONE'\n",
    "                print(f\"len of buffer {len(buffer)} == 0 and there is only root in the stack hence action = 'DONE'\")\n",
    "                action = 'DONE'\n",
    "                return action\n",
    "\n",
    "    elif gold_dependencies.getArcToHead(s2).head == s1:\n",
    "        arc_to_head = gold_dependencies.getArcToHead(s2)\n",
    "        print(f\"arc_to_head in left action: {arc_to_head}\")\n",
    "\n",
    "        arc_to_head_label = arc_to_head.label\n",
    "        print(f\"arc_to_head label in left action: {arc_to_head.label}\")\n",
    "\n",
    "        # sanity_buffer.get_bi(0): Word(idx=0, word='she', pos='PRP', word_id=None, pos_id=None)\n",
    "        # sanity_buffer.__getitem__(1): Word(idx=1, word='is', pos='VBP', word_id=None, pos_id=None)\n",
    "\n",
    "        # return 'LA-' + arc_to_head_label\n",
    "        action = 'LA-' + arc_to_head_label\n",
    "        return action\n",
    "\n",
    "    # If $h(s_1)=s_2$ <b>and</b> $h(b_i) \\neq s_1$ for all words $b_i$ in the buffer, return `RA-label`. Here, `label` is the label of the arc that attaches $s_1$ to $s_2$.\n",
    "    #  - This condition means that you cannot attach $s_1$ until everything in the buffer that depends on $s_1$ is attached. You should think about why this condition is necessary!\n",
    "\n",
    "    elif gold_dependencies.getArcToHead(s1).head == s2:\n",
    "        h_of_b_i = True\n",
    "        h_of_b_i_list = []\n",
    "        # print(f\"h_of_b_i  in right arc is : {h_of_b_i}\")\n",
    "\n",
    "        for index, b_i in enumerate(buffer):\n",
    "            # print(f\"b_i is: {b_i}\")\n",
    "            # print(f\"head of b_i is: {gold_dependencies.getArcToHead(b_i).head}\")\n",
    "            # print(f\"is head of b_i == s1? : {gold_dependencies.getArcToHead(b_i).head == s1}\")\n",
    "            if gold_dependencies.getArcToHead(b_i).head == s1:\n",
    "                h_of_b_i = False\n",
    "                h_of_b_i_list.append(1)\n",
    "                # print(f\"h_of_b_i ==s1 and hence flag is : {h_of_b_i}\")\n",
    "            elif gold_dependencies.getArcToHead(b_i).head != s1:\n",
    "                h_of_b_i_list.append(0)\n",
    "\n",
    "        h_of_b_i_list_sum = sum(h_of_b_i_list)\n",
    "        print(f\"h_of_b_i_list: {h_of_b_i_list}\")\n",
    "        print(f\"h_of_b_i_list sum is: {h_of_b_i_list_sum}\")\n",
    "\n",
    "        if gold_dependencies.getArcToHead(s1).head == s2 and (h_of_b_i_list_sum==0):\n",
    "            arc_to_head = gold_dependencies.getArcToHead(s1)\n",
    "            # print(f\"arc_to_head in right arc: {arc_to_head}\")\n",
    "\n",
    "            arc_to_head_label = arc_to_head.label\n",
    "            # print(f\"arc_to_head label  in right arc: {arc_to_head.label}\")\n",
    "\n",
    "            # sanity_buffer.get_bi(0): Word(idx=0, word='she', pos='PRP', word_id=None, pos_id=None)\n",
    "            # sanity_buffer.__getitem__(1): Word(idx=1, word='is', pos='VBP', word_id=None, pos_id=None)\n",
    "\n",
    "            # return 'RA-' + arc_to_head_label\n",
    "            action = 'RA-' + arc_to_head_label\n",
    "            return action\n",
    "\n",
    "    # 4. Otherwise:\n",
    "    #  - If the buffer is not empty, return `S`.\n",
    "    #  - If the buffer is empty, return `None`, indicating a failed parse (i.e., the sentence is non-projective).\n",
    "\n",
    "    # elif buffer.__len__() != 0:\n",
    "    elif len(buffer) != 0:\n",
    "        # return 'S'\n",
    "        print(f\"len of buffer is greater than zero :{len(buffer)} and hence action = 'S'\")\n",
    "        action = 'S'\n",
    "        return action\n",
    "\n",
    "    # elif buffer.__len__() == 0:\n",
    "    elif len(buffer) == 0:\n",
    "        # return 'None'\n",
    "        print(f\"len of buffer is zero :{len(buffer)} and hence action = None\")\n",
    "        action = None\n",
    "        # action = 'S'\n",
    "        return action\n",
    "\n",
    "    else:\n",
    "        print(f\"DID NOT go in any if condition\")\n",
    "\n",
    "    \n",
    "    return action"
   ]
  },
  {
   "cell_type": "markdown",
   "metadata": {
    "id": "fOYj8BZIP1ZH"
   },
   "source": [
    "We provide you with 10 sentences for a sanity check of this function. The first sentence is the example from the lecture slides, the next 8 sentences are artificial sentences designed to test edge cases, and the last sentence is an example from the training set. For each sentence, we have hard-coded the stack & buffer configurations that you should encounter as well as the correct action.\n",
    "\n",
    "The `to_print` argument of this method may be set to one of the following values:\n",
    "* `all`: Print every sentence.\n",
    "* `incorrect`: Print only the sentences that your function gets incorrect.\n",
    "* `none`: Don't print any of the sentences (only show the score).\n",
    "\n",
    "You may also toggle `do_raise`, which controls whether an exception in your code is raised (halting execution) or suppressed (thus allowing all test sentences to complete so you can see your score).\n",
    "\n",
    "Note that Gradescope uses a set of different (hidden) tests, so you will want to fully test your code here."
   ]
  },
  {
   "cell_type": "code",
   "execution_count": 22,
   "metadata": {},
   "outputs": [],
   "source": []
  },
  {
   "cell_type": "code",
   "execution_count": 23,
   "metadata": {
    "id": "v1y23t16GcCl"
   },
   "outputs": [
    {
     "name": "stdout",
     "output_type": "stream",
     "text": [
      "gold_deps are: <__main__.Dependencies object at 0x7f9c3f48dc10>\n",
      "stack is :[\"Word(idx=0, word='<ROOT>', pos='<POS_ROOT>', word_id=72, pos_id=33)\"]\n",
      "buffer is :[\"Word(idx=1, word='economic', pos='JJ', word_id=44, pos_id=22)\", \"Word(idx=2, word='news', pos='NN', word_id=55, pos_id=23)\", \"Word(idx=3, word='had', pos='VBD', word_id=48, pos_id=26)\", \"Word(idx=4, word='little', pos='JJ', word_id=51, pos_id=22)\", \"Word(idx=5, word='effect', pos='NN', word_id=45, pos_id=23)\", \"Word(idx=6, word='on', pos='IN', word_id=57, pos_id=21)\", \"Word(idx=7, word='financial', pos='JJ', word_id=46, pos_id=22)\", \"Word(idx=8, word='markets', pos='NNS', word_id=52, pos_id=25)\", \"Word(idx=9, word='.', pos='.', word_id=36, pos_id=17)\"]\n",
      "s1 is: Word(idx=0, word='<ROOT>', pos='<POS_ROOT>', word_id=72, pos_id=33)\n",
      "s2 is: None\n",
      "\n",
      "len of buffer 9 > 0 and there is only root in the stack hence action = 'S'\n",
      "stack is :[\"Word(idx=0, word='<ROOT>', pos='<POS_ROOT>', word_id=72, pos_id=33)\", \"Word(idx=1, word='economic', pos='JJ', word_id=44, pos_id=22)\"]\n",
      "buffer is :[\"Word(idx=2, word='news', pos='NN', word_id=55, pos_id=23)\", \"Word(idx=3, word='had', pos='VBD', word_id=48, pos_id=26)\", \"Word(idx=4, word='little', pos='JJ', word_id=51, pos_id=22)\", \"Word(idx=5, word='effect', pos='NN', word_id=45, pos_id=23)\", \"Word(idx=6, word='on', pos='IN', word_id=57, pos_id=21)\", \"Word(idx=7, word='financial', pos='JJ', word_id=46, pos_id=22)\", \"Word(idx=8, word='markets', pos='NNS', word_id=52, pos_id=25)\", \"Word(idx=9, word='.', pos='.', word_id=36, pos_id=17)\"]\n",
      "s1 is: Word(idx=1, word='economic', pos='JJ', word_id=44, pos_id=22)\n",
      "s2 is: Word(idx=0, word='<ROOT>', pos='<POS_ROOT>', word_id=72, pos_id=33)\n",
      "\n",
      "len of buffer is greater than zero :8 and hence action = 'S'\n",
      "stack is :[\"Word(idx=0, word='<ROOT>', pos='<POS_ROOT>', word_id=72, pos_id=33)\", \"Word(idx=1, word='economic', pos='JJ', word_id=44, pos_id=22)\", \"Word(idx=2, word='news', pos='NN', word_id=55, pos_id=23)\"]\n",
      "buffer is :[\"Word(idx=3, word='had', pos='VBD', word_id=48, pos_id=26)\", \"Word(idx=4, word='little', pos='JJ', word_id=51, pos_id=22)\", \"Word(idx=5, word='effect', pos='NN', word_id=45, pos_id=23)\", \"Word(idx=6, word='on', pos='IN', word_id=57, pos_id=21)\", \"Word(idx=7, word='financial', pos='JJ', word_id=46, pos_id=22)\", \"Word(idx=8, word='markets', pos='NNS', word_id=52, pos_id=25)\", \"Word(idx=9, word='.', pos='.', word_id=36, pos_id=17)\"]\n",
      "s1 is: Word(idx=2, word='news', pos='NN', word_id=55, pos_id=23)\n",
      "s2 is: Word(idx=1, word='economic', pos='JJ', word_id=44, pos_id=22)\n",
      "\n",
      "arc_to_head in left action: Arc(head_idx=2, dep_idx=1, label_id=1)\n",
      "arc_to_head label in left action: amod\n",
      "stack is :[\"Word(idx=0, word='<ROOT>', pos='<POS_ROOT>', word_id=72, pos_id=33)\", \"Word(idx=2, word='news', pos='NN', word_id=55, pos_id=23)\"]\n",
      "buffer is :[\"Word(idx=3, word='had', pos='VBD', word_id=48, pos_id=26)\", \"Word(idx=4, word='little', pos='JJ', word_id=51, pos_id=22)\", \"Word(idx=5, word='effect', pos='NN', word_id=45, pos_id=23)\", \"Word(idx=6, word='on', pos='IN', word_id=57, pos_id=21)\", \"Word(idx=7, word='financial', pos='JJ', word_id=46, pos_id=22)\", \"Word(idx=8, word='markets', pos='NNS', word_id=52, pos_id=25)\", \"Word(idx=9, word='.', pos='.', word_id=36, pos_id=17)\"]\n",
      "s1 is: Word(idx=2, word='news', pos='NN', word_id=55, pos_id=23)\n",
      "s2 is: Word(idx=0, word='<ROOT>', pos='<POS_ROOT>', word_id=72, pos_id=33)\n",
      "\n",
      "len of buffer is greater than zero :7 and hence action = 'S'\n",
      "stack is :[\"Word(idx=0, word='<ROOT>', pos='<POS_ROOT>', word_id=72, pos_id=33)\", \"Word(idx=2, word='news', pos='NN', word_id=55, pos_id=23)\", \"Word(idx=3, word='had', pos='VBD', word_id=48, pos_id=26)\"]\n",
      "buffer is :[\"Word(idx=4, word='little', pos='JJ', word_id=51, pos_id=22)\", \"Word(idx=5, word='effect', pos='NN', word_id=45, pos_id=23)\", \"Word(idx=6, word='on', pos='IN', word_id=57, pos_id=21)\", \"Word(idx=7, word='financial', pos='JJ', word_id=46, pos_id=22)\", \"Word(idx=8, word='markets', pos='NNS', word_id=52, pos_id=25)\", \"Word(idx=9, word='.', pos='.', word_id=36, pos_id=17)\"]\n",
      "s1 is: Word(idx=3, word='had', pos='VBD', word_id=48, pos_id=26)\n",
      "s2 is: Word(idx=2, word='news', pos='NN', word_id=55, pos_id=23)\n",
      "\n",
      "arc_to_head in left action: Arc(head_idx=3, dep_idx=2, label_id=12)\n",
      "arc_to_head label in left action: nsubj\n",
      "stack is :[\"Word(idx=0, word='<ROOT>', pos='<POS_ROOT>', word_id=72, pos_id=33)\", \"Word(idx=3, word='had', pos='VBD', word_id=48, pos_id=26)\"]\n",
      "buffer is :[\"Word(idx=4, word='little', pos='JJ', word_id=51, pos_id=22)\", \"Word(idx=5, word='effect', pos='NN', word_id=45, pos_id=23)\", \"Word(idx=6, word='on', pos='IN', word_id=57, pos_id=21)\", \"Word(idx=7, word='financial', pos='JJ', word_id=46, pos_id=22)\", \"Word(idx=8, word='markets', pos='NNS', word_id=52, pos_id=25)\", \"Word(idx=9, word='.', pos='.', word_id=36, pos_id=17)\"]\n",
      "s1 is: Word(idx=3, word='had', pos='VBD', word_id=48, pos_id=26)\n",
      "s2 is: Word(idx=0, word='<ROOT>', pos='<POS_ROOT>', word_id=72, pos_id=33)\n",
      "\n",
      "Testing Sentence 1...\n"
     ]
    },
    {
     "data": {
      "text/plain": "<IPython.core.display.HTML object>",
      "text/html": "<span class=\"tex2jax_ignore\"><svg xmlns=\"http://www.w3.org/2000/svg\" xmlns:xlink=\"http://www.w3.org/1999/xlink\" xml:lang=\"en\" id=\"1f30c3106d3d453b8bb0dcd78def95b4-0\" class=\"displacy\" width=\"750\" height=\"277.0\" direction=\"ltr\" style=\"max-width: none; height: 277.0px; color: #000000; background: #ffffff; font-family: Arial; direction: ltr\">\n<text class=\"displacy-token\" fill=\"currentColor\" text-anchor=\"middle\" y=\"187.0\">\n    <tspan class=\"displacy-word\" fill=\"currentColor\" x=\"50\">&lt;ROOT&gt;</tspan>\n    <tspan class=\"displacy-tag\" dy=\"2em\" fill=\"currentColor\" x=\"50\">POS_ROOT</tspan>\n</text>\n\n<text class=\"displacy-token\" fill=\"currentColor\" text-anchor=\"middle\" y=\"187.0\">\n    <tspan class=\"displacy-word\" fill=\"currentColor\" x=\"120\">economic</tspan>\n    <tspan class=\"displacy-tag\" dy=\"2em\" fill=\"currentColor\" x=\"120\">JJ</tspan>\n</text>\n\n<text class=\"displacy-token\" fill=\"currentColor\" text-anchor=\"middle\" y=\"187.0\">\n    <tspan class=\"displacy-word\" fill=\"currentColor\" x=\"190\">news</tspan>\n    <tspan class=\"displacy-tag\" dy=\"2em\" fill=\"currentColor\" x=\"190\">NN</tspan>\n</text>\n\n<text class=\"displacy-token\" fill=\"currentColor\" text-anchor=\"middle\" y=\"187.0\">\n    <tspan class=\"displacy-word\" fill=\"currentColor\" x=\"260\">had</tspan>\n    <tspan class=\"displacy-tag\" dy=\"2em\" fill=\"currentColor\" x=\"260\">VBD</tspan>\n</text>\n\n<text class=\"displacy-token\" fill=\"currentColor\" text-anchor=\"middle\" y=\"187.0\">\n    <tspan class=\"displacy-word\" fill=\"currentColor\" x=\"330\">little</tspan>\n    <tspan class=\"displacy-tag\" dy=\"2em\" fill=\"currentColor\" x=\"330\">JJ</tspan>\n</text>\n\n<text class=\"displacy-token\" fill=\"currentColor\" text-anchor=\"middle\" y=\"187.0\">\n    <tspan class=\"displacy-word\" fill=\"currentColor\" x=\"400\">effect</tspan>\n    <tspan class=\"displacy-tag\" dy=\"2em\" fill=\"currentColor\" x=\"400\">NN</tspan>\n</text>\n\n<text class=\"displacy-token\" fill=\"currentColor\" text-anchor=\"middle\" y=\"187.0\">\n    <tspan class=\"displacy-word\" fill=\"currentColor\" x=\"470\">on</tspan>\n    <tspan class=\"displacy-tag\" dy=\"2em\" fill=\"currentColor\" x=\"470\">IN</tspan>\n</text>\n\n<text class=\"displacy-token\" fill=\"currentColor\" text-anchor=\"middle\" y=\"187.0\">\n    <tspan class=\"displacy-word\" fill=\"currentColor\" x=\"540\">financial</tspan>\n    <tspan class=\"displacy-tag\" dy=\"2em\" fill=\"currentColor\" x=\"540\">JJ</tspan>\n</text>\n\n<text class=\"displacy-token\" fill=\"currentColor\" text-anchor=\"middle\" y=\"187.0\">\n    <tspan class=\"displacy-word\" fill=\"currentColor\" x=\"610\">markets</tspan>\n    <tspan class=\"displacy-tag\" dy=\"2em\" fill=\"currentColor\" x=\"610\">NNS</tspan>\n</text>\n\n<text class=\"displacy-token\" fill=\"currentColor\" text-anchor=\"middle\" y=\"187.0\">\n    <tspan class=\"displacy-word\" fill=\"currentColor\" x=\"680\">.</tspan>\n    <tspan class=\"displacy-tag\" dy=\"2em\" fill=\"currentColor\" x=\"680\">.</tspan>\n</text>\n\n<g class=\"displacy-arrow\">\n    <path class=\"displacy-arc\" id=\"arrow-1f30c3106d3d453b8bb0dcd78def95b4-0-0\" stroke-width=\"2px\" d=\"M140,142.0 C140,107.0 175.0,107.0 175.0,142.0\" fill=\"none\" stroke=\"currentColor\"/>\n    <text dy=\"1.25em\" style=\"font-size: 0.8em; letter-spacing: 1px\">\n        <textPath xlink:href=\"#arrow-1f30c3106d3d453b8bb0dcd78def95b4-0-0\" class=\"displacy-label\" startOffset=\"50%\" side=\"left\" fill=\"currentColor\" text-anchor=\"middle\">amod</textPath>\n    </text>\n    <path class=\"displacy-arrowhead\" d=\"M140,144.0 L132,132.0 148,132.0\" fill=\"currentColor\"/>\n</g>\n\n<g class=\"displacy-arrow\">\n    <path class=\"displacy-arc\" id=\"arrow-1f30c3106d3d453b8bb0dcd78def95b4-0-1\" stroke-width=\"2px\" d=\"M210,142.0 C210,107.0 245.0,107.0 245.0,142.0\" fill=\"none\" stroke=\"currentColor\"/>\n    <text dy=\"1.25em\" style=\"font-size: 0.8em; letter-spacing: 1px\">\n        <textPath xlink:href=\"#arrow-1f30c3106d3d453b8bb0dcd78def95b4-0-1\" class=\"displacy-label\" startOffset=\"50%\" side=\"left\" fill=\"currentColor\" text-anchor=\"middle\">nsubj</textPath>\n    </text>\n    <path class=\"displacy-arrowhead\" d=\"M210,144.0 L202,132.0 218,132.0\" fill=\"currentColor\"/>\n</g>\n\n<g class=\"displacy-arrow\">\n    <path class=\"displacy-arc\" id=\"arrow-1f30c3106d3d453b8bb0dcd78def95b4-0-2\" stroke-width=\"2px\" d=\"M70,142.0 C70,72.0 250.0,72.0 250.0,142.0\" fill=\"none\" stroke=\"currentColor\"/>\n    <text dy=\"1.25em\" style=\"font-size: 0.8em; letter-spacing: 1px\">\n        <textPath xlink:href=\"#arrow-1f30c3106d3d453b8bb0dcd78def95b4-0-2\" class=\"displacy-label\" startOffset=\"50%\" side=\"left\" fill=\"currentColor\" text-anchor=\"middle\">root</textPath>\n    </text>\n    <path class=\"displacy-arrowhead\" d=\"M250.0,144.0 L258.0,132.0 242.0,132.0\" fill=\"currentColor\"/>\n</g>\n\n<g class=\"displacy-arrow\">\n    <path class=\"displacy-arc\" id=\"arrow-1f30c3106d3d453b8bb0dcd78def95b4-0-3\" stroke-width=\"2px\" d=\"M350,142.0 C350,107.0 385.0,107.0 385.0,142.0\" fill=\"none\" stroke=\"currentColor\"/>\n    <text dy=\"1.25em\" style=\"font-size: 0.8em; letter-spacing: 1px\">\n        <textPath xlink:href=\"#arrow-1f30c3106d3d453b8bb0dcd78def95b4-0-3\" class=\"displacy-label\" startOffset=\"50%\" side=\"left\" fill=\"currentColor\" text-anchor=\"middle\">amod</textPath>\n    </text>\n    <path class=\"displacy-arrowhead\" d=\"M350,144.0 L342,132.0 358,132.0\" fill=\"currentColor\"/>\n</g>\n\n<g class=\"displacy-arrow\">\n    <path class=\"displacy-arc\" id=\"arrow-1f30c3106d3d453b8bb0dcd78def95b4-0-4\" stroke-width=\"2px\" d=\"M280,142.0 C280,72.0 390.0,72.0 390.0,142.0\" fill=\"none\" stroke=\"currentColor\"/>\n    <text dy=\"1.25em\" style=\"font-size: 0.8em; letter-spacing: 1px\">\n        <textPath xlink:href=\"#arrow-1f30c3106d3d453b8bb0dcd78def95b4-0-4\" class=\"displacy-label\" startOffset=\"50%\" side=\"left\" fill=\"currentColor\" text-anchor=\"middle\">dobj</textPath>\n    </text>\n    <path class=\"displacy-arrowhead\" d=\"M390.0,144.0 L398.0,132.0 382.0,132.0\" fill=\"currentColor\"/>\n</g>\n\n<g class=\"displacy-arrow\">\n    <path class=\"displacy-arc\" id=\"arrow-1f30c3106d3d453b8bb0dcd78def95b4-0-5\" stroke-width=\"2px\" d=\"M490,142.0 C490,72.0 600.0,72.0 600.0,142.0\" fill=\"none\" stroke=\"currentColor\"/>\n    <text dy=\"1.25em\" style=\"font-size: 0.8em; letter-spacing: 1px\">\n        <textPath xlink:href=\"#arrow-1f30c3106d3d453b8bb0dcd78def95b4-0-5\" class=\"displacy-label\" startOffset=\"50%\" side=\"left\" fill=\"currentColor\" text-anchor=\"middle\">case</textPath>\n    </text>\n    <path class=\"displacy-arrowhead\" d=\"M490,144.0 L482,132.0 498,132.0\" fill=\"currentColor\"/>\n</g>\n\n<g class=\"displacy-arrow\">\n    <path class=\"displacy-arc\" id=\"arrow-1f30c3106d3d453b8bb0dcd78def95b4-0-6\" stroke-width=\"2px\" d=\"M560,142.0 C560,107.0 595.0,107.0 595.0,142.0\" fill=\"none\" stroke=\"currentColor\"/>\n    <text dy=\"1.25em\" style=\"font-size: 0.8em; letter-spacing: 1px\">\n        <textPath xlink:href=\"#arrow-1f30c3106d3d453b8bb0dcd78def95b4-0-6\" class=\"displacy-label\" startOffset=\"50%\" side=\"left\" fill=\"currentColor\" text-anchor=\"middle\">amod</textPath>\n    </text>\n    <path class=\"displacy-arrowhead\" d=\"M560,144.0 L552,132.0 568,132.0\" fill=\"currentColor\"/>\n</g>\n\n<g class=\"displacy-arrow\">\n    <path class=\"displacy-arc\" id=\"arrow-1f30c3106d3d453b8bb0dcd78def95b4-0-7\" stroke-width=\"2px\" d=\"M420,142.0 C420,37.0 605.0,37.0 605.0,142.0\" fill=\"none\" stroke=\"currentColor\"/>\n    <text dy=\"1.25em\" style=\"font-size: 0.8em; letter-spacing: 1px\">\n        <textPath xlink:href=\"#arrow-1f30c3106d3d453b8bb0dcd78def95b4-0-7\" class=\"displacy-label\" startOffset=\"50%\" side=\"left\" fill=\"currentColor\" text-anchor=\"middle\">nmod</textPath>\n    </text>\n    <path class=\"displacy-arrowhead\" d=\"M605.0,144.0 L613.0,132.0 597.0,132.0\" fill=\"currentColor\"/>\n</g>\n\n<g class=\"displacy-arrow\">\n    <path class=\"displacy-arc\" id=\"arrow-1f30c3106d3d453b8bb0dcd78def95b4-0-8\" stroke-width=\"2px\" d=\"M280,142.0 C280,2.0 680.0,2.0 680.0,142.0\" fill=\"none\" stroke=\"currentColor\"/>\n    <text dy=\"1.25em\" style=\"font-size: 0.8em; letter-spacing: 1px\">\n        <textPath xlink:href=\"#arrow-1f30c3106d3d453b8bb0dcd78def95b4-0-8\" class=\"displacy-label\" startOffset=\"50%\" side=\"left\" fill=\"currentColor\" text-anchor=\"middle\">punct</textPath>\n    </text>\n    <path class=\"displacy-arrowhead\" d=\"M680.0,144.0 L688.0,132.0 672.0,132.0\" fill=\"currentColor\"/>\n</g>\n</svg></span>"
     },
     "metadata": {},
     "output_type": "display_data"
    },
    {
     "name": "stdout",
     "output_type": "stream",
     "text": [
      "gold_dependencies: ['Arc(head_idx=2, dep_idx=1, label_id=1)', 'Arc(head_idx=3, dep_idx=2, label_id=12)', 'Arc(head_idx=0, dep_idx=3, label_id=0)', 'Arc(head_idx=5, dep_idx=4, label_id=1)', 'Arc(head_idx=3, dep_idx=5, label_id=5)', 'Arc(head_idx=8, dep_idx=6, label_id=3)', 'Arc(head_idx=8, dep_idx=7, label_id=1)', 'Arc(head_idx=5, dep_idx=8, label_id=11)', 'Arc(head_idx=3, dep_idx=9, label_id=14)']\n",
      "\n",
      "Step 1 | stack: ['<ROOT>']\tbuffer: ['economic', 'news', 'had', 'little', 'effect', 'on', 'financial', 'markets', '.']\n",
      "\tTesting get_gold_action(stack, buffer, gold_dependencies):\n",
      "\t\tYour Result: S\t\tCorrect Result: S\t\tCorrect!\n",
      "\n",
      "Step 2 | stack: ['<ROOT>', 'economic']\tbuffer: ['news', 'had', 'little', 'effect', 'on', 'financial', 'markets', '.']\n",
      "\tTesting get_gold_action(stack, buffer, gold_dependencies):\n",
      "\t\tYour Result: S\t\tCorrect Result: S\t\tCorrect!\n",
      "\n",
      "Step 3 | stack: ['<ROOT>', 'economic', 'news']\tbuffer: ['had', 'little', 'effect', 'on', 'financial', 'markets', '.']\n",
      "\tTesting get_gold_action(stack, buffer, gold_dependencies):\n",
      "\t\tYour Result: LA-amod\t\tCorrect Result: LA-amod\t\tCorrect!\n",
      "\n",
      "Step 4 | stack: ['<ROOT>', 'news']\tbuffer: ['had', 'little', 'effect', 'on', 'financial', 'markets', '.']\n",
      "\tTesting get_gold_action(stack, buffer, gold_dependencies):\n",
      "\t\tYour Result: S\t\tCorrect Result: S\t\tCorrect!\n",
      "\n",
      "Step 5 | stack: ['<ROOT>', 'news', 'had']\tbuffer: ['little', 'effect', 'on', 'financial', 'markets', '.']\n",
      "\tTesting get_gold_action(stack, buffer, gold_dependencies):\n",
      "\t\tYour Result: LA-nsubj\t\tCorrect Result: LA-nsubj\t\tCorrect!\n",
      "\n",
      "Step 6 | stack: ['<ROOT>', 'had']\tbuffer: ['little', 'effect', 'on', 'financial', 'markets', '.']\n",
      "\tTesting get_gold_action(stack, buffer, gold_dependencies):\n",
      "\t\tYour Result: None\t\tCorrect Result: S\n",
      "\t\tIncorrect! Halting parse of this sentence.\n",
      "\n",
      "\n",
      "Test Sentence 1 failed.\n",
      "\n",
      "----------------------------------------------------------------------------------------------------\n",
      "\n",
      "gold_deps are: <__main__.Dependencies object at 0x7f9c3f48d490>\n",
      "stack is :[\"Word(idx=0, word='<ROOT>', pos='<POS_ROOT>', word_id=72, pos_id=33)\"]\n",
      "buffer is :[\"Word(idx=1, word='word1', pos='pos1', word_id=64, pos_id=27)\", \"Word(idx=2, word='word2', pos='pos2', word_id=65, pos_id=28)\", \"Word(idx=3, word='word3', pos='pos3', word_id=66, pos_id=29)\", \"Word(idx=4, word='word4', pos='pos4', word_id=67, pos_id=30)\", \"Word(idx=5, word='word5', pos='pos5', word_id=68, pos_id=31)\"]\n",
      "s1 is: Word(idx=0, word='<ROOT>', pos='<POS_ROOT>', word_id=72, pos_id=33)\n",
      "s2 is: None\n",
      "\n",
      "len of buffer 5 > 0 and there is only root in the stack hence action = 'S'\n",
      "stack is :[\"Word(idx=0, word='<ROOT>', pos='<POS_ROOT>', word_id=72, pos_id=33)\", \"Word(idx=1, word='word1', pos='pos1', word_id=64, pos_id=27)\"]\n",
      "buffer is :[\"Word(idx=2, word='word2', pos='pos2', word_id=65, pos_id=28)\", \"Word(idx=3, word='word3', pos='pos3', word_id=66, pos_id=29)\", \"Word(idx=4, word='word4', pos='pos4', word_id=67, pos_id=30)\", \"Word(idx=5, word='word5', pos='pos5', word_id=68, pos_id=31)\"]\n",
      "s1 is: Word(idx=1, word='word1', pos='pos1', word_id=64, pos_id=27)\n",
      "s2 is: Word(idx=0, word='<ROOT>', pos='<POS_ROOT>', word_id=72, pos_id=33)\n",
      "\n",
      "Testing Sentence 2...\n"
     ]
    },
    {
     "data": {
      "text/plain": "<IPython.core.display.HTML object>",
      "text/html": "<span class=\"tex2jax_ignore\"><svg xmlns=\"http://www.w3.org/2000/svg\" xmlns:xlink=\"http://www.w3.org/1999/xlink\" xml:lang=\"en\" id=\"f1a14e7280d04940b5bfec5ba08653a8-0\" class=\"displacy\" width=\"470\" height=\"277.0\" direction=\"ltr\" style=\"max-width: none; height: 277.0px; color: #000000; background: #ffffff; font-family: Arial; direction: ltr\">\n<text class=\"displacy-token\" fill=\"currentColor\" text-anchor=\"middle\" y=\"187.0\">\n    <tspan class=\"displacy-word\" fill=\"currentColor\" x=\"50\">&lt;ROOT&gt;</tspan>\n    <tspan class=\"displacy-tag\" dy=\"2em\" fill=\"currentColor\" x=\"50\">POS_ROOT</tspan>\n</text>\n\n<text class=\"displacy-token\" fill=\"currentColor\" text-anchor=\"middle\" y=\"187.0\">\n    <tspan class=\"displacy-word\" fill=\"currentColor\" x=\"120\">word1</tspan>\n    <tspan class=\"displacy-tag\" dy=\"2em\" fill=\"currentColor\" x=\"120\">pos1</tspan>\n</text>\n\n<text class=\"displacy-token\" fill=\"currentColor\" text-anchor=\"middle\" y=\"187.0\">\n    <tspan class=\"displacy-word\" fill=\"currentColor\" x=\"190\">word2</tspan>\n    <tspan class=\"displacy-tag\" dy=\"2em\" fill=\"currentColor\" x=\"190\">pos2</tspan>\n</text>\n\n<text class=\"displacy-token\" fill=\"currentColor\" text-anchor=\"middle\" y=\"187.0\">\n    <tspan class=\"displacy-word\" fill=\"currentColor\" x=\"260\">word3</tspan>\n    <tspan class=\"displacy-tag\" dy=\"2em\" fill=\"currentColor\" x=\"260\">pos3</tspan>\n</text>\n\n<text class=\"displacy-token\" fill=\"currentColor\" text-anchor=\"middle\" y=\"187.0\">\n    <tspan class=\"displacy-word\" fill=\"currentColor\" x=\"330\">word4</tspan>\n    <tspan class=\"displacy-tag\" dy=\"2em\" fill=\"currentColor\" x=\"330\">pos4</tspan>\n</text>\n\n<text class=\"displacy-token\" fill=\"currentColor\" text-anchor=\"middle\" y=\"187.0\">\n    <tspan class=\"displacy-word\" fill=\"currentColor\" x=\"400\">word5</tspan>\n    <tspan class=\"displacy-tag\" dy=\"2em\" fill=\"currentColor\" x=\"400\">pos5</tspan>\n</text>\n\n<g class=\"displacy-arrow\">\n    <path class=\"displacy-arc\" id=\"arrow-f1a14e7280d04940b5bfec5ba08653a8-0-0\" stroke-width=\"2px\" d=\"M70,142.0 C70,107.0 105.0,107.0 105.0,142.0\" fill=\"none\" stroke=\"currentColor\"/>\n    <text dy=\"1.25em\" style=\"font-size: 0.8em; letter-spacing: 1px\">\n        <textPath xlink:href=\"#arrow-f1a14e7280d04940b5bfec5ba08653a8-0-0\" class=\"displacy-label\" startOffset=\"50%\" side=\"left\" fill=\"currentColor\" text-anchor=\"middle\">root</textPath>\n    </text>\n    <path class=\"displacy-arrowhead\" d=\"M105.0,144.0 L113.0,132.0 97.0,132.0\" fill=\"currentColor\"/>\n</g>\n\n<g class=\"displacy-arrow\">\n    <path class=\"displacy-arc\" id=\"arrow-f1a14e7280d04940b5bfec5ba08653a8-0-1\" stroke-width=\"2px\" d=\"M140,142.0 C140,107.0 175.0,107.0 175.0,142.0\" fill=\"none\" stroke=\"currentColor\"/>\n    <text dy=\"1.25em\" style=\"font-size: 0.8em; letter-spacing: 1px\">\n        <textPath xlink:href=\"#arrow-f1a14e7280d04940b5bfec5ba08653a8-0-1\" class=\"displacy-label\" startOffset=\"50%\" side=\"left\" fill=\"currentColor\" text-anchor=\"middle\">label1</textPath>\n    </text>\n    <path class=\"displacy-arrowhead\" d=\"M175.0,144.0 L183.0,132.0 167.0,132.0\" fill=\"currentColor\"/>\n</g>\n\n<g class=\"displacy-arrow\">\n    <path class=\"displacy-arc\" id=\"arrow-f1a14e7280d04940b5bfec5ba08653a8-0-2\" stroke-width=\"2px\" d=\"M140,142.0 C140,72.0 250.0,72.0 250.0,142.0\" fill=\"none\" stroke=\"currentColor\"/>\n    <text dy=\"1.25em\" style=\"font-size: 0.8em; letter-spacing: 1px\">\n        <textPath xlink:href=\"#arrow-f1a14e7280d04940b5bfec5ba08653a8-0-2\" class=\"displacy-label\" startOffset=\"50%\" side=\"left\" fill=\"currentColor\" text-anchor=\"middle\">label2</textPath>\n    </text>\n    <path class=\"displacy-arrowhead\" d=\"M250.0,144.0 L258.0,132.0 242.0,132.0\" fill=\"currentColor\"/>\n</g>\n\n<g class=\"displacy-arrow\">\n    <path class=\"displacy-arc\" id=\"arrow-f1a14e7280d04940b5bfec5ba08653a8-0-3\" stroke-width=\"2px\" d=\"M140,142.0 C140,37.0 325.0,37.0 325.0,142.0\" fill=\"none\" stroke=\"currentColor\"/>\n    <text dy=\"1.25em\" style=\"font-size: 0.8em; letter-spacing: 1px\">\n        <textPath xlink:href=\"#arrow-f1a14e7280d04940b5bfec5ba08653a8-0-3\" class=\"displacy-label\" startOffset=\"50%\" side=\"left\" fill=\"currentColor\" text-anchor=\"middle\">label3</textPath>\n    </text>\n    <path class=\"displacy-arrowhead\" d=\"M325.0,144.0 L333.0,132.0 317.0,132.0\" fill=\"currentColor\"/>\n</g>\n\n<g class=\"displacy-arrow\">\n    <path class=\"displacy-arc\" id=\"arrow-f1a14e7280d04940b5bfec5ba08653a8-0-4\" stroke-width=\"2px\" d=\"M140,142.0 C140,2.0 400.0,2.0 400.0,142.0\" fill=\"none\" stroke=\"currentColor\"/>\n    <text dy=\"1.25em\" style=\"font-size: 0.8em; letter-spacing: 1px\">\n        <textPath xlink:href=\"#arrow-f1a14e7280d04940b5bfec5ba08653a8-0-4\" class=\"displacy-label\" startOffset=\"50%\" side=\"left\" fill=\"currentColor\" text-anchor=\"middle\">label4</textPath>\n    </text>\n    <path class=\"displacy-arrowhead\" d=\"M400.0,144.0 L408.0,132.0 392.0,132.0\" fill=\"currentColor\"/>\n</g>\n</svg></span>"
     },
     "metadata": {},
     "output_type": "display_data"
    },
    {
     "name": "stdout",
     "output_type": "stream",
     "text": [
      "gold_dependencies: ['Arc(head_idx=0, dep_idx=1, label_id=0)', 'Arc(head_idx=1, dep_idx=2, label_id=6)', 'Arc(head_idx=1, dep_idx=3, label_id=7)', 'Arc(head_idx=1, dep_idx=4, label_id=8)', 'Arc(head_idx=1, dep_idx=5, label_id=9)']\n",
      "\n",
      "Step 1 | stack: ['<ROOT>']\tbuffer: ['word1', 'word2', 'word3', 'word4', 'word5']\n",
      "\tTesting get_gold_action(stack, buffer, gold_dependencies):\n",
      "\t\tYour Result: S\t\tCorrect Result: S\t\tCorrect!\n",
      "\n",
      "Step 2 | stack: ['<ROOT>', 'word1']\tbuffer: ['word2', 'word3', 'word4', 'word5']\n",
      "\tTesting get_gold_action(stack, buffer, gold_dependencies):\n",
      "\t\tYour Result: None\t\tCorrect Result: S\n",
      "\t\tIncorrect! Halting parse of this sentence.\n",
      "\n",
      "\n",
      "Test Sentence 2 failed.\n",
      "\n",
      "----------------------------------------------------------------------------------------------------\n",
      "\n",
      "gold_deps are: <__main__.Dependencies object at 0x7f9c3f48deb0>\n",
      "stack is :[\"Word(idx=0, word='<ROOT>', pos='<POS_ROOT>', word_id=72, pos_id=33)\"]\n",
      "buffer is :[\"Word(idx=1, word='word1', pos='pos1', word_id=64, pos_id=27)\", \"Word(idx=2, word='word2', pos='pos2', word_id=65, pos_id=28)\", \"Word(idx=3, word='word3', pos='pos3', word_id=66, pos_id=29)\", \"Word(idx=4, word='word4', pos='pos4', word_id=67, pos_id=30)\", \"Word(idx=5, word='word5', pos='pos5', word_id=68, pos_id=31)\"]\n",
      "s1 is: Word(idx=0, word='<ROOT>', pos='<POS_ROOT>', word_id=72, pos_id=33)\n",
      "s2 is: None\n",
      "\n",
      "len of buffer 5 > 0 and there is only root in the stack hence action = 'S'\n",
      "stack is :[\"Word(idx=0, word='<ROOT>', pos='<POS_ROOT>', word_id=72, pos_id=33)\", \"Word(idx=1, word='word1', pos='pos1', word_id=64, pos_id=27)\"]\n",
      "buffer is :[\"Word(idx=2, word='word2', pos='pos2', word_id=65, pos_id=28)\", \"Word(idx=3, word='word3', pos='pos3', word_id=66, pos_id=29)\", \"Word(idx=4, word='word4', pos='pos4', word_id=67, pos_id=30)\", \"Word(idx=5, word='word5', pos='pos5', word_id=68, pos_id=31)\"]\n",
      "s1 is: Word(idx=1, word='word1', pos='pos1', word_id=64, pos_id=27)\n",
      "s2 is: Word(idx=0, word='<ROOT>', pos='<POS_ROOT>', word_id=72, pos_id=33)\n",
      "\n",
      "len of buffer is greater than zero :4 and hence action = 'S'\n",
      "stack is :[\"Word(idx=0, word='<ROOT>', pos='<POS_ROOT>', word_id=72, pos_id=33)\", \"Word(idx=1, word='word1', pos='pos1', word_id=64, pos_id=27)\", \"Word(idx=2, word='word2', pos='pos2', word_id=65, pos_id=28)\"]\n",
      "buffer is :[\"Word(idx=3, word='word3', pos='pos3', word_id=66, pos_id=29)\", \"Word(idx=4, word='word4', pos='pos4', word_id=67, pos_id=30)\", \"Word(idx=5, word='word5', pos='pos5', word_id=68, pos_id=31)\"]\n",
      "s1 is: Word(idx=2, word='word2', pos='pos2', word_id=65, pos_id=28)\n",
      "s2 is: Word(idx=1, word='word1', pos='pos1', word_id=64, pos_id=27)\n",
      "\n",
      "len of buffer is greater than zero :3 and hence action = 'S'\n",
      "stack is :[\"Word(idx=0, word='<ROOT>', pos='<POS_ROOT>', word_id=72, pos_id=33)\", \"Word(idx=1, word='word1', pos='pos1', word_id=64, pos_id=27)\", \"Word(idx=2, word='word2', pos='pos2', word_id=65, pos_id=28)\", \"Word(idx=3, word='word3', pos='pos3', word_id=66, pos_id=29)\"]\n",
      "buffer is :[\"Word(idx=4, word='word4', pos='pos4', word_id=67, pos_id=30)\", \"Word(idx=5, word='word5', pos='pos5', word_id=68, pos_id=31)\"]\n",
      "s1 is: Word(idx=3, word='word3', pos='pos3', word_id=66, pos_id=29)\n",
      "s2 is: Word(idx=2, word='word2', pos='pos2', word_id=65, pos_id=28)\n",
      "\n",
      "len of buffer is greater than zero :2 and hence action = 'S'\n",
      "stack is :[\"Word(idx=0, word='<ROOT>', pos='<POS_ROOT>', word_id=72, pos_id=33)\", \"Word(idx=1, word='word1', pos='pos1', word_id=64, pos_id=27)\", \"Word(idx=2, word='word2', pos='pos2', word_id=65, pos_id=28)\", \"Word(idx=3, word='word3', pos='pos3', word_id=66, pos_id=29)\", \"Word(idx=4, word='word4', pos='pos4', word_id=67, pos_id=30)\"]\n",
      "buffer is :[\"Word(idx=5, word='word5', pos='pos5', word_id=68, pos_id=31)\"]\n",
      "s1 is: Word(idx=4, word='word4', pos='pos4', word_id=67, pos_id=30)\n",
      "s2 is: Word(idx=3, word='word3', pos='pos3', word_id=66, pos_id=29)\n",
      "\n",
      "len of buffer is greater than zero :1 and hence action = 'S'\n",
      "stack is :[\"Word(idx=0, word='<ROOT>', pos='<POS_ROOT>', word_id=72, pos_id=33)\", \"Word(idx=1, word='word1', pos='pos1', word_id=64, pos_id=27)\", \"Word(idx=2, word='word2', pos='pos2', word_id=65, pos_id=28)\", \"Word(idx=3, word='word3', pos='pos3', word_id=66, pos_id=29)\", \"Word(idx=4, word='word4', pos='pos4', word_id=67, pos_id=30)\", \"Word(idx=5, word='word5', pos='pos5', word_id=68, pos_id=31)\"]\n",
      "buffer is :[]\n",
      "s1 is: Word(idx=5, word='word5', pos='pos5', word_id=68, pos_id=31)\n",
      "s2 is: Word(idx=4, word='word4', pos='pos4', word_id=67, pos_id=30)\n",
      "\n",
      "arc_to_head in left action: Arc(head_idx=5, dep_idx=4, label_id=9)\n",
      "arc_to_head label in left action: label4\n",
      "stack is :[\"Word(idx=0, word='<ROOT>', pos='<POS_ROOT>', word_id=72, pos_id=33)\", \"Word(idx=1, word='word1', pos='pos1', word_id=64, pos_id=27)\", \"Word(idx=2, word='word2', pos='pos2', word_id=65, pos_id=28)\", \"Word(idx=3, word='word3', pos='pos3', word_id=66, pos_id=29)\", \"Word(idx=5, word='word5', pos='pos5', word_id=68, pos_id=31)\"]\n",
      "buffer is :[]\n",
      "s1 is: Word(idx=5, word='word5', pos='pos5', word_id=68, pos_id=31)\n",
      "s2 is: Word(idx=3, word='word3', pos='pos3', word_id=66, pos_id=29)\n",
      "\n",
      "arc_to_head in left action: Arc(head_idx=5, dep_idx=3, label_id=8)\n",
      "arc_to_head label in left action: label3\n",
      "stack is :[\"Word(idx=0, word='<ROOT>', pos='<POS_ROOT>', word_id=72, pos_id=33)\", \"Word(idx=1, word='word1', pos='pos1', word_id=64, pos_id=27)\", \"Word(idx=2, word='word2', pos='pos2', word_id=65, pos_id=28)\", \"Word(idx=5, word='word5', pos='pos5', word_id=68, pos_id=31)\"]\n",
      "buffer is :[]\n",
      "s1 is: Word(idx=5, word='word5', pos='pos5', word_id=68, pos_id=31)\n",
      "s2 is: Word(idx=2, word='word2', pos='pos2', word_id=65, pos_id=28)\n",
      "\n",
      "arc_to_head in left action: Arc(head_idx=5, dep_idx=2, label_id=7)\n",
      "arc_to_head label in left action: label2\n",
      "stack is :[\"Word(idx=0, word='<ROOT>', pos='<POS_ROOT>', word_id=72, pos_id=33)\", \"Word(idx=1, word='word1', pos='pos1', word_id=64, pos_id=27)\", \"Word(idx=5, word='word5', pos='pos5', word_id=68, pos_id=31)\"]\n",
      "buffer is :[]\n",
      "s1 is: Word(idx=5, word='word5', pos='pos5', word_id=68, pos_id=31)\n",
      "s2 is: Word(idx=1, word='word1', pos='pos1', word_id=64, pos_id=27)\n",
      "\n",
      "arc_to_head in left action: Arc(head_idx=5, dep_idx=1, label_id=6)\n",
      "arc_to_head label in left action: label1\n",
      "stack is :[\"Word(idx=0, word='<ROOT>', pos='<POS_ROOT>', word_id=72, pos_id=33)\", \"Word(idx=5, word='word5', pos='pos5', word_id=68, pos_id=31)\"]\n",
      "buffer is :[]\n",
      "s1 is: Word(idx=5, word='word5', pos='pos5', word_id=68, pos_id=31)\n",
      "s2 is: Word(idx=0, word='<ROOT>', pos='<POS_ROOT>', word_id=72, pos_id=33)\n",
      "\n",
      "stack is :[\"Word(idx=0, word='<ROOT>', pos='<POS_ROOT>', word_id=72, pos_id=33)\"]\n",
      "buffer is :[]\n",
      "s1 is: Word(idx=0, word='<ROOT>', pos='<POS_ROOT>', word_id=72, pos_id=33)\n",
      "s2 is: None\n",
      "\n",
      "len of buffer 0 == 0 and there is only root in the stack hence action = 'DONE'\n",
      "Testing Sentence 3...\n"
     ]
    },
    {
     "data": {
      "text/plain": "<IPython.core.display.HTML object>",
      "text/html": "<span class=\"tex2jax_ignore\"><svg xmlns=\"http://www.w3.org/2000/svg\" xmlns:xlink=\"http://www.w3.org/1999/xlink\" xml:lang=\"en\" id=\"07253c8692384314b27aeee3ba22ed56-0\" class=\"displacy\" width=\"470\" height=\"312.0\" direction=\"ltr\" style=\"max-width: none; height: 312.0px; color: #000000; background: #ffffff; font-family: Arial; direction: ltr\">\n<text class=\"displacy-token\" fill=\"currentColor\" text-anchor=\"middle\" y=\"222.0\">\n    <tspan class=\"displacy-word\" fill=\"currentColor\" x=\"50\">&lt;ROOT&gt;</tspan>\n    <tspan class=\"displacy-tag\" dy=\"2em\" fill=\"currentColor\" x=\"50\">POS_ROOT</tspan>\n</text>\n\n<text class=\"displacy-token\" fill=\"currentColor\" text-anchor=\"middle\" y=\"222.0\">\n    <tspan class=\"displacy-word\" fill=\"currentColor\" x=\"120\">word1</tspan>\n    <tspan class=\"displacy-tag\" dy=\"2em\" fill=\"currentColor\" x=\"120\">pos1</tspan>\n</text>\n\n<text class=\"displacy-token\" fill=\"currentColor\" text-anchor=\"middle\" y=\"222.0\">\n    <tspan class=\"displacy-word\" fill=\"currentColor\" x=\"190\">word2</tspan>\n    <tspan class=\"displacy-tag\" dy=\"2em\" fill=\"currentColor\" x=\"190\">pos2</tspan>\n</text>\n\n<text class=\"displacy-token\" fill=\"currentColor\" text-anchor=\"middle\" y=\"222.0\">\n    <tspan class=\"displacy-word\" fill=\"currentColor\" x=\"260\">word3</tspan>\n    <tspan class=\"displacy-tag\" dy=\"2em\" fill=\"currentColor\" x=\"260\">pos3</tspan>\n</text>\n\n<text class=\"displacy-token\" fill=\"currentColor\" text-anchor=\"middle\" y=\"222.0\">\n    <tspan class=\"displacy-word\" fill=\"currentColor\" x=\"330\">word4</tspan>\n    <tspan class=\"displacy-tag\" dy=\"2em\" fill=\"currentColor\" x=\"330\">pos4</tspan>\n</text>\n\n<text class=\"displacy-token\" fill=\"currentColor\" text-anchor=\"middle\" y=\"222.0\">\n    <tspan class=\"displacy-word\" fill=\"currentColor\" x=\"400\">word5</tspan>\n    <tspan class=\"displacy-tag\" dy=\"2em\" fill=\"currentColor\" x=\"400\">pos5</tspan>\n</text>\n\n<g class=\"displacy-arrow\">\n    <path class=\"displacy-arc\" id=\"arrow-07253c8692384314b27aeee3ba22ed56-0-0\" stroke-width=\"2px\" d=\"M140,177.0 C140,37.0 395.0,37.0 395.0,177.0\" fill=\"none\" stroke=\"currentColor\"/>\n    <text dy=\"1.25em\" style=\"font-size: 0.8em; letter-spacing: 1px\">\n        <textPath xlink:href=\"#arrow-07253c8692384314b27aeee3ba22ed56-0-0\" class=\"displacy-label\" startOffset=\"50%\" side=\"left\" fill=\"currentColor\" text-anchor=\"middle\">label1</textPath>\n    </text>\n    <path class=\"displacy-arrowhead\" d=\"M140,179.0 L132,167.0 148,167.0\" fill=\"currentColor\"/>\n</g>\n\n<g class=\"displacy-arrow\">\n    <path class=\"displacy-arc\" id=\"arrow-07253c8692384314b27aeee3ba22ed56-0-1\" stroke-width=\"2px\" d=\"M210,177.0 C210,72.0 390.0,72.0 390.0,177.0\" fill=\"none\" stroke=\"currentColor\"/>\n    <text dy=\"1.25em\" style=\"font-size: 0.8em; letter-spacing: 1px\">\n        <textPath xlink:href=\"#arrow-07253c8692384314b27aeee3ba22ed56-0-1\" class=\"displacy-label\" startOffset=\"50%\" side=\"left\" fill=\"currentColor\" text-anchor=\"middle\">label2</textPath>\n    </text>\n    <path class=\"displacy-arrowhead\" d=\"M210,179.0 L202,167.0 218,167.0\" fill=\"currentColor\"/>\n</g>\n\n<g class=\"displacy-arrow\">\n    <path class=\"displacy-arc\" id=\"arrow-07253c8692384314b27aeee3ba22ed56-0-2\" stroke-width=\"2px\" d=\"M280,177.0 C280,107.0 385.0,107.0 385.0,177.0\" fill=\"none\" stroke=\"currentColor\"/>\n    <text dy=\"1.25em\" style=\"font-size: 0.8em; letter-spacing: 1px\">\n        <textPath xlink:href=\"#arrow-07253c8692384314b27aeee3ba22ed56-0-2\" class=\"displacy-label\" startOffset=\"50%\" side=\"left\" fill=\"currentColor\" text-anchor=\"middle\">label3</textPath>\n    </text>\n    <path class=\"displacy-arrowhead\" d=\"M280,179.0 L272,167.0 288,167.0\" fill=\"currentColor\"/>\n</g>\n\n<g class=\"displacy-arrow\">\n    <path class=\"displacy-arc\" id=\"arrow-07253c8692384314b27aeee3ba22ed56-0-3\" stroke-width=\"2px\" d=\"M350,177.0 C350,142.0 380.0,142.0 380.0,177.0\" fill=\"none\" stroke=\"currentColor\"/>\n    <text dy=\"1.25em\" style=\"font-size: 0.8em; letter-spacing: 1px\">\n        <textPath xlink:href=\"#arrow-07253c8692384314b27aeee3ba22ed56-0-3\" class=\"displacy-label\" startOffset=\"50%\" side=\"left\" fill=\"currentColor\" text-anchor=\"middle\">label4</textPath>\n    </text>\n    <path class=\"displacy-arrowhead\" d=\"M350,179.0 L342,167.0 358,167.0\" fill=\"currentColor\"/>\n</g>\n\n<g class=\"displacy-arrow\">\n    <path class=\"displacy-arc\" id=\"arrow-07253c8692384314b27aeee3ba22ed56-0-4\" stroke-width=\"2px\" d=\"M70,177.0 C70,2.0 400.0,2.0 400.0,177.0\" fill=\"none\" stroke=\"currentColor\"/>\n    <text dy=\"1.25em\" style=\"font-size: 0.8em; letter-spacing: 1px\">\n        <textPath xlink:href=\"#arrow-07253c8692384314b27aeee3ba22ed56-0-4\" class=\"displacy-label\" startOffset=\"50%\" side=\"left\" fill=\"currentColor\" text-anchor=\"middle\">root</textPath>\n    </text>\n    <path class=\"displacy-arrowhead\" d=\"M400.0,179.0 L408.0,167.0 392.0,167.0\" fill=\"currentColor\"/>\n</g>\n</svg></span>"
     },
     "metadata": {},
     "output_type": "display_data"
    },
    {
     "name": "stdout",
     "output_type": "stream",
     "text": [
      "gold_dependencies: ['Arc(head_idx=5, dep_idx=1, label_id=6)', 'Arc(head_idx=5, dep_idx=2, label_id=7)', 'Arc(head_idx=5, dep_idx=3, label_id=8)', 'Arc(head_idx=5, dep_idx=4, label_id=9)', 'Arc(head_idx=0, dep_idx=5, label_id=0)']\n",
      "\n",
      "Step 1 | stack: ['<ROOT>']\tbuffer: ['word1', 'word2', 'word3', 'word4', 'word5']\n",
      "\tTesting get_gold_action(stack, buffer, gold_dependencies):\n",
      "\t\tYour Result: S\t\tCorrect Result: S\t\tCorrect!\n",
      "\n",
      "Step 2 | stack: ['<ROOT>', 'word1']\tbuffer: ['word2', 'word3', 'word4', 'word5']\n",
      "\tTesting get_gold_action(stack, buffer, gold_dependencies):\n",
      "\t\tYour Result: S\t\tCorrect Result: S\t\tCorrect!\n",
      "\n",
      "Step 3 | stack: ['<ROOT>', 'word1', 'word2']\tbuffer: ['word3', 'word4', 'word5']\n",
      "\tTesting get_gold_action(stack, buffer, gold_dependencies):\n",
      "\t\tYour Result: S\t\tCorrect Result: S\t\tCorrect!\n",
      "\n",
      "Step 4 | stack: ['<ROOT>', 'word1', 'word2', 'word3']\tbuffer: ['word4', 'word5']\n",
      "\tTesting get_gold_action(stack, buffer, gold_dependencies):\n",
      "\t\tYour Result: S\t\tCorrect Result: S\t\tCorrect!\n",
      "\n",
      "Step 5 | stack: ['<ROOT>', 'word1', 'word2', 'word3', 'word4']\tbuffer: ['word5']\n",
      "\tTesting get_gold_action(stack, buffer, gold_dependencies):\n",
      "\t\tYour Result: S\t\tCorrect Result: S\t\tCorrect!\n",
      "\n",
      "Step 6 | stack: ['<ROOT>', 'word1', 'word2', 'word3', 'word4', 'word5']\tbuffer: []\n",
      "\tTesting get_gold_action(stack, buffer, gold_dependencies):\n",
      "\t\tYour Result: LA-label4\t\tCorrect Result: LA-label4\t\tCorrect!\n",
      "\n",
      "Step 7 | stack: ['<ROOT>', 'word1', 'word2', 'word3', 'word5']\tbuffer: []\n",
      "\tTesting get_gold_action(stack, buffer, gold_dependencies):\n",
      "\t\tYour Result: LA-label3\t\tCorrect Result: LA-label3\t\tCorrect!\n",
      "\n",
      "Step 8 | stack: ['<ROOT>', 'word1', 'word2', 'word5']\tbuffer: []\n",
      "\tTesting get_gold_action(stack, buffer, gold_dependencies):\n",
      "\t\tYour Result: LA-label2\t\tCorrect Result: LA-label2\t\tCorrect!\n",
      "\n",
      "Step 9 | stack: ['<ROOT>', 'word1', 'word5']\tbuffer: []\n",
      "\tTesting get_gold_action(stack, buffer, gold_dependencies):\n",
      "\t\tYour Result: LA-label1\t\tCorrect Result: LA-label1\t\tCorrect!\n",
      "\n",
      "Step 10 | stack: ['<ROOT>', 'word5']\tbuffer: []\n",
      "\tTesting get_gold_action(stack, buffer, gold_dependencies):\n",
      "\t\tYour Result: RA-root\t\tCorrect Result: RA-root\t\tCorrect!\n",
      "\n",
      "Step 11 | stack: ['<ROOT>']\tbuffer: []\n",
      "\tTesting get_gold_action(stack, buffer, gold_dependencies):\n",
      "\t\tYour Result: DONE\t\tCorrect Result: DONE\t\tCorrect!\n",
      "\n",
      "\n",
      "Test Sentence 3 passed!\n",
      "\n",
      "----------------------------------------------------------------------------------------------------\n",
      "\n",
      "gold_deps are: <__main__.Dependencies object at 0x7f9c3f647cd0>\n",
      "stack is :[\"Word(idx=0, word='<ROOT>', pos='<POS_ROOT>', word_id=72, pos_id=33)\"]\n",
      "buffer is :[\"Word(idx=1, word='word1', pos='pos1', word_id=64, pos_id=27)\", \"Word(idx=2, word='word2', pos='pos2', word_id=65, pos_id=28)\", \"Word(idx=3, word='word3', pos='pos3', word_id=66, pos_id=29)\", \"Word(idx=4, word='word4', pos='pos4', word_id=67, pos_id=30)\", \"Word(idx=5, word='word5', pos='pos5', word_id=68, pos_id=31)\"]\n",
      "s1 is: Word(idx=0, word='<ROOT>', pos='<POS_ROOT>', word_id=72, pos_id=33)\n",
      "s2 is: None\n",
      "\n",
      "len of buffer 5 > 0 and there is only root in the stack hence action = 'S'\n",
      "stack is :[\"Word(idx=0, word='<ROOT>', pos='<POS_ROOT>', word_id=72, pos_id=33)\", \"Word(idx=1, word='word1', pos='pos1', word_id=64, pos_id=27)\"]\n",
      "buffer is :[\"Word(idx=2, word='word2', pos='pos2', word_id=65, pos_id=28)\", \"Word(idx=3, word='word3', pos='pos3', word_id=66, pos_id=29)\", \"Word(idx=4, word='word4', pos='pos4', word_id=67, pos_id=30)\", \"Word(idx=5, word='word5', pos='pos5', word_id=68, pos_id=31)\"]\n",
      "s1 is: Word(idx=1, word='word1', pos='pos1', word_id=64, pos_id=27)\n",
      "s2 is: Word(idx=0, word='<ROOT>', pos='<POS_ROOT>', word_id=72, pos_id=33)\n",
      "\n",
      "Testing Sentence 4...\n"
     ]
    },
    {
     "data": {
      "text/plain": "<IPython.core.display.HTML object>",
      "text/html": "<span class=\"tex2jax_ignore\"><svg xmlns=\"http://www.w3.org/2000/svg\" xmlns:xlink=\"http://www.w3.org/1999/xlink\" xml:lang=\"en\" id=\"91fa82487a9440719eaa71251a1497fc-0\" class=\"displacy\" width=\"470\" height=\"172.0\" direction=\"ltr\" style=\"max-width: none; height: 172.0px; color: #000000; background: #ffffff; font-family: Arial; direction: ltr\">\n<text class=\"displacy-token\" fill=\"currentColor\" text-anchor=\"middle\" y=\"82.0\">\n    <tspan class=\"displacy-word\" fill=\"currentColor\" x=\"50\">&lt;ROOT&gt;</tspan>\n    <tspan class=\"displacy-tag\" dy=\"2em\" fill=\"currentColor\" x=\"50\">POS_ROOT</tspan>\n</text>\n\n<text class=\"displacy-token\" fill=\"currentColor\" text-anchor=\"middle\" y=\"82.0\">\n    <tspan class=\"displacy-word\" fill=\"currentColor\" x=\"120\">word1</tspan>\n    <tspan class=\"displacy-tag\" dy=\"2em\" fill=\"currentColor\" x=\"120\">pos1</tspan>\n</text>\n\n<text class=\"displacy-token\" fill=\"currentColor\" text-anchor=\"middle\" y=\"82.0\">\n    <tspan class=\"displacy-word\" fill=\"currentColor\" x=\"190\">word2</tspan>\n    <tspan class=\"displacy-tag\" dy=\"2em\" fill=\"currentColor\" x=\"190\">pos2</tspan>\n</text>\n\n<text class=\"displacy-token\" fill=\"currentColor\" text-anchor=\"middle\" y=\"82.0\">\n    <tspan class=\"displacy-word\" fill=\"currentColor\" x=\"260\">word3</tspan>\n    <tspan class=\"displacy-tag\" dy=\"2em\" fill=\"currentColor\" x=\"260\">pos3</tspan>\n</text>\n\n<text class=\"displacy-token\" fill=\"currentColor\" text-anchor=\"middle\" y=\"82.0\">\n    <tspan class=\"displacy-word\" fill=\"currentColor\" x=\"330\">word4</tspan>\n    <tspan class=\"displacy-tag\" dy=\"2em\" fill=\"currentColor\" x=\"330\">pos4</tspan>\n</text>\n\n<text class=\"displacy-token\" fill=\"currentColor\" text-anchor=\"middle\" y=\"82.0\">\n    <tspan class=\"displacy-word\" fill=\"currentColor\" x=\"400\">word5</tspan>\n    <tspan class=\"displacy-tag\" dy=\"2em\" fill=\"currentColor\" x=\"400\">pos5</tspan>\n</text>\n\n<g class=\"displacy-arrow\">\n    <path class=\"displacy-arc\" id=\"arrow-91fa82487a9440719eaa71251a1497fc-0-0\" stroke-width=\"2px\" d=\"M70,37.0 C70,2.0 120.0,2.0 120.0,37.0\" fill=\"none\" stroke=\"currentColor\"/>\n    <text dy=\"1.25em\" style=\"font-size: 0.8em; letter-spacing: 1px\">\n        <textPath xlink:href=\"#arrow-91fa82487a9440719eaa71251a1497fc-0-0\" class=\"displacy-label\" startOffset=\"50%\" side=\"left\" fill=\"currentColor\" text-anchor=\"middle\">root</textPath>\n    </text>\n    <path class=\"displacy-arrowhead\" d=\"M120.0,39.0 L128.0,27.0 112.0,27.0\" fill=\"currentColor\"/>\n</g>\n\n<g class=\"displacy-arrow\">\n    <path class=\"displacy-arc\" id=\"arrow-91fa82487a9440719eaa71251a1497fc-0-1\" stroke-width=\"2px\" d=\"M140,37.0 C140,2.0 190.0,2.0 190.0,37.0\" fill=\"none\" stroke=\"currentColor\"/>\n    <text dy=\"1.25em\" style=\"font-size: 0.8em; letter-spacing: 1px\">\n        <textPath xlink:href=\"#arrow-91fa82487a9440719eaa71251a1497fc-0-1\" class=\"displacy-label\" startOffset=\"50%\" side=\"left\" fill=\"currentColor\" text-anchor=\"middle\">label1</textPath>\n    </text>\n    <path class=\"displacy-arrowhead\" d=\"M190.0,39.0 L198.0,27.0 182.0,27.0\" fill=\"currentColor\"/>\n</g>\n\n<g class=\"displacy-arrow\">\n    <path class=\"displacy-arc\" id=\"arrow-91fa82487a9440719eaa71251a1497fc-0-2\" stroke-width=\"2px\" d=\"M210,37.0 C210,2.0 260.0,2.0 260.0,37.0\" fill=\"none\" stroke=\"currentColor\"/>\n    <text dy=\"1.25em\" style=\"font-size: 0.8em; letter-spacing: 1px\">\n        <textPath xlink:href=\"#arrow-91fa82487a9440719eaa71251a1497fc-0-2\" class=\"displacy-label\" startOffset=\"50%\" side=\"left\" fill=\"currentColor\" text-anchor=\"middle\">label2</textPath>\n    </text>\n    <path class=\"displacy-arrowhead\" d=\"M260.0,39.0 L268.0,27.0 252.0,27.0\" fill=\"currentColor\"/>\n</g>\n\n<g class=\"displacy-arrow\">\n    <path class=\"displacy-arc\" id=\"arrow-91fa82487a9440719eaa71251a1497fc-0-3\" stroke-width=\"2px\" d=\"M280,37.0 C280,2.0 330.0,2.0 330.0,37.0\" fill=\"none\" stroke=\"currentColor\"/>\n    <text dy=\"1.25em\" style=\"font-size: 0.8em; letter-spacing: 1px\">\n        <textPath xlink:href=\"#arrow-91fa82487a9440719eaa71251a1497fc-0-3\" class=\"displacy-label\" startOffset=\"50%\" side=\"left\" fill=\"currentColor\" text-anchor=\"middle\">label3</textPath>\n    </text>\n    <path class=\"displacy-arrowhead\" d=\"M330.0,39.0 L338.0,27.0 322.0,27.0\" fill=\"currentColor\"/>\n</g>\n\n<g class=\"displacy-arrow\">\n    <path class=\"displacy-arc\" id=\"arrow-91fa82487a9440719eaa71251a1497fc-0-4\" stroke-width=\"2px\" d=\"M350,37.0 C350,2.0 400.0,2.0 400.0,37.0\" fill=\"none\" stroke=\"currentColor\"/>\n    <text dy=\"1.25em\" style=\"font-size: 0.8em; letter-spacing: 1px\">\n        <textPath xlink:href=\"#arrow-91fa82487a9440719eaa71251a1497fc-0-4\" class=\"displacy-label\" startOffset=\"50%\" side=\"left\" fill=\"currentColor\" text-anchor=\"middle\">label4</textPath>\n    </text>\n    <path class=\"displacy-arrowhead\" d=\"M400.0,39.0 L408.0,27.0 392.0,27.0\" fill=\"currentColor\"/>\n</g>\n</svg></span>"
     },
     "metadata": {},
     "output_type": "display_data"
    },
    {
     "name": "stdout",
     "output_type": "stream",
     "text": [
      "gold_dependencies: ['Arc(head_idx=0, dep_idx=1, label_id=0)', 'Arc(head_idx=1, dep_idx=2, label_id=6)', 'Arc(head_idx=2, dep_idx=3, label_id=7)', 'Arc(head_idx=3, dep_idx=4, label_id=8)', 'Arc(head_idx=4, dep_idx=5, label_id=9)']\n",
      "\n",
      "Step 1 | stack: ['<ROOT>']\tbuffer: ['word1', 'word2', 'word3', 'word4', 'word5']\n",
      "\tTesting get_gold_action(stack, buffer, gold_dependencies):\n",
      "\t\tYour Result: S\t\tCorrect Result: S\t\tCorrect!\n",
      "\n",
      "Step 2 | stack: ['<ROOT>', 'word1']\tbuffer: ['word2', 'word3', 'word4', 'word5']\n",
      "\tTesting get_gold_action(stack, buffer, gold_dependencies):\n",
      "\t\tYour Result: None\t\tCorrect Result: S\n",
      "\t\tIncorrect! Halting parse of this sentence.\n",
      "\n",
      "\n",
      "Test Sentence 4 failed.\n",
      "\n",
      "----------------------------------------------------------------------------------------------------\n",
      "\n",
      "gold_deps are: <__main__.Dependencies object at 0x7f9c3f647eb0>\n",
      "stack is :[\"Word(idx=0, word='<ROOT>', pos='<POS_ROOT>', word_id=72, pos_id=33)\"]\n",
      "buffer is :[\"Word(idx=1, word='word1', pos='pos1', word_id=64, pos_id=27)\", \"Word(idx=2, word='word2', pos='pos2', word_id=65, pos_id=28)\", \"Word(idx=3, word='word3', pos='pos3', word_id=66, pos_id=29)\", \"Word(idx=4, word='word4', pos='pos4', word_id=67, pos_id=30)\", \"Word(idx=5, word='word5', pos='pos5', word_id=68, pos_id=31)\"]\n",
      "s1 is: Word(idx=0, word='<ROOT>', pos='<POS_ROOT>', word_id=72, pos_id=33)\n",
      "s2 is: None\n",
      "\n",
      "len of buffer 5 > 0 and there is only root in the stack hence action = 'S'\n",
      "stack is :[\"Word(idx=0, word='<ROOT>', pos='<POS_ROOT>', word_id=72, pos_id=33)\", \"Word(idx=1, word='word1', pos='pos1', word_id=64, pos_id=27)\"]\n",
      "buffer is :[\"Word(idx=2, word='word2', pos='pos2', word_id=65, pos_id=28)\", \"Word(idx=3, word='word3', pos='pos3', word_id=66, pos_id=29)\", \"Word(idx=4, word='word4', pos='pos4', word_id=67, pos_id=30)\", \"Word(idx=5, word='word5', pos='pos5', word_id=68, pos_id=31)\"]\n",
      "s1 is: Word(idx=1, word='word1', pos='pos1', word_id=64, pos_id=27)\n",
      "s2 is: Word(idx=0, word='<ROOT>', pos='<POS_ROOT>', word_id=72, pos_id=33)\n",
      "\n",
      "len of buffer is greater than zero :4 and hence action = 'S'\n",
      "stack is :[\"Word(idx=0, word='<ROOT>', pos='<POS_ROOT>', word_id=72, pos_id=33)\", \"Word(idx=1, word='word1', pos='pos1', word_id=64, pos_id=27)\", \"Word(idx=2, word='word2', pos='pos2', word_id=65, pos_id=28)\"]\n",
      "buffer is :[\"Word(idx=3, word='word3', pos='pos3', word_id=66, pos_id=29)\", \"Word(idx=4, word='word4', pos='pos4', word_id=67, pos_id=30)\", \"Word(idx=5, word='word5', pos='pos5', word_id=68, pos_id=31)\"]\n",
      "s1 is: Word(idx=2, word='word2', pos='pos2', word_id=65, pos_id=28)\n",
      "s2 is: Word(idx=1, word='word1', pos='pos1', word_id=64, pos_id=27)\n",
      "\n",
      "arc_to_head in left action: Arc(head_idx=2, dep_idx=1, label_id=6)\n",
      "arc_to_head label in left action: label1\n",
      "stack is :[\"Word(idx=0, word='<ROOT>', pos='<POS_ROOT>', word_id=72, pos_id=33)\", \"Word(idx=2, word='word2', pos='pos2', word_id=65, pos_id=28)\"]\n",
      "buffer is :[\"Word(idx=3, word='word3', pos='pos3', word_id=66, pos_id=29)\", \"Word(idx=4, word='word4', pos='pos4', word_id=67, pos_id=30)\", \"Word(idx=5, word='word5', pos='pos5', word_id=68, pos_id=31)\"]\n",
      "s1 is: Word(idx=2, word='word2', pos='pos2', word_id=65, pos_id=28)\n",
      "s2 is: Word(idx=0, word='<ROOT>', pos='<POS_ROOT>', word_id=72, pos_id=33)\n",
      "\n",
      "len of buffer is greater than zero :3 and hence action = 'S'\n",
      "stack is :[\"Word(idx=0, word='<ROOT>', pos='<POS_ROOT>', word_id=72, pos_id=33)\", \"Word(idx=2, word='word2', pos='pos2', word_id=65, pos_id=28)\", \"Word(idx=3, word='word3', pos='pos3', word_id=66, pos_id=29)\"]\n",
      "buffer is :[\"Word(idx=4, word='word4', pos='pos4', word_id=67, pos_id=30)\", \"Word(idx=5, word='word5', pos='pos5', word_id=68, pos_id=31)\"]\n",
      "s1 is: Word(idx=3, word='word3', pos='pos3', word_id=66, pos_id=29)\n",
      "s2 is: Word(idx=2, word='word2', pos='pos2', word_id=65, pos_id=28)\n",
      "\n",
      "arc_to_head in left action: Arc(head_idx=3, dep_idx=2, label_id=7)\n",
      "arc_to_head label in left action: label2\n",
      "stack is :[\"Word(idx=0, word='<ROOT>', pos='<POS_ROOT>', word_id=72, pos_id=33)\", \"Word(idx=3, word='word3', pos='pos3', word_id=66, pos_id=29)\"]\n",
      "buffer is :[\"Word(idx=4, word='word4', pos='pos4', word_id=67, pos_id=30)\", \"Word(idx=5, word='word5', pos='pos5', word_id=68, pos_id=31)\"]\n",
      "s1 is: Word(idx=3, word='word3', pos='pos3', word_id=66, pos_id=29)\n",
      "s2 is: Word(idx=0, word='<ROOT>', pos='<POS_ROOT>', word_id=72, pos_id=33)\n",
      "\n",
      "len of buffer is greater than zero :2 and hence action = 'S'\n",
      "stack is :[\"Word(idx=0, word='<ROOT>', pos='<POS_ROOT>', word_id=72, pos_id=33)\", \"Word(idx=3, word='word3', pos='pos3', word_id=66, pos_id=29)\", \"Word(idx=4, word='word4', pos='pos4', word_id=67, pos_id=30)\"]\n",
      "buffer is :[\"Word(idx=5, word='word5', pos='pos5', word_id=68, pos_id=31)\"]\n",
      "s1 is: Word(idx=4, word='word4', pos='pos4', word_id=67, pos_id=30)\n",
      "s2 is: Word(idx=3, word='word3', pos='pos3', word_id=66, pos_id=29)\n",
      "\n",
      "arc_to_head in left action: Arc(head_idx=4, dep_idx=3, label_id=8)\n",
      "arc_to_head label in left action: label3\n",
      "stack is :[\"Word(idx=0, word='<ROOT>', pos='<POS_ROOT>', word_id=72, pos_id=33)\", \"Word(idx=4, word='word4', pos='pos4', word_id=67, pos_id=30)\"]\n",
      "buffer is :[\"Word(idx=5, word='word5', pos='pos5', word_id=68, pos_id=31)\"]\n",
      "s1 is: Word(idx=4, word='word4', pos='pos4', word_id=67, pos_id=30)\n",
      "s2 is: Word(idx=0, word='<ROOT>', pos='<POS_ROOT>', word_id=72, pos_id=33)\n",
      "\n",
      "len of buffer is greater than zero :1 and hence action = 'S'\n",
      "stack is :[\"Word(idx=0, word='<ROOT>', pos='<POS_ROOT>', word_id=72, pos_id=33)\", \"Word(idx=4, word='word4', pos='pos4', word_id=67, pos_id=30)\", \"Word(idx=5, word='word5', pos='pos5', word_id=68, pos_id=31)\"]\n",
      "buffer is :[]\n",
      "s1 is: Word(idx=5, word='word5', pos='pos5', word_id=68, pos_id=31)\n",
      "s2 is: Word(idx=4, word='word4', pos='pos4', word_id=67, pos_id=30)\n",
      "\n",
      "arc_to_head in left action: Arc(head_idx=5, dep_idx=4, label_id=9)\n",
      "arc_to_head label in left action: label4\n",
      "stack is :[\"Word(idx=0, word='<ROOT>', pos='<POS_ROOT>', word_id=72, pos_id=33)\", \"Word(idx=5, word='word5', pos='pos5', word_id=68, pos_id=31)\"]\n",
      "buffer is :[]\n",
      "s1 is: Word(idx=5, word='word5', pos='pos5', word_id=68, pos_id=31)\n",
      "s2 is: Word(idx=0, word='<ROOT>', pos='<POS_ROOT>', word_id=72, pos_id=33)\n",
      "\n",
      "stack is :[\"Word(idx=0, word='<ROOT>', pos='<POS_ROOT>', word_id=72, pos_id=33)\"]\n",
      "buffer is :[]\n",
      "s1 is: Word(idx=0, word='<ROOT>', pos='<POS_ROOT>', word_id=72, pos_id=33)\n",
      "s2 is: None\n",
      "\n",
      "len of buffer 0 == 0 and there is only root in the stack hence action = 'DONE'\n",
      "Testing Sentence 5...\n"
     ]
    },
    {
     "data": {
      "text/plain": "<IPython.core.display.HTML object>",
      "text/html": "<span class=\"tex2jax_ignore\"><svg xmlns=\"http://www.w3.org/2000/svg\" xmlns:xlink=\"http://www.w3.org/1999/xlink\" xml:lang=\"en\" id=\"bcb9cc9914094ef5a9bf5d6f6ecbc9cf-0\" class=\"displacy\" width=\"470\" height=\"207.0\" direction=\"ltr\" style=\"max-width: none; height: 207.0px; color: #000000; background: #ffffff; font-family: Arial; direction: ltr\">\n<text class=\"displacy-token\" fill=\"currentColor\" text-anchor=\"middle\" y=\"117.0\">\n    <tspan class=\"displacy-word\" fill=\"currentColor\" x=\"50\">&lt;ROOT&gt;</tspan>\n    <tspan class=\"displacy-tag\" dy=\"2em\" fill=\"currentColor\" x=\"50\">POS_ROOT</tspan>\n</text>\n\n<text class=\"displacy-token\" fill=\"currentColor\" text-anchor=\"middle\" y=\"117.0\">\n    <tspan class=\"displacy-word\" fill=\"currentColor\" x=\"120\">word1</tspan>\n    <tspan class=\"displacy-tag\" dy=\"2em\" fill=\"currentColor\" x=\"120\">pos1</tspan>\n</text>\n\n<text class=\"displacy-token\" fill=\"currentColor\" text-anchor=\"middle\" y=\"117.0\">\n    <tspan class=\"displacy-word\" fill=\"currentColor\" x=\"190\">word2</tspan>\n    <tspan class=\"displacy-tag\" dy=\"2em\" fill=\"currentColor\" x=\"190\">pos2</tspan>\n</text>\n\n<text class=\"displacy-token\" fill=\"currentColor\" text-anchor=\"middle\" y=\"117.0\">\n    <tspan class=\"displacy-word\" fill=\"currentColor\" x=\"260\">word3</tspan>\n    <tspan class=\"displacy-tag\" dy=\"2em\" fill=\"currentColor\" x=\"260\">pos3</tspan>\n</text>\n\n<text class=\"displacy-token\" fill=\"currentColor\" text-anchor=\"middle\" y=\"117.0\">\n    <tspan class=\"displacy-word\" fill=\"currentColor\" x=\"330\">word4</tspan>\n    <tspan class=\"displacy-tag\" dy=\"2em\" fill=\"currentColor\" x=\"330\">pos4</tspan>\n</text>\n\n<text class=\"displacy-token\" fill=\"currentColor\" text-anchor=\"middle\" y=\"117.0\">\n    <tspan class=\"displacy-word\" fill=\"currentColor\" x=\"400\">word5</tspan>\n    <tspan class=\"displacy-tag\" dy=\"2em\" fill=\"currentColor\" x=\"400\">pos5</tspan>\n</text>\n\n<g class=\"displacy-arrow\">\n    <path class=\"displacy-arc\" id=\"arrow-bcb9cc9914094ef5a9bf5d6f6ecbc9cf-0-0\" stroke-width=\"2px\" d=\"M140,72.0 C140,37.0 185.0,37.0 185.0,72.0\" fill=\"none\" stroke=\"currentColor\"/>\n    <text dy=\"1.25em\" style=\"font-size: 0.8em; letter-spacing: 1px\">\n        <textPath xlink:href=\"#arrow-bcb9cc9914094ef5a9bf5d6f6ecbc9cf-0-0\" class=\"displacy-label\" startOffset=\"50%\" side=\"left\" fill=\"currentColor\" text-anchor=\"middle\">label1</textPath>\n    </text>\n    <path class=\"displacy-arrowhead\" d=\"M140,74.0 L132,62.0 148,62.0\" fill=\"currentColor\"/>\n</g>\n\n<g class=\"displacy-arrow\">\n    <path class=\"displacy-arc\" id=\"arrow-bcb9cc9914094ef5a9bf5d6f6ecbc9cf-0-1\" stroke-width=\"2px\" d=\"M210,72.0 C210,37.0 255.0,37.0 255.0,72.0\" fill=\"none\" stroke=\"currentColor\"/>\n    <text dy=\"1.25em\" style=\"font-size: 0.8em; letter-spacing: 1px\">\n        <textPath xlink:href=\"#arrow-bcb9cc9914094ef5a9bf5d6f6ecbc9cf-0-1\" class=\"displacy-label\" startOffset=\"50%\" side=\"left\" fill=\"currentColor\" text-anchor=\"middle\">label2</textPath>\n    </text>\n    <path class=\"displacy-arrowhead\" d=\"M210,74.0 L202,62.0 218,62.0\" fill=\"currentColor\"/>\n</g>\n\n<g class=\"displacy-arrow\">\n    <path class=\"displacy-arc\" id=\"arrow-bcb9cc9914094ef5a9bf5d6f6ecbc9cf-0-2\" stroke-width=\"2px\" d=\"M280,72.0 C280,37.0 325.0,37.0 325.0,72.0\" fill=\"none\" stroke=\"currentColor\"/>\n    <text dy=\"1.25em\" style=\"font-size: 0.8em; letter-spacing: 1px\">\n        <textPath xlink:href=\"#arrow-bcb9cc9914094ef5a9bf5d6f6ecbc9cf-0-2\" class=\"displacy-label\" startOffset=\"50%\" side=\"left\" fill=\"currentColor\" text-anchor=\"middle\">label3</textPath>\n    </text>\n    <path class=\"displacy-arrowhead\" d=\"M280,74.0 L272,62.0 288,62.0\" fill=\"currentColor\"/>\n</g>\n\n<g class=\"displacy-arrow\">\n    <path class=\"displacy-arc\" id=\"arrow-bcb9cc9914094ef5a9bf5d6f6ecbc9cf-0-3\" stroke-width=\"2px\" d=\"M350,72.0 C350,37.0 395.0,37.0 395.0,72.0\" fill=\"none\" stroke=\"currentColor\"/>\n    <text dy=\"1.25em\" style=\"font-size: 0.8em; letter-spacing: 1px\">\n        <textPath xlink:href=\"#arrow-bcb9cc9914094ef5a9bf5d6f6ecbc9cf-0-3\" class=\"displacy-label\" startOffset=\"50%\" side=\"left\" fill=\"currentColor\" text-anchor=\"middle\">label4</textPath>\n    </text>\n    <path class=\"displacy-arrowhead\" d=\"M350,74.0 L342,62.0 358,62.0\" fill=\"currentColor\"/>\n</g>\n\n<g class=\"displacy-arrow\">\n    <path class=\"displacy-arc\" id=\"arrow-bcb9cc9914094ef5a9bf5d6f6ecbc9cf-0-4\" stroke-width=\"2px\" d=\"M70,72.0 C70,2.0 400.0,2.0 400.0,72.0\" fill=\"none\" stroke=\"currentColor\"/>\n    <text dy=\"1.25em\" style=\"font-size: 0.8em; letter-spacing: 1px\">\n        <textPath xlink:href=\"#arrow-bcb9cc9914094ef5a9bf5d6f6ecbc9cf-0-4\" class=\"displacy-label\" startOffset=\"50%\" side=\"left\" fill=\"currentColor\" text-anchor=\"middle\">root</textPath>\n    </text>\n    <path class=\"displacy-arrowhead\" d=\"M400.0,74.0 L408.0,62.0 392.0,62.0\" fill=\"currentColor\"/>\n</g>\n</svg></span>"
     },
     "metadata": {},
     "output_type": "display_data"
    },
    {
     "name": "stdout",
     "output_type": "stream",
     "text": [
      "gold_dependencies: ['Arc(head_idx=2, dep_idx=1, label_id=6)', 'Arc(head_idx=3, dep_idx=2, label_id=7)', 'Arc(head_idx=4, dep_idx=3, label_id=8)', 'Arc(head_idx=5, dep_idx=4, label_id=9)', 'Arc(head_idx=0, dep_idx=5, label_id=0)']\n",
      "\n",
      "Step 1 | stack: ['<ROOT>']\tbuffer: ['word1', 'word2', 'word3', 'word4', 'word5']\n",
      "\tTesting get_gold_action(stack, buffer, gold_dependencies):\n",
      "\t\tYour Result: S\t\tCorrect Result: S\t\tCorrect!\n",
      "\n",
      "Step 2 | stack: ['<ROOT>', 'word1']\tbuffer: ['word2', 'word3', 'word4', 'word5']\n",
      "\tTesting get_gold_action(stack, buffer, gold_dependencies):\n",
      "\t\tYour Result: S\t\tCorrect Result: S\t\tCorrect!\n",
      "\n",
      "Step 3 | stack: ['<ROOT>', 'word1', 'word2']\tbuffer: ['word3', 'word4', 'word5']\n",
      "\tTesting get_gold_action(stack, buffer, gold_dependencies):\n",
      "\t\tYour Result: LA-label1\t\tCorrect Result: LA-label1\t\tCorrect!\n",
      "\n",
      "Step 4 | stack: ['<ROOT>', 'word2']\tbuffer: ['word3', 'word4', 'word5']\n",
      "\tTesting get_gold_action(stack, buffer, gold_dependencies):\n",
      "\t\tYour Result: S\t\tCorrect Result: S\t\tCorrect!\n",
      "\n",
      "Step 5 | stack: ['<ROOT>', 'word2', 'word3']\tbuffer: ['word4', 'word5']\n",
      "\tTesting get_gold_action(stack, buffer, gold_dependencies):\n",
      "\t\tYour Result: LA-label2\t\tCorrect Result: LA-label2\t\tCorrect!\n",
      "\n",
      "Step 6 | stack: ['<ROOT>', 'word3']\tbuffer: ['word4', 'word5']\n",
      "\tTesting get_gold_action(stack, buffer, gold_dependencies):\n",
      "\t\tYour Result: S\t\tCorrect Result: S\t\tCorrect!\n",
      "\n",
      "Step 7 | stack: ['<ROOT>', 'word3', 'word4']\tbuffer: ['word5']\n",
      "\tTesting get_gold_action(stack, buffer, gold_dependencies):\n",
      "\t\tYour Result: LA-label3\t\tCorrect Result: LA-label3\t\tCorrect!\n",
      "\n",
      "Step 8 | stack: ['<ROOT>', 'word4']\tbuffer: ['word5']\n",
      "\tTesting get_gold_action(stack, buffer, gold_dependencies):\n",
      "\t\tYour Result: S\t\tCorrect Result: S\t\tCorrect!\n",
      "\n",
      "Step 9 | stack: ['<ROOT>', 'word4', 'word5']\tbuffer: []\n",
      "\tTesting get_gold_action(stack, buffer, gold_dependencies):\n",
      "\t\tYour Result: LA-label4\t\tCorrect Result: LA-label4\t\tCorrect!\n",
      "\n",
      "Step 10 | stack: ['<ROOT>', 'word5']\tbuffer: []\n",
      "\tTesting get_gold_action(stack, buffer, gold_dependencies):\n",
      "\t\tYour Result: RA-root\t\tCorrect Result: RA-root\t\tCorrect!\n",
      "\n",
      "Step 11 | stack: ['<ROOT>']\tbuffer: []\n",
      "\tTesting get_gold_action(stack, buffer, gold_dependencies):\n",
      "\t\tYour Result: DONE\t\tCorrect Result: DONE\t\tCorrect!\n",
      "\n",
      "\n",
      "Test Sentence 5 passed!\n",
      "\n",
      "----------------------------------------------------------------------------------------------------\n",
      "\n",
      "gold_deps are: <__main__.Dependencies object at 0x7f9c3f647220>\n",
      "stack is :[\"Word(idx=0, word='<ROOT>', pos='<POS_ROOT>', word_id=72, pos_id=33)\"]\n",
      "buffer is :[\"Word(idx=1, word='word1', pos='JJ', word_id=64, pos_id=22)\", \"Word(idx=2, word='word2', pos='NN', word_id=65, pos_id=23)\", \"Word(idx=3, word='word3', pos='VBD', word_id=66, pos_id=26)\", \"Word(idx=4, word='word4', pos='JJ', word_id=67, pos_id=22)\", \"Word(idx=5, word='word5', pos='NN', word_id=68, pos_id=23)\"]\n",
      "s1 is: Word(idx=0, word='<ROOT>', pos='<POS_ROOT>', word_id=72, pos_id=33)\n",
      "s2 is: None\n",
      "\n",
      "len of buffer 5 > 0 and there is only root in the stack hence action = 'S'\n",
      "stack is :[\"Word(idx=0, word='<ROOT>', pos='<POS_ROOT>', word_id=72, pos_id=33)\", \"Word(idx=1, word='word1', pos='JJ', word_id=64, pos_id=22)\"]\n",
      "buffer is :[\"Word(idx=2, word='word2', pos='NN', word_id=65, pos_id=23)\", \"Word(idx=3, word='word3', pos='VBD', word_id=66, pos_id=26)\", \"Word(idx=4, word='word4', pos='JJ', word_id=67, pos_id=22)\", \"Word(idx=5, word='word5', pos='NN', word_id=68, pos_id=23)\"]\n",
      "s1 is: Word(idx=1, word='word1', pos='JJ', word_id=64, pos_id=22)\n",
      "s2 is: Word(idx=0, word='<ROOT>', pos='<POS_ROOT>', word_id=72, pos_id=33)\n",
      "\n",
      "len of buffer is greater than zero :4 and hence action = 'S'\n",
      "stack is :[\"Word(idx=0, word='<ROOT>', pos='<POS_ROOT>', word_id=72, pos_id=33)\", \"Word(idx=1, word='word1', pos='JJ', word_id=64, pos_id=22)\", \"Word(idx=2, word='word2', pos='NN', word_id=65, pos_id=23)\"]\n",
      "buffer is :[\"Word(idx=3, word='word3', pos='VBD', word_id=66, pos_id=26)\", \"Word(idx=4, word='word4', pos='JJ', word_id=67, pos_id=22)\", \"Word(idx=5, word='word5', pos='NN', word_id=68, pos_id=23)\"]\n",
      "s1 is: Word(idx=2, word='word2', pos='NN', word_id=65, pos_id=23)\n",
      "s2 is: Word(idx=1, word='word1', pos='JJ', word_id=64, pos_id=22)\n",
      "\n",
      "len of buffer is greater than zero :3 and hence action = 'S'\n",
      "stack is :[\"Word(idx=0, word='<ROOT>', pos='<POS_ROOT>', word_id=72, pos_id=33)\", \"Word(idx=1, word='word1', pos='JJ', word_id=64, pos_id=22)\", \"Word(idx=2, word='word2', pos='NN', word_id=65, pos_id=23)\", \"Word(idx=3, word='word3', pos='VBD', word_id=66, pos_id=26)\"]\n",
      "buffer is :[\"Word(idx=4, word='word4', pos='JJ', word_id=67, pos_id=22)\", \"Word(idx=5, word='word5', pos='NN', word_id=68, pos_id=23)\"]\n",
      "s1 is: Word(idx=3, word='word3', pos='VBD', word_id=66, pos_id=26)\n",
      "s2 is: Word(idx=2, word='word2', pos='NN', word_id=65, pos_id=23)\n",
      "\n",
      "arc_to_head in left action: Arc(head_idx=3, dep_idx=2, label_id=7)\n",
      "arc_to_head label in left action: label2\n",
      "stack is :[\"Word(idx=0, word='<ROOT>', pos='<POS_ROOT>', word_id=72, pos_id=33)\", \"Word(idx=1, word='word1', pos='JJ', word_id=64, pos_id=22)\", \"Word(idx=3, word='word3', pos='VBD', word_id=66, pos_id=26)\"]\n",
      "buffer is :[\"Word(idx=4, word='word4', pos='JJ', word_id=67, pos_id=22)\", \"Word(idx=5, word='word5', pos='NN', word_id=68, pos_id=23)\"]\n",
      "s1 is: Word(idx=3, word='word3', pos='VBD', word_id=66, pos_id=26)\n",
      "s2 is: Word(idx=1, word='word1', pos='JJ', word_id=64, pos_id=22)\n",
      "\n",
      "arc_to_head in left action: Arc(head_idx=3, dep_idx=1, label_id=6)\n",
      "arc_to_head label in left action: label1\n",
      "stack is :[\"Word(idx=0, word='<ROOT>', pos='<POS_ROOT>', word_id=72, pos_id=33)\", \"Word(idx=3, word='word3', pos='VBD', word_id=66, pos_id=26)\"]\n",
      "buffer is :[\"Word(idx=4, word='word4', pos='JJ', word_id=67, pos_id=22)\", \"Word(idx=5, word='word5', pos='NN', word_id=68, pos_id=23)\"]\n",
      "s1 is: Word(idx=3, word='word3', pos='VBD', word_id=66, pos_id=26)\n",
      "s2 is: Word(idx=0, word='<ROOT>', pos='<POS_ROOT>', word_id=72, pos_id=33)\n",
      "\n",
      "Testing Sentence 6...\n"
     ]
    },
    {
     "data": {
      "text/plain": "<IPython.core.display.HTML object>",
      "text/html": "<span class=\"tex2jax_ignore\"><svg xmlns=\"http://www.w3.org/2000/svg\" xmlns:xlink=\"http://www.w3.org/1999/xlink\" xml:lang=\"en\" id=\"7825cb2d7cb54a2daf3e5fa94fe44fad-0\" class=\"displacy\" width=\"470\" height=\"242.0\" direction=\"ltr\" style=\"max-width: none; height: 242.0px; color: #000000; background: #ffffff; font-family: Arial; direction: ltr\">\n<text class=\"displacy-token\" fill=\"currentColor\" text-anchor=\"middle\" y=\"152.0\">\n    <tspan class=\"displacy-word\" fill=\"currentColor\" x=\"50\">&lt;ROOT&gt;</tspan>\n    <tspan class=\"displacy-tag\" dy=\"2em\" fill=\"currentColor\" x=\"50\">POS_ROOT</tspan>\n</text>\n\n<text class=\"displacy-token\" fill=\"currentColor\" text-anchor=\"middle\" y=\"152.0\">\n    <tspan class=\"displacy-word\" fill=\"currentColor\" x=\"120\">word1</tspan>\n    <tspan class=\"displacy-tag\" dy=\"2em\" fill=\"currentColor\" x=\"120\">JJ</tspan>\n</text>\n\n<text class=\"displacy-token\" fill=\"currentColor\" text-anchor=\"middle\" y=\"152.0\">\n    <tspan class=\"displacy-word\" fill=\"currentColor\" x=\"190\">word2</tspan>\n    <tspan class=\"displacy-tag\" dy=\"2em\" fill=\"currentColor\" x=\"190\">NN</tspan>\n</text>\n\n<text class=\"displacy-token\" fill=\"currentColor\" text-anchor=\"middle\" y=\"152.0\">\n    <tspan class=\"displacy-word\" fill=\"currentColor\" x=\"260\">word3</tspan>\n    <tspan class=\"displacy-tag\" dy=\"2em\" fill=\"currentColor\" x=\"260\">VBD</tspan>\n</text>\n\n<text class=\"displacy-token\" fill=\"currentColor\" text-anchor=\"middle\" y=\"152.0\">\n    <tspan class=\"displacy-word\" fill=\"currentColor\" x=\"330\">word4</tspan>\n    <tspan class=\"displacy-tag\" dy=\"2em\" fill=\"currentColor\" x=\"330\">JJ</tspan>\n</text>\n\n<text class=\"displacy-token\" fill=\"currentColor\" text-anchor=\"middle\" y=\"152.0\">\n    <tspan class=\"displacy-word\" fill=\"currentColor\" x=\"400\">word5</tspan>\n    <tspan class=\"displacy-tag\" dy=\"2em\" fill=\"currentColor\" x=\"400\">NN</tspan>\n</text>\n\n<g class=\"displacy-arrow\">\n    <path class=\"displacy-arc\" id=\"arrow-7825cb2d7cb54a2daf3e5fa94fe44fad-0-0\" stroke-width=\"2px\" d=\"M140,107.0 C140,37.0 255.0,37.0 255.0,107.0\" fill=\"none\" stroke=\"currentColor\"/>\n    <text dy=\"1.25em\" style=\"font-size: 0.8em; letter-spacing: 1px\">\n        <textPath xlink:href=\"#arrow-7825cb2d7cb54a2daf3e5fa94fe44fad-0-0\" class=\"displacy-label\" startOffset=\"50%\" side=\"left\" fill=\"currentColor\" text-anchor=\"middle\">label1</textPath>\n    </text>\n    <path class=\"displacy-arrowhead\" d=\"M140,109.0 L132,97.0 148,97.0\" fill=\"currentColor\"/>\n</g>\n\n<g class=\"displacy-arrow\">\n    <path class=\"displacy-arc\" id=\"arrow-7825cb2d7cb54a2daf3e5fa94fe44fad-0-1\" stroke-width=\"2px\" d=\"M210,107.0 C210,72.0 250.0,72.0 250.0,107.0\" fill=\"none\" stroke=\"currentColor\"/>\n    <text dy=\"1.25em\" style=\"font-size: 0.8em; letter-spacing: 1px\">\n        <textPath xlink:href=\"#arrow-7825cb2d7cb54a2daf3e5fa94fe44fad-0-1\" class=\"displacy-label\" startOffset=\"50%\" side=\"left\" fill=\"currentColor\" text-anchor=\"middle\">label2</textPath>\n    </text>\n    <path class=\"displacy-arrowhead\" d=\"M210,109.0 L202,97.0 218,97.0\" fill=\"currentColor\"/>\n</g>\n\n<g class=\"displacy-arrow\">\n    <path class=\"displacy-arc\" id=\"arrow-7825cb2d7cb54a2daf3e5fa94fe44fad-0-2\" stroke-width=\"2px\" d=\"M70,107.0 C70,2.0 260.0,2.0 260.0,107.0\" fill=\"none\" stroke=\"currentColor\"/>\n    <text dy=\"1.25em\" style=\"font-size: 0.8em; letter-spacing: 1px\">\n        <textPath xlink:href=\"#arrow-7825cb2d7cb54a2daf3e5fa94fe44fad-0-2\" class=\"displacy-label\" startOffset=\"50%\" side=\"left\" fill=\"currentColor\" text-anchor=\"middle\">root</textPath>\n    </text>\n    <path class=\"displacy-arrowhead\" d=\"M260.0,109.0 L268.0,97.0 252.0,97.0\" fill=\"currentColor\"/>\n</g>\n\n<g class=\"displacy-arrow\">\n    <path class=\"displacy-arc\" id=\"arrow-7825cb2d7cb54a2daf3e5fa94fe44fad-0-3\" stroke-width=\"2px\" d=\"M280,107.0 C280,72.0 320.0,72.0 320.0,107.0\" fill=\"none\" stroke=\"currentColor\"/>\n    <text dy=\"1.25em\" style=\"font-size: 0.8em; letter-spacing: 1px\">\n        <textPath xlink:href=\"#arrow-7825cb2d7cb54a2daf3e5fa94fe44fad-0-3\" class=\"displacy-label\" startOffset=\"50%\" side=\"left\" fill=\"currentColor\" text-anchor=\"middle\">label3</textPath>\n    </text>\n    <path class=\"displacy-arrowhead\" d=\"M320.0,109.0 L328.0,97.0 312.0,97.0\" fill=\"currentColor\"/>\n</g>\n\n<g class=\"displacy-arrow\">\n    <path class=\"displacy-arc\" id=\"arrow-7825cb2d7cb54a2daf3e5fa94fe44fad-0-4\" stroke-width=\"2px\" d=\"M280,107.0 C280,37.0 395.0,37.0 395.0,107.0\" fill=\"none\" stroke=\"currentColor\"/>\n    <text dy=\"1.25em\" style=\"font-size: 0.8em; letter-spacing: 1px\">\n        <textPath xlink:href=\"#arrow-7825cb2d7cb54a2daf3e5fa94fe44fad-0-4\" class=\"displacy-label\" startOffset=\"50%\" side=\"left\" fill=\"currentColor\" text-anchor=\"middle\">label4</textPath>\n    </text>\n    <path class=\"displacy-arrowhead\" d=\"M395.0,109.0 L403.0,97.0 387.0,97.0\" fill=\"currentColor\"/>\n</g>\n</svg></span>"
     },
     "metadata": {},
     "output_type": "display_data"
    },
    {
     "name": "stdout",
     "output_type": "stream",
     "text": [
      "gold_dependencies: ['Arc(head_idx=3, dep_idx=1, label_id=6)', 'Arc(head_idx=3, dep_idx=2, label_id=7)', 'Arc(head_idx=0, dep_idx=3, label_id=0)', 'Arc(head_idx=3, dep_idx=4, label_id=8)', 'Arc(head_idx=3, dep_idx=5, label_id=9)']\n",
      "\n",
      "Step 1 | stack: ['<ROOT>']\tbuffer: ['word1', 'word2', 'word3', 'word4', 'word5']\n",
      "\tTesting get_gold_action(stack, buffer, gold_dependencies):\n",
      "\t\tYour Result: S\t\tCorrect Result: S\t\tCorrect!\n",
      "\n",
      "Step 2 | stack: ['<ROOT>', 'word1']\tbuffer: ['word2', 'word3', 'word4', 'word5']\n",
      "\tTesting get_gold_action(stack, buffer, gold_dependencies):\n",
      "\t\tYour Result: S\t\tCorrect Result: S\t\tCorrect!\n",
      "\n",
      "Step 3 | stack: ['<ROOT>', 'word1', 'word2']\tbuffer: ['word3', 'word4', 'word5']\n",
      "\tTesting get_gold_action(stack, buffer, gold_dependencies):\n",
      "\t\tYour Result: S\t\tCorrect Result: S\t\tCorrect!\n",
      "\n",
      "Step 4 | stack: ['<ROOT>', 'word1', 'word2', 'word3']\tbuffer: ['word4', 'word5']\n",
      "\tTesting get_gold_action(stack, buffer, gold_dependencies):\n",
      "\t\tYour Result: LA-label2\t\tCorrect Result: LA-label2\t\tCorrect!\n",
      "\n",
      "Step 5 | stack: ['<ROOT>', 'word1', 'word3']\tbuffer: ['word4', 'word5']\n",
      "\tTesting get_gold_action(stack, buffer, gold_dependencies):\n",
      "\t\tYour Result: LA-label1\t\tCorrect Result: LA-label1\t\tCorrect!\n",
      "\n",
      "Step 6 | stack: ['<ROOT>', 'word3']\tbuffer: ['word4', 'word5']\n",
      "\tTesting get_gold_action(stack, buffer, gold_dependencies):\n",
      "\t\tYour Result: None\t\tCorrect Result: S\n",
      "\t\tIncorrect! Halting parse of this sentence.\n",
      "\n",
      "\n",
      "Test Sentence 6 failed.\n",
      "\n",
      "----------------------------------------------------------------------------------------------------\n",
      "\n",
      "gold_deps are: <__main__.Dependencies object at 0x7f9c3f52f160>\n",
      "stack is :[\"Word(idx=0, word='<ROOT>', pos='<POS_ROOT>', word_id=72, pos_id=33)\"]\n",
      "buffer is :[\"Word(idx=1, word='word1', pos='pos1', word_id=64, pos_id=27)\", \"Word(idx=2, word='word2', pos='pos2', word_id=65, pos_id=28)\", \"Word(idx=3, word='word3', pos='pos3', word_id=66, pos_id=29)\", \"Word(idx=4, word='word4', pos='pos4', word_id=67, pos_id=30)\", \"Word(idx=5, word='word5', pos='pos5', word_id=68, pos_id=31)\"]\n",
      "s1 is: Word(idx=0, word='<ROOT>', pos='<POS_ROOT>', word_id=72, pos_id=33)\n",
      "s2 is: None\n",
      "\n",
      "len of buffer 5 > 0 and there is only root in the stack hence action = 'S'\n",
      "stack is :[\"Word(idx=0, word='<ROOT>', pos='<POS_ROOT>', word_id=72, pos_id=33)\", \"Word(idx=1, word='word1', pos='pos1', word_id=64, pos_id=27)\"]\n",
      "buffer is :[\"Word(idx=2, word='word2', pos='pos2', word_id=65, pos_id=28)\", \"Word(idx=3, word='word3', pos='pos3', word_id=66, pos_id=29)\", \"Word(idx=4, word='word4', pos='pos4', word_id=67, pos_id=30)\", \"Word(idx=5, word='word5', pos='pos5', word_id=68, pos_id=31)\"]\n",
      "s1 is: Word(idx=1, word='word1', pos='pos1', word_id=64, pos_id=27)\n",
      "s2 is: Word(idx=0, word='<ROOT>', pos='<POS_ROOT>', word_id=72, pos_id=33)\n",
      "\n",
      "len of buffer is greater than zero :4 and hence action = 'S'\n",
      "stack is :[\"Word(idx=0, word='<ROOT>', pos='<POS_ROOT>', word_id=72, pos_id=33)\", \"Word(idx=1, word='word1', pos='pos1', word_id=64, pos_id=27)\", \"Word(idx=2, word='word2', pos='pos2', word_id=65, pos_id=28)\"]\n",
      "buffer is :[\"Word(idx=3, word='word3', pos='pos3', word_id=66, pos_id=29)\", \"Word(idx=4, word='word4', pos='pos4', word_id=67, pos_id=30)\", \"Word(idx=5, word='word5', pos='pos5', word_id=68, pos_id=31)\"]\n",
      "s1 is: Word(idx=2, word='word2', pos='pos2', word_id=65, pos_id=28)\n",
      "s2 is: Word(idx=1, word='word1', pos='pos1', word_id=64, pos_id=27)\n",
      "\n",
      "arc_to_head in left action: Arc(head_idx=2, dep_idx=1, label_id=6)\n",
      "arc_to_head label in left action: label1\n",
      "stack is :[\"Word(idx=0, word='<ROOT>', pos='<POS_ROOT>', word_id=72, pos_id=33)\", \"Word(idx=2, word='word2', pos='pos2', word_id=65, pos_id=28)\"]\n",
      "buffer is :[\"Word(idx=3, word='word3', pos='pos3', word_id=66, pos_id=29)\", \"Word(idx=4, word='word4', pos='pos4', word_id=67, pos_id=30)\", \"Word(idx=5, word='word5', pos='pos5', word_id=68, pos_id=31)\"]\n",
      "s1 is: Word(idx=2, word='word2', pos='pos2', word_id=65, pos_id=28)\n",
      "s2 is: Word(idx=0, word='<ROOT>', pos='<POS_ROOT>', word_id=72, pos_id=33)\n",
      "\n",
      "len of buffer is greater than zero :3 and hence action = 'S'\n",
      "stack is :[\"Word(idx=0, word='<ROOT>', pos='<POS_ROOT>', word_id=72, pos_id=33)\", \"Word(idx=2, word='word2', pos='pos2', word_id=65, pos_id=28)\", \"Word(idx=3, word='word3', pos='pos3', word_id=66, pos_id=29)\"]\n",
      "buffer is :[\"Word(idx=4, word='word4', pos='pos4', word_id=67, pos_id=30)\", \"Word(idx=5, word='word5', pos='pos5', word_id=68, pos_id=31)\"]\n",
      "s1 is: Word(idx=3, word='word3', pos='pos3', word_id=66, pos_id=29)\n",
      "s2 is: Word(idx=2, word='word2', pos='pos2', word_id=65, pos_id=28)\n",
      "\n",
      "arc_to_head in left action: Arc(head_idx=3, dep_idx=2, label_id=7)\n",
      "arc_to_head label in left action: label2\n",
      "stack is :[\"Word(idx=0, word='<ROOT>', pos='<POS_ROOT>', word_id=72, pos_id=33)\", \"Word(idx=3, word='word3', pos='pos3', word_id=66, pos_id=29)\"]\n",
      "buffer is :[\"Word(idx=4, word='word4', pos='pos4', word_id=67, pos_id=30)\", \"Word(idx=5, word='word5', pos='pos5', word_id=68, pos_id=31)\"]\n",
      "s1 is: Word(idx=3, word='word3', pos='pos3', word_id=66, pos_id=29)\n",
      "s2 is: Word(idx=0, word='<ROOT>', pos='<POS_ROOT>', word_id=72, pos_id=33)\n",
      "\n",
      "Testing Sentence 7...\n"
     ]
    },
    {
     "data": {
      "text/plain": "<IPython.core.display.HTML object>",
      "text/html": "<span class=\"tex2jax_ignore\"><svg xmlns=\"http://www.w3.org/2000/svg\" xmlns:xlink=\"http://www.w3.org/1999/xlink\" xml:lang=\"en\" id=\"f7079a8a9c1148d89973696dee1a7095-0\" class=\"displacy\" width=\"470\" height=\"207.0\" direction=\"ltr\" style=\"max-width: none; height: 207.0px; color: #000000; background: #ffffff; font-family: Arial; direction: ltr\">\n<text class=\"displacy-token\" fill=\"currentColor\" text-anchor=\"middle\" y=\"117.0\">\n    <tspan class=\"displacy-word\" fill=\"currentColor\" x=\"50\">&lt;ROOT&gt;</tspan>\n    <tspan class=\"displacy-tag\" dy=\"2em\" fill=\"currentColor\" x=\"50\">POS_ROOT</tspan>\n</text>\n\n<text class=\"displacy-token\" fill=\"currentColor\" text-anchor=\"middle\" y=\"117.0\">\n    <tspan class=\"displacy-word\" fill=\"currentColor\" x=\"120\">word1</tspan>\n    <tspan class=\"displacy-tag\" dy=\"2em\" fill=\"currentColor\" x=\"120\">pos1</tspan>\n</text>\n\n<text class=\"displacy-token\" fill=\"currentColor\" text-anchor=\"middle\" y=\"117.0\">\n    <tspan class=\"displacy-word\" fill=\"currentColor\" x=\"190\">word2</tspan>\n    <tspan class=\"displacy-tag\" dy=\"2em\" fill=\"currentColor\" x=\"190\">pos2</tspan>\n</text>\n\n<text class=\"displacy-token\" fill=\"currentColor\" text-anchor=\"middle\" y=\"117.0\">\n    <tspan class=\"displacy-word\" fill=\"currentColor\" x=\"260\">word3</tspan>\n    <tspan class=\"displacy-tag\" dy=\"2em\" fill=\"currentColor\" x=\"260\">pos3</tspan>\n</text>\n\n<text class=\"displacy-token\" fill=\"currentColor\" text-anchor=\"middle\" y=\"117.0\">\n    <tspan class=\"displacy-word\" fill=\"currentColor\" x=\"330\">word4</tspan>\n    <tspan class=\"displacy-tag\" dy=\"2em\" fill=\"currentColor\" x=\"330\">pos4</tspan>\n</text>\n\n<text class=\"displacy-token\" fill=\"currentColor\" text-anchor=\"middle\" y=\"117.0\">\n    <tspan class=\"displacy-word\" fill=\"currentColor\" x=\"400\">word5</tspan>\n    <tspan class=\"displacy-tag\" dy=\"2em\" fill=\"currentColor\" x=\"400\">pos5</tspan>\n</text>\n\n<g class=\"displacy-arrow\">\n    <path class=\"displacy-arc\" id=\"arrow-f7079a8a9c1148d89973696dee1a7095-0-0\" stroke-width=\"2px\" d=\"M140,72.0 C140,37.0 185.0,37.0 185.0,72.0\" fill=\"none\" stroke=\"currentColor\"/>\n    <text dy=\"1.25em\" style=\"font-size: 0.8em; letter-spacing: 1px\">\n        <textPath xlink:href=\"#arrow-f7079a8a9c1148d89973696dee1a7095-0-0\" class=\"displacy-label\" startOffset=\"50%\" side=\"left\" fill=\"currentColor\" text-anchor=\"middle\">label1</textPath>\n    </text>\n    <path class=\"displacy-arrowhead\" d=\"M140,74.0 L132,62.0 148,62.0\" fill=\"currentColor\"/>\n</g>\n\n<g class=\"displacy-arrow\">\n    <path class=\"displacy-arc\" id=\"arrow-f7079a8a9c1148d89973696dee1a7095-0-1\" stroke-width=\"2px\" d=\"M210,72.0 C210,37.0 255.0,37.0 255.0,72.0\" fill=\"none\" stroke=\"currentColor\"/>\n    <text dy=\"1.25em\" style=\"font-size: 0.8em; letter-spacing: 1px\">\n        <textPath xlink:href=\"#arrow-f7079a8a9c1148d89973696dee1a7095-0-1\" class=\"displacy-label\" startOffset=\"50%\" side=\"left\" fill=\"currentColor\" text-anchor=\"middle\">label2</textPath>\n    </text>\n    <path class=\"displacy-arrowhead\" d=\"M210,74.0 L202,62.0 218,62.0\" fill=\"currentColor\"/>\n</g>\n\n<g class=\"displacy-arrow\">\n    <path class=\"displacy-arc\" id=\"arrow-f7079a8a9c1148d89973696dee1a7095-0-2\" stroke-width=\"2px\" d=\"M70,72.0 C70,2.0 260.0,2.0 260.0,72.0\" fill=\"none\" stroke=\"currentColor\"/>\n    <text dy=\"1.25em\" style=\"font-size: 0.8em; letter-spacing: 1px\">\n        <textPath xlink:href=\"#arrow-f7079a8a9c1148d89973696dee1a7095-0-2\" class=\"displacy-label\" startOffset=\"50%\" side=\"left\" fill=\"currentColor\" text-anchor=\"middle\">root</textPath>\n    </text>\n    <path class=\"displacy-arrowhead\" d=\"M260.0,74.0 L268.0,62.0 252.0,62.0\" fill=\"currentColor\"/>\n</g>\n\n<g class=\"displacy-arrow\">\n    <path class=\"displacy-arc\" id=\"arrow-f7079a8a9c1148d89973696dee1a7095-0-3\" stroke-width=\"2px\" d=\"M280,72.0 C280,37.0 325.0,37.0 325.0,72.0\" fill=\"none\" stroke=\"currentColor\"/>\n    <text dy=\"1.25em\" style=\"font-size: 0.8em; letter-spacing: 1px\">\n        <textPath xlink:href=\"#arrow-f7079a8a9c1148d89973696dee1a7095-0-3\" class=\"displacy-label\" startOffset=\"50%\" side=\"left\" fill=\"currentColor\" text-anchor=\"middle\">label3</textPath>\n    </text>\n    <path class=\"displacy-arrowhead\" d=\"M325.0,74.0 L333.0,62.0 317.0,62.0\" fill=\"currentColor\"/>\n</g>\n\n<g class=\"displacy-arrow\">\n    <path class=\"displacy-arc\" id=\"arrow-f7079a8a9c1148d89973696dee1a7095-0-4\" stroke-width=\"2px\" d=\"M350,72.0 C350,37.0 395.0,37.0 395.0,72.0\" fill=\"none\" stroke=\"currentColor\"/>\n    <text dy=\"1.25em\" style=\"font-size: 0.8em; letter-spacing: 1px\">\n        <textPath xlink:href=\"#arrow-f7079a8a9c1148d89973696dee1a7095-0-4\" class=\"displacy-label\" startOffset=\"50%\" side=\"left\" fill=\"currentColor\" text-anchor=\"middle\">label4</textPath>\n    </text>\n    <path class=\"displacy-arrowhead\" d=\"M395.0,74.0 L403.0,62.0 387.0,62.0\" fill=\"currentColor\"/>\n</g>\n</svg></span>"
     },
     "metadata": {},
     "output_type": "display_data"
    },
    {
     "name": "stdout",
     "output_type": "stream",
     "text": [
      "gold_dependencies: ['Arc(head_idx=2, dep_idx=1, label_id=6)', 'Arc(head_idx=3, dep_idx=2, label_id=7)', 'Arc(head_idx=0, dep_idx=3, label_id=0)', 'Arc(head_idx=3, dep_idx=4, label_id=8)', 'Arc(head_idx=4, dep_idx=5, label_id=9)']\n",
      "\n",
      "Step 1 | stack: ['<ROOT>']\tbuffer: ['word1', 'word2', 'word3', 'word4', 'word5']\n",
      "\tTesting get_gold_action(stack, buffer, gold_dependencies):\n",
      "\t\tYour Result: S\t\tCorrect Result: S\t\tCorrect!\n",
      "\n",
      "Step 2 | stack: ['<ROOT>', 'word1']\tbuffer: ['word2', 'word3', 'word4', 'word5']\n",
      "\tTesting get_gold_action(stack, buffer, gold_dependencies):\n",
      "\t\tYour Result: S\t\tCorrect Result: S\t\tCorrect!\n",
      "\n",
      "Step 3 | stack: ['<ROOT>', 'word1', 'word2']\tbuffer: ['word3', 'word4', 'word5']\n",
      "\tTesting get_gold_action(stack, buffer, gold_dependencies):\n",
      "\t\tYour Result: LA-label1\t\tCorrect Result: LA-label1\t\tCorrect!\n",
      "\n",
      "Step 4 | stack: ['<ROOT>', 'word2']\tbuffer: ['word3', 'word4', 'word5']\n",
      "\tTesting get_gold_action(stack, buffer, gold_dependencies):\n",
      "\t\tYour Result: S\t\tCorrect Result: S\t\tCorrect!\n",
      "\n",
      "Step 5 | stack: ['<ROOT>', 'word2', 'word3']\tbuffer: ['word4', 'word5']\n",
      "\tTesting get_gold_action(stack, buffer, gold_dependencies):\n",
      "\t\tYour Result: LA-label2\t\tCorrect Result: LA-label2\t\tCorrect!\n",
      "\n",
      "Step 6 | stack: ['<ROOT>', 'word3']\tbuffer: ['word4', 'word5']\n",
      "\tTesting get_gold_action(stack, buffer, gold_dependencies):\n",
      "\t\tYour Result: None\t\tCorrect Result: S\n",
      "\t\tIncorrect! Halting parse of this sentence.\n",
      "\n",
      "\n",
      "Test Sentence 7 failed.\n",
      "\n",
      "----------------------------------------------------------------------------------------------------\n",
      "\n",
      "gold_deps are: <__main__.Dependencies object at 0x7f9c3ecbe100>\n",
      "stack is :[\"Word(idx=0, word='<ROOT>', pos='<POS_ROOT>', word_id=72, pos_id=33)\"]\n",
      "buffer is :[\"Word(idx=1, word='word1', pos='pos1', word_id=64, pos_id=27)\", \"Word(idx=2, word='word2', pos='pos2', word_id=65, pos_id=28)\", \"Word(idx=3, word='word3', pos='pos3', word_id=66, pos_id=29)\", \"Word(idx=4, word='word4', pos='pos4', word_id=67, pos_id=30)\", \"Word(idx=5, word='word5', pos='pos5', word_id=68, pos_id=31)\"]\n",
      "s1 is: Word(idx=0, word='<ROOT>', pos='<POS_ROOT>', word_id=72, pos_id=33)\n",
      "s2 is: None\n",
      "\n",
      "len of buffer 5 > 0 and there is only root in the stack hence action = 'S'\n",
      "stack is :[\"Word(idx=0, word='<ROOT>', pos='<POS_ROOT>', word_id=72, pos_id=33)\", \"Word(idx=1, word='word1', pos='pos1', word_id=64, pos_id=27)\"]\n",
      "buffer is :[\"Word(idx=2, word='word2', pos='pos2', word_id=65, pos_id=28)\", \"Word(idx=3, word='word3', pos='pos3', word_id=66, pos_id=29)\", \"Word(idx=4, word='word4', pos='pos4', word_id=67, pos_id=30)\", \"Word(idx=5, word='word5', pos='pos5', word_id=68, pos_id=31)\"]\n",
      "s1 is: Word(idx=1, word='word1', pos='pos1', word_id=64, pos_id=27)\n",
      "s2 is: Word(idx=0, word='<ROOT>', pos='<POS_ROOT>', word_id=72, pos_id=33)\n",
      "\n",
      "len of buffer is greater than zero :4 and hence action = 'S'\n",
      "stack is :[\"Word(idx=0, word='<ROOT>', pos='<POS_ROOT>', word_id=72, pos_id=33)\", \"Word(idx=1, word='word1', pos='pos1', word_id=64, pos_id=27)\", \"Word(idx=2, word='word2', pos='pos2', word_id=65, pos_id=28)\"]\n",
      "buffer is :[\"Word(idx=3, word='word3', pos='pos3', word_id=66, pos_id=29)\", \"Word(idx=4, word='word4', pos='pos4', word_id=67, pos_id=30)\", \"Word(idx=5, word='word5', pos='pos5', word_id=68, pos_id=31)\"]\n",
      "s1 is: Word(idx=2, word='word2', pos='pos2', word_id=65, pos_id=28)\n",
      "s2 is: Word(idx=1, word='word1', pos='pos1', word_id=64, pos_id=27)\n",
      "\n",
      "stack is :[\"Word(idx=0, word='<ROOT>', pos='<POS_ROOT>', word_id=72, pos_id=33)\", \"Word(idx=1, word='word1', pos='pos1', word_id=64, pos_id=27)\"]\n",
      "buffer is :[\"Word(idx=3, word='word3', pos='pos3', word_id=66, pos_id=29)\", \"Word(idx=4, word='word4', pos='pos4', word_id=67, pos_id=30)\", \"Word(idx=5, word='word5', pos='pos5', word_id=68, pos_id=31)\"]\n",
      "s1 is: Word(idx=1, word='word1', pos='pos1', word_id=64, pos_id=27)\n",
      "s2 is: Word(idx=0, word='<ROOT>', pos='<POS_ROOT>', word_id=72, pos_id=33)\n",
      "\n",
      "len of buffer is greater than zero :3 and hence action = 'S'\n",
      "stack is :[\"Word(idx=0, word='<ROOT>', pos='<POS_ROOT>', word_id=72, pos_id=33)\", \"Word(idx=1, word='word1', pos='pos1', word_id=64, pos_id=27)\", \"Word(idx=3, word='word3', pos='pos3', word_id=66, pos_id=29)\"]\n",
      "buffer is :[\"Word(idx=4, word='word4', pos='pos4', word_id=67, pos_id=30)\", \"Word(idx=5, word='word5', pos='pos5', word_id=68, pos_id=31)\"]\n",
      "s1 is: Word(idx=3, word='word3', pos='pos3', word_id=66, pos_id=29)\n",
      "s2 is: Word(idx=1, word='word1', pos='pos1', word_id=64, pos_id=27)\n",
      "\n",
      "arc_to_head in left action: Arc(head_idx=3, dep_idx=1, label_id=6)\n",
      "arc_to_head label in left action: label1\n",
      "stack is :[\"Word(idx=0, word='<ROOT>', pos='<POS_ROOT>', word_id=72, pos_id=33)\", \"Word(idx=3, word='word3', pos='pos3', word_id=66, pos_id=29)\"]\n",
      "buffer is :[\"Word(idx=4, word='word4', pos='pos4', word_id=67, pos_id=30)\", \"Word(idx=5, word='word5', pos='pos5', word_id=68, pos_id=31)\"]\n",
      "s1 is: Word(idx=3, word='word3', pos='pos3', word_id=66, pos_id=29)\n",
      "s2 is: Word(idx=0, word='<ROOT>', pos='<POS_ROOT>', word_id=72, pos_id=33)\n",
      "\n",
      "Testing Sentence 8...\n"
     ]
    },
    {
     "data": {
      "text/plain": "<IPython.core.display.HTML object>",
      "text/html": "<span class=\"tex2jax_ignore\"><svg xmlns=\"http://www.w3.org/2000/svg\" xmlns:xlink=\"http://www.w3.org/1999/xlink\" xml:lang=\"en\" id=\"42028276490e4281a28aec2e2afc4a60-0\" class=\"displacy\" width=\"470\" height=\"242.0\" direction=\"ltr\" style=\"max-width: none; height: 242.0px; color: #000000; background: #ffffff; font-family: Arial; direction: ltr\">\n<text class=\"displacy-token\" fill=\"currentColor\" text-anchor=\"middle\" y=\"152.0\">\n    <tspan class=\"displacy-word\" fill=\"currentColor\" x=\"50\">&lt;ROOT&gt;</tspan>\n    <tspan class=\"displacy-tag\" dy=\"2em\" fill=\"currentColor\" x=\"50\">POS_ROOT</tspan>\n</text>\n\n<text class=\"displacy-token\" fill=\"currentColor\" text-anchor=\"middle\" y=\"152.0\">\n    <tspan class=\"displacy-word\" fill=\"currentColor\" x=\"120\">word1</tspan>\n    <tspan class=\"displacy-tag\" dy=\"2em\" fill=\"currentColor\" x=\"120\">pos1</tspan>\n</text>\n\n<text class=\"displacy-token\" fill=\"currentColor\" text-anchor=\"middle\" y=\"152.0\">\n    <tspan class=\"displacy-word\" fill=\"currentColor\" x=\"190\">word2</tspan>\n    <tspan class=\"displacy-tag\" dy=\"2em\" fill=\"currentColor\" x=\"190\">pos2</tspan>\n</text>\n\n<text class=\"displacy-token\" fill=\"currentColor\" text-anchor=\"middle\" y=\"152.0\">\n    <tspan class=\"displacy-word\" fill=\"currentColor\" x=\"260\">word3</tspan>\n    <tspan class=\"displacy-tag\" dy=\"2em\" fill=\"currentColor\" x=\"260\">pos3</tspan>\n</text>\n\n<text class=\"displacy-token\" fill=\"currentColor\" text-anchor=\"middle\" y=\"152.0\">\n    <tspan class=\"displacy-word\" fill=\"currentColor\" x=\"330\">word4</tspan>\n    <tspan class=\"displacy-tag\" dy=\"2em\" fill=\"currentColor\" x=\"330\">pos4</tspan>\n</text>\n\n<text class=\"displacy-token\" fill=\"currentColor\" text-anchor=\"middle\" y=\"152.0\">\n    <tspan class=\"displacy-word\" fill=\"currentColor\" x=\"400\">word5</tspan>\n    <tspan class=\"displacy-tag\" dy=\"2em\" fill=\"currentColor\" x=\"400\">pos5</tspan>\n</text>\n\n<g class=\"displacy-arrow\">\n    <path class=\"displacy-arc\" id=\"arrow-42028276490e4281a28aec2e2afc4a60-0-0\" stroke-width=\"2px\" d=\"M140,107.0 C140,37.0 255.0,37.0 255.0,107.0\" fill=\"none\" stroke=\"currentColor\"/>\n    <text dy=\"1.25em\" style=\"font-size: 0.8em; letter-spacing: 1px\">\n        <textPath xlink:href=\"#arrow-42028276490e4281a28aec2e2afc4a60-0-0\" class=\"displacy-label\" startOffset=\"50%\" side=\"left\" fill=\"currentColor\" text-anchor=\"middle\">label1</textPath>\n    </text>\n    <path class=\"displacy-arrowhead\" d=\"M140,109.0 L132,97.0 148,97.0\" fill=\"currentColor\"/>\n</g>\n\n<g class=\"displacy-arrow\">\n    <path class=\"displacy-arc\" id=\"arrow-42028276490e4281a28aec2e2afc4a60-0-1\" stroke-width=\"2px\" d=\"M140,107.0 C140,72.0 180.0,72.0 180.0,107.0\" fill=\"none\" stroke=\"currentColor\"/>\n    <text dy=\"1.25em\" style=\"font-size: 0.8em; letter-spacing: 1px\">\n        <textPath xlink:href=\"#arrow-42028276490e4281a28aec2e2afc4a60-0-1\" class=\"displacy-label\" startOffset=\"50%\" side=\"left\" fill=\"currentColor\" text-anchor=\"middle\">label2</textPath>\n    </text>\n    <path class=\"displacy-arrowhead\" d=\"M180.0,109.0 L188.0,97.0 172.0,97.0\" fill=\"currentColor\"/>\n</g>\n\n<g class=\"displacy-arrow\">\n    <path class=\"displacy-arc\" id=\"arrow-42028276490e4281a28aec2e2afc4a60-0-2\" stroke-width=\"2px\" d=\"M70,107.0 C70,2.0 260.0,2.0 260.0,107.0\" fill=\"none\" stroke=\"currentColor\"/>\n    <text dy=\"1.25em\" style=\"font-size: 0.8em; letter-spacing: 1px\">\n        <textPath xlink:href=\"#arrow-42028276490e4281a28aec2e2afc4a60-0-2\" class=\"displacy-label\" startOffset=\"50%\" side=\"left\" fill=\"currentColor\" text-anchor=\"middle\">root</textPath>\n    </text>\n    <path class=\"displacy-arrowhead\" d=\"M260.0,109.0 L268.0,97.0 252.0,97.0\" fill=\"currentColor\"/>\n</g>\n\n<g class=\"displacy-arrow\">\n    <path class=\"displacy-arc\" id=\"arrow-42028276490e4281a28aec2e2afc4a60-0-3\" stroke-width=\"2px\" d=\"M350,107.0 C350,72.0 390.0,72.0 390.0,107.0\" fill=\"none\" stroke=\"currentColor\"/>\n    <text dy=\"1.25em\" style=\"font-size: 0.8em; letter-spacing: 1px\">\n        <textPath xlink:href=\"#arrow-42028276490e4281a28aec2e2afc4a60-0-3\" class=\"displacy-label\" startOffset=\"50%\" side=\"left\" fill=\"currentColor\" text-anchor=\"middle\">label3</textPath>\n    </text>\n    <path class=\"displacy-arrowhead\" d=\"M350,109.0 L342,97.0 358,97.0\" fill=\"currentColor\"/>\n</g>\n\n<g class=\"displacy-arrow\">\n    <path class=\"displacy-arc\" id=\"arrow-42028276490e4281a28aec2e2afc4a60-0-4\" stroke-width=\"2px\" d=\"M280,107.0 C280,37.0 395.0,37.0 395.0,107.0\" fill=\"none\" stroke=\"currentColor\"/>\n    <text dy=\"1.25em\" style=\"font-size: 0.8em; letter-spacing: 1px\">\n        <textPath xlink:href=\"#arrow-42028276490e4281a28aec2e2afc4a60-0-4\" class=\"displacy-label\" startOffset=\"50%\" side=\"left\" fill=\"currentColor\" text-anchor=\"middle\">label4</textPath>\n    </text>\n    <path class=\"displacy-arrowhead\" d=\"M395.0,109.0 L403.0,97.0 387.0,97.0\" fill=\"currentColor\"/>\n</g>\n</svg></span>"
     },
     "metadata": {},
     "output_type": "display_data"
    },
    {
     "name": "stdout",
     "output_type": "stream",
     "text": [
      "gold_dependencies: ['Arc(head_idx=3, dep_idx=1, label_id=6)', 'Arc(head_idx=1, dep_idx=2, label_id=7)', 'Arc(head_idx=0, dep_idx=3, label_id=0)', 'Arc(head_idx=5, dep_idx=4, label_id=8)', 'Arc(head_idx=3, dep_idx=5, label_id=9)']\n",
      "\n",
      "Step 1 | stack: ['<ROOT>']\tbuffer: ['word1', 'word2', 'word3', 'word4', 'word5']\n",
      "\tTesting get_gold_action(stack, buffer, gold_dependencies):\n",
      "\t\tYour Result: S\t\tCorrect Result: S\t\tCorrect!\n",
      "\n",
      "Step 2 | stack: ['<ROOT>', 'word1']\tbuffer: ['word2', 'word3', 'word4', 'word5']\n",
      "\tTesting get_gold_action(stack, buffer, gold_dependencies):\n",
      "\t\tYour Result: S\t\tCorrect Result: S\t\tCorrect!\n",
      "\n",
      "Step 3 | stack: ['<ROOT>', 'word1', 'word2']\tbuffer: ['word3', 'word4', 'word5']\n",
      "\tTesting get_gold_action(stack, buffer, gold_dependencies):\n",
      "\t\tYour Result: RA-label2\t\tCorrect Result: RA-label2\t\tCorrect!\n",
      "\n",
      "Step 4 | stack: ['<ROOT>', 'word1']\tbuffer: ['word3', 'word4', 'word5']\n",
      "\tTesting get_gold_action(stack, buffer, gold_dependencies):\n",
      "\t\tYour Result: S\t\tCorrect Result: S\t\tCorrect!\n",
      "\n",
      "Step 5 | stack: ['<ROOT>', 'word1', 'word3']\tbuffer: ['word4', 'word5']\n",
      "\tTesting get_gold_action(stack, buffer, gold_dependencies):\n",
      "\t\tYour Result: LA-label1\t\tCorrect Result: LA-label1\t\tCorrect!\n",
      "\n",
      "Step 6 | stack: ['<ROOT>', 'word3']\tbuffer: ['word4', 'word5']\n",
      "\tTesting get_gold_action(stack, buffer, gold_dependencies):\n",
      "\t\tYour Result: None\t\tCorrect Result: S\n",
      "\t\tIncorrect! Halting parse of this sentence.\n",
      "\n",
      "\n",
      "Test Sentence 8 failed.\n",
      "\n",
      "----------------------------------------------------------------------------------------------------\n",
      "\n",
      "gold_deps are: <__main__.Dependencies object at 0x7f9c3ecbeeb0>\n",
      "stack is :[\"Word(idx=0, word='<ROOT>', pos='<POS_ROOT>', word_id=72, pos_id=33)\"]\n",
      "buffer is :[\"Word(idx=1, word='word1', pos='pos1', word_id=64, pos_id=27)\", \"Word(idx=2, word='word2', pos='pos2', word_id=65, pos_id=28)\", \"Word(idx=3, word='word3', pos='pos3', word_id=66, pos_id=29)\", \"Word(idx=4, word='word4', pos='pos4', word_id=67, pos_id=30)\", \"Word(idx=5, word='word5', pos='pos5', word_id=68, pos_id=31)\"]\n",
      "s1 is: Word(idx=0, word='<ROOT>', pos='<POS_ROOT>', word_id=72, pos_id=33)\n",
      "s2 is: None\n",
      "\n",
      "len of buffer 5 > 0 and there is only root in the stack hence action = 'S'\n",
      "stack is :[\"Word(idx=0, word='<ROOT>', pos='<POS_ROOT>', word_id=72, pos_id=33)\", \"Word(idx=1, word='word1', pos='pos1', word_id=64, pos_id=27)\"]\n",
      "buffer is :[\"Word(idx=2, word='word2', pos='pos2', word_id=65, pos_id=28)\", \"Word(idx=3, word='word3', pos='pos3', word_id=66, pos_id=29)\", \"Word(idx=4, word='word4', pos='pos4', word_id=67, pos_id=30)\", \"Word(idx=5, word='word5', pos='pos5', word_id=68, pos_id=31)\"]\n",
      "s1 is: Word(idx=1, word='word1', pos='pos1', word_id=64, pos_id=27)\n",
      "s2 is: Word(idx=0, word='<ROOT>', pos='<POS_ROOT>', word_id=72, pos_id=33)\n",
      "\n",
      "len of buffer is greater than zero :4 and hence action = 'S'\n",
      "stack is :[\"Word(idx=0, word='<ROOT>', pos='<POS_ROOT>', word_id=72, pos_id=33)\", \"Word(idx=1, word='word1', pos='pos1', word_id=64, pos_id=27)\", \"Word(idx=2, word='word2', pos='pos2', word_id=65, pos_id=28)\"]\n",
      "buffer is :[\"Word(idx=3, word='word3', pos='pos3', word_id=66, pos_id=29)\", \"Word(idx=4, word='word4', pos='pos4', word_id=67, pos_id=30)\", \"Word(idx=5, word='word5', pos='pos5', word_id=68, pos_id=31)\"]\n",
      "s1 is: Word(idx=2, word='word2', pos='pos2', word_id=65, pos_id=28)\n",
      "s2 is: Word(idx=1, word='word1', pos='pos1', word_id=64, pos_id=27)\n",
      "\n",
      "arc_to_head in left action: Arc(head_idx=2, dep_idx=1, label_id=6)\n",
      "arc_to_head label in left action: label1\n",
      "stack is :[\"Word(idx=0, word='<ROOT>', pos='<POS_ROOT>', word_id=72, pos_id=33)\", \"Word(idx=2, word='word2', pos='pos2', word_id=65, pos_id=28)\"]\n",
      "buffer is :[\"Word(idx=3, word='word3', pos='pos3', word_id=66, pos_id=29)\", \"Word(idx=4, word='word4', pos='pos4', word_id=67, pos_id=30)\", \"Word(idx=5, word='word5', pos='pos5', word_id=68, pos_id=31)\"]\n",
      "s1 is: Word(idx=2, word='word2', pos='pos2', word_id=65, pos_id=28)\n",
      "s2 is: Word(idx=0, word='<ROOT>', pos='<POS_ROOT>', word_id=72, pos_id=33)\n",
      "\n",
      "len of buffer is greater than zero :3 and hence action = 'S'\n",
      "stack is :[\"Word(idx=0, word='<ROOT>', pos='<POS_ROOT>', word_id=72, pos_id=33)\", \"Word(idx=2, word='word2', pos='pos2', word_id=65, pos_id=28)\", \"Word(idx=3, word='word3', pos='pos3', word_id=66, pos_id=29)\"]\n",
      "buffer is :[\"Word(idx=4, word='word4', pos='pos4', word_id=67, pos_id=30)\", \"Word(idx=5, word='word5', pos='pos5', word_id=68, pos_id=31)\"]\n",
      "s1 is: Word(idx=3, word='word3', pos='pos3', word_id=66, pos_id=29)\n",
      "s2 is: Word(idx=2, word='word2', pos='pos2', word_id=65, pos_id=28)\n",
      "\n",
      "arc_to_head in left action: Arc(head_idx=3, dep_idx=2, label_id=7)\n",
      "arc_to_head label in left action: label2\n",
      "stack is :[\"Word(idx=0, word='<ROOT>', pos='<POS_ROOT>', word_id=72, pos_id=33)\", \"Word(idx=3, word='word3', pos='pos3', word_id=66, pos_id=29)\"]\n",
      "buffer is :[\"Word(idx=4, word='word4', pos='pos4', word_id=67, pos_id=30)\", \"Word(idx=5, word='word5', pos='pos5', word_id=68, pos_id=31)\"]\n",
      "s1 is: Word(idx=3, word='word3', pos='pos3', word_id=66, pos_id=29)\n",
      "s2 is: Word(idx=0, word='<ROOT>', pos='<POS_ROOT>', word_id=72, pos_id=33)\n",
      "\n",
      "stack is :[\"Word(idx=0, word='<ROOT>', pos='<POS_ROOT>', word_id=72, pos_id=33)\"]\n",
      "buffer is :[\"Word(idx=4, word='word4', pos='pos4', word_id=67, pos_id=30)\", \"Word(idx=5, word='word5', pos='pos5', word_id=68, pos_id=31)\"]\n",
      "s1 is: Word(idx=0, word='<ROOT>', pos='<POS_ROOT>', word_id=72, pos_id=33)\n",
      "s2 is: None\n",
      "\n",
      "len of buffer 2 > 0 and there is only root in the stack hence action = 'S'\n",
      "stack is :[\"Word(idx=0, word='<ROOT>', pos='<POS_ROOT>', word_id=72, pos_id=33)\", \"Word(idx=4, word='word4', pos='pos4', word_id=67, pos_id=30)\"]\n",
      "buffer is :[\"Word(idx=5, word='word5', pos='pos5', word_id=68, pos_id=31)\"]\n",
      "s1 is: Word(idx=4, word='word4', pos='pos4', word_id=67, pos_id=30)\n",
      "s2 is: Word(idx=0, word='<ROOT>', pos='<POS_ROOT>', word_id=72, pos_id=33)\n",
      "\n",
      "len of buffer is greater than zero :1 and hence action = 'S'\n",
      "stack is :[\"Word(idx=0, word='<ROOT>', pos='<POS_ROOT>', word_id=72, pos_id=33)\", \"Word(idx=4, word='word4', pos='pos4', word_id=67, pos_id=30)\", \"Word(idx=5, word='word5', pos='pos5', word_id=68, pos_id=31)\"]\n",
      "buffer is :[]\n",
      "s1 is: Word(idx=5, word='word5', pos='pos5', word_id=68, pos_id=31)\n",
      "s2 is: Word(idx=4, word='word4', pos='pos4', word_id=67, pos_id=30)\n",
      "\n",
      "stack is :[\"Word(idx=0, word='<ROOT>', pos='<POS_ROOT>', word_id=72, pos_id=33)\", \"Word(idx=4, word='word4', pos='pos4', word_id=67, pos_id=30)\"]\n",
      "buffer is :[]\n",
      "s1 is: Word(idx=4, word='word4', pos='pos4', word_id=67, pos_id=30)\n",
      "s2 is: Word(idx=0, word='<ROOT>', pos='<POS_ROOT>', word_id=72, pos_id=33)\n",
      "\n",
      "len of buffer is zero :0 and hence action = None\n",
      "Testing Sentence 9...\n"
     ]
    },
    {
     "data": {
      "text/plain": "<IPython.core.display.HTML object>",
      "text/html": "<span class=\"tex2jax_ignore\"><svg xmlns=\"http://www.w3.org/2000/svg\" xmlns:xlink=\"http://www.w3.org/1999/xlink\" xml:lang=\"en\" id=\"1b10b535633b44bbb920145e260cfc54-0\" class=\"displacy\" width=\"470\" height=\"242.0\" direction=\"ltr\" style=\"max-width: none; height: 242.0px; color: #000000; background: #ffffff; font-family: Arial; direction: ltr\">\n<text class=\"displacy-token\" fill=\"currentColor\" text-anchor=\"middle\" y=\"152.0\">\n    <tspan class=\"displacy-word\" fill=\"currentColor\" x=\"50\">&lt;ROOT&gt;</tspan>\n    <tspan class=\"displacy-tag\" dy=\"2em\" fill=\"currentColor\" x=\"50\">POS_ROOT</tspan>\n</text>\n\n<text class=\"displacy-token\" fill=\"currentColor\" text-anchor=\"middle\" y=\"152.0\">\n    <tspan class=\"displacy-word\" fill=\"currentColor\" x=\"120\">word1</tspan>\n    <tspan class=\"displacy-tag\" dy=\"2em\" fill=\"currentColor\" x=\"120\">pos1</tspan>\n</text>\n\n<text class=\"displacy-token\" fill=\"currentColor\" text-anchor=\"middle\" y=\"152.0\">\n    <tspan class=\"displacy-word\" fill=\"currentColor\" x=\"190\">word2</tspan>\n    <tspan class=\"displacy-tag\" dy=\"2em\" fill=\"currentColor\" x=\"190\">pos2</tspan>\n</text>\n\n<text class=\"displacy-token\" fill=\"currentColor\" text-anchor=\"middle\" y=\"152.0\">\n    <tspan class=\"displacy-word\" fill=\"currentColor\" x=\"260\">word3</tspan>\n    <tspan class=\"displacy-tag\" dy=\"2em\" fill=\"currentColor\" x=\"260\">pos3</tspan>\n</text>\n\n<text class=\"displacy-token\" fill=\"currentColor\" text-anchor=\"middle\" y=\"152.0\">\n    <tspan class=\"displacy-word\" fill=\"currentColor\" x=\"330\">word4</tspan>\n    <tspan class=\"displacy-tag\" dy=\"2em\" fill=\"currentColor\" x=\"330\">pos4</tspan>\n</text>\n\n<text class=\"displacy-token\" fill=\"currentColor\" text-anchor=\"middle\" y=\"152.0\">\n    <tspan class=\"displacy-word\" fill=\"currentColor\" x=\"400\">word5</tspan>\n    <tspan class=\"displacy-tag\" dy=\"2em\" fill=\"currentColor\" x=\"400\">pos5</tspan>\n</text>\n\n<g class=\"displacy-arrow\">\n    <path class=\"displacy-arc\" id=\"arrow-1b10b535633b44bbb920145e260cfc54-0-0\" stroke-width=\"2px\" d=\"M140,107.0 C140,72.0 180.0,72.0 180.0,107.0\" fill=\"none\" stroke=\"currentColor\"/>\n    <text dy=\"1.25em\" style=\"font-size: 0.8em; letter-spacing: 1px\">\n        <textPath xlink:href=\"#arrow-1b10b535633b44bbb920145e260cfc54-0-0\" class=\"displacy-label\" startOffset=\"50%\" side=\"left\" fill=\"currentColor\" text-anchor=\"middle\">label1</textPath>\n    </text>\n    <path class=\"displacy-arrowhead\" d=\"M140,109.0 L132,97.0 148,97.0\" fill=\"currentColor\"/>\n</g>\n\n<g class=\"displacy-arrow\">\n    <path class=\"displacy-arc\" id=\"arrow-1b10b535633b44bbb920145e260cfc54-0-1\" stroke-width=\"2px\" d=\"M210,107.0 C210,72.0 250.0,72.0 250.0,107.0\" fill=\"none\" stroke=\"currentColor\"/>\n    <text dy=\"1.25em\" style=\"font-size: 0.8em; letter-spacing: 1px\">\n        <textPath xlink:href=\"#arrow-1b10b535633b44bbb920145e260cfc54-0-1\" class=\"displacy-label\" startOffset=\"50%\" side=\"left\" fill=\"currentColor\" text-anchor=\"middle\">label2</textPath>\n    </text>\n    <path class=\"displacy-arrowhead\" d=\"M210,109.0 L202,97.0 218,97.0\" fill=\"currentColor\"/>\n</g>\n\n<g class=\"displacy-arrow\">\n    <path class=\"displacy-arc\" id=\"arrow-1b10b535633b44bbb920145e260cfc54-0-2\" stroke-width=\"2px\" d=\"M70,107.0 C70,37.0 255.0,37.0 255.0,107.0\" fill=\"none\" stroke=\"currentColor\"/>\n    <text dy=\"1.25em\" style=\"font-size: 0.8em; letter-spacing: 1px\">\n        <textPath xlink:href=\"#arrow-1b10b535633b44bbb920145e260cfc54-0-2\" class=\"displacy-label\" startOffset=\"50%\" side=\"left\" fill=\"currentColor\" text-anchor=\"middle\">root</textPath>\n    </text>\n    <path class=\"displacy-arrowhead\" d=\"M255.0,109.0 L263.0,97.0 247.0,97.0\" fill=\"currentColor\"/>\n</g>\n\n<g class=\"displacy-arrow\">\n    <path class=\"displacy-arc\" id=\"arrow-1b10b535633b44bbb920145e260cfc54-0-3\" stroke-width=\"2px\" d=\"M140,107.0 C140,2.0 330.0,2.0 330.0,107.0\" fill=\"none\" stroke=\"currentColor\"/>\n    <text dy=\"1.25em\" style=\"font-size: 0.8em; letter-spacing: 1px\">\n        <textPath xlink:href=\"#arrow-1b10b535633b44bbb920145e260cfc54-0-3\" class=\"displacy-label\" startOffset=\"50%\" side=\"left\" fill=\"currentColor\" text-anchor=\"middle\">label3</textPath>\n    </text>\n    <path class=\"displacy-arrowhead\" d=\"M330.0,109.0 L338.0,97.0 322.0,97.0\" fill=\"currentColor\"/>\n</g>\n\n<g class=\"displacy-arrow\">\n    <path class=\"displacy-arc\" id=\"arrow-1b10b535633b44bbb920145e260cfc54-0-4\" stroke-width=\"2px\" d=\"M350,107.0 C350,72.0 390.0,72.0 390.0,107.0\" fill=\"none\" stroke=\"currentColor\"/>\n    <text dy=\"1.25em\" style=\"font-size: 0.8em; letter-spacing: 1px\">\n        <textPath xlink:href=\"#arrow-1b10b535633b44bbb920145e260cfc54-0-4\" class=\"displacy-label\" startOffset=\"50%\" side=\"left\" fill=\"currentColor\" text-anchor=\"middle\">label4</textPath>\n    </text>\n    <path class=\"displacy-arrowhead\" d=\"M390.0,109.0 L398.0,97.0 382.0,97.0\" fill=\"currentColor\"/>\n</g>\n</svg></span>"
     },
     "metadata": {},
     "output_type": "display_data"
    },
    {
     "name": "stdout",
     "output_type": "stream",
     "text": [
      "gold_dependencies: ['Arc(head_idx=2, dep_idx=1, label_id=6)', 'Arc(head_idx=3, dep_idx=2, label_id=7)', 'Arc(head_idx=0, dep_idx=3, label_id=0)', 'Arc(head_idx=1, dep_idx=4, label_id=8)', 'Arc(head_idx=4, dep_idx=5, label_id=9)']\n",
      "\n",
      "Step 1 | stack: ['<ROOT>']\tbuffer: ['word1', 'word2', 'word3', 'word4', 'word5']\n",
      "\tTesting get_gold_action(stack, buffer, gold_dependencies):\n",
      "\t\tYour Result: S\t\tCorrect Result: S\t\tCorrect!\n",
      "\n",
      "Step 2 | stack: ['<ROOT>', 'word1']\tbuffer: ['word2', 'word3', 'word4', 'word5']\n",
      "\tTesting get_gold_action(stack, buffer, gold_dependencies):\n",
      "\t\tYour Result: S\t\tCorrect Result: S\t\tCorrect!\n",
      "\n",
      "Step 3 | stack: ['<ROOT>', 'word1', 'word2']\tbuffer: ['word3', 'word4', 'word5']\n",
      "\tTesting get_gold_action(stack, buffer, gold_dependencies):\n",
      "\t\tYour Result: LA-label1\t\tCorrect Result: LA-label1\t\tCorrect!\n",
      "\n",
      "Step 4 | stack: ['<ROOT>', 'word2']\tbuffer: ['word3', 'word4', 'word5']\n",
      "\tTesting get_gold_action(stack, buffer, gold_dependencies):\n",
      "\t\tYour Result: S\t\tCorrect Result: S\t\tCorrect!\n",
      "\n",
      "Step 5 | stack: ['<ROOT>', 'word2', 'word3']\tbuffer: ['word4', 'word5']\n",
      "\tTesting get_gold_action(stack, buffer, gold_dependencies):\n",
      "\t\tYour Result: LA-label2\t\tCorrect Result: LA-label2\t\tCorrect!\n",
      "\n",
      "Step 6 | stack: ['<ROOT>', 'word3']\tbuffer: ['word4', 'word5']\n",
      "\tTesting get_gold_action(stack, buffer, gold_dependencies):\n",
      "\t\tYour Result: RA-root\t\tCorrect Result: RA-root\t\tCorrect!\n",
      "\n",
      "Step 7 | stack: ['<ROOT>']\tbuffer: ['word4', 'word5']\n",
      "\tTesting get_gold_action(stack, buffer, gold_dependencies):\n",
      "\t\tYour Result: S\t\tCorrect Result: S\t\tCorrect!\n",
      "\n",
      "Step 8 | stack: ['<ROOT>', 'word4']\tbuffer: ['word5']\n",
      "\tTesting get_gold_action(stack, buffer, gold_dependencies):\n",
      "\t\tYour Result: S\t\tCorrect Result: S\t\tCorrect!\n",
      "\n",
      "Step 9 | stack: ['<ROOT>', 'word4', 'word5']\tbuffer: []\n",
      "\tTesting get_gold_action(stack, buffer, gold_dependencies):\n",
      "\t\tYour Result: RA-label4\t\tCorrect Result: RA-label4\t\tCorrect!\n",
      "\n",
      "Step 10 | stack: ['<ROOT>', 'word4']\tbuffer: []\n",
      "\tTesting get_gold_action(stack, buffer, gold_dependencies):\n",
      "\t\tYour Result: None\t\tCorrect Result: None\t\tCorrect!\n",
      "\n",
      "\n",
      "Test Sentence 9 passed!\n",
      "\n",
      "----------------------------------------------------------------------------------------------------\n",
      "\n",
      "gold_deps are: <__main__.Dependencies object at 0x7f9d1f2221f0>\n",
      "stack is :[\"Word(idx=0, word='<ROOT>', pos='<POS_ROOT>', word_id=72, pos_id=33)\"]\n",
      "buffer is :[\"Word(idx=1, word='al', pos='NNP', word_id=39, pos_id=24)\", \"Word(idx=2, word='-', pos='HYPH', word_id=35, pos_id=20)\", \"Word(idx=3, word='zaman', pos='NNP', word_id=69, pos_id=24)\", \"Word(idx=4, word=':', pos=':', word_id=37, pos_id=18)\", \"Word(idx=5, word='american', pos='JJ', word_id=40, pos_id=22)\", \"Word(idx=6, word='forces', pos='NNS', word_id=47, pos_id=25)\", \"Word(idx=7, word='killed', pos='VBD', word_id=50, pos_id=26)\", \"Word(idx=8, word='shaikh', pos='NNP', word_id=60, pos_id=24)\", \"Word(idx=9, word='abdullah', pos='NNP', word_id=38, pos_id=24)\", \"Word(idx=10, word='al', pos='NNP', word_id=39, pos_id=24)\", \"Word(idx=11, word='-', pos='HYPH', word_id=35, pos_id=20)\", \"Word(idx=12, word='ani', pos='NNP', word_id=41, pos_id=24)\", \"Word(idx=13, word=',', pos=',', word_id=34, pos_id=16)\", \"Word(idx=14, word='the', pos='DT', word_id=62, pos_id=19)\", \"Word(idx=15, word='preacher', pos='NN', word_id=58, pos_id=23)\", \"Word(idx=16, word='at', pos='IN', word_id=42, pos_id=21)\", \"Word(idx=17, word='the', pos='DT', word_id=62, pos_id=19)\", \"Word(idx=18, word='mosque', pos='NN', word_id=53, pos_id=23)\", \"Word(idx=19, word='in', pos='IN', word_id=49, pos_id=21)\", \"Word(idx=20, word='the', pos='DT', word_id=62, pos_id=19)\", \"Word(idx=21, word='town', pos='NN', word_id=63, pos_id=23)\", \"Word(idx=22, word='of', pos='IN', word_id=56, pos_id=21)\", \"Word(idx=23, word='qaim', pos='NNP', word_id=59, pos_id=24)\", \"Word(idx=24, word=',', pos=',', word_id=34, pos_id=16)\", \"Word(idx=25, word='near', pos='IN', word_id=54, pos_id=21)\", \"Word(idx=26, word='the', pos='DT', word_id=62, pos_id=19)\", \"Word(idx=27, word='syrian', pos='JJ', word_id=61, pos_id=22)\", \"Word(idx=28, word='border', pos='NN', word_id=43, pos_id=23)\", \"Word(idx=29, word='.', pos='.', word_id=36, pos_id=17)\"]\n",
      "s1 is: Word(idx=0, word='<ROOT>', pos='<POS_ROOT>', word_id=72, pos_id=33)\n",
      "s2 is: None\n",
      "\n",
      "len of buffer 29 > 0 and there is only root in the stack hence action = 'S'\n",
      "stack is :[\"Word(idx=0, word='<ROOT>', pos='<POS_ROOT>', word_id=72, pos_id=33)\", \"Word(idx=1, word='al', pos='NNP', word_id=39, pos_id=24)\"]\n",
      "buffer is :[\"Word(idx=2, word='-', pos='HYPH', word_id=35, pos_id=20)\", \"Word(idx=3, word='zaman', pos='NNP', word_id=69, pos_id=24)\", \"Word(idx=4, word=':', pos=':', word_id=37, pos_id=18)\", \"Word(idx=5, word='american', pos='JJ', word_id=40, pos_id=22)\", \"Word(idx=6, word='forces', pos='NNS', word_id=47, pos_id=25)\", \"Word(idx=7, word='killed', pos='VBD', word_id=50, pos_id=26)\", \"Word(idx=8, word='shaikh', pos='NNP', word_id=60, pos_id=24)\", \"Word(idx=9, word='abdullah', pos='NNP', word_id=38, pos_id=24)\", \"Word(idx=10, word='al', pos='NNP', word_id=39, pos_id=24)\", \"Word(idx=11, word='-', pos='HYPH', word_id=35, pos_id=20)\", \"Word(idx=12, word='ani', pos='NNP', word_id=41, pos_id=24)\", \"Word(idx=13, word=',', pos=',', word_id=34, pos_id=16)\", \"Word(idx=14, word='the', pos='DT', word_id=62, pos_id=19)\", \"Word(idx=15, word='preacher', pos='NN', word_id=58, pos_id=23)\", \"Word(idx=16, word='at', pos='IN', word_id=42, pos_id=21)\", \"Word(idx=17, word='the', pos='DT', word_id=62, pos_id=19)\", \"Word(idx=18, word='mosque', pos='NN', word_id=53, pos_id=23)\", \"Word(idx=19, word='in', pos='IN', word_id=49, pos_id=21)\", \"Word(idx=20, word='the', pos='DT', word_id=62, pos_id=19)\", \"Word(idx=21, word='town', pos='NN', word_id=63, pos_id=23)\", \"Word(idx=22, word='of', pos='IN', word_id=56, pos_id=21)\", \"Word(idx=23, word='qaim', pos='NNP', word_id=59, pos_id=24)\", \"Word(idx=24, word=',', pos=',', word_id=34, pos_id=16)\", \"Word(idx=25, word='near', pos='IN', word_id=54, pos_id=21)\", \"Word(idx=26, word='the', pos='DT', word_id=62, pos_id=19)\", \"Word(idx=27, word='syrian', pos='JJ', word_id=61, pos_id=22)\", \"Word(idx=28, word='border', pos='NN', word_id=43, pos_id=23)\", \"Word(idx=29, word='.', pos='.', word_id=36, pos_id=17)\"]\n",
      "s1 is: Word(idx=1, word='al', pos='NNP', word_id=39, pos_id=24)\n",
      "s2 is: Word(idx=0, word='<ROOT>', pos='<POS_ROOT>', word_id=72, pos_id=33)\n",
      "\n",
      "len of buffer is greater than zero :28 and hence action = 'S'\n",
      "stack is :[\"Word(idx=0, word='<ROOT>', pos='<POS_ROOT>', word_id=72, pos_id=33)\", \"Word(idx=1, word='al', pos='NNP', word_id=39, pos_id=24)\", \"Word(idx=2, word='-', pos='HYPH', word_id=35, pos_id=20)\"]\n",
      "buffer is :[\"Word(idx=3, word='zaman', pos='NNP', word_id=69, pos_id=24)\", \"Word(idx=4, word=':', pos=':', word_id=37, pos_id=18)\", \"Word(idx=5, word='american', pos='JJ', word_id=40, pos_id=22)\", \"Word(idx=6, word='forces', pos='NNS', word_id=47, pos_id=25)\", \"Word(idx=7, word='killed', pos='VBD', word_id=50, pos_id=26)\", \"Word(idx=8, word='shaikh', pos='NNP', word_id=60, pos_id=24)\", \"Word(idx=9, word='abdullah', pos='NNP', word_id=38, pos_id=24)\", \"Word(idx=10, word='al', pos='NNP', word_id=39, pos_id=24)\", \"Word(idx=11, word='-', pos='HYPH', word_id=35, pos_id=20)\", \"Word(idx=12, word='ani', pos='NNP', word_id=41, pos_id=24)\", \"Word(idx=13, word=',', pos=',', word_id=34, pos_id=16)\", \"Word(idx=14, word='the', pos='DT', word_id=62, pos_id=19)\", \"Word(idx=15, word='preacher', pos='NN', word_id=58, pos_id=23)\", \"Word(idx=16, word='at', pos='IN', word_id=42, pos_id=21)\", \"Word(idx=17, word='the', pos='DT', word_id=62, pos_id=19)\", \"Word(idx=18, word='mosque', pos='NN', word_id=53, pos_id=23)\", \"Word(idx=19, word='in', pos='IN', word_id=49, pos_id=21)\", \"Word(idx=20, word='the', pos='DT', word_id=62, pos_id=19)\", \"Word(idx=21, word='town', pos='NN', word_id=63, pos_id=23)\", \"Word(idx=22, word='of', pos='IN', word_id=56, pos_id=21)\", \"Word(idx=23, word='qaim', pos='NNP', word_id=59, pos_id=24)\", \"Word(idx=24, word=',', pos=',', word_id=34, pos_id=16)\", \"Word(idx=25, word='near', pos='IN', word_id=54, pos_id=21)\", \"Word(idx=26, word='the', pos='DT', word_id=62, pos_id=19)\", \"Word(idx=27, word='syrian', pos='JJ', word_id=61, pos_id=22)\", \"Word(idx=28, word='border', pos='NN', word_id=43, pos_id=23)\", \"Word(idx=29, word='.', pos='.', word_id=36, pos_id=17)\"]\n",
      "s1 is: Word(idx=2, word='-', pos='HYPH', word_id=35, pos_id=20)\n",
      "s2 is: Word(idx=1, word='al', pos='NNP', word_id=39, pos_id=24)\n",
      "\n",
      "len of buffer is greater than zero :27 and hence action = 'S'\n",
      "stack is :[\"Word(idx=0, word='<ROOT>', pos='<POS_ROOT>', word_id=72, pos_id=33)\", \"Word(idx=1, word='al', pos='NNP', word_id=39, pos_id=24)\", \"Word(idx=2, word='-', pos='HYPH', word_id=35, pos_id=20)\", \"Word(idx=3, word='zaman', pos='NNP', word_id=69, pos_id=24)\"]\n",
      "buffer is :[\"Word(idx=4, word=':', pos=':', word_id=37, pos_id=18)\", \"Word(idx=5, word='american', pos='JJ', word_id=40, pos_id=22)\", \"Word(idx=6, word='forces', pos='NNS', word_id=47, pos_id=25)\", \"Word(idx=7, word='killed', pos='VBD', word_id=50, pos_id=26)\", \"Word(idx=8, word='shaikh', pos='NNP', word_id=60, pos_id=24)\", \"Word(idx=9, word='abdullah', pos='NNP', word_id=38, pos_id=24)\", \"Word(idx=10, word='al', pos='NNP', word_id=39, pos_id=24)\", \"Word(idx=11, word='-', pos='HYPH', word_id=35, pos_id=20)\", \"Word(idx=12, word='ani', pos='NNP', word_id=41, pos_id=24)\", \"Word(idx=13, word=',', pos=',', word_id=34, pos_id=16)\", \"Word(idx=14, word='the', pos='DT', word_id=62, pos_id=19)\", \"Word(idx=15, word='preacher', pos='NN', word_id=58, pos_id=23)\", \"Word(idx=16, word='at', pos='IN', word_id=42, pos_id=21)\", \"Word(idx=17, word='the', pos='DT', word_id=62, pos_id=19)\", \"Word(idx=18, word='mosque', pos='NN', word_id=53, pos_id=23)\", \"Word(idx=19, word='in', pos='IN', word_id=49, pos_id=21)\", \"Word(idx=20, word='the', pos='DT', word_id=62, pos_id=19)\", \"Word(idx=21, word='town', pos='NN', word_id=63, pos_id=23)\", \"Word(idx=22, word='of', pos='IN', word_id=56, pos_id=21)\", \"Word(idx=23, word='qaim', pos='NNP', word_id=59, pos_id=24)\", \"Word(idx=24, word=',', pos=',', word_id=34, pos_id=16)\", \"Word(idx=25, word='near', pos='IN', word_id=54, pos_id=21)\", \"Word(idx=26, word='the', pos='DT', word_id=62, pos_id=19)\", \"Word(idx=27, word='syrian', pos='JJ', word_id=61, pos_id=22)\", \"Word(idx=28, word='border', pos='NN', word_id=43, pos_id=23)\", \"Word(idx=29, word='.', pos='.', word_id=36, pos_id=17)\"]\n",
      "s1 is: Word(idx=3, word='zaman', pos='NNP', word_id=69, pos_id=24)\n",
      "s2 is: Word(idx=2, word='-', pos='HYPH', word_id=35, pos_id=20)\n",
      "\n",
      "arc_to_head in left action: Arc(head_idx=3, dep_idx=2, label_id=14)\n",
      "arc_to_head label in left action: punct\n",
      "stack is :[\"Word(idx=0, word='<ROOT>', pos='<POS_ROOT>', word_id=72, pos_id=33)\", \"Word(idx=1, word='al', pos='NNP', word_id=39, pos_id=24)\", \"Word(idx=3, word='zaman', pos='NNP', word_id=69, pos_id=24)\"]\n",
      "buffer is :[\"Word(idx=4, word=':', pos=':', word_id=37, pos_id=18)\", \"Word(idx=5, word='american', pos='JJ', word_id=40, pos_id=22)\", \"Word(idx=6, word='forces', pos='NNS', word_id=47, pos_id=25)\", \"Word(idx=7, word='killed', pos='VBD', word_id=50, pos_id=26)\", \"Word(idx=8, word='shaikh', pos='NNP', word_id=60, pos_id=24)\", \"Word(idx=9, word='abdullah', pos='NNP', word_id=38, pos_id=24)\", \"Word(idx=10, word='al', pos='NNP', word_id=39, pos_id=24)\", \"Word(idx=11, word='-', pos='HYPH', word_id=35, pos_id=20)\", \"Word(idx=12, word='ani', pos='NNP', word_id=41, pos_id=24)\", \"Word(idx=13, word=',', pos=',', word_id=34, pos_id=16)\", \"Word(idx=14, word='the', pos='DT', word_id=62, pos_id=19)\", \"Word(idx=15, word='preacher', pos='NN', word_id=58, pos_id=23)\", \"Word(idx=16, word='at', pos='IN', word_id=42, pos_id=21)\", \"Word(idx=17, word='the', pos='DT', word_id=62, pos_id=19)\", \"Word(idx=18, word='mosque', pos='NN', word_id=53, pos_id=23)\", \"Word(idx=19, word='in', pos='IN', word_id=49, pos_id=21)\", \"Word(idx=20, word='the', pos='DT', word_id=62, pos_id=19)\", \"Word(idx=21, word='town', pos='NN', word_id=63, pos_id=23)\", \"Word(idx=22, word='of', pos='IN', word_id=56, pos_id=21)\", \"Word(idx=23, word='qaim', pos='NNP', word_id=59, pos_id=24)\", \"Word(idx=24, word=',', pos=',', word_id=34, pos_id=16)\", \"Word(idx=25, word='near', pos='IN', word_id=54, pos_id=21)\", \"Word(idx=26, word='the', pos='DT', word_id=62, pos_id=19)\", \"Word(idx=27, word='syrian', pos='JJ', word_id=61, pos_id=22)\", \"Word(idx=28, word='border', pos='NN', word_id=43, pos_id=23)\", \"Word(idx=29, word='.', pos='.', word_id=36, pos_id=17)\"]\n",
      "s1 is: Word(idx=3, word='zaman', pos='NNP', word_id=69, pos_id=24)\n",
      "s2 is: Word(idx=1, word='al', pos='NNP', word_id=39, pos_id=24)\n",
      "\n",
      "arc_to_head in left action: Arc(head_idx=3, dep_idx=1, label_id=10)\n",
      "arc_to_head label in left action: name\n",
      "stack is :[\"Word(idx=0, word='<ROOT>', pos='<POS_ROOT>', word_id=72, pos_id=33)\", \"Word(idx=3, word='zaman', pos='NNP', word_id=69, pos_id=24)\"]\n",
      "buffer is :[\"Word(idx=4, word=':', pos=':', word_id=37, pos_id=18)\", \"Word(idx=5, word='american', pos='JJ', word_id=40, pos_id=22)\", \"Word(idx=6, word='forces', pos='NNS', word_id=47, pos_id=25)\", \"Word(idx=7, word='killed', pos='VBD', word_id=50, pos_id=26)\", \"Word(idx=8, word='shaikh', pos='NNP', word_id=60, pos_id=24)\", \"Word(idx=9, word='abdullah', pos='NNP', word_id=38, pos_id=24)\", \"Word(idx=10, word='al', pos='NNP', word_id=39, pos_id=24)\", \"Word(idx=11, word='-', pos='HYPH', word_id=35, pos_id=20)\", \"Word(idx=12, word='ani', pos='NNP', word_id=41, pos_id=24)\", \"Word(idx=13, word=',', pos=',', word_id=34, pos_id=16)\", \"Word(idx=14, word='the', pos='DT', word_id=62, pos_id=19)\", \"Word(idx=15, word='preacher', pos='NN', word_id=58, pos_id=23)\", \"Word(idx=16, word='at', pos='IN', word_id=42, pos_id=21)\", \"Word(idx=17, word='the', pos='DT', word_id=62, pos_id=19)\", \"Word(idx=18, word='mosque', pos='NN', word_id=53, pos_id=23)\", \"Word(idx=19, word='in', pos='IN', word_id=49, pos_id=21)\", \"Word(idx=20, word='the', pos='DT', word_id=62, pos_id=19)\", \"Word(idx=21, word='town', pos='NN', word_id=63, pos_id=23)\", \"Word(idx=22, word='of', pos='IN', word_id=56, pos_id=21)\", \"Word(idx=23, word='qaim', pos='NNP', word_id=59, pos_id=24)\", \"Word(idx=24, word=',', pos=',', word_id=34, pos_id=16)\", \"Word(idx=25, word='near', pos='IN', word_id=54, pos_id=21)\", \"Word(idx=26, word='the', pos='DT', word_id=62, pos_id=19)\", \"Word(idx=27, word='syrian', pos='JJ', word_id=61, pos_id=22)\", \"Word(idx=28, word='border', pos='NN', word_id=43, pos_id=23)\", \"Word(idx=29, word='.', pos='.', word_id=36, pos_id=17)\"]\n",
      "s1 is: Word(idx=3, word='zaman', pos='NNP', word_id=69, pos_id=24)\n",
      "s2 is: Word(idx=0, word='<ROOT>', pos='<POS_ROOT>', word_id=72, pos_id=33)\n",
      "\n",
      "Testing Sentence 10...\n"
     ]
    },
    {
     "data": {
      "text/plain": "<IPython.core.display.HTML object>",
      "text/html": "<span class=\"tex2jax_ignore\"><svg xmlns=\"http://www.w3.org/2000/svg\" xmlns:xlink=\"http://www.w3.org/1999/xlink\" xml:lang=\"en\" id=\"6386e60a42d641b89d776002ece5e7bc-0\" class=\"displacy\" width=\"2150\" height=\"382.0\" direction=\"ltr\" style=\"max-width: none; height: 382.0px; color: #000000; background: #ffffff; font-family: Arial; direction: ltr\">\n<text class=\"displacy-token\" fill=\"currentColor\" text-anchor=\"middle\" y=\"292.0\">\n    <tspan class=\"displacy-word\" fill=\"currentColor\" x=\"50\">&lt;ROOT&gt;</tspan>\n    <tspan class=\"displacy-tag\" dy=\"2em\" fill=\"currentColor\" x=\"50\">POS_ROOT</tspan>\n</text>\n\n<text class=\"displacy-token\" fill=\"currentColor\" text-anchor=\"middle\" y=\"292.0\">\n    <tspan class=\"displacy-word\" fill=\"currentColor\" x=\"120\">al</tspan>\n    <tspan class=\"displacy-tag\" dy=\"2em\" fill=\"currentColor\" x=\"120\">NNP</tspan>\n</text>\n\n<text class=\"displacy-token\" fill=\"currentColor\" text-anchor=\"middle\" y=\"292.0\">\n    <tspan class=\"displacy-word\" fill=\"currentColor\" x=\"190\">-</tspan>\n    <tspan class=\"displacy-tag\" dy=\"2em\" fill=\"currentColor\" x=\"190\">HYPH</tspan>\n</text>\n\n<text class=\"displacy-token\" fill=\"currentColor\" text-anchor=\"middle\" y=\"292.0\">\n    <tspan class=\"displacy-word\" fill=\"currentColor\" x=\"260\">zaman</tspan>\n    <tspan class=\"displacy-tag\" dy=\"2em\" fill=\"currentColor\" x=\"260\">NNP</tspan>\n</text>\n\n<text class=\"displacy-token\" fill=\"currentColor\" text-anchor=\"middle\" y=\"292.0\">\n    <tspan class=\"displacy-word\" fill=\"currentColor\" x=\"330\">:</tspan>\n    <tspan class=\"displacy-tag\" dy=\"2em\" fill=\"currentColor\" x=\"330\">:</tspan>\n</text>\n\n<text class=\"displacy-token\" fill=\"currentColor\" text-anchor=\"middle\" y=\"292.0\">\n    <tspan class=\"displacy-word\" fill=\"currentColor\" x=\"400\">american</tspan>\n    <tspan class=\"displacy-tag\" dy=\"2em\" fill=\"currentColor\" x=\"400\">JJ</tspan>\n</text>\n\n<text class=\"displacy-token\" fill=\"currentColor\" text-anchor=\"middle\" y=\"292.0\">\n    <tspan class=\"displacy-word\" fill=\"currentColor\" x=\"470\">forces</tspan>\n    <tspan class=\"displacy-tag\" dy=\"2em\" fill=\"currentColor\" x=\"470\">NNS</tspan>\n</text>\n\n<text class=\"displacy-token\" fill=\"currentColor\" text-anchor=\"middle\" y=\"292.0\">\n    <tspan class=\"displacy-word\" fill=\"currentColor\" x=\"540\">killed</tspan>\n    <tspan class=\"displacy-tag\" dy=\"2em\" fill=\"currentColor\" x=\"540\">VBD</tspan>\n</text>\n\n<text class=\"displacy-token\" fill=\"currentColor\" text-anchor=\"middle\" y=\"292.0\">\n    <tspan class=\"displacy-word\" fill=\"currentColor\" x=\"610\">shaikh</tspan>\n    <tspan class=\"displacy-tag\" dy=\"2em\" fill=\"currentColor\" x=\"610\">NNP</tspan>\n</text>\n\n<text class=\"displacy-token\" fill=\"currentColor\" text-anchor=\"middle\" y=\"292.0\">\n    <tspan class=\"displacy-word\" fill=\"currentColor\" x=\"680\">abdullah</tspan>\n    <tspan class=\"displacy-tag\" dy=\"2em\" fill=\"currentColor\" x=\"680\">NNP</tspan>\n</text>\n\n<text class=\"displacy-token\" fill=\"currentColor\" text-anchor=\"middle\" y=\"292.0\">\n    <tspan class=\"displacy-word\" fill=\"currentColor\" x=\"750\">al</tspan>\n    <tspan class=\"displacy-tag\" dy=\"2em\" fill=\"currentColor\" x=\"750\">NNP</tspan>\n</text>\n\n<text class=\"displacy-token\" fill=\"currentColor\" text-anchor=\"middle\" y=\"292.0\">\n    <tspan class=\"displacy-word\" fill=\"currentColor\" x=\"820\">-</tspan>\n    <tspan class=\"displacy-tag\" dy=\"2em\" fill=\"currentColor\" x=\"820\">HYPH</tspan>\n</text>\n\n<text class=\"displacy-token\" fill=\"currentColor\" text-anchor=\"middle\" y=\"292.0\">\n    <tspan class=\"displacy-word\" fill=\"currentColor\" x=\"890\">ani</tspan>\n    <tspan class=\"displacy-tag\" dy=\"2em\" fill=\"currentColor\" x=\"890\">NNP</tspan>\n</text>\n\n<text class=\"displacy-token\" fill=\"currentColor\" text-anchor=\"middle\" y=\"292.0\">\n    <tspan class=\"displacy-word\" fill=\"currentColor\" x=\"960\">,</tspan>\n    <tspan class=\"displacy-tag\" dy=\"2em\" fill=\"currentColor\" x=\"960\">,</tspan>\n</text>\n\n<text class=\"displacy-token\" fill=\"currentColor\" text-anchor=\"middle\" y=\"292.0\">\n    <tspan class=\"displacy-word\" fill=\"currentColor\" x=\"1030\">the</tspan>\n    <tspan class=\"displacy-tag\" dy=\"2em\" fill=\"currentColor\" x=\"1030\">DT</tspan>\n</text>\n\n<text class=\"displacy-token\" fill=\"currentColor\" text-anchor=\"middle\" y=\"292.0\">\n    <tspan class=\"displacy-word\" fill=\"currentColor\" x=\"1100\">preacher</tspan>\n    <tspan class=\"displacy-tag\" dy=\"2em\" fill=\"currentColor\" x=\"1100\">NN</tspan>\n</text>\n\n<text class=\"displacy-token\" fill=\"currentColor\" text-anchor=\"middle\" y=\"292.0\">\n    <tspan class=\"displacy-word\" fill=\"currentColor\" x=\"1170\">at</tspan>\n    <tspan class=\"displacy-tag\" dy=\"2em\" fill=\"currentColor\" x=\"1170\">IN</tspan>\n</text>\n\n<text class=\"displacy-token\" fill=\"currentColor\" text-anchor=\"middle\" y=\"292.0\">\n    <tspan class=\"displacy-word\" fill=\"currentColor\" x=\"1240\">the</tspan>\n    <tspan class=\"displacy-tag\" dy=\"2em\" fill=\"currentColor\" x=\"1240\">DT</tspan>\n</text>\n\n<text class=\"displacy-token\" fill=\"currentColor\" text-anchor=\"middle\" y=\"292.0\">\n    <tspan class=\"displacy-word\" fill=\"currentColor\" x=\"1310\">mosque</tspan>\n    <tspan class=\"displacy-tag\" dy=\"2em\" fill=\"currentColor\" x=\"1310\">NN</tspan>\n</text>\n\n<text class=\"displacy-token\" fill=\"currentColor\" text-anchor=\"middle\" y=\"292.0\">\n    <tspan class=\"displacy-word\" fill=\"currentColor\" x=\"1380\">in</tspan>\n    <tspan class=\"displacy-tag\" dy=\"2em\" fill=\"currentColor\" x=\"1380\">IN</tspan>\n</text>\n\n<text class=\"displacy-token\" fill=\"currentColor\" text-anchor=\"middle\" y=\"292.0\">\n    <tspan class=\"displacy-word\" fill=\"currentColor\" x=\"1450\">the</tspan>\n    <tspan class=\"displacy-tag\" dy=\"2em\" fill=\"currentColor\" x=\"1450\">DT</tspan>\n</text>\n\n<text class=\"displacy-token\" fill=\"currentColor\" text-anchor=\"middle\" y=\"292.0\">\n    <tspan class=\"displacy-word\" fill=\"currentColor\" x=\"1520\">town</tspan>\n    <tspan class=\"displacy-tag\" dy=\"2em\" fill=\"currentColor\" x=\"1520\">NN</tspan>\n</text>\n\n<text class=\"displacy-token\" fill=\"currentColor\" text-anchor=\"middle\" y=\"292.0\">\n    <tspan class=\"displacy-word\" fill=\"currentColor\" x=\"1590\">of</tspan>\n    <tspan class=\"displacy-tag\" dy=\"2em\" fill=\"currentColor\" x=\"1590\">IN</tspan>\n</text>\n\n<text class=\"displacy-token\" fill=\"currentColor\" text-anchor=\"middle\" y=\"292.0\">\n    <tspan class=\"displacy-word\" fill=\"currentColor\" x=\"1660\">qaim</tspan>\n    <tspan class=\"displacy-tag\" dy=\"2em\" fill=\"currentColor\" x=\"1660\">NNP</tspan>\n</text>\n\n<text class=\"displacy-token\" fill=\"currentColor\" text-anchor=\"middle\" y=\"292.0\">\n    <tspan class=\"displacy-word\" fill=\"currentColor\" x=\"1730\">,</tspan>\n    <tspan class=\"displacy-tag\" dy=\"2em\" fill=\"currentColor\" x=\"1730\">,</tspan>\n</text>\n\n<text class=\"displacy-token\" fill=\"currentColor\" text-anchor=\"middle\" y=\"292.0\">\n    <tspan class=\"displacy-word\" fill=\"currentColor\" x=\"1800\">near</tspan>\n    <tspan class=\"displacy-tag\" dy=\"2em\" fill=\"currentColor\" x=\"1800\">IN</tspan>\n</text>\n\n<text class=\"displacy-token\" fill=\"currentColor\" text-anchor=\"middle\" y=\"292.0\">\n    <tspan class=\"displacy-word\" fill=\"currentColor\" x=\"1870\">the</tspan>\n    <tspan class=\"displacy-tag\" dy=\"2em\" fill=\"currentColor\" x=\"1870\">DT</tspan>\n</text>\n\n<text class=\"displacy-token\" fill=\"currentColor\" text-anchor=\"middle\" y=\"292.0\">\n    <tspan class=\"displacy-word\" fill=\"currentColor\" x=\"1940\">syrian</tspan>\n    <tspan class=\"displacy-tag\" dy=\"2em\" fill=\"currentColor\" x=\"1940\">JJ</tspan>\n</text>\n\n<text class=\"displacy-token\" fill=\"currentColor\" text-anchor=\"middle\" y=\"292.0\">\n    <tspan class=\"displacy-word\" fill=\"currentColor\" x=\"2010\">border</tspan>\n    <tspan class=\"displacy-tag\" dy=\"2em\" fill=\"currentColor\" x=\"2010\">NN</tspan>\n</text>\n\n<text class=\"displacy-token\" fill=\"currentColor\" text-anchor=\"middle\" y=\"292.0\">\n    <tspan class=\"displacy-word\" fill=\"currentColor\" x=\"2080\">.</tspan>\n    <tspan class=\"displacy-tag\" dy=\"2em\" fill=\"currentColor\" x=\"2080\">.</tspan>\n</text>\n\n<g class=\"displacy-arrow\">\n    <path class=\"displacy-arc\" id=\"arrow-6386e60a42d641b89d776002ece5e7bc-0-0\" stroke-width=\"2px\" d=\"M140,247.0 C140,177.0 235.0,177.0 235.0,247.0\" fill=\"none\" stroke=\"currentColor\"/>\n    <text dy=\"1.25em\" style=\"font-size: 0.8em; letter-spacing: 1px\">\n        <textPath xlink:href=\"#arrow-6386e60a42d641b89d776002ece5e7bc-0-0\" class=\"displacy-label\" startOffset=\"50%\" side=\"left\" fill=\"currentColor\" text-anchor=\"middle\">name</textPath>\n    </text>\n    <path class=\"displacy-arrowhead\" d=\"M140,249.0 L132,237.0 148,237.0\" fill=\"currentColor\"/>\n</g>\n\n<g class=\"displacy-arrow\">\n    <path class=\"displacy-arc\" id=\"arrow-6386e60a42d641b89d776002ece5e7bc-0-1\" stroke-width=\"2px\" d=\"M210,247.0 C210,212.0 230.0,212.0 230.0,247.0\" fill=\"none\" stroke=\"currentColor\"/>\n    <text dy=\"1.25em\" style=\"font-size: 0.8em; letter-spacing: 1px\">\n        <textPath xlink:href=\"#arrow-6386e60a42d641b89d776002ece5e7bc-0-1\" class=\"displacy-label\" startOffset=\"50%\" side=\"left\" fill=\"currentColor\" text-anchor=\"middle\">punct</textPath>\n    </text>\n    <path class=\"displacy-arrowhead\" d=\"M210,249.0 L202,237.0 218,237.0\" fill=\"currentColor\"/>\n</g>\n\n<g class=\"displacy-arrow\">\n    <path class=\"displacy-arc\" id=\"arrow-6386e60a42d641b89d776002ece5e7bc-0-2\" stroke-width=\"2px\" d=\"M70,247.0 C70,142.0 240.0,142.0 240.0,247.0\" fill=\"none\" stroke=\"currentColor\"/>\n    <text dy=\"1.25em\" style=\"font-size: 0.8em; letter-spacing: 1px\">\n        <textPath xlink:href=\"#arrow-6386e60a42d641b89d776002ece5e7bc-0-2\" class=\"displacy-label\" startOffset=\"50%\" side=\"left\" fill=\"currentColor\" text-anchor=\"middle\">root</textPath>\n    </text>\n    <path class=\"displacy-arrowhead\" d=\"M240.0,249.0 L248.0,237.0 232.0,237.0\" fill=\"currentColor\"/>\n</g>\n\n<g class=\"displacy-arrow\">\n    <path class=\"displacy-arc\" id=\"arrow-6386e60a42d641b89d776002ece5e7bc-0-3\" stroke-width=\"2px\" d=\"M280,247.0 C280,212.0 300.0,212.0 300.0,247.0\" fill=\"none\" stroke=\"currentColor\"/>\n    <text dy=\"1.25em\" style=\"font-size: 0.8em; letter-spacing: 1px\">\n        <textPath xlink:href=\"#arrow-6386e60a42d641b89d776002ece5e7bc-0-3\" class=\"displacy-label\" startOffset=\"50%\" side=\"left\" fill=\"currentColor\" text-anchor=\"middle\">punct</textPath>\n    </text>\n    <path class=\"displacy-arrowhead\" d=\"M300.0,249.0 L308.0,237.0 292.0,237.0\" fill=\"currentColor\"/>\n</g>\n\n<g class=\"displacy-arrow\">\n    <path class=\"displacy-arc\" id=\"arrow-6386e60a42d641b89d776002ece5e7bc-0-4\" stroke-width=\"2px\" d=\"M420,247.0 C420,212.0 440.0,212.0 440.0,247.0\" fill=\"none\" stroke=\"currentColor\"/>\n    <text dy=\"1.25em\" style=\"font-size: 0.8em; letter-spacing: 1px\">\n        <textPath xlink:href=\"#arrow-6386e60a42d641b89d776002ece5e7bc-0-4\" class=\"displacy-label\" startOffset=\"50%\" side=\"left\" fill=\"currentColor\" text-anchor=\"middle\">amod</textPath>\n    </text>\n    <path class=\"displacy-arrowhead\" d=\"M420,249.0 L412,237.0 428,237.0\" fill=\"currentColor\"/>\n</g>\n\n<g class=\"displacy-arrow\">\n    <path class=\"displacy-arc\" id=\"arrow-6386e60a42d641b89d776002ece5e7bc-0-5\" stroke-width=\"2px\" d=\"M490,247.0 C490,212.0 510.0,212.0 510.0,247.0\" fill=\"none\" stroke=\"currentColor\"/>\n    <text dy=\"1.25em\" style=\"font-size: 0.8em; letter-spacing: 1px\">\n        <textPath xlink:href=\"#arrow-6386e60a42d641b89d776002ece5e7bc-0-5\" class=\"displacy-label\" startOffset=\"50%\" side=\"left\" fill=\"currentColor\" text-anchor=\"middle\">nsubj</textPath>\n    </text>\n    <path class=\"displacy-arrowhead\" d=\"M490,249.0 L482,237.0 498,237.0\" fill=\"currentColor\"/>\n</g>\n\n<g class=\"displacy-arrow\">\n    <path class=\"displacy-arc\" id=\"arrow-6386e60a42d641b89d776002ece5e7bc-0-6\" stroke-width=\"2px\" d=\"M280,247.0 C280,177.0 515.0,177.0 515.0,247.0\" fill=\"none\" stroke=\"currentColor\"/>\n    <text dy=\"1.25em\" style=\"font-size: 0.8em; letter-spacing: 1px\">\n        <textPath xlink:href=\"#arrow-6386e60a42d641b89d776002ece5e7bc-0-6\" class=\"displacy-label\" startOffset=\"50%\" side=\"left\" fill=\"currentColor\" text-anchor=\"middle\">parataxis</textPath>\n    </text>\n    <path class=\"displacy-arrowhead\" d=\"M515.0,249.0 L523.0,237.0 507.0,237.0\" fill=\"currentColor\"/>\n</g>\n\n<g class=\"displacy-arrow\">\n    <path class=\"displacy-arc\" id=\"arrow-6386e60a42d641b89d776002ece5e7bc-0-7\" stroke-width=\"2px\" d=\"M630,247.0 C630,107.0 875.0,107.0 875.0,247.0\" fill=\"none\" stroke=\"currentColor\"/>\n    <text dy=\"1.25em\" style=\"font-size: 0.8em; letter-spacing: 1px\">\n        <textPath xlink:href=\"#arrow-6386e60a42d641b89d776002ece5e7bc-0-7\" class=\"displacy-label\" startOffset=\"50%\" side=\"left\" fill=\"currentColor\" text-anchor=\"middle\">name</textPath>\n    </text>\n    <path class=\"displacy-arrowhead\" d=\"M630,249.0 L622,237.0 638,237.0\" fill=\"currentColor\"/>\n</g>\n\n<g class=\"displacy-arrow\">\n    <path class=\"displacy-arc\" id=\"arrow-6386e60a42d641b89d776002ece5e7bc-0-8\" stroke-width=\"2px\" d=\"M700,247.0 C700,142.0 870.0,142.0 870.0,247.0\" fill=\"none\" stroke=\"currentColor\"/>\n    <text dy=\"1.25em\" style=\"font-size: 0.8em; letter-spacing: 1px\">\n        <textPath xlink:href=\"#arrow-6386e60a42d641b89d776002ece5e7bc-0-8\" class=\"displacy-label\" startOffset=\"50%\" side=\"left\" fill=\"currentColor\" text-anchor=\"middle\">name</textPath>\n    </text>\n    <path class=\"displacy-arrowhead\" d=\"M700,249.0 L692,237.0 708,237.0\" fill=\"currentColor\"/>\n</g>\n\n<g class=\"displacy-arrow\">\n    <path class=\"displacy-arc\" id=\"arrow-6386e60a42d641b89d776002ece5e7bc-0-9\" stroke-width=\"2px\" d=\"M770,247.0 C770,177.0 865.0,177.0 865.0,247.0\" fill=\"none\" stroke=\"currentColor\"/>\n    <text dy=\"1.25em\" style=\"font-size: 0.8em; letter-spacing: 1px\">\n        <textPath xlink:href=\"#arrow-6386e60a42d641b89d776002ece5e7bc-0-9\" class=\"displacy-label\" startOffset=\"50%\" side=\"left\" fill=\"currentColor\" text-anchor=\"middle\">name</textPath>\n    </text>\n    <path class=\"displacy-arrowhead\" d=\"M770,249.0 L762,237.0 778,237.0\" fill=\"currentColor\"/>\n</g>\n\n<g class=\"displacy-arrow\">\n    <path class=\"displacy-arc\" id=\"arrow-6386e60a42d641b89d776002ece5e7bc-0-10\" stroke-width=\"2px\" d=\"M840,247.0 C840,212.0 860.0,212.0 860.0,247.0\" fill=\"none\" stroke=\"currentColor\"/>\n    <text dy=\"1.25em\" style=\"font-size: 0.8em; letter-spacing: 1px\">\n        <textPath xlink:href=\"#arrow-6386e60a42d641b89d776002ece5e7bc-0-10\" class=\"displacy-label\" startOffset=\"50%\" side=\"left\" fill=\"currentColor\" text-anchor=\"middle\">punct</textPath>\n    </text>\n    <path class=\"displacy-arrowhead\" d=\"M840,249.0 L832,237.0 848,237.0\" fill=\"currentColor\"/>\n</g>\n\n<g class=\"displacy-arrow\">\n    <path class=\"displacy-arc\" id=\"arrow-6386e60a42d641b89d776002ece5e7bc-0-11\" stroke-width=\"2px\" d=\"M560,247.0 C560,72.0 880.0,72.0 880.0,247.0\" fill=\"none\" stroke=\"currentColor\"/>\n    <text dy=\"1.25em\" style=\"font-size: 0.8em; letter-spacing: 1px\">\n        <textPath xlink:href=\"#arrow-6386e60a42d641b89d776002ece5e7bc-0-11\" class=\"displacy-label\" startOffset=\"50%\" side=\"left\" fill=\"currentColor\" text-anchor=\"middle\">dobj</textPath>\n    </text>\n    <path class=\"displacy-arrowhead\" d=\"M880.0,249.0 L888.0,237.0 872.0,237.0\" fill=\"currentColor\"/>\n</g>\n\n<g class=\"displacy-arrow\">\n    <path class=\"displacy-arc\" id=\"arrow-6386e60a42d641b89d776002ece5e7bc-0-12\" stroke-width=\"2px\" d=\"M910,247.0 C910,212.0 930.0,212.0 930.0,247.0\" fill=\"none\" stroke=\"currentColor\"/>\n    <text dy=\"1.25em\" style=\"font-size: 0.8em; letter-spacing: 1px\">\n        <textPath xlink:href=\"#arrow-6386e60a42d641b89d776002ece5e7bc-0-12\" class=\"displacy-label\" startOffset=\"50%\" side=\"left\" fill=\"currentColor\" text-anchor=\"middle\">punct</textPath>\n    </text>\n    <path class=\"displacy-arrowhead\" d=\"M930.0,249.0 L938.0,237.0 922.0,237.0\" fill=\"currentColor\"/>\n</g>\n\n<g class=\"displacy-arrow\">\n    <path class=\"displacy-arc\" id=\"arrow-6386e60a42d641b89d776002ece5e7bc-0-13\" stroke-width=\"2px\" d=\"M1050,247.0 C1050,212.0 1070.0,212.0 1070.0,247.0\" fill=\"none\" stroke=\"currentColor\"/>\n    <text dy=\"1.25em\" style=\"font-size: 0.8em; letter-spacing: 1px\">\n        <textPath xlink:href=\"#arrow-6386e60a42d641b89d776002ece5e7bc-0-13\" class=\"displacy-label\" startOffset=\"50%\" side=\"left\" fill=\"currentColor\" text-anchor=\"middle\">det</textPath>\n    </text>\n    <path class=\"displacy-arrowhead\" d=\"M1050,249.0 L1042,237.0 1058,237.0\" fill=\"currentColor\"/>\n</g>\n\n<g class=\"displacy-arrow\">\n    <path class=\"displacy-arc\" id=\"arrow-6386e60a42d641b89d776002ece5e7bc-0-14\" stroke-width=\"2px\" d=\"M910,247.0 C910,177.0 1075.0,177.0 1075.0,247.0\" fill=\"none\" stroke=\"currentColor\"/>\n    <text dy=\"1.25em\" style=\"font-size: 0.8em; letter-spacing: 1px\">\n        <textPath xlink:href=\"#arrow-6386e60a42d641b89d776002ece5e7bc-0-14\" class=\"displacy-label\" startOffset=\"50%\" side=\"left\" fill=\"currentColor\" text-anchor=\"middle\">appos</textPath>\n    </text>\n    <path class=\"displacy-arrowhead\" d=\"M1075.0,249.0 L1083.0,237.0 1067.0,237.0\" fill=\"currentColor\"/>\n</g>\n\n<g class=\"displacy-arrow\">\n    <path class=\"displacy-arc\" id=\"arrow-6386e60a42d641b89d776002ece5e7bc-0-15\" stroke-width=\"2px\" d=\"M1190,247.0 C1190,177.0 1285.0,177.0 1285.0,247.0\" fill=\"none\" stroke=\"currentColor\"/>\n    <text dy=\"1.25em\" style=\"font-size: 0.8em; letter-spacing: 1px\">\n        <textPath xlink:href=\"#arrow-6386e60a42d641b89d776002ece5e7bc-0-15\" class=\"displacy-label\" startOffset=\"50%\" side=\"left\" fill=\"currentColor\" text-anchor=\"middle\">case</textPath>\n    </text>\n    <path class=\"displacy-arrowhead\" d=\"M1190,249.0 L1182,237.0 1198,237.0\" fill=\"currentColor\"/>\n</g>\n\n<g class=\"displacy-arrow\">\n    <path class=\"displacy-arc\" id=\"arrow-6386e60a42d641b89d776002ece5e7bc-0-16\" stroke-width=\"2px\" d=\"M1260,247.0 C1260,212.0 1280.0,212.0 1280.0,247.0\" fill=\"none\" stroke=\"currentColor\"/>\n    <text dy=\"1.25em\" style=\"font-size: 0.8em; letter-spacing: 1px\">\n        <textPath xlink:href=\"#arrow-6386e60a42d641b89d776002ece5e7bc-0-16\" class=\"displacy-label\" startOffset=\"50%\" side=\"left\" fill=\"currentColor\" text-anchor=\"middle\">det</textPath>\n    </text>\n    <path class=\"displacy-arrowhead\" d=\"M1260,249.0 L1252,237.0 1268,237.0\" fill=\"currentColor\"/>\n</g>\n\n<g class=\"displacy-arrow\">\n    <path class=\"displacy-arc\" id=\"arrow-6386e60a42d641b89d776002ece5e7bc-0-17\" stroke-width=\"2px\" d=\"M560,247.0 C560,37.0 1305.0,37.0 1305.0,247.0\" fill=\"none\" stroke=\"currentColor\"/>\n    <text dy=\"1.25em\" style=\"font-size: 0.8em; letter-spacing: 1px\">\n        <textPath xlink:href=\"#arrow-6386e60a42d641b89d776002ece5e7bc-0-17\" class=\"displacy-label\" startOffset=\"50%\" side=\"left\" fill=\"currentColor\" text-anchor=\"middle\">nmod</textPath>\n    </text>\n    <path class=\"displacy-arrowhead\" d=\"M1305.0,249.0 L1313.0,237.0 1297.0,237.0\" fill=\"currentColor\"/>\n</g>\n\n<g class=\"displacy-arrow\">\n    <path class=\"displacy-arc\" id=\"arrow-6386e60a42d641b89d776002ece5e7bc-0-18\" stroke-width=\"2px\" d=\"M1400,247.0 C1400,177.0 1495.0,177.0 1495.0,247.0\" fill=\"none\" stroke=\"currentColor\"/>\n    <text dy=\"1.25em\" style=\"font-size: 0.8em; letter-spacing: 1px\">\n        <textPath xlink:href=\"#arrow-6386e60a42d641b89d776002ece5e7bc-0-18\" class=\"displacy-label\" startOffset=\"50%\" side=\"left\" fill=\"currentColor\" text-anchor=\"middle\">case</textPath>\n    </text>\n    <path class=\"displacy-arrowhead\" d=\"M1400,249.0 L1392,237.0 1408,237.0\" fill=\"currentColor\"/>\n</g>\n\n<g class=\"displacy-arrow\">\n    <path class=\"displacy-arc\" id=\"arrow-6386e60a42d641b89d776002ece5e7bc-0-19\" stroke-width=\"2px\" d=\"M1470,247.0 C1470,212.0 1490.0,212.0 1490.0,247.0\" fill=\"none\" stroke=\"currentColor\"/>\n    <text dy=\"1.25em\" style=\"font-size: 0.8em; letter-spacing: 1px\">\n        <textPath xlink:href=\"#arrow-6386e60a42d641b89d776002ece5e7bc-0-19\" class=\"displacy-label\" startOffset=\"50%\" side=\"left\" fill=\"currentColor\" text-anchor=\"middle\">det</textPath>\n    </text>\n    <path class=\"displacy-arrowhead\" d=\"M1470,249.0 L1462,237.0 1478,237.0\" fill=\"currentColor\"/>\n</g>\n\n<g class=\"displacy-arrow\">\n    <path class=\"displacy-arc\" id=\"arrow-6386e60a42d641b89d776002ece5e7bc-0-20\" stroke-width=\"2px\" d=\"M1330,247.0 C1330,142.0 1500.0,142.0 1500.0,247.0\" fill=\"none\" stroke=\"currentColor\"/>\n    <text dy=\"1.25em\" style=\"font-size: 0.8em; letter-spacing: 1px\">\n        <textPath xlink:href=\"#arrow-6386e60a42d641b89d776002ece5e7bc-0-20\" class=\"displacy-label\" startOffset=\"50%\" side=\"left\" fill=\"currentColor\" text-anchor=\"middle\">nmod</textPath>\n    </text>\n    <path class=\"displacy-arrowhead\" d=\"M1500.0,249.0 L1508.0,237.0 1492.0,237.0\" fill=\"currentColor\"/>\n</g>\n\n<g class=\"displacy-arrow\">\n    <path class=\"displacy-arc\" id=\"arrow-6386e60a42d641b89d776002ece5e7bc-0-21\" stroke-width=\"2px\" d=\"M1610,247.0 C1610,212.0 1630.0,212.0 1630.0,247.0\" fill=\"none\" stroke=\"currentColor\"/>\n    <text dy=\"1.25em\" style=\"font-size: 0.8em; letter-spacing: 1px\">\n        <textPath xlink:href=\"#arrow-6386e60a42d641b89d776002ece5e7bc-0-21\" class=\"displacy-label\" startOffset=\"50%\" side=\"left\" fill=\"currentColor\" text-anchor=\"middle\">case</textPath>\n    </text>\n    <path class=\"displacy-arrowhead\" d=\"M1610,249.0 L1602,237.0 1618,237.0\" fill=\"currentColor\"/>\n</g>\n\n<g class=\"displacy-arrow\">\n    <path class=\"displacy-arc\" id=\"arrow-6386e60a42d641b89d776002ece5e7bc-0-22\" stroke-width=\"2px\" d=\"M1540,247.0 C1540,177.0 1635.0,177.0 1635.0,247.0\" fill=\"none\" stroke=\"currentColor\"/>\n    <text dy=\"1.25em\" style=\"font-size: 0.8em; letter-spacing: 1px\">\n        <textPath xlink:href=\"#arrow-6386e60a42d641b89d776002ece5e7bc-0-22\" class=\"displacy-label\" startOffset=\"50%\" side=\"left\" fill=\"currentColor\" text-anchor=\"middle\">nmod</textPath>\n    </text>\n    <path class=\"displacy-arrowhead\" d=\"M1635.0,249.0 L1643.0,237.0 1627.0,237.0\" fill=\"currentColor\"/>\n</g>\n\n<g class=\"displacy-arrow\">\n    <path class=\"displacy-arc\" id=\"arrow-6386e60a42d641b89d776002ece5e7bc-0-23\" stroke-width=\"2px\" d=\"M1540,247.0 C1540,142.0 1710.0,142.0 1710.0,247.0\" fill=\"none\" stroke=\"currentColor\"/>\n    <text dy=\"1.25em\" style=\"font-size: 0.8em; letter-spacing: 1px\">\n        <textPath xlink:href=\"#arrow-6386e60a42d641b89d776002ece5e7bc-0-23\" class=\"displacy-label\" startOffset=\"50%\" side=\"left\" fill=\"currentColor\" text-anchor=\"middle\">punct</textPath>\n    </text>\n    <path class=\"displacy-arrowhead\" d=\"M1710.0,249.0 L1718.0,237.0 1702.0,237.0\" fill=\"currentColor\"/>\n</g>\n\n<g class=\"displacy-arrow\">\n    <path class=\"displacy-arc\" id=\"arrow-6386e60a42d641b89d776002ece5e7bc-0-24\" stroke-width=\"2px\" d=\"M1820,247.0 C1820,142.0 1990.0,142.0 1990.0,247.0\" fill=\"none\" stroke=\"currentColor\"/>\n    <text dy=\"1.25em\" style=\"font-size: 0.8em; letter-spacing: 1px\">\n        <textPath xlink:href=\"#arrow-6386e60a42d641b89d776002ece5e7bc-0-24\" class=\"displacy-label\" startOffset=\"50%\" side=\"left\" fill=\"currentColor\" text-anchor=\"middle\">case</textPath>\n    </text>\n    <path class=\"displacy-arrowhead\" d=\"M1820,249.0 L1812,237.0 1828,237.0\" fill=\"currentColor\"/>\n</g>\n\n<g class=\"displacy-arrow\">\n    <path class=\"displacy-arc\" id=\"arrow-6386e60a42d641b89d776002ece5e7bc-0-25\" stroke-width=\"2px\" d=\"M1890,247.0 C1890,177.0 1985.0,177.0 1985.0,247.0\" fill=\"none\" stroke=\"currentColor\"/>\n    <text dy=\"1.25em\" style=\"font-size: 0.8em; letter-spacing: 1px\">\n        <textPath xlink:href=\"#arrow-6386e60a42d641b89d776002ece5e7bc-0-25\" class=\"displacy-label\" startOffset=\"50%\" side=\"left\" fill=\"currentColor\" text-anchor=\"middle\">det</textPath>\n    </text>\n    <path class=\"displacy-arrowhead\" d=\"M1890,249.0 L1882,237.0 1898,237.0\" fill=\"currentColor\"/>\n</g>\n\n<g class=\"displacy-arrow\">\n    <path class=\"displacy-arc\" id=\"arrow-6386e60a42d641b89d776002ece5e7bc-0-26\" stroke-width=\"2px\" d=\"M1960,247.0 C1960,212.0 1980.0,212.0 1980.0,247.0\" fill=\"none\" stroke=\"currentColor\"/>\n    <text dy=\"1.25em\" style=\"font-size: 0.8em; letter-spacing: 1px\">\n        <textPath xlink:href=\"#arrow-6386e60a42d641b89d776002ece5e7bc-0-26\" class=\"displacy-label\" startOffset=\"50%\" side=\"left\" fill=\"currentColor\" text-anchor=\"middle\">amod</textPath>\n    </text>\n    <path class=\"displacy-arrowhead\" d=\"M1960,249.0 L1952,237.0 1968,237.0\" fill=\"currentColor\"/>\n</g>\n\n<g class=\"displacy-arrow\">\n    <path class=\"displacy-arc\" id=\"arrow-6386e60a42d641b89d776002ece5e7bc-0-27\" stroke-width=\"2px\" d=\"M1540,247.0 C1540,107.0 1995.0,107.0 1995.0,247.0\" fill=\"none\" stroke=\"currentColor\"/>\n    <text dy=\"1.25em\" style=\"font-size: 0.8em; letter-spacing: 1px\">\n        <textPath xlink:href=\"#arrow-6386e60a42d641b89d776002ece5e7bc-0-27\" class=\"displacy-label\" startOffset=\"50%\" side=\"left\" fill=\"currentColor\" text-anchor=\"middle\">nmod</textPath>\n    </text>\n    <path class=\"displacy-arrowhead\" d=\"M1995.0,249.0 L2003.0,237.0 1987.0,237.0\" fill=\"currentColor\"/>\n</g>\n\n<g class=\"displacy-arrow\">\n    <path class=\"displacy-arc\" id=\"arrow-6386e60a42d641b89d776002ece5e7bc-0-28\" stroke-width=\"2px\" d=\"M280,247.0 C280,2.0 2080.0,2.0 2080.0,247.0\" fill=\"none\" stroke=\"currentColor\"/>\n    <text dy=\"1.25em\" style=\"font-size: 0.8em; letter-spacing: 1px\">\n        <textPath xlink:href=\"#arrow-6386e60a42d641b89d776002ece5e7bc-0-28\" class=\"displacy-label\" startOffset=\"50%\" side=\"left\" fill=\"currentColor\" text-anchor=\"middle\">punct</textPath>\n    </text>\n    <path class=\"displacy-arrowhead\" d=\"M2080.0,249.0 L2088.0,237.0 2072.0,237.0\" fill=\"currentColor\"/>\n</g>\n</svg></span>"
     },
     "metadata": {},
     "output_type": "display_data"
    },
    {
     "name": "stdout",
     "output_type": "stream",
     "text": [
      "gold_dependencies: ['Arc(head_idx=3, dep_idx=1, label_id=10)', 'Arc(head_idx=3, dep_idx=2, label_id=14)', 'Arc(head_idx=0, dep_idx=3, label_id=0)', 'Arc(head_idx=3, dep_idx=4, label_id=14)', 'Arc(head_idx=6, dep_idx=5, label_id=1)', 'Arc(head_idx=7, dep_idx=6, label_id=12)', 'Arc(head_idx=3, dep_idx=7, label_id=13)', 'Arc(head_idx=12, dep_idx=8, label_id=10)', 'Arc(head_idx=12, dep_idx=9, label_id=10)', 'Arc(head_idx=12, dep_idx=10, label_id=10)', 'Arc(head_idx=12, dep_idx=11, label_id=14)', 'Arc(head_idx=7, dep_idx=12, label_id=5)', 'Arc(head_idx=12, dep_idx=13, label_id=14)', 'Arc(head_idx=15, dep_idx=14, label_id=4)', 'Arc(head_idx=12, dep_idx=15, label_id=2)', 'Arc(head_idx=18, dep_idx=16, label_id=3)', 'Arc(head_idx=18, dep_idx=17, label_id=4)', 'Arc(head_idx=7, dep_idx=18, label_id=11)', 'Arc(head_idx=21, dep_idx=19, label_id=3)', 'Arc(head_idx=21, dep_idx=20, label_id=4)', 'Arc(head_idx=18, dep_idx=21, label_id=11)', 'Arc(head_idx=23, dep_idx=22, label_id=3)', 'Arc(head_idx=21, dep_idx=23, label_id=11)', 'Arc(head_idx=21, dep_idx=24, label_id=14)', 'Arc(head_idx=28, dep_idx=25, label_id=3)', 'Arc(head_idx=28, dep_idx=26, label_id=4)', 'Arc(head_idx=28, dep_idx=27, label_id=1)', 'Arc(head_idx=21, dep_idx=28, label_id=11)', 'Arc(head_idx=3, dep_idx=29, label_id=14)']\n",
      "\n",
      "Step 1 | stack: ['<ROOT>']\tbuffer: ['al', '-', 'zaman', ':', 'american', 'forces', 'killed', 'shaikh', 'abdullah', 'al', '-', 'ani', ',', 'the', 'preacher', 'at', 'the', 'mosque', 'in', 'the', 'town', 'of', 'qaim', ',', 'near', 'the', 'syrian', 'border', '.']\n",
      "\tTesting get_gold_action(stack, buffer, gold_dependencies):\n",
      "\t\tYour Result: S\t\tCorrect Result: S\t\tCorrect!\n",
      "\n",
      "Step 2 | stack: ['<ROOT>', 'al']\tbuffer: ['-', 'zaman', ':', 'american', 'forces', 'killed', 'shaikh', 'abdullah', 'al', '-', 'ani', ',', 'the', 'preacher', 'at', 'the', 'mosque', 'in', 'the', 'town', 'of', 'qaim', ',', 'near', 'the', 'syrian', 'border', '.']\n",
      "\tTesting get_gold_action(stack, buffer, gold_dependencies):\n",
      "\t\tYour Result: S\t\tCorrect Result: S\t\tCorrect!\n",
      "\n",
      "Step 3 | stack: ['<ROOT>', 'al', '-']\tbuffer: ['zaman', ':', 'american', 'forces', 'killed', 'shaikh', 'abdullah', 'al', '-', 'ani', ',', 'the', 'preacher', 'at', 'the', 'mosque', 'in', 'the', 'town', 'of', 'qaim', ',', 'near', 'the', 'syrian', 'border', '.']\n",
      "\tTesting get_gold_action(stack, buffer, gold_dependencies):\n",
      "\t\tYour Result: S\t\tCorrect Result: S\t\tCorrect!\n",
      "\n",
      "Step 4 | stack: ['<ROOT>', 'al', '-', 'zaman']\tbuffer: [':', 'american', 'forces', 'killed', 'shaikh', 'abdullah', 'al', '-', 'ani', ',', 'the', 'preacher', 'at', 'the', 'mosque', 'in', 'the', 'town', 'of', 'qaim', ',', 'near', 'the', 'syrian', 'border', '.']\n",
      "\tTesting get_gold_action(stack, buffer, gold_dependencies):\n",
      "\t\tYour Result: LA-punct\t\tCorrect Result: LA-punct\t\tCorrect!\n",
      "\n",
      "Step 5 | stack: ['<ROOT>', 'al', 'zaman']\tbuffer: [':', 'american', 'forces', 'killed', 'shaikh', 'abdullah', 'al', '-', 'ani', ',', 'the', 'preacher', 'at', 'the', 'mosque', 'in', 'the', 'town', 'of', 'qaim', ',', 'near', 'the', 'syrian', 'border', '.']\n",
      "\tTesting get_gold_action(stack, buffer, gold_dependencies):\n",
      "\t\tYour Result: LA-name\t\tCorrect Result: LA-name\t\tCorrect!\n",
      "\n",
      "Step 6 | stack: ['<ROOT>', 'zaman']\tbuffer: [':', 'american', 'forces', 'killed', 'shaikh', 'abdullah', 'al', '-', 'ani', ',', 'the', 'preacher', 'at', 'the', 'mosque', 'in', 'the', 'town', 'of', 'qaim', ',', 'near', 'the', 'syrian', 'border', '.']\n",
      "\tTesting get_gold_action(stack, buffer, gold_dependencies):\n",
      "\t\tYour Result: None\t\tCorrect Result: S\n",
      "\t\tIncorrect! Halting parse of this sentence.\n",
      "\n",
      "\n",
      "Test Sentence 10 failed.\n",
      "\n",
      "----------------------------------------------------------------------------------------------------\n",
      "\n",
      "3 / 10 = 30.0% of test cases passed!\n"
     ]
    }
   ],
   "source": [
    "if __name__ == '__main__':\n",
    "    # sanityCheck(get_gold_action, to_print='incorrect', do_raise=True)\n",
    "    sanityCheck(get_gold_action, to_print='all', do_raise=True)"
   ]
  },
  {
   "cell_type": "markdown",
   "metadata": {
    "id": "FgGQNEEAp8o3"
   },
   "source": [
    "## <font color='red'>TODO</font>: Generate Training Examples [8 points]\n",
    "\n",
    "\n",
    "Now you will write a function to generate the training examples. Recall that each sentence needs to be converted into a series of separate training examples. Each training example will essentially be a partial parser configuration along with its gold action; the goal of the neural network will be to predict this action from the parser configuration.\n",
    "\n",
    "In order to make this prediction, you need to extract features from the parser configuration. You will implement the feature extraction method in a future section; for now, we pass in a dummy function `feat_extract(parser_config)` that returns an empty feature list.\n",
    "\n",
    "This function is worth <b>8 points</b>."
   ]
  },
  {
   "cell_type": "code",
   "execution_count": 16,
   "metadata": {
    "id": "hfrlMo6tkm1M"
   },
   "outputs": [],
   "source": [
    "def generate_training_examples(sentence, gold_dependencies, vocab, feat_extract = lambda parser_config: []):\n",
    "    '''\n",
    "    Create training instances for sentence.\n",
    "    Inputs:\n",
    "        sentence: list of Word objects\n",
    "        gold_dependencies: Dependencies object that contains the complete gold dependency tree\n",
    "        vocab: Vocabulary object\n",
    "        feat_extract: Feature extraction function\n",
    "    Outputs:\n",
    "        training_examples: List of tuples (features, label), where features is a list and label is a string\n",
    "    Pseudocode:\n",
    "        (1) Initialize your parser configuration (note that the __init__ method of ParserConfiguration creates the stack & buffer for you)\n",
    "        (2) Repeatedly call get_gold_action(...) on your current parser confuration until the gold action is 'DONE'\n",
    "        (3) If the gold action is None at any step, return []  (indicating the sentence cannot be parsed; it is non-projective)\n",
    "        (4) Otherwise, append tuple (features, gold action) to training_examples, where features is the result of calling feat_extract on your parser configuration\n",
    "        (5) Update your parser configuration according to the gold action\n",
    "        (6) Return training_examples\n",
    "    '''\n",
    "\n",
    "    training_examples = []\n",
    "\n",
    "    ### TODO ###\n",
    "\n",
    "    return None"
   ]
  },
  {
   "cell_type": "markdown",
   "metadata": {
    "id": "47qifHINttWZ"
   },
   "source": [
    "We provide you with a sanity check for this function on the same test sentences we used above."
   ]
  },
  {
   "cell_type": "code",
   "execution_count": 17,
   "metadata": {
    "id": "A56K5Ku8mhU5"
   },
   "outputs": [
    {
     "name": "stdout",
     "output_type": "stream",
     "text": [
      "Testing Sentence 1...\n"
     ]
    },
    {
     "data": {
      "text/plain": "<IPython.core.display.HTML object>",
      "text/html": "<span class=\"tex2jax_ignore\"><svg xmlns=\"http://www.w3.org/2000/svg\" xmlns:xlink=\"http://www.w3.org/1999/xlink\" xml:lang=\"en\" id=\"3e184eb1fb6a4b2c81556961beb17fdd-0\" class=\"displacy\" width=\"750\" height=\"277.0\" direction=\"ltr\" style=\"max-width: none; height: 277.0px; color: #000000; background: #ffffff; font-family: Arial; direction: ltr\">\n<text class=\"displacy-token\" fill=\"currentColor\" text-anchor=\"middle\" y=\"187.0\">\n    <tspan class=\"displacy-word\" fill=\"currentColor\" x=\"50\">&lt;ROOT&gt;</tspan>\n    <tspan class=\"displacy-tag\" dy=\"2em\" fill=\"currentColor\" x=\"50\">POS_ROOT</tspan>\n</text>\n\n<text class=\"displacy-token\" fill=\"currentColor\" text-anchor=\"middle\" y=\"187.0\">\n    <tspan class=\"displacy-word\" fill=\"currentColor\" x=\"120\">economic</tspan>\n    <tspan class=\"displacy-tag\" dy=\"2em\" fill=\"currentColor\" x=\"120\">JJ</tspan>\n</text>\n\n<text class=\"displacy-token\" fill=\"currentColor\" text-anchor=\"middle\" y=\"187.0\">\n    <tspan class=\"displacy-word\" fill=\"currentColor\" x=\"190\">news</tspan>\n    <tspan class=\"displacy-tag\" dy=\"2em\" fill=\"currentColor\" x=\"190\">NN</tspan>\n</text>\n\n<text class=\"displacy-token\" fill=\"currentColor\" text-anchor=\"middle\" y=\"187.0\">\n    <tspan class=\"displacy-word\" fill=\"currentColor\" x=\"260\">had</tspan>\n    <tspan class=\"displacy-tag\" dy=\"2em\" fill=\"currentColor\" x=\"260\">VBD</tspan>\n</text>\n\n<text class=\"displacy-token\" fill=\"currentColor\" text-anchor=\"middle\" y=\"187.0\">\n    <tspan class=\"displacy-word\" fill=\"currentColor\" x=\"330\">little</tspan>\n    <tspan class=\"displacy-tag\" dy=\"2em\" fill=\"currentColor\" x=\"330\">JJ</tspan>\n</text>\n\n<text class=\"displacy-token\" fill=\"currentColor\" text-anchor=\"middle\" y=\"187.0\">\n    <tspan class=\"displacy-word\" fill=\"currentColor\" x=\"400\">effect</tspan>\n    <tspan class=\"displacy-tag\" dy=\"2em\" fill=\"currentColor\" x=\"400\">NN</tspan>\n</text>\n\n<text class=\"displacy-token\" fill=\"currentColor\" text-anchor=\"middle\" y=\"187.0\">\n    <tspan class=\"displacy-word\" fill=\"currentColor\" x=\"470\">on</tspan>\n    <tspan class=\"displacy-tag\" dy=\"2em\" fill=\"currentColor\" x=\"470\">IN</tspan>\n</text>\n\n<text class=\"displacy-token\" fill=\"currentColor\" text-anchor=\"middle\" y=\"187.0\">\n    <tspan class=\"displacy-word\" fill=\"currentColor\" x=\"540\">financial</tspan>\n    <tspan class=\"displacy-tag\" dy=\"2em\" fill=\"currentColor\" x=\"540\">JJ</tspan>\n</text>\n\n<text class=\"displacy-token\" fill=\"currentColor\" text-anchor=\"middle\" y=\"187.0\">\n    <tspan class=\"displacy-word\" fill=\"currentColor\" x=\"610\">markets</tspan>\n    <tspan class=\"displacy-tag\" dy=\"2em\" fill=\"currentColor\" x=\"610\">NNS</tspan>\n</text>\n\n<text class=\"displacy-token\" fill=\"currentColor\" text-anchor=\"middle\" y=\"187.0\">\n    <tspan class=\"displacy-word\" fill=\"currentColor\" x=\"680\">.</tspan>\n    <tspan class=\"displacy-tag\" dy=\"2em\" fill=\"currentColor\" x=\"680\">.</tspan>\n</text>\n\n<g class=\"displacy-arrow\">\n    <path class=\"displacy-arc\" id=\"arrow-3e184eb1fb6a4b2c81556961beb17fdd-0-0\" stroke-width=\"2px\" d=\"M140,142.0 C140,107.0 175.0,107.0 175.0,142.0\" fill=\"none\" stroke=\"currentColor\"/>\n    <text dy=\"1.25em\" style=\"font-size: 0.8em; letter-spacing: 1px\">\n        <textPath xlink:href=\"#arrow-3e184eb1fb6a4b2c81556961beb17fdd-0-0\" class=\"displacy-label\" startOffset=\"50%\" side=\"left\" fill=\"currentColor\" text-anchor=\"middle\">amod</textPath>\n    </text>\n    <path class=\"displacy-arrowhead\" d=\"M140,144.0 L132,132.0 148,132.0\" fill=\"currentColor\"/>\n</g>\n\n<g class=\"displacy-arrow\">\n    <path class=\"displacy-arc\" id=\"arrow-3e184eb1fb6a4b2c81556961beb17fdd-0-1\" stroke-width=\"2px\" d=\"M210,142.0 C210,107.0 245.0,107.0 245.0,142.0\" fill=\"none\" stroke=\"currentColor\"/>\n    <text dy=\"1.25em\" style=\"font-size: 0.8em; letter-spacing: 1px\">\n        <textPath xlink:href=\"#arrow-3e184eb1fb6a4b2c81556961beb17fdd-0-1\" class=\"displacy-label\" startOffset=\"50%\" side=\"left\" fill=\"currentColor\" text-anchor=\"middle\">nsubj</textPath>\n    </text>\n    <path class=\"displacy-arrowhead\" d=\"M210,144.0 L202,132.0 218,132.0\" fill=\"currentColor\"/>\n</g>\n\n<g class=\"displacy-arrow\">\n    <path class=\"displacy-arc\" id=\"arrow-3e184eb1fb6a4b2c81556961beb17fdd-0-2\" stroke-width=\"2px\" d=\"M70,142.0 C70,72.0 250.0,72.0 250.0,142.0\" fill=\"none\" stroke=\"currentColor\"/>\n    <text dy=\"1.25em\" style=\"font-size: 0.8em; letter-spacing: 1px\">\n        <textPath xlink:href=\"#arrow-3e184eb1fb6a4b2c81556961beb17fdd-0-2\" class=\"displacy-label\" startOffset=\"50%\" side=\"left\" fill=\"currentColor\" text-anchor=\"middle\">root</textPath>\n    </text>\n    <path class=\"displacy-arrowhead\" d=\"M250.0,144.0 L258.0,132.0 242.0,132.0\" fill=\"currentColor\"/>\n</g>\n\n<g class=\"displacy-arrow\">\n    <path class=\"displacy-arc\" id=\"arrow-3e184eb1fb6a4b2c81556961beb17fdd-0-3\" stroke-width=\"2px\" d=\"M350,142.0 C350,107.0 385.0,107.0 385.0,142.0\" fill=\"none\" stroke=\"currentColor\"/>\n    <text dy=\"1.25em\" style=\"font-size: 0.8em; letter-spacing: 1px\">\n        <textPath xlink:href=\"#arrow-3e184eb1fb6a4b2c81556961beb17fdd-0-3\" class=\"displacy-label\" startOffset=\"50%\" side=\"left\" fill=\"currentColor\" text-anchor=\"middle\">amod</textPath>\n    </text>\n    <path class=\"displacy-arrowhead\" d=\"M350,144.0 L342,132.0 358,132.0\" fill=\"currentColor\"/>\n</g>\n\n<g class=\"displacy-arrow\">\n    <path class=\"displacy-arc\" id=\"arrow-3e184eb1fb6a4b2c81556961beb17fdd-0-4\" stroke-width=\"2px\" d=\"M280,142.0 C280,72.0 390.0,72.0 390.0,142.0\" fill=\"none\" stroke=\"currentColor\"/>\n    <text dy=\"1.25em\" style=\"font-size: 0.8em; letter-spacing: 1px\">\n        <textPath xlink:href=\"#arrow-3e184eb1fb6a4b2c81556961beb17fdd-0-4\" class=\"displacy-label\" startOffset=\"50%\" side=\"left\" fill=\"currentColor\" text-anchor=\"middle\">dobj</textPath>\n    </text>\n    <path class=\"displacy-arrowhead\" d=\"M390.0,144.0 L398.0,132.0 382.0,132.0\" fill=\"currentColor\"/>\n</g>\n\n<g class=\"displacy-arrow\">\n    <path class=\"displacy-arc\" id=\"arrow-3e184eb1fb6a4b2c81556961beb17fdd-0-5\" stroke-width=\"2px\" d=\"M490,142.0 C490,72.0 600.0,72.0 600.0,142.0\" fill=\"none\" stroke=\"currentColor\"/>\n    <text dy=\"1.25em\" style=\"font-size: 0.8em; letter-spacing: 1px\">\n        <textPath xlink:href=\"#arrow-3e184eb1fb6a4b2c81556961beb17fdd-0-5\" class=\"displacy-label\" startOffset=\"50%\" side=\"left\" fill=\"currentColor\" text-anchor=\"middle\">case</textPath>\n    </text>\n    <path class=\"displacy-arrowhead\" d=\"M490,144.0 L482,132.0 498,132.0\" fill=\"currentColor\"/>\n</g>\n\n<g class=\"displacy-arrow\">\n    <path class=\"displacy-arc\" id=\"arrow-3e184eb1fb6a4b2c81556961beb17fdd-0-6\" stroke-width=\"2px\" d=\"M560,142.0 C560,107.0 595.0,107.0 595.0,142.0\" fill=\"none\" stroke=\"currentColor\"/>\n    <text dy=\"1.25em\" style=\"font-size: 0.8em; letter-spacing: 1px\">\n        <textPath xlink:href=\"#arrow-3e184eb1fb6a4b2c81556961beb17fdd-0-6\" class=\"displacy-label\" startOffset=\"50%\" side=\"left\" fill=\"currentColor\" text-anchor=\"middle\">amod</textPath>\n    </text>\n    <path class=\"displacy-arrowhead\" d=\"M560,144.0 L552,132.0 568,132.0\" fill=\"currentColor\"/>\n</g>\n\n<g class=\"displacy-arrow\">\n    <path class=\"displacy-arc\" id=\"arrow-3e184eb1fb6a4b2c81556961beb17fdd-0-7\" stroke-width=\"2px\" d=\"M420,142.0 C420,37.0 605.0,37.0 605.0,142.0\" fill=\"none\" stroke=\"currentColor\"/>\n    <text dy=\"1.25em\" style=\"font-size: 0.8em; letter-spacing: 1px\">\n        <textPath xlink:href=\"#arrow-3e184eb1fb6a4b2c81556961beb17fdd-0-7\" class=\"displacy-label\" startOffset=\"50%\" side=\"left\" fill=\"currentColor\" text-anchor=\"middle\">nmod</textPath>\n    </text>\n    <path class=\"displacy-arrowhead\" d=\"M605.0,144.0 L613.0,132.0 597.0,132.0\" fill=\"currentColor\"/>\n</g>\n\n<g class=\"displacy-arrow\">\n    <path class=\"displacy-arc\" id=\"arrow-3e184eb1fb6a4b2c81556961beb17fdd-0-8\" stroke-width=\"2px\" d=\"M280,142.0 C280,2.0 680.0,2.0 680.0,142.0\" fill=\"none\" stroke=\"currentColor\"/>\n    <text dy=\"1.25em\" style=\"font-size: 0.8em; letter-spacing: 1px\">\n        <textPath xlink:href=\"#arrow-3e184eb1fb6a4b2c81556961beb17fdd-0-8\" class=\"displacy-label\" startOffset=\"50%\" side=\"left\" fill=\"currentColor\" text-anchor=\"middle\">punct</textPath>\n    </text>\n    <path class=\"displacy-arrowhead\" d=\"M680.0,144.0 L688.0,132.0 672.0,132.0\" fill=\"currentColor\"/>\n</g>\n</svg></span>"
     },
     "metadata": {},
     "output_type": "display_data"
    },
    {
     "name": "stdout",
     "output_type": "stream",
     "text": [
      "sentence: ['<ROOT>', 'economic', 'news', 'had', 'little', 'effect', 'on', 'financial', 'markets', '.']\tgold_dependencies: ['Arc(head_idx=2, dep_idx=1, label_id=1)', 'Arc(head_idx=3, dep_idx=2, label_id=12)', 'Arc(head_idx=0, dep_idx=3, label_id=0)', 'Arc(head_idx=5, dep_idx=4, label_id=1)', 'Arc(head_idx=3, dep_idx=5, label_id=5)', 'Arc(head_idx=8, dep_idx=6, label_id=3)', 'Arc(head_idx=8, dep_idx=7, label_id=1)', 'Arc(head_idx=5, dep_idx=8, label_id=11)', 'Arc(head_idx=3, dep_idx=9, label_id=14)']\n",
      "\tTesting generate_training_examples(sentence, gold_dependencies, vocab):\n",
      "\t\tYour Training Examples:    None \n",
      "\t\tCorrect Training Examples: [([], 'S'), ([], 'S'), ([], 'LA-amod'), ([], 'S'), ([], 'LA-nsubj'), ([], 'S'), ([], 'S'), ([], 'LA-amod'), ([], 'S'), ([], 'S'), ([], 'S'), ([], 'LA-amod'), ([], 'LA-case'), ([], 'RA-nmod'), ([], 'RA-dobj'), ([], 'S'), ([], 'RA-punct'), ([], 'RA-root')]\n",
      "\t\tIncorrect!\n",
      "\n",
      "\n",
      "Test Sentence 1 failed.\n",
      "\n",
      "---------------------------------------------------------------------------------------------------- \n",
      "\n",
      "Testing Sentence 2...\n"
     ]
    },
    {
     "data": {
      "text/plain": "<IPython.core.display.HTML object>",
      "text/html": "<span class=\"tex2jax_ignore\"><svg xmlns=\"http://www.w3.org/2000/svg\" xmlns:xlink=\"http://www.w3.org/1999/xlink\" xml:lang=\"en\" id=\"7b1c3432c59e42949d59361fcf453b83-0\" class=\"displacy\" width=\"470\" height=\"277.0\" direction=\"ltr\" style=\"max-width: none; height: 277.0px; color: #000000; background: #ffffff; font-family: Arial; direction: ltr\">\n<text class=\"displacy-token\" fill=\"currentColor\" text-anchor=\"middle\" y=\"187.0\">\n    <tspan class=\"displacy-word\" fill=\"currentColor\" x=\"50\">&lt;ROOT&gt;</tspan>\n    <tspan class=\"displacy-tag\" dy=\"2em\" fill=\"currentColor\" x=\"50\">POS_ROOT</tspan>\n</text>\n\n<text class=\"displacy-token\" fill=\"currentColor\" text-anchor=\"middle\" y=\"187.0\">\n    <tspan class=\"displacy-word\" fill=\"currentColor\" x=\"120\">word1</tspan>\n    <tspan class=\"displacy-tag\" dy=\"2em\" fill=\"currentColor\" x=\"120\">pos1</tspan>\n</text>\n\n<text class=\"displacy-token\" fill=\"currentColor\" text-anchor=\"middle\" y=\"187.0\">\n    <tspan class=\"displacy-word\" fill=\"currentColor\" x=\"190\">word2</tspan>\n    <tspan class=\"displacy-tag\" dy=\"2em\" fill=\"currentColor\" x=\"190\">pos2</tspan>\n</text>\n\n<text class=\"displacy-token\" fill=\"currentColor\" text-anchor=\"middle\" y=\"187.0\">\n    <tspan class=\"displacy-word\" fill=\"currentColor\" x=\"260\">word3</tspan>\n    <tspan class=\"displacy-tag\" dy=\"2em\" fill=\"currentColor\" x=\"260\">pos3</tspan>\n</text>\n\n<text class=\"displacy-token\" fill=\"currentColor\" text-anchor=\"middle\" y=\"187.0\">\n    <tspan class=\"displacy-word\" fill=\"currentColor\" x=\"330\">word4</tspan>\n    <tspan class=\"displacy-tag\" dy=\"2em\" fill=\"currentColor\" x=\"330\">pos4</tspan>\n</text>\n\n<text class=\"displacy-token\" fill=\"currentColor\" text-anchor=\"middle\" y=\"187.0\">\n    <tspan class=\"displacy-word\" fill=\"currentColor\" x=\"400\">word5</tspan>\n    <tspan class=\"displacy-tag\" dy=\"2em\" fill=\"currentColor\" x=\"400\">pos5</tspan>\n</text>\n\n<g class=\"displacy-arrow\">\n    <path class=\"displacy-arc\" id=\"arrow-7b1c3432c59e42949d59361fcf453b83-0-0\" stroke-width=\"2px\" d=\"M70,142.0 C70,107.0 105.0,107.0 105.0,142.0\" fill=\"none\" stroke=\"currentColor\"/>\n    <text dy=\"1.25em\" style=\"font-size: 0.8em; letter-spacing: 1px\">\n        <textPath xlink:href=\"#arrow-7b1c3432c59e42949d59361fcf453b83-0-0\" class=\"displacy-label\" startOffset=\"50%\" side=\"left\" fill=\"currentColor\" text-anchor=\"middle\">root</textPath>\n    </text>\n    <path class=\"displacy-arrowhead\" d=\"M105.0,144.0 L113.0,132.0 97.0,132.0\" fill=\"currentColor\"/>\n</g>\n\n<g class=\"displacy-arrow\">\n    <path class=\"displacy-arc\" id=\"arrow-7b1c3432c59e42949d59361fcf453b83-0-1\" stroke-width=\"2px\" d=\"M140,142.0 C140,107.0 175.0,107.0 175.0,142.0\" fill=\"none\" stroke=\"currentColor\"/>\n    <text dy=\"1.25em\" style=\"font-size: 0.8em; letter-spacing: 1px\">\n        <textPath xlink:href=\"#arrow-7b1c3432c59e42949d59361fcf453b83-0-1\" class=\"displacy-label\" startOffset=\"50%\" side=\"left\" fill=\"currentColor\" text-anchor=\"middle\">label1</textPath>\n    </text>\n    <path class=\"displacy-arrowhead\" d=\"M175.0,144.0 L183.0,132.0 167.0,132.0\" fill=\"currentColor\"/>\n</g>\n\n<g class=\"displacy-arrow\">\n    <path class=\"displacy-arc\" id=\"arrow-7b1c3432c59e42949d59361fcf453b83-0-2\" stroke-width=\"2px\" d=\"M140,142.0 C140,72.0 250.0,72.0 250.0,142.0\" fill=\"none\" stroke=\"currentColor\"/>\n    <text dy=\"1.25em\" style=\"font-size: 0.8em; letter-spacing: 1px\">\n        <textPath xlink:href=\"#arrow-7b1c3432c59e42949d59361fcf453b83-0-2\" class=\"displacy-label\" startOffset=\"50%\" side=\"left\" fill=\"currentColor\" text-anchor=\"middle\">label2</textPath>\n    </text>\n    <path class=\"displacy-arrowhead\" d=\"M250.0,144.0 L258.0,132.0 242.0,132.0\" fill=\"currentColor\"/>\n</g>\n\n<g class=\"displacy-arrow\">\n    <path class=\"displacy-arc\" id=\"arrow-7b1c3432c59e42949d59361fcf453b83-0-3\" stroke-width=\"2px\" d=\"M140,142.0 C140,37.0 325.0,37.0 325.0,142.0\" fill=\"none\" stroke=\"currentColor\"/>\n    <text dy=\"1.25em\" style=\"font-size: 0.8em; letter-spacing: 1px\">\n        <textPath xlink:href=\"#arrow-7b1c3432c59e42949d59361fcf453b83-0-3\" class=\"displacy-label\" startOffset=\"50%\" side=\"left\" fill=\"currentColor\" text-anchor=\"middle\">label3</textPath>\n    </text>\n    <path class=\"displacy-arrowhead\" d=\"M325.0,144.0 L333.0,132.0 317.0,132.0\" fill=\"currentColor\"/>\n</g>\n\n<g class=\"displacy-arrow\">\n    <path class=\"displacy-arc\" id=\"arrow-7b1c3432c59e42949d59361fcf453b83-0-4\" stroke-width=\"2px\" d=\"M140,142.0 C140,2.0 400.0,2.0 400.0,142.0\" fill=\"none\" stroke=\"currentColor\"/>\n    <text dy=\"1.25em\" style=\"font-size: 0.8em; letter-spacing: 1px\">\n        <textPath xlink:href=\"#arrow-7b1c3432c59e42949d59361fcf453b83-0-4\" class=\"displacy-label\" startOffset=\"50%\" side=\"left\" fill=\"currentColor\" text-anchor=\"middle\">label4</textPath>\n    </text>\n    <path class=\"displacy-arrowhead\" d=\"M400.0,144.0 L408.0,132.0 392.0,132.0\" fill=\"currentColor\"/>\n</g>\n</svg></span>"
     },
     "metadata": {},
     "output_type": "display_data"
    },
    {
     "name": "stdout",
     "output_type": "stream",
     "text": [
      "sentence: ['<ROOT>', 'word1', 'word2', 'word3', 'word4', 'word5']\tgold_dependencies: ['Arc(head_idx=0, dep_idx=1, label_id=0)', 'Arc(head_idx=1, dep_idx=2, label_id=6)', 'Arc(head_idx=1, dep_idx=3, label_id=7)', 'Arc(head_idx=1, dep_idx=4, label_id=8)', 'Arc(head_idx=1, dep_idx=5, label_id=9)']\n",
      "\tTesting generate_training_examples(sentence, gold_dependencies, vocab):\n",
      "\t\tYour Training Examples:    None \n",
      "\t\tCorrect Training Examples: [([], 'S'), ([], 'S'), ([], 'RA-label1'), ([], 'S'), ([], 'RA-label2'), ([], 'S'), ([], 'RA-label3'), ([], 'S'), ([], 'RA-label4'), ([], 'RA-root')]\n",
      "\t\tIncorrect!\n",
      "\n",
      "\n",
      "Test Sentence 2 failed.\n",
      "\n",
      "---------------------------------------------------------------------------------------------------- \n",
      "\n",
      "Testing Sentence 3...\n"
     ]
    },
    {
     "data": {
      "text/plain": "<IPython.core.display.HTML object>",
      "text/html": "<span class=\"tex2jax_ignore\"><svg xmlns=\"http://www.w3.org/2000/svg\" xmlns:xlink=\"http://www.w3.org/1999/xlink\" xml:lang=\"en\" id=\"84394ca3687343a0a4a91310c8b08cfe-0\" class=\"displacy\" width=\"470\" height=\"312.0\" direction=\"ltr\" style=\"max-width: none; height: 312.0px; color: #000000; background: #ffffff; font-family: Arial; direction: ltr\">\n<text class=\"displacy-token\" fill=\"currentColor\" text-anchor=\"middle\" y=\"222.0\">\n    <tspan class=\"displacy-word\" fill=\"currentColor\" x=\"50\">&lt;ROOT&gt;</tspan>\n    <tspan class=\"displacy-tag\" dy=\"2em\" fill=\"currentColor\" x=\"50\">POS_ROOT</tspan>\n</text>\n\n<text class=\"displacy-token\" fill=\"currentColor\" text-anchor=\"middle\" y=\"222.0\">\n    <tspan class=\"displacy-word\" fill=\"currentColor\" x=\"120\">word1</tspan>\n    <tspan class=\"displacy-tag\" dy=\"2em\" fill=\"currentColor\" x=\"120\">pos1</tspan>\n</text>\n\n<text class=\"displacy-token\" fill=\"currentColor\" text-anchor=\"middle\" y=\"222.0\">\n    <tspan class=\"displacy-word\" fill=\"currentColor\" x=\"190\">word2</tspan>\n    <tspan class=\"displacy-tag\" dy=\"2em\" fill=\"currentColor\" x=\"190\">pos2</tspan>\n</text>\n\n<text class=\"displacy-token\" fill=\"currentColor\" text-anchor=\"middle\" y=\"222.0\">\n    <tspan class=\"displacy-word\" fill=\"currentColor\" x=\"260\">word3</tspan>\n    <tspan class=\"displacy-tag\" dy=\"2em\" fill=\"currentColor\" x=\"260\">pos3</tspan>\n</text>\n\n<text class=\"displacy-token\" fill=\"currentColor\" text-anchor=\"middle\" y=\"222.0\">\n    <tspan class=\"displacy-word\" fill=\"currentColor\" x=\"330\">word4</tspan>\n    <tspan class=\"displacy-tag\" dy=\"2em\" fill=\"currentColor\" x=\"330\">pos4</tspan>\n</text>\n\n<text class=\"displacy-token\" fill=\"currentColor\" text-anchor=\"middle\" y=\"222.0\">\n    <tspan class=\"displacy-word\" fill=\"currentColor\" x=\"400\">word5</tspan>\n    <tspan class=\"displacy-tag\" dy=\"2em\" fill=\"currentColor\" x=\"400\">pos5</tspan>\n</text>\n\n<g class=\"displacy-arrow\">\n    <path class=\"displacy-arc\" id=\"arrow-84394ca3687343a0a4a91310c8b08cfe-0-0\" stroke-width=\"2px\" d=\"M140,177.0 C140,37.0 395.0,37.0 395.0,177.0\" fill=\"none\" stroke=\"currentColor\"/>\n    <text dy=\"1.25em\" style=\"font-size: 0.8em; letter-spacing: 1px\">\n        <textPath xlink:href=\"#arrow-84394ca3687343a0a4a91310c8b08cfe-0-0\" class=\"displacy-label\" startOffset=\"50%\" side=\"left\" fill=\"currentColor\" text-anchor=\"middle\">label1</textPath>\n    </text>\n    <path class=\"displacy-arrowhead\" d=\"M140,179.0 L132,167.0 148,167.0\" fill=\"currentColor\"/>\n</g>\n\n<g class=\"displacy-arrow\">\n    <path class=\"displacy-arc\" id=\"arrow-84394ca3687343a0a4a91310c8b08cfe-0-1\" stroke-width=\"2px\" d=\"M210,177.0 C210,72.0 390.0,72.0 390.0,177.0\" fill=\"none\" stroke=\"currentColor\"/>\n    <text dy=\"1.25em\" style=\"font-size: 0.8em; letter-spacing: 1px\">\n        <textPath xlink:href=\"#arrow-84394ca3687343a0a4a91310c8b08cfe-0-1\" class=\"displacy-label\" startOffset=\"50%\" side=\"left\" fill=\"currentColor\" text-anchor=\"middle\">label2</textPath>\n    </text>\n    <path class=\"displacy-arrowhead\" d=\"M210,179.0 L202,167.0 218,167.0\" fill=\"currentColor\"/>\n</g>\n\n<g class=\"displacy-arrow\">\n    <path class=\"displacy-arc\" id=\"arrow-84394ca3687343a0a4a91310c8b08cfe-0-2\" stroke-width=\"2px\" d=\"M280,177.0 C280,107.0 385.0,107.0 385.0,177.0\" fill=\"none\" stroke=\"currentColor\"/>\n    <text dy=\"1.25em\" style=\"font-size: 0.8em; letter-spacing: 1px\">\n        <textPath xlink:href=\"#arrow-84394ca3687343a0a4a91310c8b08cfe-0-2\" class=\"displacy-label\" startOffset=\"50%\" side=\"left\" fill=\"currentColor\" text-anchor=\"middle\">label3</textPath>\n    </text>\n    <path class=\"displacy-arrowhead\" d=\"M280,179.0 L272,167.0 288,167.0\" fill=\"currentColor\"/>\n</g>\n\n<g class=\"displacy-arrow\">\n    <path class=\"displacy-arc\" id=\"arrow-84394ca3687343a0a4a91310c8b08cfe-0-3\" stroke-width=\"2px\" d=\"M350,177.0 C350,142.0 380.0,142.0 380.0,177.0\" fill=\"none\" stroke=\"currentColor\"/>\n    <text dy=\"1.25em\" style=\"font-size: 0.8em; letter-spacing: 1px\">\n        <textPath xlink:href=\"#arrow-84394ca3687343a0a4a91310c8b08cfe-0-3\" class=\"displacy-label\" startOffset=\"50%\" side=\"left\" fill=\"currentColor\" text-anchor=\"middle\">label4</textPath>\n    </text>\n    <path class=\"displacy-arrowhead\" d=\"M350,179.0 L342,167.0 358,167.0\" fill=\"currentColor\"/>\n</g>\n\n<g class=\"displacy-arrow\">\n    <path class=\"displacy-arc\" id=\"arrow-84394ca3687343a0a4a91310c8b08cfe-0-4\" stroke-width=\"2px\" d=\"M70,177.0 C70,2.0 400.0,2.0 400.0,177.0\" fill=\"none\" stroke=\"currentColor\"/>\n    <text dy=\"1.25em\" style=\"font-size: 0.8em; letter-spacing: 1px\">\n        <textPath xlink:href=\"#arrow-84394ca3687343a0a4a91310c8b08cfe-0-4\" class=\"displacy-label\" startOffset=\"50%\" side=\"left\" fill=\"currentColor\" text-anchor=\"middle\">root</textPath>\n    </text>\n    <path class=\"displacy-arrowhead\" d=\"M400.0,179.0 L408.0,167.0 392.0,167.0\" fill=\"currentColor\"/>\n</g>\n</svg></span>"
     },
     "metadata": {},
     "output_type": "display_data"
    },
    {
     "name": "stdout",
     "output_type": "stream",
     "text": [
      "sentence: ['<ROOT>', 'word1', 'word2', 'word3', 'word4', 'word5']\tgold_dependencies: ['Arc(head_idx=5, dep_idx=1, label_id=6)', 'Arc(head_idx=5, dep_idx=2, label_id=7)', 'Arc(head_idx=5, dep_idx=3, label_id=8)', 'Arc(head_idx=5, dep_idx=4, label_id=9)', 'Arc(head_idx=0, dep_idx=5, label_id=0)']\n",
      "\tTesting generate_training_examples(sentence, gold_dependencies, vocab):\n",
      "\t\tYour Training Examples:    None \n",
      "\t\tCorrect Training Examples: [([], 'S'), ([], 'S'), ([], 'S'), ([], 'S'), ([], 'S'), ([], 'LA-label4'), ([], 'LA-label3'), ([], 'LA-label2'), ([], 'LA-label1'), ([], 'RA-root')]\n",
      "\t\tIncorrect!\n",
      "\n",
      "\n",
      "Test Sentence 3 failed.\n",
      "\n",
      "---------------------------------------------------------------------------------------------------- \n",
      "\n",
      "Testing Sentence 4...\n"
     ]
    },
    {
     "data": {
      "text/plain": "<IPython.core.display.HTML object>",
      "text/html": "<span class=\"tex2jax_ignore\"><svg xmlns=\"http://www.w3.org/2000/svg\" xmlns:xlink=\"http://www.w3.org/1999/xlink\" xml:lang=\"en\" id=\"cd2b1a1eae434be6be346e94e3367b55-0\" class=\"displacy\" width=\"470\" height=\"172.0\" direction=\"ltr\" style=\"max-width: none; height: 172.0px; color: #000000; background: #ffffff; font-family: Arial; direction: ltr\">\n<text class=\"displacy-token\" fill=\"currentColor\" text-anchor=\"middle\" y=\"82.0\">\n    <tspan class=\"displacy-word\" fill=\"currentColor\" x=\"50\">&lt;ROOT&gt;</tspan>\n    <tspan class=\"displacy-tag\" dy=\"2em\" fill=\"currentColor\" x=\"50\">POS_ROOT</tspan>\n</text>\n\n<text class=\"displacy-token\" fill=\"currentColor\" text-anchor=\"middle\" y=\"82.0\">\n    <tspan class=\"displacy-word\" fill=\"currentColor\" x=\"120\">word1</tspan>\n    <tspan class=\"displacy-tag\" dy=\"2em\" fill=\"currentColor\" x=\"120\">pos1</tspan>\n</text>\n\n<text class=\"displacy-token\" fill=\"currentColor\" text-anchor=\"middle\" y=\"82.0\">\n    <tspan class=\"displacy-word\" fill=\"currentColor\" x=\"190\">word2</tspan>\n    <tspan class=\"displacy-tag\" dy=\"2em\" fill=\"currentColor\" x=\"190\">pos2</tspan>\n</text>\n\n<text class=\"displacy-token\" fill=\"currentColor\" text-anchor=\"middle\" y=\"82.0\">\n    <tspan class=\"displacy-word\" fill=\"currentColor\" x=\"260\">word3</tspan>\n    <tspan class=\"displacy-tag\" dy=\"2em\" fill=\"currentColor\" x=\"260\">pos3</tspan>\n</text>\n\n<text class=\"displacy-token\" fill=\"currentColor\" text-anchor=\"middle\" y=\"82.0\">\n    <tspan class=\"displacy-word\" fill=\"currentColor\" x=\"330\">word4</tspan>\n    <tspan class=\"displacy-tag\" dy=\"2em\" fill=\"currentColor\" x=\"330\">pos4</tspan>\n</text>\n\n<text class=\"displacy-token\" fill=\"currentColor\" text-anchor=\"middle\" y=\"82.0\">\n    <tspan class=\"displacy-word\" fill=\"currentColor\" x=\"400\">word5</tspan>\n    <tspan class=\"displacy-tag\" dy=\"2em\" fill=\"currentColor\" x=\"400\">pos5</tspan>\n</text>\n\n<g class=\"displacy-arrow\">\n    <path class=\"displacy-arc\" id=\"arrow-cd2b1a1eae434be6be346e94e3367b55-0-0\" stroke-width=\"2px\" d=\"M70,37.0 C70,2.0 120.0,2.0 120.0,37.0\" fill=\"none\" stroke=\"currentColor\"/>\n    <text dy=\"1.25em\" style=\"font-size: 0.8em; letter-spacing: 1px\">\n        <textPath xlink:href=\"#arrow-cd2b1a1eae434be6be346e94e3367b55-0-0\" class=\"displacy-label\" startOffset=\"50%\" side=\"left\" fill=\"currentColor\" text-anchor=\"middle\">root</textPath>\n    </text>\n    <path class=\"displacy-arrowhead\" d=\"M120.0,39.0 L128.0,27.0 112.0,27.0\" fill=\"currentColor\"/>\n</g>\n\n<g class=\"displacy-arrow\">\n    <path class=\"displacy-arc\" id=\"arrow-cd2b1a1eae434be6be346e94e3367b55-0-1\" stroke-width=\"2px\" d=\"M140,37.0 C140,2.0 190.0,2.0 190.0,37.0\" fill=\"none\" stroke=\"currentColor\"/>\n    <text dy=\"1.25em\" style=\"font-size: 0.8em; letter-spacing: 1px\">\n        <textPath xlink:href=\"#arrow-cd2b1a1eae434be6be346e94e3367b55-0-1\" class=\"displacy-label\" startOffset=\"50%\" side=\"left\" fill=\"currentColor\" text-anchor=\"middle\">label1</textPath>\n    </text>\n    <path class=\"displacy-arrowhead\" d=\"M190.0,39.0 L198.0,27.0 182.0,27.0\" fill=\"currentColor\"/>\n</g>\n\n<g class=\"displacy-arrow\">\n    <path class=\"displacy-arc\" id=\"arrow-cd2b1a1eae434be6be346e94e3367b55-0-2\" stroke-width=\"2px\" d=\"M210,37.0 C210,2.0 260.0,2.0 260.0,37.0\" fill=\"none\" stroke=\"currentColor\"/>\n    <text dy=\"1.25em\" style=\"font-size: 0.8em; letter-spacing: 1px\">\n        <textPath xlink:href=\"#arrow-cd2b1a1eae434be6be346e94e3367b55-0-2\" class=\"displacy-label\" startOffset=\"50%\" side=\"left\" fill=\"currentColor\" text-anchor=\"middle\">label2</textPath>\n    </text>\n    <path class=\"displacy-arrowhead\" d=\"M260.0,39.0 L268.0,27.0 252.0,27.0\" fill=\"currentColor\"/>\n</g>\n\n<g class=\"displacy-arrow\">\n    <path class=\"displacy-arc\" id=\"arrow-cd2b1a1eae434be6be346e94e3367b55-0-3\" stroke-width=\"2px\" d=\"M280,37.0 C280,2.0 330.0,2.0 330.0,37.0\" fill=\"none\" stroke=\"currentColor\"/>\n    <text dy=\"1.25em\" style=\"font-size: 0.8em; letter-spacing: 1px\">\n        <textPath xlink:href=\"#arrow-cd2b1a1eae434be6be346e94e3367b55-0-3\" class=\"displacy-label\" startOffset=\"50%\" side=\"left\" fill=\"currentColor\" text-anchor=\"middle\">label3</textPath>\n    </text>\n    <path class=\"displacy-arrowhead\" d=\"M330.0,39.0 L338.0,27.0 322.0,27.0\" fill=\"currentColor\"/>\n</g>\n\n<g class=\"displacy-arrow\">\n    <path class=\"displacy-arc\" id=\"arrow-cd2b1a1eae434be6be346e94e3367b55-0-4\" stroke-width=\"2px\" d=\"M350,37.0 C350,2.0 400.0,2.0 400.0,37.0\" fill=\"none\" stroke=\"currentColor\"/>\n    <text dy=\"1.25em\" style=\"font-size: 0.8em; letter-spacing: 1px\">\n        <textPath xlink:href=\"#arrow-cd2b1a1eae434be6be346e94e3367b55-0-4\" class=\"displacy-label\" startOffset=\"50%\" side=\"left\" fill=\"currentColor\" text-anchor=\"middle\">label4</textPath>\n    </text>\n    <path class=\"displacy-arrowhead\" d=\"M400.0,39.0 L408.0,27.0 392.0,27.0\" fill=\"currentColor\"/>\n</g>\n</svg></span>"
     },
     "metadata": {},
     "output_type": "display_data"
    },
    {
     "name": "stdout",
     "output_type": "stream",
     "text": [
      "sentence: ['<ROOT>', 'word1', 'word2', 'word3', 'word4', 'word5']\tgold_dependencies: ['Arc(head_idx=0, dep_idx=1, label_id=0)', 'Arc(head_idx=1, dep_idx=2, label_id=6)', 'Arc(head_idx=2, dep_idx=3, label_id=7)', 'Arc(head_idx=3, dep_idx=4, label_id=8)', 'Arc(head_idx=4, dep_idx=5, label_id=9)']\n",
      "\tTesting generate_training_examples(sentence, gold_dependencies, vocab):\n",
      "\t\tYour Training Examples:    None \n",
      "\t\tCorrect Training Examples: [([], 'S'), ([], 'S'), ([], 'S'), ([], 'S'), ([], 'S'), ([], 'RA-label4'), ([], 'RA-label3'), ([], 'RA-label2'), ([], 'RA-label1'), ([], 'RA-root')]\n",
      "\t\tIncorrect!\n",
      "\n",
      "\n",
      "Test Sentence 4 failed.\n",
      "\n",
      "---------------------------------------------------------------------------------------------------- \n",
      "\n",
      "Testing Sentence 5...\n"
     ]
    },
    {
     "data": {
      "text/plain": "<IPython.core.display.HTML object>",
      "text/html": "<span class=\"tex2jax_ignore\"><svg xmlns=\"http://www.w3.org/2000/svg\" xmlns:xlink=\"http://www.w3.org/1999/xlink\" xml:lang=\"en\" id=\"cb7fe6b6ea1f4ba39f45e9c1ecc3bb15-0\" class=\"displacy\" width=\"470\" height=\"207.0\" direction=\"ltr\" style=\"max-width: none; height: 207.0px; color: #000000; background: #ffffff; font-family: Arial; direction: ltr\">\n<text class=\"displacy-token\" fill=\"currentColor\" text-anchor=\"middle\" y=\"117.0\">\n    <tspan class=\"displacy-word\" fill=\"currentColor\" x=\"50\">&lt;ROOT&gt;</tspan>\n    <tspan class=\"displacy-tag\" dy=\"2em\" fill=\"currentColor\" x=\"50\">POS_ROOT</tspan>\n</text>\n\n<text class=\"displacy-token\" fill=\"currentColor\" text-anchor=\"middle\" y=\"117.0\">\n    <tspan class=\"displacy-word\" fill=\"currentColor\" x=\"120\">word1</tspan>\n    <tspan class=\"displacy-tag\" dy=\"2em\" fill=\"currentColor\" x=\"120\">pos1</tspan>\n</text>\n\n<text class=\"displacy-token\" fill=\"currentColor\" text-anchor=\"middle\" y=\"117.0\">\n    <tspan class=\"displacy-word\" fill=\"currentColor\" x=\"190\">word2</tspan>\n    <tspan class=\"displacy-tag\" dy=\"2em\" fill=\"currentColor\" x=\"190\">pos2</tspan>\n</text>\n\n<text class=\"displacy-token\" fill=\"currentColor\" text-anchor=\"middle\" y=\"117.0\">\n    <tspan class=\"displacy-word\" fill=\"currentColor\" x=\"260\">word3</tspan>\n    <tspan class=\"displacy-tag\" dy=\"2em\" fill=\"currentColor\" x=\"260\">pos3</tspan>\n</text>\n\n<text class=\"displacy-token\" fill=\"currentColor\" text-anchor=\"middle\" y=\"117.0\">\n    <tspan class=\"displacy-word\" fill=\"currentColor\" x=\"330\">word4</tspan>\n    <tspan class=\"displacy-tag\" dy=\"2em\" fill=\"currentColor\" x=\"330\">pos4</tspan>\n</text>\n\n<text class=\"displacy-token\" fill=\"currentColor\" text-anchor=\"middle\" y=\"117.0\">\n    <tspan class=\"displacy-word\" fill=\"currentColor\" x=\"400\">word5</tspan>\n    <tspan class=\"displacy-tag\" dy=\"2em\" fill=\"currentColor\" x=\"400\">pos5</tspan>\n</text>\n\n<g class=\"displacy-arrow\">\n    <path class=\"displacy-arc\" id=\"arrow-cb7fe6b6ea1f4ba39f45e9c1ecc3bb15-0-0\" stroke-width=\"2px\" d=\"M140,72.0 C140,37.0 185.0,37.0 185.0,72.0\" fill=\"none\" stroke=\"currentColor\"/>\n    <text dy=\"1.25em\" style=\"font-size: 0.8em; letter-spacing: 1px\">\n        <textPath xlink:href=\"#arrow-cb7fe6b6ea1f4ba39f45e9c1ecc3bb15-0-0\" class=\"displacy-label\" startOffset=\"50%\" side=\"left\" fill=\"currentColor\" text-anchor=\"middle\">label1</textPath>\n    </text>\n    <path class=\"displacy-arrowhead\" d=\"M140,74.0 L132,62.0 148,62.0\" fill=\"currentColor\"/>\n</g>\n\n<g class=\"displacy-arrow\">\n    <path class=\"displacy-arc\" id=\"arrow-cb7fe6b6ea1f4ba39f45e9c1ecc3bb15-0-1\" stroke-width=\"2px\" d=\"M210,72.0 C210,37.0 255.0,37.0 255.0,72.0\" fill=\"none\" stroke=\"currentColor\"/>\n    <text dy=\"1.25em\" style=\"font-size: 0.8em; letter-spacing: 1px\">\n        <textPath xlink:href=\"#arrow-cb7fe6b6ea1f4ba39f45e9c1ecc3bb15-0-1\" class=\"displacy-label\" startOffset=\"50%\" side=\"left\" fill=\"currentColor\" text-anchor=\"middle\">label2</textPath>\n    </text>\n    <path class=\"displacy-arrowhead\" d=\"M210,74.0 L202,62.0 218,62.0\" fill=\"currentColor\"/>\n</g>\n\n<g class=\"displacy-arrow\">\n    <path class=\"displacy-arc\" id=\"arrow-cb7fe6b6ea1f4ba39f45e9c1ecc3bb15-0-2\" stroke-width=\"2px\" d=\"M280,72.0 C280,37.0 325.0,37.0 325.0,72.0\" fill=\"none\" stroke=\"currentColor\"/>\n    <text dy=\"1.25em\" style=\"font-size: 0.8em; letter-spacing: 1px\">\n        <textPath xlink:href=\"#arrow-cb7fe6b6ea1f4ba39f45e9c1ecc3bb15-0-2\" class=\"displacy-label\" startOffset=\"50%\" side=\"left\" fill=\"currentColor\" text-anchor=\"middle\">label3</textPath>\n    </text>\n    <path class=\"displacy-arrowhead\" d=\"M280,74.0 L272,62.0 288,62.0\" fill=\"currentColor\"/>\n</g>\n\n<g class=\"displacy-arrow\">\n    <path class=\"displacy-arc\" id=\"arrow-cb7fe6b6ea1f4ba39f45e9c1ecc3bb15-0-3\" stroke-width=\"2px\" d=\"M350,72.0 C350,37.0 395.0,37.0 395.0,72.0\" fill=\"none\" stroke=\"currentColor\"/>\n    <text dy=\"1.25em\" style=\"font-size: 0.8em; letter-spacing: 1px\">\n        <textPath xlink:href=\"#arrow-cb7fe6b6ea1f4ba39f45e9c1ecc3bb15-0-3\" class=\"displacy-label\" startOffset=\"50%\" side=\"left\" fill=\"currentColor\" text-anchor=\"middle\">label4</textPath>\n    </text>\n    <path class=\"displacy-arrowhead\" d=\"M350,74.0 L342,62.0 358,62.0\" fill=\"currentColor\"/>\n</g>\n\n<g class=\"displacy-arrow\">\n    <path class=\"displacy-arc\" id=\"arrow-cb7fe6b6ea1f4ba39f45e9c1ecc3bb15-0-4\" stroke-width=\"2px\" d=\"M70,72.0 C70,2.0 400.0,2.0 400.0,72.0\" fill=\"none\" stroke=\"currentColor\"/>\n    <text dy=\"1.25em\" style=\"font-size: 0.8em; letter-spacing: 1px\">\n        <textPath xlink:href=\"#arrow-cb7fe6b6ea1f4ba39f45e9c1ecc3bb15-0-4\" class=\"displacy-label\" startOffset=\"50%\" side=\"left\" fill=\"currentColor\" text-anchor=\"middle\">root</textPath>\n    </text>\n    <path class=\"displacy-arrowhead\" d=\"M400.0,74.0 L408.0,62.0 392.0,62.0\" fill=\"currentColor\"/>\n</g>\n</svg></span>"
     },
     "metadata": {},
     "output_type": "display_data"
    },
    {
     "name": "stdout",
     "output_type": "stream",
     "text": [
      "sentence: ['<ROOT>', 'word1', 'word2', 'word3', 'word4', 'word5']\tgold_dependencies: ['Arc(head_idx=2, dep_idx=1, label_id=6)', 'Arc(head_idx=3, dep_idx=2, label_id=7)', 'Arc(head_idx=4, dep_idx=3, label_id=8)', 'Arc(head_idx=5, dep_idx=4, label_id=9)', 'Arc(head_idx=0, dep_idx=5, label_id=0)']\n",
      "\tTesting generate_training_examples(sentence, gold_dependencies, vocab):\n",
      "\t\tYour Training Examples:    None \n",
      "\t\tCorrect Training Examples: [([], 'S'), ([], 'S'), ([], 'LA-label1'), ([], 'S'), ([], 'LA-label2'), ([], 'S'), ([], 'LA-label3'), ([], 'S'), ([], 'LA-label4'), ([], 'RA-root')]\n",
      "\t\tIncorrect!\n",
      "\n",
      "\n",
      "Test Sentence 5 failed.\n",
      "\n",
      "---------------------------------------------------------------------------------------------------- \n",
      "\n",
      "Testing Sentence 6...\n"
     ]
    },
    {
     "data": {
      "text/plain": "<IPython.core.display.HTML object>",
      "text/html": "<span class=\"tex2jax_ignore\"><svg xmlns=\"http://www.w3.org/2000/svg\" xmlns:xlink=\"http://www.w3.org/1999/xlink\" xml:lang=\"en\" id=\"f3224fe19471463b9ef27a92a8222ada-0\" class=\"displacy\" width=\"470\" height=\"242.0\" direction=\"ltr\" style=\"max-width: none; height: 242.0px; color: #000000; background: #ffffff; font-family: Arial; direction: ltr\">\n<text class=\"displacy-token\" fill=\"currentColor\" text-anchor=\"middle\" y=\"152.0\">\n    <tspan class=\"displacy-word\" fill=\"currentColor\" x=\"50\">&lt;ROOT&gt;</tspan>\n    <tspan class=\"displacy-tag\" dy=\"2em\" fill=\"currentColor\" x=\"50\">POS_ROOT</tspan>\n</text>\n\n<text class=\"displacy-token\" fill=\"currentColor\" text-anchor=\"middle\" y=\"152.0\">\n    <tspan class=\"displacy-word\" fill=\"currentColor\" x=\"120\">word1</tspan>\n    <tspan class=\"displacy-tag\" dy=\"2em\" fill=\"currentColor\" x=\"120\">JJ</tspan>\n</text>\n\n<text class=\"displacy-token\" fill=\"currentColor\" text-anchor=\"middle\" y=\"152.0\">\n    <tspan class=\"displacy-word\" fill=\"currentColor\" x=\"190\">word2</tspan>\n    <tspan class=\"displacy-tag\" dy=\"2em\" fill=\"currentColor\" x=\"190\">NN</tspan>\n</text>\n\n<text class=\"displacy-token\" fill=\"currentColor\" text-anchor=\"middle\" y=\"152.0\">\n    <tspan class=\"displacy-word\" fill=\"currentColor\" x=\"260\">word3</tspan>\n    <tspan class=\"displacy-tag\" dy=\"2em\" fill=\"currentColor\" x=\"260\">VBD</tspan>\n</text>\n\n<text class=\"displacy-token\" fill=\"currentColor\" text-anchor=\"middle\" y=\"152.0\">\n    <tspan class=\"displacy-word\" fill=\"currentColor\" x=\"330\">word4</tspan>\n    <tspan class=\"displacy-tag\" dy=\"2em\" fill=\"currentColor\" x=\"330\">JJ</tspan>\n</text>\n\n<text class=\"displacy-token\" fill=\"currentColor\" text-anchor=\"middle\" y=\"152.0\">\n    <tspan class=\"displacy-word\" fill=\"currentColor\" x=\"400\">word5</tspan>\n    <tspan class=\"displacy-tag\" dy=\"2em\" fill=\"currentColor\" x=\"400\">NN</tspan>\n</text>\n\n<g class=\"displacy-arrow\">\n    <path class=\"displacy-arc\" id=\"arrow-f3224fe19471463b9ef27a92a8222ada-0-0\" stroke-width=\"2px\" d=\"M140,107.0 C140,37.0 255.0,37.0 255.0,107.0\" fill=\"none\" stroke=\"currentColor\"/>\n    <text dy=\"1.25em\" style=\"font-size: 0.8em; letter-spacing: 1px\">\n        <textPath xlink:href=\"#arrow-f3224fe19471463b9ef27a92a8222ada-0-0\" class=\"displacy-label\" startOffset=\"50%\" side=\"left\" fill=\"currentColor\" text-anchor=\"middle\">label1</textPath>\n    </text>\n    <path class=\"displacy-arrowhead\" d=\"M140,109.0 L132,97.0 148,97.0\" fill=\"currentColor\"/>\n</g>\n\n<g class=\"displacy-arrow\">\n    <path class=\"displacy-arc\" id=\"arrow-f3224fe19471463b9ef27a92a8222ada-0-1\" stroke-width=\"2px\" d=\"M210,107.0 C210,72.0 250.0,72.0 250.0,107.0\" fill=\"none\" stroke=\"currentColor\"/>\n    <text dy=\"1.25em\" style=\"font-size: 0.8em; letter-spacing: 1px\">\n        <textPath xlink:href=\"#arrow-f3224fe19471463b9ef27a92a8222ada-0-1\" class=\"displacy-label\" startOffset=\"50%\" side=\"left\" fill=\"currentColor\" text-anchor=\"middle\">label2</textPath>\n    </text>\n    <path class=\"displacy-arrowhead\" d=\"M210,109.0 L202,97.0 218,97.0\" fill=\"currentColor\"/>\n</g>\n\n<g class=\"displacy-arrow\">\n    <path class=\"displacy-arc\" id=\"arrow-f3224fe19471463b9ef27a92a8222ada-0-2\" stroke-width=\"2px\" d=\"M70,107.0 C70,2.0 260.0,2.0 260.0,107.0\" fill=\"none\" stroke=\"currentColor\"/>\n    <text dy=\"1.25em\" style=\"font-size: 0.8em; letter-spacing: 1px\">\n        <textPath xlink:href=\"#arrow-f3224fe19471463b9ef27a92a8222ada-0-2\" class=\"displacy-label\" startOffset=\"50%\" side=\"left\" fill=\"currentColor\" text-anchor=\"middle\">root</textPath>\n    </text>\n    <path class=\"displacy-arrowhead\" d=\"M260.0,109.0 L268.0,97.0 252.0,97.0\" fill=\"currentColor\"/>\n</g>\n\n<g class=\"displacy-arrow\">\n    <path class=\"displacy-arc\" id=\"arrow-f3224fe19471463b9ef27a92a8222ada-0-3\" stroke-width=\"2px\" d=\"M280,107.0 C280,72.0 320.0,72.0 320.0,107.0\" fill=\"none\" stroke=\"currentColor\"/>\n    <text dy=\"1.25em\" style=\"font-size: 0.8em; letter-spacing: 1px\">\n        <textPath xlink:href=\"#arrow-f3224fe19471463b9ef27a92a8222ada-0-3\" class=\"displacy-label\" startOffset=\"50%\" side=\"left\" fill=\"currentColor\" text-anchor=\"middle\">label3</textPath>\n    </text>\n    <path class=\"displacy-arrowhead\" d=\"M320.0,109.0 L328.0,97.0 312.0,97.0\" fill=\"currentColor\"/>\n</g>\n\n<g class=\"displacy-arrow\">\n    <path class=\"displacy-arc\" id=\"arrow-f3224fe19471463b9ef27a92a8222ada-0-4\" stroke-width=\"2px\" d=\"M280,107.0 C280,37.0 395.0,37.0 395.0,107.0\" fill=\"none\" stroke=\"currentColor\"/>\n    <text dy=\"1.25em\" style=\"font-size: 0.8em; letter-spacing: 1px\">\n        <textPath xlink:href=\"#arrow-f3224fe19471463b9ef27a92a8222ada-0-4\" class=\"displacy-label\" startOffset=\"50%\" side=\"left\" fill=\"currentColor\" text-anchor=\"middle\">label4</textPath>\n    </text>\n    <path class=\"displacy-arrowhead\" d=\"M395.0,109.0 L403.0,97.0 387.0,97.0\" fill=\"currentColor\"/>\n</g>\n</svg></span>"
     },
     "metadata": {},
     "output_type": "display_data"
    },
    {
     "name": "stdout",
     "output_type": "stream",
     "text": [
      "sentence: ['<ROOT>', 'word1', 'word2', 'word3', 'word4', 'word5']\tgold_dependencies: ['Arc(head_idx=3, dep_idx=1, label_id=6)', 'Arc(head_idx=3, dep_idx=2, label_id=7)', 'Arc(head_idx=0, dep_idx=3, label_id=0)', 'Arc(head_idx=3, dep_idx=4, label_id=8)', 'Arc(head_idx=3, dep_idx=5, label_id=9)']\n",
      "\tTesting generate_training_examples(sentence, gold_dependencies, vocab):\n",
      "\t\tYour Training Examples:    None \n",
      "\t\tCorrect Training Examples: [([], 'S'), ([], 'S'), ([], 'S'), ([], 'LA-label2'), ([], 'LA-label1'), ([], 'S'), ([], 'RA-label3'), ([], 'S'), ([], 'RA-label4'), ([], 'RA-root')]\n",
      "\t\tIncorrect!\n",
      "\n",
      "\n",
      "Test Sentence 6 failed.\n",
      "\n",
      "---------------------------------------------------------------------------------------------------- \n",
      "\n",
      "Testing Sentence 7...\n"
     ]
    },
    {
     "data": {
      "text/plain": "<IPython.core.display.HTML object>",
      "text/html": "<span class=\"tex2jax_ignore\"><svg xmlns=\"http://www.w3.org/2000/svg\" xmlns:xlink=\"http://www.w3.org/1999/xlink\" xml:lang=\"en\" id=\"4ed9002ecc5a450882bfc09cfde34e9b-0\" class=\"displacy\" width=\"470\" height=\"207.0\" direction=\"ltr\" style=\"max-width: none; height: 207.0px; color: #000000; background: #ffffff; font-family: Arial; direction: ltr\">\n<text class=\"displacy-token\" fill=\"currentColor\" text-anchor=\"middle\" y=\"117.0\">\n    <tspan class=\"displacy-word\" fill=\"currentColor\" x=\"50\">&lt;ROOT&gt;</tspan>\n    <tspan class=\"displacy-tag\" dy=\"2em\" fill=\"currentColor\" x=\"50\">POS_ROOT</tspan>\n</text>\n\n<text class=\"displacy-token\" fill=\"currentColor\" text-anchor=\"middle\" y=\"117.0\">\n    <tspan class=\"displacy-word\" fill=\"currentColor\" x=\"120\">word1</tspan>\n    <tspan class=\"displacy-tag\" dy=\"2em\" fill=\"currentColor\" x=\"120\">pos1</tspan>\n</text>\n\n<text class=\"displacy-token\" fill=\"currentColor\" text-anchor=\"middle\" y=\"117.0\">\n    <tspan class=\"displacy-word\" fill=\"currentColor\" x=\"190\">word2</tspan>\n    <tspan class=\"displacy-tag\" dy=\"2em\" fill=\"currentColor\" x=\"190\">pos2</tspan>\n</text>\n\n<text class=\"displacy-token\" fill=\"currentColor\" text-anchor=\"middle\" y=\"117.0\">\n    <tspan class=\"displacy-word\" fill=\"currentColor\" x=\"260\">word3</tspan>\n    <tspan class=\"displacy-tag\" dy=\"2em\" fill=\"currentColor\" x=\"260\">pos3</tspan>\n</text>\n\n<text class=\"displacy-token\" fill=\"currentColor\" text-anchor=\"middle\" y=\"117.0\">\n    <tspan class=\"displacy-word\" fill=\"currentColor\" x=\"330\">word4</tspan>\n    <tspan class=\"displacy-tag\" dy=\"2em\" fill=\"currentColor\" x=\"330\">pos4</tspan>\n</text>\n\n<text class=\"displacy-token\" fill=\"currentColor\" text-anchor=\"middle\" y=\"117.0\">\n    <tspan class=\"displacy-word\" fill=\"currentColor\" x=\"400\">word5</tspan>\n    <tspan class=\"displacy-tag\" dy=\"2em\" fill=\"currentColor\" x=\"400\">pos5</tspan>\n</text>\n\n<g class=\"displacy-arrow\">\n    <path class=\"displacy-arc\" id=\"arrow-4ed9002ecc5a450882bfc09cfde34e9b-0-0\" stroke-width=\"2px\" d=\"M140,72.0 C140,37.0 185.0,37.0 185.0,72.0\" fill=\"none\" stroke=\"currentColor\"/>\n    <text dy=\"1.25em\" style=\"font-size: 0.8em; letter-spacing: 1px\">\n        <textPath xlink:href=\"#arrow-4ed9002ecc5a450882bfc09cfde34e9b-0-0\" class=\"displacy-label\" startOffset=\"50%\" side=\"left\" fill=\"currentColor\" text-anchor=\"middle\">label1</textPath>\n    </text>\n    <path class=\"displacy-arrowhead\" d=\"M140,74.0 L132,62.0 148,62.0\" fill=\"currentColor\"/>\n</g>\n\n<g class=\"displacy-arrow\">\n    <path class=\"displacy-arc\" id=\"arrow-4ed9002ecc5a450882bfc09cfde34e9b-0-1\" stroke-width=\"2px\" d=\"M210,72.0 C210,37.0 255.0,37.0 255.0,72.0\" fill=\"none\" stroke=\"currentColor\"/>\n    <text dy=\"1.25em\" style=\"font-size: 0.8em; letter-spacing: 1px\">\n        <textPath xlink:href=\"#arrow-4ed9002ecc5a450882bfc09cfde34e9b-0-1\" class=\"displacy-label\" startOffset=\"50%\" side=\"left\" fill=\"currentColor\" text-anchor=\"middle\">label2</textPath>\n    </text>\n    <path class=\"displacy-arrowhead\" d=\"M210,74.0 L202,62.0 218,62.0\" fill=\"currentColor\"/>\n</g>\n\n<g class=\"displacy-arrow\">\n    <path class=\"displacy-arc\" id=\"arrow-4ed9002ecc5a450882bfc09cfde34e9b-0-2\" stroke-width=\"2px\" d=\"M70,72.0 C70,2.0 260.0,2.0 260.0,72.0\" fill=\"none\" stroke=\"currentColor\"/>\n    <text dy=\"1.25em\" style=\"font-size: 0.8em; letter-spacing: 1px\">\n        <textPath xlink:href=\"#arrow-4ed9002ecc5a450882bfc09cfde34e9b-0-2\" class=\"displacy-label\" startOffset=\"50%\" side=\"left\" fill=\"currentColor\" text-anchor=\"middle\">root</textPath>\n    </text>\n    <path class=\"displacy-arrowhead\" d=\"M260.0,74.0 L268.0,62.0 252.0,62.0\" fill=\"currentColor\"/>\n</g>\n\n<g class=\"displacy-arrow\">\n    <path class=\"displacy-arc\" id=\"arrow-4ed9002ecc5a450882bfc09cfde34e9b-0-3\" stroke-width=\"2px\" d=\"M280,72.0 C280,37.0 325.0,37.0 325.0,72.0\" fill=\"none\" stroke=\"currentColor\"/>\n    <text dy=\"1.25em\" style=\"font-size: 0.8em; letter-spacing: 1px\">\n        <textPath xlink:href=\"#arrow-4ed9002ecc5a450882bfc09cfde34e9b-0-3\" class=\"displacy-label\" startOffset=\"50%\" side=\"left\" fill=\"currentColor\" text-anchor=\"middle\">label3</textPath>\n    </text>\n    <path class=\"displacy-arrowhead\" d=\"M325.0,74.0 L333.0,62.0 317.0,62.0\" fill=\"currentColor\"/>\n</g>\n\n<g class=\"displacy-arrow\">\n    <path class=\"displacy-arc\" id=\"arrow-4ed9002ecc5a450882bfc09cfde34e9b-0-4\" stroke-width=\"2px\" d=\"M350,72.0 C350,37.0 395.0,37.0 395.0,72.0\" fill=\"none\" stroke=\"currentColor\"/>\n    <text dy=\"1.25em\" style=\"font-size: 0.8em; letter-spacing: 1px\">\n        <textPath xlink:href=\"#arrow-4ed9002ecc5a450882bfc09cfde34e9b-0-4\" class=\"displacy-label\" startOffset=\"50%\" side=\"left\" fill=\"currentColor\" text-anchor=\"middle\">label4</textPath>\n    </text>\n    <path class=\"displacy-arrowhead\" d=\"M395.0,74.0 L403.0,62.0 387.0,62.0\" fill=\"currentColor\"/>\n</g>\n</svg></span>"
     },
     "metadata": {},
     "output_type": "display_data"
    },
    {
     "name": "stdout",
     "output_type": "stream",
     "text": [
      "sentence: ['<ROOT>', 'word1', 'word2', 'word3', 'word4', 'word5']\tgold_dependencies: ['Arc(head_idx=2, dep_idx=1, label_id=6)', 'Arc(head_idx=3, dep_idx=2, label_id=7)', 'Arc(head_idx=0, dep_idx=3, label_id=0)', 'Arc(head_idx=3, dep_idx=4, label_id=8)', 'Arc(head_idx=4, dep_idx=5, label_id=9)']\n",
      "\tTesting generate_training_examples(sentence, gold_dependencies, vocab):\n",
      "\t\tYour Training Examples:    None \n",
      "\t\tCorrect Training Examples: [([], 'S'), ([], 'S'), ([], 'LA-label1'), ([], 'S'), ([], 'LA-label2'), ([], 'S'), ([], 'S'), ([], 'RA-label4'), ([], 'RA-label3'), ([], 'RA-root')]\n",
      "\t\tIncorrect!\n",
      "\n",
      "\n",
      "Test Sentence 7 failed.\n",
      "\n",
      "---------------------------------------------------------------------------------------------------- \n",
      "\n",
      "Testing Sentence 8...\n"
     ]
    },
    {
     "data": {
      "text/plain": "<IPython.core.display.HTML object>",
      "text/html": "<span class=\"tex2jax_ignore\"><svg xmlns=\"http://www.w3.org/2000/svg\" xmlns:xlink=\"http://www.w3.org/1999/xlink\" xml:lang=\"en\" id=\"288b18639e9446a1baabe1feb137b130-0\" class=\"displacy\" width=\"470\" height=\"242.0\" direction=\"ltr\" style=\"max-width: none; height: 242.0px; color: #000000; background: #ffffff; font-family: Arial; direction: ltr\">\n<text class=\"displacy-token\" fill=\"currentColor\" text-anchor=\"middle\" y=\"152.0\">\n    <tspan class=\"displacy-word\" fill=\"currentColor\" x=\"50\">&lt;ROOT&gt;</tspan>\n    <tspan class=\"displacy-tag\" dy=\"2em\" fill=\"currentColor\" x=\"50\">POS_ROOT</tspan>\n</text>\n\n<text class=\"displacy-token\" fill=\"currentColor\" text-anchor=\"middle\" y=\"152.0\">\n    <tspan class=\"displacy-word\" fill=\"currentColor\" x=\"120\">word1</tspan>\n    <tspan class=\"displacy-tag\" dy=\"2em\" fill=\"currentColor\" x=\"120\">pos1</tspan>\n</text>\n\n<text class=\"displacy-token\" fill=\"currentColor\" text-anchor=\"middle\" y=\"152.0\">\n    <tspan class=\"displacy-word\" fill=\"currentColor\" x=\"190\">word2</tspan>\n    <tspan class=\"displacy-tag\" dy=\"2em\" fill=\"currentColor\" x=\"190\">pos2</tspan>\n</text>\n\n<text class=\"displacy-token\" fill=\"currentColor\" text-anchor=\"middle\" y=\"152.0\">\n    <tspan class=\"displacy-word\" fill=\"currentColor\" x=\"260\">word3</tspan>\n    <tspan class=\"displacy-tag\" dy=\"2em\" fill=\"currentColor\" x=\"260\">pos3</tspan>\n</text>\n\n<text class=\"displacy-token\" fill=\"currentColor\" text-anchor=\"middle\" y=\"152.0\">\n    <tspan class=\"displacy-word\" fill=\"currentColor\" x=\"330\">word4</tspan>\n    <tspan class=\"displacy-tag\" dy=\"2em\" fill=\"currentColor\" x=\"330\">pos4</tspan>\n</text>\n\n<text class=\"displacy-token\" fill=\"currentColor\" text-anchor=\"middle\" y=\"152.0\">\n    <tspan class=\"displacy-word\" fill=\"currentColor\" x=\"400\">word5</tspan>\n    <tspan class=\"displacy-tag\" dy=\"2em\" fill=\"currentColor\" x=\"400\">pos5</tspan>\n</text>\n\n<g class=\"displacy-arrow\">\n    <path class=\"displacy-arc\" id=\"arrow-288b18639e9446a1baabe1feb137b130-0-0\" stroke-width=\"2px\" d=\"M140,107.0 C140,37.0 255.0,37.0 255.0,107.0\" fill=\"none\" stroke=\"currentColor\"/>\n    <text dy=\"1.25em\" style=\"font-size: 0.8em; letter-spacing: 1px\">\n        <textPath xlink:href=\"#arrow-288b18639e9446a1baabe1feb137b130-0-0\" class=\"displacy-label\" startOffset=\"50%\" side=\"left\" fill=\"currentColor\" text-anchor=\"middle\">label1</textPath>\n    </text>\n    <path class=\"displacy-arrowhead\" d=\"M140,109.0 L132,97.0 148,97.0\" fill=\"currentColor\"/>\n</g>\n\n<g class=\"displacy-arrow\">\n    <path class=\"displacy-arc\" id=\"arrow-288b18639e9446a1baabe1feb137b130-0-1\" stroke-width=\"2px\" d=\"M140,107.0 C140,72.0 180.0,72.0 180.0,107.0\" fill=\"none\" stroke=\"currentColor\"/>\n    <text dy=\"1.25em\" style=\"font-size: 0.8em; letter-spacing: 1px\">\n        <textPath xlink:href=\"#arrow-288b18639e9446a1baabe1feb137b130-0-1\" class=\"displacy-label\" startOffset=\"50%\" side=\"left\" fill=\"currentColor\" text-anchor=\"middle\">label2</textPath>\n    </text>\n    <path class=\"displacy-arrowhead\" d=\"M180.0,109.0 L188.0,97.0 172.0,97.0\" fill=\"currentColor\"/>\n</g>\n\n<g class=\"displacy-arrow\">\n    <path class=\"displacy-arc\" id=\"arrow-288b18639e9446a1baabe1feb137b130-0-2\" stroke-width=\"2px\" d=\"M70,107.0 C70,2.0 260.0,2.0 260.0,107.0\" fill=\"none\" stroke=\"currentColor\"/>\n    <text dy=\"1.25em\" style=\"font-size: 0.8em; letter-spacing: 1px\">\n        <textPath xlink:href=\"#arrow-288b18639e9446a1baabe1feb137b130-0-2\" class=\"displacy-label\" startOffset=\"50%\" side=\"left\" fill=\"currentColor\" text-anchor=\"middle\">root</textPath>\n    </text>\n    <path class=\"displacy-arrowhead\" d=\"M260.0,109.0 L268.0,97.0 252.0,97.0\" fill=\"currentColor\"/>\n</g>\n\n<g class=\"displacy-arrow\">\n    <path class=\"displacy-arc\" id=\"arrow-288b18639e9446a1baabe1feb137b130-0-3\" stroke-width=\"2px\" d=\"M350,107.0 C350,72.0 390.0,72.0 390.0,107.0\" fill=\"none\" stroke=\"currentColor\"/>\n    <text dy=\"1.25em\" style=\"font-size: 0.8em; letter-spacing: 1px\">\n        <textPath xlink:href=\"#arrow-288b18639e9446a1baabe1feb137b130-0-3\" class=\"displacy-label\" startOffset=\"50%\" side=\"left\" fill=\"currentColor\" text-anchor=\"middle\">label3</textPath>\n    </text>\n    <path class=\"displacy-arrowhead\" d=\"M350,109.0 L342,97.0 358,97.0\" fill=\"currentColor\"/>\n</g>\n\n<g class=\"displacy-arrow\">\n    <path class=\"displacy-arc\" id=\"arrow-288b18639e9446a1baabe1feb137b130-0-4\" stroke-width=\"2px\" d=\"M280,107.0 C280,37.0 395.0,37.0 395.0,107.0\" fill=\"none\" stroke=\"currentColor\"/>\n    <text dy=\"1.25em\" style=\"font-size: 0.8em; letter-spacing: 1px\">\n        <textPath xlink:href=\"#arrow-288b18639e9446a1baabe1feb137b130-0-4\" class=\"displacy-label\" startOffset=\"50%\" side=\"left\" fill=\"currentColor\" text-anchor=\"middle\">label4</textPath>\n    </text>\n    <path class=\"displacy-arrowhead\" d=\"M395.0,109.0 L403.0,97.0 387.0,97.0\" fill=\"currentColor\"/>\n</g>\n</svg></span>"
     },
     "metadata": {},
     "output_type": "display_data"
    },
    {
     "name": "stdout",
     "output_type": "stream",
     "text": [
      "sentence: ['<ROOT>', 'word1', 'word2', 'word3', 'word4', 'word5']\tgold_dependencies: ['Arc(head_idx=3, dep_idx=1, label_id=6)', 'Arc(head_idx=1, dep_idx=2, label_id=7)', 'Arc(head_idx=0, dep_idx=3, label_id=0)', 'Arc(head_idx=5, dep_idx=4, label_id=8)', 'Arc(head_idx=3, dep_idx=5, label_id=9)']\n",
      "\tTesting generate_training_examples(sentence, gold_dependencies, vocab):\n",
      "\t\tYour Training Examples:    None \n",
      "\t\tCorrect Training Examples: [([], 'S'), ([], 'S'), ([], 'RA-label2'), ([], 'S'), ([], 'LA-label1'), ([], 'S'), ([], 'S'), ([], 'LA-label3'), ([], 'RA-label4'), ([], 'RA-root')]\n",
      "\t\tIncorrect!\n",
      "\n",
      "\n",
      "Test Sentence 8 failed.\n",
      "\n",
      "---------------------------------------------------------------------------------------------------- \n",
      "\n",
      "Testing Sentence 9...\n"
     ]
    },
    {
     "data": {
      "text/plain": "<IPython.core.display.HTML object>",
      "text/html": "<span class=\"tex2jax_ignore\"><svg xmlns=\"http://www.w3.org/2000/svg\" xmlns:xlink=\"http://www.w3.org/1999/xlink\" xml:lang=\"en\" id=\"904c361da1074c8c9689e8caad82e2a2-0\" class=\"displacy\" width=\"470\" height=\"242.0\" direction=\"ltr\" style=\"max-width: none; height: 242.0px; color: #000000; background: #ffffff; font-family: Arial; direction: ltr\">\n<text class=\"displacy-token\" fill=\"currentColor\" text-anchor=\"middle\" y=\"152.0\">\n    <tspan class=\"displacy-word\" fill=\"currentColor\" x=\"50\">&lt;ROOT&gt;</tspan>\n    <tspan class=\"displacy-tag\" dy=\"2em\" fill=\"currentColor\" x=\"50\">POS_ROOT</tspan>\n</text>\n\n<text class=\"displacy-token\" fill=\"currentColor\" text-anchor=\"middle\" y=\"152.0\">\n    <tspan class=\"displacy-word\" fill=\"currentColor\" x=\"120\">word1</tspan>\n    <tspan class=\"displacy-tag\" dy=\"2em\" fill=\"currentColor\" x=\"120\">pos1</tspan>\n</text>\n\n<text class=\"displacy-token\" fill=\"currentColor\" text-anchor=\"middle\" y=\"152.0\">\n    <tspan class=\"displacy-word\" fill=\"currentColor\" x=\"190\">word2</tspan>\n    <tspan class=\"displacy-tag\" dy=\"2em\" fill=\"currentColor\" x=\"190\">pos2</tspan>\n</text>\n\n<text class=\"displacy-token\" fill=\"currentColor\" text-anchor=\"middle\" y=\"152.0\">\n    <tspan class=\"displacy-word\" fill=\"currentColor\" x=\"260\">word3</tspan>\n    <tspan class=\"displacy-tag\" dy=\"2em\" fill=\"currentColor\" x=\"260\">pos3</tspan>\n</text>\n\n<text class=\"displacy-token\" fill=\"currentColor\" text-anchor=\"middle\" y=\"152.0\">\n    <tspan class=\"displacy-word\" fill=\"currentColor\" x=\"330\">word4</tspan>\n    <tspan class=\"displacy-tag\" dy=\"2em\" fill=\"currentColor\" x=\"330\">pos4</tspan>\n</text>\n\n<text class=\"displacy-token\" fill=\"currentColor\" text-anchor=\"middle\" y=\"152.0\">\n    <tspan class=\"displacy-word\" fill=\"currentColor\" x=\"400\">word5</tspan>\n    <tspan class=\"displacy-tag\" dy=\"2em\" fill=\"currentColor\" x=\"400\">pos5</tspan>\n</text>\n\n<g class=\"displacy-arrow\">\n    <path class=\"displacy-arc\" id=\"arrow-904c361da1074c8c9689e8caad82e2a2-0-0\" stroke-width=\"2px\" d=\"M140,107.0 C140,72.0 180.0,72.0 180.0,107.0\" fill=\"none\" stroke=\"currentColor\"/>\n    <text dy=\"1.25em\" style=\"font-size: 0.8em; letter-spacing: 1px\">\n        <textPath xlink:href=\"#arrow-904c361da1074c8c9689e8caad82e2a2-0-0\" class=\"displacy-label\" startOffset=\"50%\" side=\"left\" fill=\"currentColor\" text-anchor=\"middle\">label1</textPath>\n    </text>\n    <path class=\"displacy-arrowhead\" d=\"M140,109.0 L132,97.0 148,97.0\" fill=\"currentColor\"/>\n</g>\n\n<g class=\"displacy-arrow\">\n    <path class=\"displacy-arc\" id=\"arrow-904c361da1074c8c9689e8caad82e2a2-0-1\" stroke-width=\"2px\" d=\"M210,107.0 C210,72.0 250.0,72.0 250.0,107.0\" fill=\"none\" stroke=\"currentColor\"/>\n    <text dy=\"1.25em\" style=\"font-size: 0.8em; letter-spacing: 1px\">\n        <textPath xlink:href=\"#arrow-904c361da1074c8c9689e8caad82e2a2-0-1\" class=\"displacy-label\" startOffset=\"50%\" side=\"left\" fill=\"currentColor\" text-anchor=\"middle\">label2</textPath>\n    </text>\n    <path class=\"displacy-arrowhead\" d=\"M210,109.0 L202,97.0 218,97.0\" fill=\"currentColor\"/>\n</g>\n\n<g class=\"displacy-arrow\">\n    <path class=\"displacy-arc\" id=\"arrow-904c361da1074c8c9689e8caad82e2a2-0-2\" stroke-width=\"2px\" d=\"M70,107.0 C70,37.0 255.0,37.0 255.0,107.0\" fill=\"none\" stroke=\"currentColor\"/>\n    <text dy=\"1.25em\" style=\"font-size: 0.8em; letter-spacing: 1px\">\n        <textPath xlink:href=\"#arrow-904c361da1074c8c9689e8caad82e2a2-0-2\" class=\"displacy-label\" startOffset=\"50%\" side=\"left\" fill=\"currentColor\" text-anchor=\"middle\">root</textPath>\n    </text>\n    <path class=\"displacy-arrowhead\" d=\"M255.0,109.0 L263.0,97.0 247.0,97.0\" fill=\"currentColor\"/>\n</g>\n\n<g class=\"displacy-arrow\">\n    <path class=\"displacy-arc\" id=\"arrow-904c361da1074c8c9689e8caad82e2a2-0-3\" stroke-width=\"2px\" d=\"M140,107.0 C140,2.0 330.0,2.0 330.0,107.0\" fill=\"none\" stroke=\"currentColor\"/>\n    <text dy=\"1.25em\" style=\"font-size: 0.8em; letter-spacing: 1px\">\n        <textPath xlink:href=\"#arrow-904c361da1074c8c9689e8caad82e2a2-0-3\" class=\"displacy-label\" startOffset=\"50%\" side=\"left\" fill=\"currentColor\" text-anchor=\"middle\">label3</textPath>\n    </text>\n    <path class=\"displacy-arrowhead\" d=\"M330.0,109.0 L338.0,97.0 322.0,97.0\" fill=\"currentColor\"/>\n</g>\n\n<g class=\"displacy-arrow\">\n    <path class=\"displacy-arc\" id=\"arrow-904c361da1074c8c9689e8caad82e2a2-0-4\" stroke-width=\"2px\" d=\"M350,107.0 C350,72.0 390.0,72.0 390.0,107.0\" fill=\"none\" stroke=\"currentColor\"/>\n    <text dy=\"1.25em\" style=\"font-size: 0.8em; letter-spacing: 1px\">\n        <textPath xlink:href=\"#arrow-904c361da1074c8c9689e8caad82e2a2-0-4\" class=\"displacy-label\" startOffset=\"50%\" side=\"left\" fill=\"currentColor\" text-anchor=\"middle\">label4</textPath>\n    </text>\n    <path class=\"displacy-arrowhead\" d=\"M390.0,109.0 L398.0,97.0 382.0,97.0\" fill=\"currentColor\"/>\n</g>\n</svg></span>"
     },
     "metadata": {},
     "output_type": "display_data"
    },
    {
     "name": "stdout",
     "output_type": "stream",
     "text": [
      "sentence: ['<ROOT>', 'word1', 'word2', 'word3', 'word4', 'word5']\tgold_dependencies: ['Arc(head_idx=2, dep_idx=1, label_id=6)', 'Arc(head_idx=3, dep_idx=2, label_id=7)', 'Arc(head_idx=0, dep_idx=3, label_id=0)', 'Arc(head_idx=1, dep_idx=4, label_id=8)', 'Arc(head_idx=4, dep_idx=5, label_id=9)']\n",
      "\tTesting generate_training_examples(sentence, gold_dependencies, vocab):\n",
      "\t\tYour Training Examples:    None \n",
      "\t\tCorrect Training Examples: []\n",
      "\t\tIncorrect!\n",
      "\n",
      "\n",
      "Test Sentence 9 failed.\n",
      "\n",
      "---------------------------------------------------------------------------------------------------- \n",
      "\n",
      "Testing Sentence 10...\n"
     ]
    },
    {
     "data": {
      "text/plain": "<IPython.core.display.HTML object>",
      "text/html": "<span class=\"tex2jax_ignore\"><svg xmlns=\"http://www.w3.org/2000/svg\" xmlns:xlink=\"http://www.w3.org/1999/xlink\" xml:lang=\"en\" id=\"f2ad52eea9364c669448c765943edc95-0\" class=\"displacy\" width=\"2150\" height=\"382.0\" direction=\"ltr\" style=\"max-width: none; height: 382.0px; color: #000000; background: #ffffff; font-family: Arial; direction: ltr\">\n<text class=\"displacy-token\" fill=\"currentColor\" text-anchor=\"middle\" y=\"292.0\">\n    <tspan class=\"displacy-word\" fill=\"currentColor\" x=\"50\">&lt;ROOT&gt;</tspan>\n    <tspan class=\"displacy-tag\" dy=\"2em\" fill=\"currentColor\" x=\"50\">POS_ROOT</tspan>\n</text>\n\n<text class=\"displacy-token\" fill=\"currentColor\" text-anchor=\"middle\" y=\"292.0\">\n    <tspan class=\"displacy-word\" fill=\"currentColor\" x=\"120\">al</tspan>\n    <tspan class=\"displacy-tag\" dy=\"2em\" fill=\"currentColor\" x=\"120\">NNP</tspan>\n</text>\n\n<text class=\"displacy-token\" fill=\"currentColor\" text-anchor=\"middle\" y=\"292.0\">\n    <tspan class=\"displacy-word\" fill=\"currentColor\" x=\"190\">-</tspan>\n    <tspan class=\"displacy-tag\" dy=\"2em\" fill=\"currentColor\" x=\"190\">HYPH</tspan>\n</text>\n\n<text class=\"displacy-token\" fill=\"currentColor\" text-anchor=\"middle\" y=\"292.0\">\n    <tspan class=\"displacy-word\" fill=\"currentColor\" x=\"260\">zaman</tspan>\n    <tspan class=\"displacy-tag\" dy=\"2em\" fill=\"currentColor\" x=\"260\">NNP</tspan>\n</text>\n\n<text class=\"displacy-token\" fill=\"currentColor\" text-anchor=\"middle\" y=\"292.0\">\n    <tspan class=\"displacy-word\" fill=\"currentColor\" x=\"330\">:</tspan>\n    <tspan class=\"displacy-tag\" dy=\"2em\" fill=\"currentColor\" x=\"330\">:</tspan>\n</text>\n\n<text class=\"displacy-token\" fill=\"currentColor\" text-anchor=\"middle\" y=\"292.0\">\n    <tspan class=\"displacy-word\" fill=\"currentColor\" x=\"400\">american</tspan>\n    <tspan class=\"displacy-tag\" dy=\"2em\" fill=\"currentColor\" x=\"400\">JJ</tspan>\n</text>\n\n<text class=\"displacy-token\" fill=\"currentColor\" text-anchor=\"middle\" y=\"292.0\">\n    <tspan class=\"displacy-word\" fill=\"currentColor\" x=\"470\">forces</tspan>\n    <tspan class=\"displacy-tag\" dy=\"2em\" fill=\"currentColor\" x=\"470\">NNS</tspan>\n</text>\n\n<text class=\"displacy-token\" fill=\"currentColor\" text-anchor=\"middle\" y=\"292.0\">\n    <tspan class=\"displacy-word\" fill=\"currentColor\" x=\"540\">killed</tspan>\n    <tspan class=\"displacy-tag\" dy=\"2em\" fill=\"currentColor\" x=\"540\">VBD</tspan>\n</text>\n\n<text class=\"displacy-token\" fill=\"currentColor\" text-anchor=\"middle\" y=\"292.0\">\n    <tspan class=\"displacy-word\" fill=\"currentColor\" x=\"610\">shaikh</tspan>\n    <tspan class=\"displacy-tag\" dy=\"2em\" fill=\"currentColor\" x=\"610\">NNP</tspan>\n</text>\n\n<text class=\"displacy-token\" fill=\"currentColor\" text-anchor=\"middle\" y=\"292.0\">\n    <tspan class=\"displacy-word\" fill=\"currentColor\" x=\"680\">abdullah</tspan>\n    <tspan class=\"displacy-tag\" dy=\"2em\" fill=\"currentColor\" x=\"680\">NNP</tspan>\n</text>\n\n<text class=\"displacy-token\" fill=\"currentColor\" text-anchor=\"middle\" y=\"292.0\">\n    <tspan class=\"displacy-word\" fill=\"currentColor\" x=\"750\">al</tspan>\n    <tspan class=\"displacy-tag\" dy=\"2em\" fill=\"currentColor\" x=\"750\">NNP</tspan>\n</text>\n\n<text class=\"displacy-token\" fill=\"currentColor\" text-anchor=\"middle\" y=\"292.0\">\n    <tspan class=\"displacy-word\" fill=\"currentColor\" x=\"820\">-</tspan>\n    <tspan class=\"displacy-tag\" dy=\"2em\" fill=\"currentColor\" x=\"820\">HYPH</tspan>\n</text>\n\n<text class=\"displacy-token\" fill=\"currentColor\" text-anchor=\"middle\" y=\"292.0\">\n    <tspan class=\"displacy-word\" fill=\"currentColor\" x=\"890\">ani</tspan>\n    <tspan class=\"displacy-tag\" dy=\"2em\" fill=\"currentColor\" x=\"890\">NNP</tspan>\n</text>\n\n<text class=\"displacy-token\" fill=\"currentColor\" text-anchor=\"middle\" y=\"292.0\">\n    <tspan class=\"displacy-word\" fill=\"currentColor\" x=\"960\">,</tspan>\n    <tspan class=\"displacy-tag\" dy=\"2em\" fill=\"currentColor\" x=\"960\">,</tspan>\n</text>\n\n<text class=\"displacy-token\" fill=\"currentColor\" text-anchor=\"middle\" y=\"292.0\">\n    <tspan class=\"displacy-word\" fill=\"currentColor\" x=\"1030\">the</tspan>\n    <tspan class=\"displacy-tag\" dy=\"2em\" fill=\"currentColor\" x=\"1030\">DT</tspan>\n</text>\n\n<text class=\"displacy-token\" fill=\"currentColor\" text-anchor=\"middle\" y=\"292.0\">\n    <tspan class=\"displacy-word\" fill=\"currentColor\" x=\"1100\">preacher</tspan>\n    <tspan class=\"displacy-tag\" dy=\"2em\" fill=\"currentColor\" x=\"1100\">NN</tspan>\n</text>\n\n<text class=\"displacy-token\" fill=\"currentColor\" text-anchor=\"middle\" y=\"292.0\">\n    <tspan class=\"displacy-word\" fill=\"currentColor\" x=\"1170\">at</tspan>\n    <tspan class=\"displacy-tag\" dy=\"2em\" fill=\"currentColor\" x=\"1170\">IN</tspan>\n</text>\n\n<text class=\"displacy-token\" fill=\"currentColor\" text-anchor=\"middle\" y=\"292.0\">\n    <tspan class=\"displacy-word\" fill=\"currentColor\" x=\"1240\">the</tspan>\n    <tspan class=\"displacy-tag\" dy=\"2em\" fill=\"currentColor\" x=\"1240\">DT</tspan>\n</text>\n\n<text class=\"displacy-token\" fill=\"currentColor\" text-anchor=\"middle\" y=\"292.0\">\n    <tspan class=\"displacy-word\" fill=\"currentColor\" x=\"1310\">mosque</tspan>\n    <tspan class=\"displacy-tag\" dy=\"2em\" fill=\"currentColor\" x=\"1310\">NN</tspan>\n</text>\n\n<text class=\"displacy-token\" fill=\"currentColor\" text-anchor=\"middle\" y=\"292.0\">\n    <tspan class=\"displacy-word\" fill=\"currentColor\" x=\"1380\">in</tspan>\n    <tspan class=\"displacy-tag\" dy=\"2em\" fill=\"currentColor\" x=\"1380\">IN</tspan>\n</text>\n\n<text class=\"displacy-token\" fill=\"currentColor\" text-anchor=\"middle\" y=\"292.0\">\n    <tspan class=\"displacy-word\" fill=\"currentColor\" x=\"1450\">the</tspan>\n    <tspan class=\"displacy-tag\" dy=\"2em\" fill=\"currentColor\" x=\"1450\">DT</tspan>\n</text>\n\n<text class=\"displacy-token\" fill=\"currentColor\" text-anchor=\"middle\" y=\"292.0\">\n    <tspan class=\"displacy-word\" fill=\"currentColor\" x=\"1520\">town</tspan>\n    <tspan class=\"displacy-tag\" dy=\"2em\" fill=\"currentColor\" x=\"1520\">NN</tspan>\n</text>\n\n<text class=\"displacy-token\" fill=\"currentColor\" text-anchor=\"middle\" y=\"292.0\">\n    <tspan class=\"displacy-word\" fill=\"currentColor\" x=\"1590\">of</tspan>\n    <tspan class=\"displacy-tag\" dy=\"2em\" fill=\"currentColor\" x=\"1590\">IN</tspan>\n</text>\n\n<text class=\"displacy-token\" fill=\"currentColor\" text-anchor=\"middle\" y=\"292.0\">\n    <tspan class=\"displacy-word\" fill=\"currentColor\" x=\"1660\">qaim</tspan>\n    <tspan class=\"displacy-tag\" dy=\"2em\" fill=\"currentColor\" x=\"1660\">NNP</tspan>\n</text>\n\n<text class=\"displacy-token\" fill=\"currentColor\" text-anchor=\"middle\" y=\"292.0\">\n    <tspan class=\"displacy-word\" fill=\"currentColor\" x=\"1730\">,</tspan>\n    <tspan class=\"displacy-tag\" dy=\"2em\" fill=\"currentColor\" x=\"1730\">,</tspan>\n</text>\n\n<text class=\"displacy-token\" fill=\"currentColor\" text-anchor=\"middle\" y=\"292.0\">\n    <tspan class=\"displacy-word\" fill=\"currentColor\" x=\"1800\">near</tspan>\n    <tspan class=\"displacy-tag\" dy=\"2em\" fill=\"currentColor\" x=\"1800\">IN</tspan>\n</text>\n\n<text class=\"displacy-token\" fill=\"currentColor\" text-anchor=\"middle\" y=\"292.0\">\n    <tspan class=\"displacy-word\" fill=\"currentColor\" x=\"1870\">the</tspan>\n    <tspan class=\"displacy-tag\" dy=\"2em\" fill=\"currentColor\" x=\"1870\">DT</tspan>\n</text>\n\n<text class=\"displacy-token\" fill=\"currentColor\" text-anchor=\"middle\" y=\"292.0\">\n    <tspan class=\"displacy-word\" fill=\"currentColor\" x=\"1940\">syrian</tspan>\n    <tspan class=\"displacy-tag\" dy=\"2em\" fill=\"currentColor\" x=\"1940\">JJ</tspan>\n</text>\n\n<text class=\"displacy-token\" fill=\"currentColor\" text-anchor=\"middle\" y=\"292.0\">\n    <tspan class=\"displacy-word\" fill=\"currentColor\" x=\"2010\">border</tspan>\n    <tspan class=\"displacy-tag\" dy=\"2em\" fill=\"currentColor\" x=\"2010\">NN</tspan>\n</text>\n\n<text class=\"displacy-token\" fill=\"currentColor\" text-anchor=\"middle\" y=\"292.0\">\n    <tspan class=\"displacy-word\" fill=\"currentColor\" x=\"2080\">.</tspan>\n    <tspan class=\"displacy-tag\" dy=\"2em\" fill=\"currentColor\" x=\"2080\">.</tspan>\n</text>\n\n<g class=\"displacy-arrow\">\n    <path class=\"displacy-arc\" id=\"arrow-f2ad52eea9364c669448c765943edc95-0-0\" stroke-width=\"2px\" d=\"M140,247.0 C140,177.0 235.0,177.0 235.0,247.0\" fill=\"none\" stroke=\"currentColor\"/>\n    <text dy=\"1.25em\" style=\"font-size: 0.8em; letter-spacing: 1px\">\n        <textPath xlink:href=\"#arrow-f2ad52eea9364c669448c765943edc95-0-0\" class=\"displacy-label\" startOffset=\"50%\" side=\"left\" fill=\"currentColor\" text-anchor=\"middle\">name</textPath>\n    </text>\n    <path class=\"displacy-arrowhead\" d=\"M140,249.0 L132,237.0 148,237.0\" fill=\"currentColor\"/>\n</g>\n\n<g class=\"displacy-arrow\">\n    <path class=\"displacy-arc\" id=\"arrow-f2ad52eea9364c669448c765943edc95-0-1\" stroke-width=\"2px\" d=\"M210,247.0 C210,212.0 230.0,212.0 230.0,247.0\" fill=\"none\" stroke=\"currentColor\"/>\n    <text dy=\"1.25em\" style=\"font-size: 0.8em; letter-spacing: 1px\">\n        <textPath xlink:href=\"#arrow-f2ad52eea9364c669448c765943edc95-0-1\" class=\"displacy-label\" startOffset=\"50%\" side=\"left\" fill=\"currentColor\" text-anchor=\"middle\">punct</textPath>\n    </text>\n    <path class=\"displacy-arrowhead\" d=\"M210,249.0 L202,237.0 218,237.0\" fill=\"currentColor\"/>\n</g>\n\n<g class=\"displacy-arrow\">\n    <path class=\"displacy-arc\" id=\"arrow-f2ad52eea9364c669448c765943edc95-0-2\" stroke-width=\"2px\" d=\"M70,247.0 C70,142.0 240.0,142.0 240.0,247.0\" fill=\"none\" stroke=\"currentColor\"/>\n    <text dy=\"1.25em\" style=\"font-size: 0.8em; letter-spacing: 1px\">\n        <textPath xlink:href=\"#arrow-f2ad52eea9364c669448c765943edc95-0-2\" class=\"displacy-label\" startOffset=\"50%\" side=\"left\" fill=\"currentColor\" text-anchor=\"middle\">root</textPath>\n    </text>\n    <path class=\"displacy-arrowhead\" d=\"M240.0,249.0 L248.0,237.0 232.0,237.0\" fill=\"currentColor\"/>\n</g>\n\n<g class=\"displacy-arrow\">\n    <path class=\"displacy-arc\" id=\"arrow-f2ad52eea9364c669448c765943edc95-0-3\" stroke-width=\"2px\" d=\"M280,247.0 C280,212.0 300.0,212.0 300.0,247.0\" fill=\"none\" stroke=\"currentColor\"/>\n    <text dy=\"1.25em\" style=\"font-size: 0.8em; letter-spacing: 1px\">\n        <textPath xlink:href=\"#arrow-f2ad52eea9364c669448c765943edc95-0-3\" class=\"displacy-label\" startOffset=\"50%\" side=\"left\" fill=\"currentColor\" text-anchor=\"middle\">punct</textPath>\n    </text>\n    <path class=\"displacy-arrowhead\" d=\"M300.0,249.0 L308.0,237.0 292.0,237.0\" fill=\"currentColor\"/>\n</g>\n\n<g class=\"displacy-arrow\">\n    <path class=\"displacy-arc\" id=\"arrow-f2ad52eea9364c669448c765943edc95-0-4\" stroke-width=\"2px\" d=\"M420,247.0 C420,212.0 440.0,212.0 440.0,247.0\" fill=\"none\" stroke=\"currentColor\"/>\n    <text dy=\"1.25em\" style=\"font-size: 0.8em; letter-spacing: 1px\">\n        <textPath xlink:href=\"#arrow-f2ad52eea9364c669448c765943edc95-0-4\" class=\"displacy-label\" startOffset=\"50%\" side=\"left\" fill=\"currentColor\" text-anchor=\"middle\">amod</textPath>\n    </text>\n    <path class=\"displacy-arrowhead\" d=\"M420,249.0 L412,237.0 428,237.0\" fill=\"currentColor\"/>\n</g>\n\n<g class=\"displacy-arrow\">\n    <path class=\"displacy-arc\" id=\"arrow-f2ad52eea9364c669448c765943edc95-0-5\" stroke-width=\"2px\" d=\"M490,247.0 C490,212.0 510.0,212.0 510.0,247.0\" fill=\"none\" stroke=\"currentColor\"/>\n    <text dy=\"1.25em\" style=\"font-size: 0.8em; letter-spacing: 1px\">\n        <textPath xlink:href=\"#arrow-f2ad52eea9364c669448c765943edc95-0-5\" class=\"displacy-label\" startOffset=\"50%\" side=\"left\" fill=\"currentColor\" text-anchor=\"middle\">nsubj</textPath>\n    </text>\n    <path class=\"displacy-arrowhead\" d=\"M490,249.0 L482,237.0 498,237.0\" fill=\"currentColor\"/>\n</g>\n\n<g class=\"displacy-arrow\">\n    <path class=\"displacy-arc\" id=\"arrow-f2ad52eea9364c669448c765943edc95-0-6\" stroke-width=\"2px\" d=\"M280,247.0 C280,177.0 515.0,177.0 515.0,247.0\" fill=\"none\" stroke=\"currentColor\"/>\n    <text dy=\"1.25em\" style=\"font-size: 0.8em; letter-spacing: 1px\">\n        <textPath xlink:href=\"#arrow-f2ad52eea9364c669448c765943edc95-0-6\" class=\"displacy-label\" startOffset=\"50%\" side=\"left\" fill=\"currentColor\" text-anchor=\"middle\">parataxis</textPath>\n    </text>\n    <path class=\"displacy-arrowhead\" d=\"M515.0,249.0 L523.0,237.0 507.0,237.0\" fill=\"currentColor\"/>\n</g>\n\n<g class=\"displacy-arrow\">\n    <path class=\"displacy-arc\" id=\"arrow-f2ad52eea9364c669448c765943edc95-0-7\" stroke-width=\"2px\" d=\"M630,247.0 C630,107.0 875.0,107.0 875.0,247.0\" fill=\"none\" stroke=\"currentColor\"/>\n    <text dy=\"1.25em\" style=\"font-size: 0.8em; letter-spacing: 1px\">\n        <textPath xlink:href=\"#arrow-f2ad52eea9364c669448c765943edc95-0-7\" class=\"displacy-label\" startOffset=\"50%\" side=\"left\" fill=\"currentColor\" text-anchor=\"middle\">name</textPath>\n    </text>\n    <path class=\"displacy-arrowhead\" d=\"M630,249.0 L622,237.0 638,237.0\" fill=\"currentColor\"/>\n</g>\n\n<g class=\"displacy-arrow\">\n    <path class=\"displacy-arc\" id=\"arrow-f2ad52eea9364c669448c765943edc95-0-8\" stroke-width=\"2px\" d=\"M700,247.0 C700,142.0 870.0,142.0 870.0,247.0\" fill=\"none\" stroke=\"currentColor\"/>\n    <text dy=\"1.25em\" style=\"font-size: 0.8em; letter-spacing: 1px\">\n        <textPath xlink:href=\"#arrow-f2ad52eea9364c669448c765943edc95-0-8\" class=\"displacy-label\" startOffset=\"50%\" side=\"left\" fill=\"currentColor\" text-anchor=\"middle\">name</textPath>\n    </text>\n    <path class=\"displacy-arrowhead\" d=\"M700,249.0 L692,237.0 708,237.0\" fill=\"currentColor\"/>\n</g>\n\n<g class=\"displacy-arrow\">\n    <path class=\"displacy-arc\" id=\"arrow-f2ad52eea9364c669448c765943edc95-0-9\" stroke-width=\"2px\" d=\"M770,247.0 C770,177.0 865.0,177.0 865.0,247.0\" fill=\"none\" stroke=\"currentColor\"/>\n    <text dy=\"1.25em\" style=\"font-size: 0.8em; letter-spacing: 1px\">\n        <textPath xlink:href=\"#arrow-f2ad52eea9364c669448c765943edc95-0-9\" class=\"displacy-label\" startOffset=\"50%\" side=\"left\" fill=\"currentColor\" text-anchor=\"middle\">name</textPath>\n    </text>\n    <path class=\"displacy-arrowhead\" d=\"M770,249.0 L762,237.0 778,237.0\" fill=\"currentColor\"/>\n</g>\n\n<g class=\"displacy-arrow\">\n    <path class=\"displacy-arc\" id=\"arrow-f2ad52eea9364c669448c765943edc95-0-10\" stroke-width=\"2px\" d=\"M840,247.0 C840,212.0 860.0,212.0 860.0,247.0\" fill=\"none\" stroke=\"currentColor\"/>\n    <text dy=\"1.25em\" style=\"font-size: 0.8em; letter-spacing: 1px\">\n        <textPath xlink:href=\"#arrow-f2ad52eea9364c669448c765943edc95-0-10\" class=\"displacy-label\" startOffset=\"50%\" side=\"left\" fill=\"currentColor\" text-anchor=\"middle\">punct</textPath>\n    </text>\n    <path class=\"displacy-arrowhead\" d=\"M840,249.0 L832,237.0 848,237.0\" fill=\"currentColor\"/>\n</g>\n\n<g class=\"displacy-arrow\">\n    <path class=\"displacy-arc\" id=\"arrow-f2ad52eea9364c669448c765943edc95-0-11\" stroke-width=\"2px\" d=\"M560,247.0 C560,72.0 880.0,72.0 880.0,247.0\" fill=\"none\" stroke=\"currentColor\"/>\n    <text dy=\"1.25em\" style=\"font-size: 0.8em; letter-spacing: 1px\">\n        <textPath xlink:href=\"#arrow-f2ad52eea9364c669448c765943edc95-0-11\" class=\"displacy-label\" startOffset=\"50%\" side=\"left\" fill=\"currentColor\" text-anchor=\"middle\">dobj</textPath>\n    </text>\n    <path class=\"displacy-arrowhead\" d=\"M880.0,249.0 L888.0,237.0 872.0,237.0\" fill=\"currentColor\"/>\n</g>\n\n<g class=\"displacy-arrow\">\n    <path class=\"displacy-arc\" id=\"arrow-f2ad52eea9364c669448c765943edc95-0-12\" stroke-width=\"2px\" d=\"M910,247.0 C910,212.0 930.0,212.0 930.0,247.0\" fill=\"none\" stroke=\"currentColor\"/>\n    <text dy=\"1.25em\" style=\"font-size: 0.8em; letter-spacing: 1px\">\n        <textPath xlink:href=\"#arrow-f2ad52eea9364c669448c765943edc95-0-12\" class=\"displacy-label\" startOffset=\"50%\" side=\"left\" fill=\"currentColor\" text-anchor=\"middle\">punct</textPath>\n    </text>\n    <path class=\"displacy-arrowhead\" d=\"M930.0,249.0 L938.0,237.0 922.0,237.0\" fill=\"currentColor\"/>\n</g>\n\n<g class=\"displacy-arrow\">\n    <path class=\"displacy-arc\" id=\"arrow-f2ad52eea9364c669448c765943edc95-0-13\" stroke-width=\"2px\" d=\"M1050,247.0 C1050,212.0 1070.0,212.0 1070.0,247.0\" fill=\"none\" stroke=\"currentColor\"/>\n    <text dy=\"1.25em\" style=\"font-size: 0.8em; letter-spacing: 1px\">\n        <textPath xlink:href=\"#arrow-f2ad52eea9364c669448c765943edc95-0-13\" class=\"displacy-label\" startOffset=\"50%\" side=\"left\" fill=\"currentColor\" text-anchor=\"middle\">det</textPath>\n    </text>\n    <path class=\"displacy-arrowhead\" d=\"M1050,249.0 L1042,237.0 1058,237.0\" fill=\"currentColor\"/>\n</g>\n\n<g class=\"displacy-arrow\">\n    <path class=\"displacy-arc\" id=\"arrow-f2ad52eea9364c669448c765943edc95-0-14\" stroke-width=\"2px\" d=\"M910,247.0 C910,177.0 1075.0,177.0 1075.0,247.0\" fill=\"none\" stroke=\"currentColor\"/>\n    <text dy=\"1.25em\" style=\"font-size: 0.8em; letter-spacing: 1px\">\n        <textPath xlink:href=\"#arrow-f2ad52eea9364c669448c765943edc95-0-14\" class=\"displacy-label\" startOffset=\"50%\" side=\"left\" fill=\"currentColor\" text-anchor=\"middle\">appos</textPath>\n    </text>\n    <path class=\"displacy-arrowhead\" d=\"M1075.0,249.0 L1083.0,237.0 1067.0,237.0\" fill=\"currentColor\"/>\n</g>\n\n<g class=\"displacy-arrow\">\n    <path class=\"displacy-arc\" id=\"arrow-f2ad52eea9364c669448c765943edc95-0-15\" stroke-width=\"2px\" d=\"M1190,247.0 C1190,177.0 1285.0,177.0 1285.0,247.0\" fill=\"none\" stroke=\"currentColor\"/>\n    <text dy=\"1.25em\" style=\"font-size: 0.8em; letter-spacing: 1px\">\n        <textPath xlink:href=\"#arrow-f2ad52eea9364c669448c765943edc95-0-15\" class=\"displacy-label\" startOffset=\"50%\" side=\"left\" fill=\"currentColor\" text-anchor=\"middle\">case</textPath>\n    </text>\n    <path class=\"displacy-arrowhead\" d=\"M1190,249.0 L1182,237.0 1198,237.0\" fill=\"currentColor\"/>\n</g>\n\n<g class=\"displacy-arrow\">\n    <path class=\"displacy-arc\" id=\"arrow-f2ad52eea9364c669448c765943edc95-0-16\" stroke-width=\"2px\" d=\"M1260,247.0 C1260,212.0 1280.0,212.0 1280.0,247.0\" fill=\"none\" stroke=\"currentColor\"/>\n    <text dy=\"1.25em\" style=\"font-size: 0.8em; letter-spacing: 1px\">\n        <textPath xlink:href=\"#arrow-f2ad52eea9364c669448c765943edc95-0-16\" class=\"displacy-label\" startOffset=\"50%\" side=\"left\" fill=\"currentColor\" text-anchor=\"middle\">det</textPath>\n    </text>\n    <path class=\"displacy-arrowhead\" d=\"M1260,249.0 L1252,237.0 1268,237.0\" fill=\"currentColor\"/>\n</g>\n\n<g class=\"displacy-arrow\">\n    <path class=\"displacy-arc\" id=\"arrow-f2ad52eea9364c669448c765943edc95-0-17\" stroke-width=\"2px\" d=\"M560,247.0 C560,37.0 1305.0,37.0 1305.0,247.0\" fill=\"none\" stroke=\"currentColor\"/>\n    <text dy=\"1.25em\" style=\"font-size: 0.8em; letter-spacing: 1px\">\n        <textPath xlink:href=\"#arrow-f2ad52eea9364c669448c765943edc95-0-17\" class=\"displacy-label\" startOffset=\"50%\" side=\"left\" fill=\"currentColor\" text-anchor=\"middle\">nmod</textPath>\n    </text>\n    <path class=\"displacy-arrowhead\" d=\"M1305.0,249.0 L1313.0,237.0 1297.0,237.0\" fill=\"currentColor\"/>\n</g>\n\n<g class=\"displacy-arrow\">\n    <path class=\"displacy-arc\" id=\"arrow-f2ad52eea9364c669448c765943edc95-0-18\" stroke-width=\"2px\" d=\"M1400,247.0 C1400,177.0 1495.0,177.0 1495.0,247.0\" fill=\"none\" stroke=\"currentColor\"/>\n    <text dy=\"1.25em\" style=\"font-size: 0.8em; letter-spacing: 1px\">\n        <textPath xlink:href=\"#arrow-f2ad52eea9364c669448c765943edc95-0-18\" class=\"displacy-label\" startOffset=\"50%\" side=\"left\" fill=\"currentColor\" text-anchor=\"middle\">case</textPath>\n    </text>\n    <path class=\"displacy-arrowhead\" d=\"M1400,249.0 L1392,237.0 1408,237.0\" fill=\"currentColor\"/>\n</g>\n\n<g class=\"displacy-arrow\">\n    <path class=\"displacy-arc\" id=\"arrow-f2ad52eea9364c669448c765943edc95-0-19\" stroke-width=\"2px\" d=\"M1470,247.0 C1470,212.0 1490.0,212.0 1490.0,247.0\" fill=\"none\" stroke=\"currentColor\"/>\n    <text dy=\"1.25em\" style=\"font-size: 0.8em; letter-spacing: 1px\">\n        <textPath xlink:href=\"#arrow-f2ad52eea9364c669448c765943edc95-0-19\" class=\"displacy-label\" startOffset=\"50%\" side=\"left\" fill=\"currentColor\" text-anchor=\"middle\">det</textPath>\n    </text>\n    <path class=\"displacy-arrowhead\" d=\"M1470,249.0 L1462,237.0 1478,237.0\" fill=\"currentColor\"/>\n</g>\n\n<g class=\"displacy-arrow\">\n    <path class=\"displacy-arc\" id=\"arrow-f2ad52eea9364c669448c765943edc95-0-20\" stroke-width=\"2px\" d=\"M1330,247.0 C1330,142.0 1500.0,142.0 1500.0,247.0\" fill=\"none\" stroke=\"currentColor\"/>\n    <text dy=\"1.25em\" style=\"font-size: 0.8em; letter-spacing: 1px\">\n        <textPath xlink:href=\"#arrow-f2ad52eea9364c669448c765943edc95-0-20\" class=\"displacy-label\" startOffset=\"50%\" side=\"left\" fill=\"currentColor\" text-anchor=\"middle\">nmod</textPath>\n    </text>\n    <path class=\"displacy-arrowhead\" d=\"M1500.0,249.0 L1508.0,237.0 1492.0,237.0\" fill=\"currentColor\"/>\n</g>\n\n<g class=\"displacy-arrow\">\n    <path class=\"displacy-arc\" id=\"arrow-f2ad52eea9364c669448c765943edc95-0-21\" stroke-width=\"2px\" d=\"M1610,247.0 C1610,212.0 1630.0,212.0 1630.0,247.0\" fill=\"none\" stroke=\"currentColor\"/>\n    <text dy=\"1.25em\" style=\"font-size: 0.8em; letter-spacing: 1px\">\n        <textPath xlink:href=\"#arrow-f2ad52eea9364c669448c765943edc95-0-21\" class=\"displacy-label\" startOffset=\"50%\" side=\"left\" fill=\"currentColor\" text-anchor=\"middle\">case</textPath>\n    </text>\n    <path class=\"displacy-arrowhead\" d=\"M1610,249.0 L1602,237.0 1618,237.0\" fill=\"currentColor\"/>\n</g>\n\n<g class=\"displacy-arrow\">\n    <path class=\"displacy-arc\" id=\"arrow-f2ad52eea9364c669448c765943edc95-0-22\" stroke-width=\"2px\" d=\"M1540,247.0 C1540,177.0 1635.0,177.0 1635.0,247.0\" fill=\"none\" stroke=\"currentColor\"/>\n    <text dy=\"1.25em\" style=\"font-size: 0.8em; letter-spacing: 1px\">\n        <textPath xlink:href=\"#arrow-f2ad52eea9364c669448c765943edc95-0-22\" class=\"displacy-label\" startOffset=\"50%\" side=\"left\" fill=\"currentColor\" text-anchor=\"middle\">nmod</textPath>\n    </text>\n    <path class=\"displacy-arrowhead\" d=\"M1635.0,249.0 L1643.0,237.0 1627.0,237.0\" fill=\"currentColor\"/>\n</g>\n\n<g class=\"displacy-arrow\">\n    <path class=\"displacy-arc\" id=\"arrow-f2ad52eea9364c669448c765943edc95-0-23\" stroke-width=\"2px\" d=\"M1540,247.0 C1540,142.0 1710.0,142.0 1710.0,247.0\" fill=\"none\" stroke=\"currentColor\"/>\n    <text dy=\"1.25em\" style=\"font-size: 0.8em; letter-spacing: 1px\">\n        <textPath xlink:href=\"#arrow-f2ad52eea9364c669448c765943edc95-0-23\" class=\"displacy-label\" startOffset=\"50%\" side=\"left\" fill=\"currentColor\" text-anchor=\"middle\">punct</textPath>\n    </text>\n    <path class=\"displacy-arrowhead\" d=\"M1710.0,249.0 L1718.0,237.0 1702.0,237.0\" fill=\"currentColor\"/>\n</g>\n\n<g class=\"displacy-arrow\">\n    <path class=\"displacy-arc\" id=\"arrow-f2ad52eea9364c669448c765943edc95-0-24\" stroke-width=\"2px\" d=\"M1820,247.0 C1820,142.0 1990.0,142.0 1990.0,247.0\" fill=\"none\" stroke=\"currentColor\"/>\n    <text dy=\"1.25em\" style=\"font-size: 0.8em; letter-spacing: 1px\">\n        <textPath xlink:href=\"#arrow-f2ad52eea9364c669448c765943edc95-0-24\" class=\"displacy-label\" startOffset=\"50%\" side=\"left\" fill=\"currentColor\" text-anchor=\"middle\">case</textPath>\n    </text>\n    <path class=\"displacy-arrowhead\" d=\"M1820,249.0 L1812,237.0 1828,237.0\" fill=\"currentColor\"/>\n</g>\n\n<g class=\"displacy-arrow\">\n    <path class=\"displacy-arc\" id=\"arrow-f2ad52eea9364c669448c765943edc95-0-25\" stroke-width=\"2px\" d=\"M1890,247.0 C1890,177.0 1985.0,177.0 1985.0,247.0\" fill=\"none\" stroke=\"currentColor\"/>\n    <text dy=\"1.25em\" style=\"font-size: 0.8em; letter-spacing: 1px\">\n        <textPath xlink:href=\"#arrow-f2ad52eea9364c669448c765943edc95-0-25\" class=\"displacy-label\" startOffset=\"50%\" side=\"left\" fill=\"currentColor\" text-anchor=\"middle\">det</textPath>\n    </text>\n    <path class=\"displacy-arrowhead\" d=\"M1890,249.0 L1882,237.0 1898,237.0\" fill=\"currentColor\"/>\n</g>\n\n<g class=\"displacy-arrow\">\n    <path class=\"displacy-arc\" id=\"arrow-f2ad52eea9364c669448c765943edc95-0-26\" stroke-width=\"2px\" d=\"M1960,247.0 C1960,212.0 1980.0,212.0 1980.0,247.0\" fill=\"none\" stroke=\"currentColor\"/>\n    <text dy=\"1.25em\" style=\"font-size: 0.8em; letter-spacing: 1px\">\n        <textPath xlink:href=\"#arrow-f2ad52eea9364c669448c765943edc95-0-26\" class=\"displacy-label\" startOffset=\"50%\" side=\"left\" fill=\"currentColor\" text-anchor=\"middle\">amod</textPath>\n    </text>\n    <path class=\"displacy-arrowhead\" d=\"M1960,249.0 L1952,237.0 1968,237.0\" fill=\"currentColor\"/>\n</g>\n\n<g class=\"displacy-arrow\">\n    <path class=\"displacy-arc\" id=\"arrow-f2ad52eea9364c669448c765943edc95-0-27\" stroke-width=\"2px\" d=\"M1540,247.0 C1540,107.0 1995.0,107.0 1995.0,247.0\" fill=\"none\" stroke=\"currentColor\"/>\n    <text dy=\"1.25em\" style=\"font-size: 0.8em; letter-spacing: 1px\">\n        <textPath xlink:href=\"#arrow-f2ad52eea9364c669448c765943edc95-0-27\" class=\"displacy-label\" startOffset=\"50%\" side=\"left\" fill=\"currentColor\" text-anchor=\"middle\">nmod</textPath>\n    </text>\n    <path class=\"displacy-arrowhead\" d=\"M1995.0,249.0 L2003.0,237.0 1987.0,237.0\" fill=\"currentColor\"/>\n</g>\n\n<g class=\"displacy-arrow\">\n    <path class=\"displacy-arc\" id=\"arrow-f2ad52eea9364c669448c765943edc95-0-28\" stroke-width=\"2px\" d=\"M280,247.0 C280,2.0 2080.0,2.0 2080.0,247.0\" fill=\"none\" stroke=\"currentColor\"/>\n    <text dy=\"1.25em\" style=\"font-size: 0.8em; letter-spacing: 1px\">\n        <textPath xlink:href=\"#arrow-f2ad52eea9364c669448c765943edc95-0-28\" class=\"displacy-label\" startOffset=\"50%\" side=\"left\" fill=\"currentColor\" text-anchor=\"middle\">punct</textPath>\n    </text>\n    <path class=\"displacy-arrowhead\" d=\"M2080.0,249.0 L2088.0,237.0 2072.0,237.0\" fill=\"currentColor\"/>\n</g>\n</svg></span>"
     },
     "metadata": {},
     "output_type": "display_data"
    },
    {
     "name": "stdout",
     "output_type": "stream",
     "text": [
      "sentence: ['<ROOT>', 'al', '-', 'zaman', ':', 'american', 'forces', 'killed', 'shaikh', 'abdullah', 'al', '-', 'ani', ',', 'the', 'preacher', 'at', 'the', 'mosque', 'in', 'the', 'town', 'of', 'qaim', ',', 'near', 'the', 'syrian', 'border', '.']\tgold_dependencies: ['Arc(head_idx=3, dep_idx=1, label_id=10)', 'Arc(head_idx=3, dep_idx=2, label_id=14)', 'Arc(head_idx=0, dep_idx=3, label_id=0)', 'Arc(head_idx=3, dep_idx=4, label_id=14)', 'Arc(head_idx=6, dep_idx=5, label_id=1)', 'Arc(head_idx=7, dep_idx=6, label_id=12)', 'Arc(head_idx=3, dep_idx=7, label_id=13)', 'Arc(head_idx=12, dep_idx=8, label_id=10)', 'Arc(head_idx=12, dep_idx=9, label_id=10)', 'Arc(head_idx=12, dep_idx=10, label_id=10)', 'Arc(head_idx=12, dep_idx=11, label_id=14)', 'Arc(head_idx=7, dep_idx=12, label_id=5)', 'Arc(head_idx=12, dep_idx=13, label_id=14)', 'Arc(head_idx=15, dep_idx=14, label_id=4)', 'Arc(head_idx=12, dep_idx=15, label_id=2)', 'Arc(head_idx=18, dep_idx=16, label_id=3)', 'Arc(head_idx=18, dep_idx=17, label_id=4)', 'Arc(head_idx=7, dep_idx=18, label_id=11)', 'Arc(head_idx=21, dep_idx=19, label_id=3)', 'Arc(head_idx=21, dep_idx=20, label_id=4)', 'Arc(head_idx=18, dep_idx=21, label_id=11)', 'Arc(head_idx=23, dep_idx=22, label_id=3)', 'Arc(head_idx=21, dep_idx=23, label_id=11)', 'Arc(head_idx=21, dep_idx=24, label_id=14)', 'Arc(head_idx=28, dep_idx=25, label_id=3)', 'Arc(head_idx=28, dep_idx=26, label_id=4)', 'Arc(head_idx=28, dep_idx=27, label_id=1)', 'Arc(head_idx=21, dep_idx=28, label_id=11)', 'Arc(head_idx=3, dep_idx=29, label_id=14)']\n",
      "\tTesting generate_training_examples(sentence, gold_dependencies, vocab):\n",
      "\t\tYour Training Examples:    None \n",
      "\t\tCorrect Training Examples: [([], 'S'), ([], 'S'), ([], 'S'), ([], 'LA-punct'), ([], 'LA-name'), ([], 'S'), ([], 'RA-punct'), ([], 'S'), ([], 'S'), ([], 'LA-amod'), ([], 'S'), ([], 'LA-nsubj'), ([], 'S'), ([], 'S'), ([], 'S'), ([], 'S'), ([], 'S'), ([], 'LA-punct'), ([], 'LA-name'), ([], 'LA-name'), ([], 'LA-name'), ([], 'S'), ([], 'RA-punct'), ([], 'S'), ([], 'S'), ([], 'LA-det'), ([], 'RA-appos'), ([], 'RA-dobj'), ([], 'S'), ([], 'S'), ([], 'S'), ([], 'LA-det'), ([], 'LA-case'), ([], 'S'), ([], 'S'), ([], 'S'), ([], 'LA-det'), ([], 'LA-case'), ([], 'S'), ([], 'S'), ([], 'LA-case'), ([], 'RA-nmod'), ([], 'S'), ([], 'RA-punct'), ([], 'S'), ([], 'S'), ([], 'S'), ([], 'S'), ([], 'LA-amod'), ([], 'LA-det'), ([], 'LA-case'), ([], 'RA-nmod'), ([], 'RA-nmod'), ([], 'RA-nmod'), ([], 'RA-parataxis'), ([], 'S'), ([], 'RA-punct'), ([], 'RA-root')]\n",
      "\t\tIncorrect!\n",
      "\n",
      "\n",
      "Test Sentence 10 failed.\n",
      "\n",
      "---------------------------------------------------------------------------------------------------- \n",
      "\n",
      "0 / 10 = 0.0% of test cases passed!\n"
     ]
    }
   ],
   "source": [
    "if __name__ == '__main__':\n",
    "    sanityCheck_generate_training_examples(generate_training_examples, to_print='incorrect', do_raise=True)"
   ]
  },
  {
   "cell_type": "markdown",
   "metadata": {
    "id": "PRMxUrAZp0hM"
   },
   "source": [
    "The following function calls `generate_training_examples(...)` on every sentence in the dataset to create the full training data. You do <b>not</b> need to edit it."
   ]
  },
  {
   "cell_type": "code",
   "execution_count": 18,
   "metadata": {
    "id": "tVbUIQN4X-rz"
   },
   "outputs": [],
   "source": [
    "### DO NOT EDIT ###\n",
    "\n",
    "def generate_all_training_examples(vocab, sentences, feat_extract = lambda parser_config: []):\n",
    "    '''\n",
    "    Generate training examples for all sentences.\n",
    "    '''\n",
    "    all_training_examples = []\n",
    "    successful_sents = 0\n",
    "    for sentence in sentences:\n",
    "        training_examples = generate_training_examples(sentence[0], sentence[1], vocab, feat_extract)\n",
    "        if training_examples != []:\n",
    "            all_training_examples += training_examples\n",
    "            successful_sents += 1\n",
    "\n",
    "    print(\"Successfully generated training examples for\", successful_sents, \"/\", len(sentences), \"sentences\")\n",
    "    print(\"Number of training examples:\", len(all_training_examples))\n",
    "\n",
    "    return all_training_examples"
   ]
  },
  {
   "cell_type": "code",
   "execution_count": 19,
   "metadata": {
    "id": "zwi0kw6Jfzxp"
   },
   "outputs": [
    {
     "ename": "TypeError",
     "evalue": "'NoneType' object is not iterable",
     "output_type": "error",
     "traceback": [
      "\u001B[0;31m---------------------------------------------------------------------------\u001B[0m",
      "\u001B[0;31mTypeError\u001B[0m                                 Traceback (most recent call last)",
      "Input \u001B[0;32mIn [19]\u001B[0m, in \u001B[0;36m<cell line: 3>\u001B[0;34m()\u001B[0m\n\u001B[1;32m      3\u001B[0m \u001B[38;5;28;01mif\u001B[39;00m \u001B[38;5;18m__name__\u001B[39m \u001B[38;5;241m==\u001B[39m \u001B[38;5;124m'\u001B[39m\u001B[38;5;124m__main__\u001B[39m\u001B[38;5;124m'\u001B[39m:\n\u001B[1;32m      4\u001B[0m     _vocab \u001B[38;5;241m=\u001B[39m Vocabulary(train_set) \u001B[38;5;66;03m# Variable just used in this cell\u001B[39;00m\n\u001B[0;32m----> 5\u001B[0m     \u001B[43mgenerate_all_training_examples\u001B[49m\u001B[43m(\u001B[49m\u001B[43m_vocab\u001B[49m\u001B[43m,\u001B[49m\u001B[43m \u001B[49m\u001B[43m_vocab\u001B[49m\u001B[38;5;241;43m.\u001B[39;49m\u001B[43mbuildSentences\u001B[49m\u001B[43m(\u001B[49m\u001B[43mtrain_set\u001B[49m\u001B[43m)\u001B[49m\u001B[43m)\u001B[49m\n",
      "Input \u001B[0;32mIn [18]\u001B[0m, in \u001B[0;36mgenerate_all_training_examples\u001B[0;34m(vocab, sentences, feat_extract)\u001B[0m\n\u001B[1;32m     10\u001B[0m     training_examples \u001B[38;5;241m=\u001B[39m generate_training_examples(sentence[\u001B[38;5;241m0\u001B[39m], sentence[\u001B[38;5;241m1\u001B[39m], vocab, feat_extract)\n\u001B[1;32m     11\u001B[0m     \u001B[38;5;28;01mif\u001B[39;00m training_examples \u001B[38;5;241m!=\u001B[39m []:\n\u001B[0;32m---> 12\u001B[0m         all_training_examples \u001B[38;5;241m+\u001B[39m\u001B[38;5;241m=\u001B[39m training_examples\n\u001B[1;32m     13\u001B[0m         successful_sents \u001B[38;5;241m+\u001B[39m\u001B[38;5;241m=\u001B[39m \u001B[38;5;241m1\u001B[39m\n\u001B[1;32m     15\u001B[0m \u001B[38;5;28mprint\u001B[39m(\u001B[38;5;124m\"\u001B[39m\u001B[38;5;124mSuccessfully generated training examples for\u001B[39m\u001B[38;5;124m\"\u001B[39m, successful_sents, \u001B[38;5;124m\"\u001B[39m\u001B[38;5;124m/\u001B[39m\u001B[38;5;124m\"\u001B[39m, \u001B[38;5;28mlen\u001B[39m(sentences), \u001B[38;5;124m\"\u001B[39m\u001B[38;5;124msentences\u001B[39m\u001B[38;5;124m\"\u001B[39m)\n",
      "\u001B[0;31mTypeError\u001B[0m: 'NoneType' object is not iterable"
     ]
    }
   ],
   "source": [
    "### DO NOT EDIT ###\n",
    "\n",
    "if __name__ == '__main__':\n",
    "    _vocab = Vocabulary(train_set) # Variable just used in this cell\n",
    "    generate_all_training_examples(_vocab, _vocab.buildSentences(train_set))"
   ]
  },
  {
   "cell_type": "markdown",
   "metadata": {
    "id": "yDXMtwn6IJM3"
   },
   "source": [
    "## <font color='red'>TODO</font>: Extract Features [28 points]\n",
    "By this point, you have written code to create individual training instances. Each instance is made up of a parser configuration along with the gold action that the classifier should be trained to predict.\n",
    "\n",
    "In order to make this prediction, your neural network will have to rely on features extracted from each parser configuration. We follow the procedure described at the end of Section 3.1 of <a href=\"https://nlp.stanford.edu/pubs/emnlp2014-depparser.pdf\">A Fast and Accurate Dependency Parser using Neural Networks</a>. In total, we will extract 48 features from the parser configuration $-$ 18 word features, 18 POS features, and 12 label features:\n",
    "* Word & POS features for $s_1$, $s_2$, $s_3$ (top 3 items of the stack)\n",
    "* Word & POS features for $b_1$, $b_2$, $b_3$ (top 3 items of the buffer)\n",
    "* Word, POS, & label features for $lc_1(s_1)$, $lc_2(s_1)$, $lc_1(s_2)$, $lc_2(s_2)$ (the first & second leftmost children of the top 2 items on the stack)\n",
    "* Word, POS, & label features for $rc_1(s_1)$, $rc_2(s_1)$, $rc_1(s_2)$, $rc_2(s_2)$ (the first & second rightmost children of the top 2 items on the stack)\n",
    "* Word, POS, & label features for $lc_1(lc_1(s_1))$, $lc_1(lc_1(s_2))$, $rc_1(rc_1(s_1))$, $rc_1(rc_1(s_2))$ (the leftmost of the leftmost & rightmost of the rightmost children of the top 2 items on the stack)\n",
    "\n",
    "You will write a separate function for each of the 5 bullets above. Each function will return a list of word features, a list of POS features, and (in the relevant cases) a list of label features. We also provide you with a test for each function.\n",
    "\n",
    "A \"feature\" refers to the id (index in the Vocabulary) of a word, POS, or label. Your neural network will then construct embeddings for each id, much as you have seen in previous homeworks."
   ]
  },
  {
   "cell_type": "markdown",
   "metadata": {
    "id": "psFHnbnMQ7rh"
   },
   "source": [
    "First, write 2 functions to extract features corresponding to the words at the top of the stack & buffer:\n",
    "* `get_top3_stack_features(parser_config)` <b>[3 points]</b>: Return word & POS features (ids) for $s_1$, $s_2$, $s_3$ (top 3 words on the stack).\n",
    "* `get_top3_buffer_features(parser_config)` <b>[3 points]</b>: Return word & POS features (ids) for $b_1$, $b_2$, $b_3$ (top 3 words on the buffer).\n",
    "\n",
    "Wherever a particular word does not exist (such as when the stack or buffer has length $< 3$) use the appropriate NULL token. This is necessary to ensure that our neural network will see an equally sized feature vector for each example."
   ]
  },
  {
   "cell_type": "code",
   "execution_count": null,
   "metadata": {
    "id": "_Afl9vxuRtxN"
   },
   "outputs": [],
   "source": [
    "def get_top3_stack_features(parser_config):\n",
    "    '''\n",
    "    Get the word and POS features for s1, s2, and s3 (the top 3 items on the stack)\n",
    "    Returns:\n",
    "        word_features: List of word ids for s1, s2, s3 (use vocab.WORD_NULL if a word does not exist)\n",
    "        pos_features: List of POS ids for s1, s2, s3 (use vocab.POS_NULL if a word does not exist)\n",
    "    '''\n",
    "    word_features, pos_features = [parser_config.vocab.WORD_NULL]*3, [parser_config.vocab.POS_NULL]*3\n",
    "\n",
    "    ### TODO ###\n",
    "\n",
    "    \n",
    "    return None, None"
   ]
  },
  {
   "cell_type": "code",
   "execution_count": null,
   "metadata": {
    "id": "S8vLFHRpduin"
   },
   "outputs": [],
   "source": [
    "if __name__ == '__main__':\n",
    "    sanityCheck(get_top3_stack_features, to_print='incorrect', do_raise=True)"
   ]
  },
  {
   "cell_type": "code",
   "execution_count": null,
   "metadata": {
    "id": "u7KKlAcf8-dm"
   },
   "outputs": [],
   "source": [
    "def get_top3_buffer_features(parser_config):\n",
    "    '''\n",
    "    Get the word and POS features for b1, b2, and b3 (the top 3 items on the buffer)\n",
    "    Returns:\n",
    "        word_features: List of word ids for b1, b2, b3 (use vocab.WORD_NULL if a word does not exist)\n",
    "        pos_features: List of POS ids for b1, b2, b3 (use vocab.POS_NULL if a word does not exist)\n",
    "    '''\n",
    "    word_features, pos_features = [parser_config.vocab.WORD_NULL]*3, [parser_config.vocab.POS_NULL]*3\n",
    "\n",
    "    ### TODO ###\n",
    "    \n",
    "    return None, None"
   ]
  },
  {
   "cell_type": "code",
   "execution_count": null,
   "metadata": {
    "id": "-bd7dz0GfXVK"
   },
   "outputs": [],
   "source": [
    "if __name__ == '__main__':\n",
    "    sanityCheck(get_top3_buffer_features, to_print='incorrect', do_raise=True)"
   ]
  },
  {
   "cell_type": "markdown",
   "metadata": {
    "id": "09zcpPdWUe2a"
   },
   "source": [
    "The remaining features have to do with the leftmost & rightmost children of the words at the top of the stack & buffer. Write the following 2 helper functions to make it easier to access these dependents:\n",
    "* `get_lc(parser_config, word)` <b>[2 points]</b>: Return a list of arcs to dependents of `word`, sorted from <b>left to right</b>. Only include dependents that are to the <b>left</b> of `word` in the sentence.\n",
    "* `get_rc(parser_config, word)` <b>[2 points]</b>: Return a list of arcs to dependents of `word`, sorted from <b>right to left</b>. Only include dependents that are to the <b>right</b> of `word` in the sentence.\n",
    "\n",
    "<font color='green'><b>Hint:</b> You can sort a list of objects using `sorted(...)` with the `key` parameter.</font>\n",
    "\n",
    "<font color='green'><b>Hint:</b> Each of these functions can be written in as few as 1 line. If you find yourself using more than 5 lines, you are probably doing more work than you need to.</font>"
   ]
  },
  {
   "cell_type": "code",
   "execution_count": null,
   "metadata": {
    "id": "MCu-UWopILGy"
   },
   "outputs": [],
   "source": [
    "def get_lc(parser_config, word):\n",
    "    '''\n",
    "    Finds the left dependents of word, sorted from left to right.\n",
    "    Returns:\n",
    "        A list of Arcs whose head is word, sorted by the indices of the dependent word from left to right.\n",
    "    '''\n",
    "    ### TODO ###\n",
    "\n",
    "    return None"
   ]
  },
  {
   "cell_type": "code",
   "execution_count": null,
   "metadata": {
    "id": "lNKpmxWdhMO3"
   },
   "outputs": [],
   "source": [
    "if __name__ == '__main__':\n",
    "    sanityCheck(get_lc, to_print='incorrect', do_raise=True)"
   ]
  },
  {
   "cell_type": "code",
   "execution_count": null,
   "metadata": {
    "id": "Yu8bcii49Ais"
   },
   "outputs": [],
   "source": [
    "def get_rc(parser_config, word):\n",
    "    '''\n",
    "    Finds the right dependents of word, sorted from right to left.\n",
    "    Returns:\n",
    "        A list of Arcs whose head is word, sorted by the indices of the dependent word from right to left.\n",
    "    '''\n",
    "    ### TODO ###\n",
    "\n",
    "    return None"
   ]
  },
  {
   "cell_type": "code",
   "execution_count": null,
   "metadata": {
    "id": "2akWvmieu8zR"
   },
   "outputs": [],
   "source": [
    "if __name__ == '__main__':\n",
    "    sanityCheck(get_rc, to_print='incorrect', do_raise=True)"
   ]
  },
  {
   "cell_type": "markdown",
   "metadata": {
    "id": "GgvnzwesXoxT"
   },
   "source": [
    "Let $lc_j(s_i)$ be the $j$th leftmost child of the $i$th item on the stack. Write the following function:\n",
    "* `get_lc1_lc2_features(parser_config, i)` <b>[6 points]</b>: Return word & POS features for $lc_1(s_i)$ and $lc_2(s_i)$. Additionally, return label features (the label ids) for the arcs that attach $lc_1(s_i)$ to $s_i$ and $lc_2(s_i)$ to $s_i$. As before, wherever a particular word does not exist, use the appropriate NULL token.\n",
    "\n",
    "We will call this function with `i=1` and `i=2`, accounting for the words $lc_1(s_1)$, $lc_2(s_1)$, $lc_1(s_2)$, $lc_2(s_2)$."
   ]
  },
  {
   "cell_type": "code",
   "execution_count": null,
   "metadata": {
    "id": "oOUWfviTW4cf"
   },
   "outputs": [],
   "source": [
    "def get_lc1_lc2_features(parser_config, i):\n",
    "    '''\n",
    "    Get the word, POS, and label features for lc1(si) and lc2(si), where i in {1, 2}\n",
    "    Returns:\n",
    "        word_features: List of word ids for lc1(si), lc2(si) (use vocab.WORD_NULL if a word does not exist)\n",
    "        pos_features: List of POS ids for lc1(si), lc2(si) (use vocab.POS_NULL if a word does not exist)\n",
    "        label_features: List of label ids for lc1(si), lc2(si) (use vocab.LABEL_NULL if a word does not exist)\n",
    "    '''\n",
    "    assert i in {1,2}\n",
    "    word_features, pos_features, label_features = [parser_config.vocab.WORD_NULL]*2, [parser_config.vocab.POS_NULL]*2, [parser_config.vocab.LABEL_NULL]*2\n",
    "\n",
    "    ### TODO ###\n",
    "    \n",
    "    return None, None, None"
   ]
  },
  {
   "cell_type": "code",
   "execution_count": null,
   "metadata": {
    "id": "alFEWfadfgid"
   },
   "outputs": [],
   "source": [
    "if __name__ == '__main__':\n",
    "    sanityCheck(get_lc1_lc2_features, i=1, to_print='incorrect', do_raise=True) # call with i=1"
   ]
  },
  {
   "cell_type": "code",
   "execution_count": null,
   "metadata": {
    "id": "j69zi5M5fjXm"
   },
   "outputs": [],
   "source": [
    "if __name__ == '__main__':\n",
    "    sanityCheck(get_lc1_lc2_features, i=2, to_print='incorrect', do_raise=True) # call with i=2"
   ]
  },
  {
   "cell_type": "markdown",
   "metadata": {
    "id": "ujGRbd1Ma8w3"
   },
   "source": [
    "You will now write the analagous function for the rightmost children. Let $rc_j(s_i)$ be the $j$th rightmost child of the $i$th item on the stack. Write the following function:\n",
    "* `get_rc1_rc2_features(parser_config, i)` <b>[6 points]</b>: Return word & POS features for $rc_1(s_i)$ and $rc_2(s_i)$. Additionally, return label features (the label ids) for the arcs that attach $rc_1(s_i)$ to $s_i$ and $rc_2(s_i)$ to $s_i$. As before, wherever a particular word does not exist, use the appropriate NULL token.\n",
    "\n",
    "We will call this function with `i=1` and `i=2`, accounting for the words $rc_1(s_1)$, $rc_2(s_1)$, $rc_1(s_2)$, $rc_2(s_2)$."
   ]
  },
  {
   "cell_type": "code",
   "execution_count": null,
   "metadata": {
    "id": "4y6SKXd9a4SI"
   },
   "outputs": [],
   "source": [
    "def get_rc1_rc2_features(parser_config, i):\n",
    "    '''\n",
    "    Get the word, POS, and label features for rc1(si) and rc2(si), where i in {1, 2}\n",
    "    Returns:\n",
    "        word_features: List of word ids for rc1(si), rc2(si) (use vocab.WORD_NULL if a word does not exist)\n",
    "        pos_features: List of POS ids for rc1(si), rc2(si) (use vocab.POS_NULL if a word does not exist)\n",
    "        label_features: List of label ids for rc1(si), rc2(si) (use vocab.LABEL_NULL if a word does not exist)\n",
    "    '''\n",
    "    assert i in {1,2}\n",
    "    word_features, pos_features, label_features = [parser_config.vocab.WORD_NULL]*2, [parser_config.vocab.POS_NULL]*2, [parser_config.vocab.LABEL_NULL]*2\n",
    "\n",
    "    ### TODO ###\n",
    "    \n",
    "    return None, None, None"
   ]
  },
  {
   "cell_type": "code",
   "execution_count": null,
   "metadata": {
    "id": "g0hpH3b3f3gh"
   },
   "outputs": [],
   "source": [
    "if __name__ == '__main__':\n",
    "    sanityCheck(get_rc1_rc2_features, i=1, to_print='incorrect', do_raise=True) # call with i=1"
   ]
  },
  {
   "cell_type": "code",
   "execution_count": null,
   "metadata": {
    "id": "49GvwyI6f8al"
   },
   "outputs": [],
   "source": [
    "if __name__ == '__main__':\n",
    "    sanityCheck(get_rc1_rc2_features, i=2, to_print='incorrect', do_raise=True) # call with i=2"
   ]
  },
  {
   "cell_type": "markdown",
   "metadata": {
    "id": "BKtZ3smFhXqK"
   },
   "source": [
    "Finally, write the following function:\n",
    "* `get_llc_rrc_features(parser_config, i)` <b>[6 points]</b>: Return word & POS features for $lc_1(lc_1(s_i))$ and $rc_1(rc_1(s_i))$. Additionally, return label features (the label ids) for the arcs that attach $lc_1(lc_1(s_i))$ to $lc_1(s_i)$ and $rc_1(rc_1(s_i))$ to $rc_1(s_i)$. As before, wherever a particular word does not exist, use the appropriate NULL token.\n",
    "\n",
    "We will call this function with `i=1` and `i=2`, accounting for the words $lc_1(lc_1(s_1))$, $lc_1(lc_1(s_2))$, $rc_1(rc_1(s_1))$, $rc_1(rc_1(s_2))$."
   ]
  },
  {
   "cell_type": "code",
   "execution_count": null,
   "metadata": {
    "id": "tbmTbX96hTAH"
   },
   "outputs": [],
   "source": [
    "def get_llc_rrc_features(parser_config, i):\n",
    "    '''\n",
    "    Get the word, POS, and label features for lc1(lc1(si)), and rc1(rc1(si)), where i in {1, 2}\n",
    "    Returns:\n",
    "        word_features: List of word ids for lc1(lc1(si)), and rc1(rc1(si)) (use vocab.WORD_NULL if a word does not exist)\n",
    "        pos_features: List of POS ids for lc1(lc1(si)), and rc1(rc1(si)) (use vocab.POS_NULL if a word does not exist)\n",
    "        label_features: List of label ids for lc1(lc1(si)), and rc1(rc1(si)) (use vocab.LABEL_NULL if a word does not exist)\n",
    "    '''\n",
    "    assert i in {1,2}\n",
    "    word_features, pos_features, label_features = [parser_config.vocab.WORD_NULL]*2, [parser_config.vocab.POS_NULL]*2, [parser_config.vocab.LABEL_NULL]*2\n",
    "\n",
    "    ### TODO ###\n",
    "    \n",
    "    return None, None, None"
   ]
  },
  {
   "cell_type": "code",
   "execution_count": null,
   "metadata": {
    "id": "ZDUzEcbif-pB"
   },
   "outputs": [],
   "source": [
    "if __name__ == '__main__':\n",
    "    sanityCheck(get_llc_rrc_features, i=1, to_print='incorrect', do_raise=True) # call with i=1"
   ]
  },
  {
   "cell_type": "code",
   "execution_count": null,
   "metadata": {
    "id": "ORCiIHAugC_a"
   },
   "outputs": [],
   "source": [
    "if __name__ == '__main__':\n",
    "    sanityCheck(get_llc_rrc_features, i=2, to_print='incorrect', do_raise=True) # call with i=2"
   ]
  },
  {
   "cell_type": "markdown",
   "metadata": {
    "id": "PDtGiNmJiAXI"
   },
   "source": [
    "We provide you with a function `extract_features(parser_config)` that calls each of these functions and returns a list of the 48 total features. You do <b>not</b> need to edit this function."
   ]
  },
  {
   "cell_type": "code",
   "execution_count": null,
   "metadata": {
    "id": "OFC1coWRiBHK"
   },
   "outputs": [],
   "source": [
    "### DO NOT EDIT ###\n",
    "\n",
    "def extract_features(parser_config): # for both train & inference\n",
    "    word_features, pos_features, label_features = [], [], []\n",
    "\n",
    "    # 1. Get word & pos features for s1, s2, and s3\n",
    "    (x, y) = get_top3_stack_features(parser_config)\n",
    "    word_features, pos_features = word_features + x, pos_features + y\n",
    "\n",
    "\n",
    "    # 2. Get word & pos features for b1, b2, and b3\n",
    "    (x, y) = get_top3_buffer_features(parser_config)\n",
    "    word_features, pos_features = word_features + x, pos_features + y\n",
    "\n",
    "\n",
    "    # 3. Get word & pos & label features for lc1(s1), lc1(s2), lc2(s1), lc2(s2)\n",
    "    (x, y, z) = get_lc1_lc2_features(parser_config, 1)\n",
    "    word_features, pos_features, label_features = word_features + x, pos_features + y, label_features + z\n",
    "\n",
    "    (x, y, z) = get_lc1_lc2_features(parser_config, 2)\n",
    "    word_features, pos_features, label_features = word_features + x, pos_features + y, label_features + z\n",
    "\n",
    "\n",
    "    # 4. Get word & pos & label features for rc1(s1), rc1(s2), rc2(s1), rc2(s2)\n",
    "    (x, y, z) = get_rc1_rc2_features(parser_config, 1)\n",
    "    word_features, pos_features, label_features = word_features + x, pos_features + y, label_features + z\n",
    "\n",
    "    (x, y, z) = get_rc1_rc2_features(parser_config, 2)\n",
    "    word_features, pos_features, label_features = word_features + x, pos_features + y, label_features + z\n",
    "\n",
    "\n",
    "    # 5. Get word & pos & label features for lc1(lc1(s1)), lc1(lc1(s2)), rc1(rc1(s1)), rc1(rc1(s2))\n",
    "    (x, y, z) = get_llc_rrc_features(parser_config, 1)\n",
    "    word_features, pos_features, label_features = word_features + x, pos_features + y, label_features + z\n",
    "\n",
    "    (x, y, z) = get_llc_rrc_features(parser_config, 2)\n",
    "    word_features, pos_features, label_features = word_features + x, pos_features + y, label_features + z\n",
    "\n",
    "\n",
    "    features = word_features + pos_features + label_features\n",
    "    assert len(features) == 48\n",
    "    return features"
   ]
  },
  {
   "cell_type": "markdown",
   "metadata": {
    "id": "nKQjo2XLto5x"
   },
   "source": [
    "Run the following cell as a sanity check for `generate_training_examples(..., feat_extract=extract_features)` (i.e., to make sure that you can generate training examples with the correct feature extraction function)."
   ]
  },
  {
   "cell_type": "code",
   "execution_count": null,
   "metadata": {
    "id": "60fGbLutt7cF"
   },
   "outputs": [],
   "source": [
    "if __name__ == '__main__':\n",
    "    sanityCheck_generate_training_examples(generate_training_examples, extract_features, to_print='incorrect', do_raise=True)"
   ]
  },
  {
   "cell_type": "markdown",
   "metadata": {
    "id": "SNkhguSo8yHG"
   },
   "source": [
    "# Step 3: Dataset & Model [16 points]\n",
    "\n",
    "Now we can go ahead and define our Pytorch `Dataset` class as well as our model."
   ]
  },
  {
   "cell_type": "code",
   "execution_count": null,
   "metadata": {
    "id": "jhZI1awMYnRC"
   },
   "outputs": [],
   "source": [
    "### DO NOT EDIT ###\n",
    "\n",
    "import torch\n",
    "import torch.nn as nn\n",
    "import torch.nn.functional as F"
   ]
  },
  {
   "cell_type": "markdown",
   "metadata": {
    "id": "S6XT_3EgL1LX"
   },
   "source": [
    "## Instantiate Dataset\n",
    "\n",
    "As in previous homeworks, we create a Pytorch `Dataset`, which we will use to feed our training data to the model. You do <b>not</b> need to edit this cell."
   ]
  },
  {
   "cell_type": "code",
   "execution_count": null,
   "metadata": {
    "id": "PRCHWOA7ykDK"
   },
   "outputs": [],
   "source": [
    "### DO NOT EDIT ###\n",
    "\n",
    "class TrainDataset(torch.utils.data.Dataset):\n",
    "    def __init__(self, data, vocab):\n",
    "        self.X = np.array([d[0] for d in data])\n",
    "        self.y = np.array([vocab.tran2id[d[1]] for d in data])\n",
    "    \n",
    "    def __getitem__(self, index):\n",
    "        return self.X[index], self.y[index]\n",
    "\n",
    "    def __len__(self):\n",
    "        return len(self.X)"
   ]
  },
  {
   "cell_type": "markdown",
   "metadata": {
    "id": "RMBTW1xXL5nu"
   },
   "source": [
    "## <font color='red'>TODO</font>: Define Model [16 points]\n",
    "\n",
    "Here you will write the `__init(...)__` and `forward(...)` methods of a feed-forward network, each of which is worth <b>8 points</b>. Your network should have an embedding layer, a single hidden layer, and an output layer. The `forward(...)` method will take in the features you have extracted from the parser configuration and predict the next parser action."
   ]
  },
  {
   "cell_type": "code",
   "execution_count": null,
   "metadata": {
    "id": "3xauK8678zfh"
   },
   "outputs": [],
   "source": [
    "class Model(nn.Module):\n",
    "    def __init__(self, num_embeddings, embed_size, n_features, hidden_size, n_classes, dropout_prob):\n",
    "        '''\n",
    "        Initialize the weights of feed-forward neural network.\n",
    "        Args:\n",
    "            num_embeddings: Number of embedding vectors in embedding layer (int)\n",
    "            embed_size: Size of the embedding vectors in embedding layer (int)\n",
    "            n_features: Number of features in the input to the model (int)\n",
    "            hidden_size: Hidden size (int)\n",
    "            n_classes: Number of classes in output (int)\n",
    "            dropout_prob: Probability of dropout (float)\n",
    "        '''\n",
    "        super(Model, self).__init__()\n",
    "\n",
    "        ### TODO ###\n",
    "        # Initialize embedding layer \n",
    "        # Initialize a linear layer that maps the (concatenated) embeddings to a single vector of size hidden_size\n",
    "        # Create a dropout layer with dropout_prob\n",
    "        # Initialize a linear layer that maps the hidden vector to the number of output classes\n",
    "\n",
    "        pass\n",
    "\n",
    "    def forward(self, x):\n",
    "        '''\n",
    "        This function predicts the next parser action, given the features extracted from the current parser state.\n",
    "        Inputs:\n",
    "             x: input features, [batch_size, n_features]\n",
    "        Returns:\n",
    "            logits: [batch_size, n_classes]\n",
    "        Pseudocode:\n",
    "            (1) Obtain embedding vectors for your input\n",
    "                    - Output size: [batch_size, n_features * embed_size]\n",
    "            (2) Pass the result through the first linear layer and apply ReLU activation\n",
    "            (3) Apply dropout\n",
    "            (4) Pass the result through the final linear layer and return its output (do NOT call softmax!)\n",
    "                    - Output size: [batch_size, n_classes]\n",
    "        '''\n",
    "\n",
    "        ### TODO ###\n",
    "\n",
    "        return None"
   ]
  },
  {
   "cell_type": "markdown",
   "metadata": {
    "id": "pu53edie0l7V"
   },
   "source": [
    "The code below runs a sanity check for your model class. The tests are similar to the hidden ones in Gradescope. However, note that passing the sanity check does <b>not</b> guarantee that you will pass the autograder; it is intended to help you debug."
   ]
  },
  {
   "cell_type": "code",
   "execution_count": null,
   "metadata": {
    "id": "efptBVuXNAJ9"
   },
   "outputs": [],
   "source": [
    "### DO NOT EDIT ###\n",
    "\n",
    "if __name__ == '__main__':\n",
    "    # Test init\n",
    "    inputs = [{'num_embeddings': 1000, 'embed_size': 16, 'n_features': 32, 'hidden_size': 32, 'dropout_prob': 0, 'n_classes': 2}, {'num_embeddings': 1000, 'embed_size': 16, 'n_features': 32, 'hidden_size': 32, 'dropout_prob': 0, 'n_classes': 3}, {'num_embeddings': 1000, 'embed_size': 16, 'n_features': 32, 'hidden_size': 32, 'dropout_prob': 0, 'n_classes': 2}, {'num_embeddings': 1000, 'embed_size': 16, 'n_features': 32, 'hidden_size': 32, 'dropout_prob': 0, 'n_classes': 3}, {'num_embeddings': 1000, 'embed_size': 16, 'n_features': 32, 'hidden_size': 32, 'dropout_prob': 0, 'n_classes': 2}, {'num_embeddings': 1000, 'embed_size': 16, 'n_features': 32, 'hidden_size': 32, 'dropout_prob': 0, 'n_classes': 3}, {'num_embeddings': 1000, 'embed_size': 16, 'n_features': 32, 'hidden_size': 32, 'dropout_prob': 0, 'n_classes': 2}, {'num_embeddings': 1000, 'embed_size': 16, 'n_features': 32, 'hidden_size': 32, 'dropout_prob': 0, 'n_classes': 3}, {'num_embeddings': 1000, 'embed_size': 16, 'n_features': 128, 'hidden_size': 256, 'dropout_prob': 0, 'n_classes': 2}, {'num_embeddings': 1000, 'embed_size': 16, 'n_features': 128, 'hidden_size': 256, 'dropout_prob': 0, 'n_classes': 3}, {'num_embeddings': 1000, 'embed_size': 16, 'n_features': 128, 'hidden_size': 256, 'dropout_prob': 0, 'n_classes': 2}, {'num_embeddings': 1000, 'embed_size': 16, 'n_features': 128, 'hidden_size': 256, 'dropout_prob': 0, 'n_classes': 3}, {'num_embeddings': 1000, 'embed_size': 16, 'n_features': 128, 'hidden_size': 256, 'dropout_prob': 0, 'n_classes': 2}, {'num_embeddings': 1000, 'embed_size': 16, 'n_features': 128, 'hidden_size': 256, 'dropout_prob': 0, 'n_classes': 3}, {'num_embeddings': 1000, 'embed_size': 16, 'n_features': 128, 'hidden_size': 256, 'dropout_prob': 0, 'n_classes': 2}, {'num_embeddings': 1000, 'embed_size': 16, 'n_features': 128, 'hidden_size': 256, 'dropout_prob': 0, 'n_classes': 3}, {'num_embeddings': 1000, 'embed_size': 32, 'n_features': 32, 'hidden_size': 32, 'dropout_prob': 0, 'n_classes': 2}, {'num_embeddings': 1000, 'embed_size': 32, 'n_features': 32, 'hidden_size': 32, 'dropout_prob': 0, 'n_classes': 3}, {'num_embeddings': 1000, 'embed_size': 32, 'n_features': 32, 'hidden_size': 32, 'dropout_prob': 0, 'n_classes': 2}, {'num_embeddings': 1000, 'embed_size': 32, 'n_features': 32, 'hidden_size': 32, 'dropout_prob': 0, 'n_classes': 3}, {'num_embeddings': 1000, 'embed_size': 32, 'n_features': 32, 'hidden_size': 32, 'dropout_prob': 0, 'n_classes': 2}, {'num_embeddings': 1000, 'embed_size': 32, 'n_features': 32, 'hidden_size': 32, 'dropout_prob': 0, 'n_classes': 3}, {'num_embeddings': 1000, 'embed_size': 32, 'n_features': 32, 'hidden_size': 32, 'dropout_prob': 0, 'n_classes': 2}, {'num_embeddings': 1000, 'embed_size': 32, 'n_features': 32, 'hidden_size': 32, 'dropout_prob': 0, 'n_classes': 3}, {'num_embeddings': 1000, 'embed_size': 32, 'n_features': 128, 'hidden_size': 256, 'dropout_prob': 0, 'n_classes': 2}, {'num_embeddings': 1000, 'embed_size': 32, 'n_features': 128, 'hidden_size': 256, 'dropout_prob': 0, 'n_classes': 3}, {'num_embeddings': 1000, 'embed_size': 32, 'n_features': 128, 'hidden_size': 256, 'dropout_prob': 0, 'n_classes': 2}, {'num_embeddings': 1000, 'embed_size': 32, 'n_features': 128, 'hidden_size': 256, 'dropout_prob': 0, 'n_classes': 3}, {'num_embeddings': 1000, 'embed_size': 32, 'n_features': 128, 'hidden_size': 256, 'dropout_prob': 0, 'n_classes': 2}, {'num_embeddings': 1000, 'embed_size': 32, 'n_features': 128, 'hidden_size': 256, 'dropout_prob': 0, 'n_classes': 3}, {'num_embeddings': 1000, 'embed_size': 32, 'n_features': 128, 'hidden_size': 256, 'dropout_prob': 0, 'n_classes': 2}, {'num_embeddings': 1000, 'embed_size': 32, 'n_features': 128, 'hidden_size': 256, 'dropout_prob': 0, 'n_classes': 3}]\n",
    "    expected_outputs = [32482,32515,32482,32515,32482,32515,32482,32515,541058,541315,541058,541315,541058,541315,541058,541315,64866,64899,64866,64899,64866,64899,64866,64899,1081346,1081603,1081346,1081603,1081346,1081603,1081346,1081603]\n",
    "\n",
    "    sanityCheckModel(inputs, Model, expected_outputs, \"init\")\n",
    "    print()\n",
    "\n",
    "    # Test forward\n",
    "    forward_inputs = [{'num_embeddings': 1000, 'embed_size': 8, 'n_features': 32, 'hidden_size': 100, 'dropout_prob': 0, 'n_classes': 40}, {'num_embeddings': 1000, 'embed_size': 8, 'n_features': 32, 'hidden_size': 100, 'dropout_prob': 0, 'n_classes': 80}, {'num_embeddings': 1000, 'embed_size': 8, 'n_features': 32, 'hidden_size': 200, 'dropout_prob': 0, 'n_classes': 40}, {'num_embeddings': 1000, 'embed_size': 8, 'n_features': 32, 'hidden_size': 200, 'dropout_prob': 0, 'n_classes': 80}, {'num_embeddings': 1000, 'embed_size': 8, 'n_features': 64, 'hidden_size': 100, 'dropout_prob': 0, 'n_classes': 40}, {'num_embeddings': 1000, 'embed_size': 8, 'n_features': 64, 'hidden_size': 100, 'dropout_prob': 0, 'n_classes': 80}, {'num_embeddings': 1000, 'embed_size': 8, 'n_features': 64, 'hidden_size': 200, 'dropout_prob': 0, 'n_classes': 40}, {'num_embeddings': 1000, 'embed_size': 8, 'n_features': 64, 'hidden_size': 200, 'dropout_prob': 0, 'n_classes': 80}, {'num_embeddings': 1000, 'embed_size': 16, 'n_features': 32, 'hidden_size': 100, 'dropout_prob': 0, 'n_classes': 40}, {'num_embeddings': 1000, 'embed_size': 16, 'n_features': 32, 'hidden_size': 100, 'dropout_prob': 0, 'n_classes': 80}, {'num_embeddings': 1000, 'embed_size': 16, 'n_features': 32, 'hidden_size': 200, 'dropout_prob': 0, 'n_classes': 40}, {'num_embeddings': 1000, 'embed_size': 16, 'n_features': 32, 'hidden_size': 200, 'dropout_prob': 0, 'n_classes': 80}, {'num_embeddings': 1000, 'embed_size': 16, 'n_features': 64, 'hidden_size': 100, 'dropout_prob': 0, 'n_classes': 40}, {'num_embeddings': 1000, 'embed_size': 16, 'n_features': 64, 'hidden_size': 100, 'dropout_prob': 0, 'n_classes': 80}, {'num_embeddings': 1000, 'embed_size': 16, 'n_features': 64, 'hidden_size': 200, 'dropout_prob': 0, 'n_classes': 40}, {'num_embeddings': 1000, 'embed_size': 16, 'n_features': 64, 'hidden_size': 200, 'dropout_prob': 0, 'n_classes': 80}, {'num_embeddings': 1000, 'embed_size': 8, 'n_features': 32, 'hidden_size': 100, 'dropout_prob': 0, 'n_classes': 40}, {'num_embeddings': 1000, 'embed_size': 8, 'n_features': 32, 'hidden_size': 100, 'dropout_prob': 0, 'n_classes': 80}, {'num_embeddings': 1000, 'embed_size': 8, 'n_features': 32, 'hidden_size': 200, 'dropout_prob': 0, 'n_classes': 40}, {'num_embeddings': 1000, 'embed_size': 8, 'n_features': 32, 'hidden_size': 200, 'dropout_prob': 0, 'n_classes': 80}, {'num_embeddings': 1000, 'embed_size': 8, 'n_features': 64, 'hidden_size': 100, 'dropout_prob': 0, 'n_classes': 40}, {'num_embeddings': 1000, 'embed_size': 8, 'n_features': 64, 'hidden_size': 100, 'dropout_prob': 0, 'n_classes': 80}, {'num_embeddings': 1000, 'embed_size': 8, 'n_features': 64, 'hidden_size': 200, 'dropout_prob': 0, 'n_classes': 40}, {'num_embeddings': 1000, 'embed_size': 8, 'n_features': 64, 'hidden_size': 200, 'dropout_prob': 0, 'n_classes': 80}, {'num_embeddings': 1000, 'embed_size': 16, 'n_features': 32, 'hidden_size': 100, 'dropout_prob': 0, 'n_classes': 40}, {'num_embeddings': 1000, 'embed_size': 16, 'n_features': 32, 'hidden_size': 100, 'dropout_prob': 0, 'n_classes': 80}, {'num_embeddings': 1000, 'embed_size': 16, 'n_features': 32, 'hidden_size': 200, 'dropout_prob': 0, 'n_classes': 40}, {'num_embeddings': 1000, 'embed_size': 16, 'n_features': 32, 'hidden_size': 200, 'dropout_prob': 0, 'n_classes': 80}, {'num_embeddings': 1000, 'embed_size': 16, 'n_features': 64, 'hidden_size': 100, 'dropout_prob': 0, 'n_classes': 40}, {'num_embeddings': 1000, 'embed_size': 16, 'n_features': 64, 'hidden_size': 100, 'dropout_prob': 0, 'n_classes': 80}, {'num_embeddings': 1000, 'embed_size': 16, 'n_features': 64, 'hidden_size': 200, 'dropout_prob': 0, 'n_classes': 40}, {'num_embeddings': 1000, 'embed_size': 16, 'n_features': 64, 'hidden_size': 200, 'dropout_prob': 0, 'n_classes': 80}]\n",
    "    expected_outputs = [torch.Size([1, 40]), torch.Size([1, 80]), torch.Size([1, 40]), torch.Size([1, 80]), torch.Size([1, 40]), torch.Size([1, 80]), torch.Size([1, 40]), torch.Size([1, 80]), torch.Size([1, 40]), torch.Size([1, 80]), torch.Size([1, 40]), torch.Size([1, 80]), torch.Size([1, 40]), torch.Size([1, 80]), torch.Size([1, 40]), torch.Size([1, 80]), torch.Size([4, 40]), torch.Size([4, 80]), torch.Size([4, 40]), torch.Size([4, 80]), torch.Size([4, 40]), torch.Size([4, 80]), torch.Size([4, 40]), torch.Size([4, 80]), torch.Size([4, 40]), torch.Size([4, 80]), torch.Size([4, 40]), torch.Size([4, 80]), torch.Size([4, 40]), torch.Size([4, 80]), torch.Size([4, 40]), torch.Size([4, 80])]\n",
    "    batch_sizes = [1] * (len(forward_inputs)//2) + [4] * (len(forward_inputs)//2)\n",
    "\n",
    "    sanityCheckModel(forward_inputs, Model, expected_outputs, \"forward\", batch_sizes)"
   ]
  },
  {
   "cell_type": "markdown",
   "metadata": {
    "id": "SV5ia_sDVF46"
   },
   "source": [
    "# Step 4: Train Model\n",
    "\n",
    "Finally, you are ready to train your model. We provide you with all the code you need to train it, so you do <b>not</b> need to edit any code in this section."
   ]
  },
  {
   "cell_type": "code",
   "execution_count": null,
   "metadata": {
    "id": "bBQPrzlUUXXw"
   },
   "outputs": [],
   "source": [
    "### DO NOT EDIT ###\n",
    "\n",
    "import math\n",
    "from torch import optim\n",
    "from tqdm.notebook import tqdm\n",
    "import time"
   ]
  },
  {
   "cell_type": "markdown",
   "metadata": {
    "id": "g-cnEwKKipWv"
   },
   "source": [
    "First, we read in the training dataset, create training examples, extract features, and instantiate the Pytorch `Dataset`."
   ]
  },
  {
   "cell_type": "code",
   "execution_count": null,
   "metadata": {
    "id": "n6Gbj4YT3TJH"
   },
   "outputs": [],
   "source": [
    "### DO NOT EDIT ###\n",
    "\n",
    "def prepare_data(train_name='train', test_name='test'):\n",
    "\n",
    "    train_set, test_set = load_data()\n",
    "\n",
    "    vocab = Vocabulary(train_set)\n",
    "    vocab.printStats()\n",
    "    print()\n",
    "\n",
    "    train_set = vocab.buildSentences(train_set)\n",
    "    test_set = vocab.buildSentences(test_set)\n",
    "\n",
    "    train_examples = generate_all_training_examples(vocab, train_set, feat_extract=extract_features)\n",
    "\n",
    "    return vocab, train_examples, test_set\n",
    "\n",
    "if __name__== \"__main__\":\n",
    "    vocab, train_examples, test_data = prepare_data()\n",
    "    train_dataset = TrainDataset(train_examples, vocab)"
   ]
  },
  {
   "cell_type": "markdown",
   "metadata": {
    "id": "gXvJjaQf9jQE"
   },
   "source": [
    "We will train the neural network using cross-entropy loss."
   ]
  },
  {
   "cell_type": "code",
   "execution_count": null,
   "metadata": {
    "id": "trW8_LS0Abno"
   },
   "outputs": [],
   "source": [
    "### DO NOT EDIT ###\n",
    "\n",
    "def train_model(model, vocab, train_data_loader, optimizer, n_epochs, device):\n",
    "    loss_func = nn.CrossEntropyLoss()\n",
    "    for epoch in range(n_epochs):\n",
    "        start = time.time()\n",
    "        n_batch = 0\n",
    "        total_loss = 0\n",
    "        model.train()      \n",
    "        for train_x, train_y in tqdm(train_data_loader):\n",
    "            optimizer.zero_grad() \n",
    "            train_x = train_x.to(device)\n",
    "            train_y = train_y.to(device)\n",
    "            logits = model(train_x)\n",
    "            loss = loss_func(logits, train_y)\n",
    "            loss.backward()\n",
    "            optimizer.step()\n",
    "            \n",
    "            total_loss +=  loss.item()\n",
    "            n_batch += 1\n",
    "        \n",
    "        print('Epoch:{:2d}/{}\\t Loss: {:.4f} \\t({:.2f}s)'.format(epoch + 1, n_epochs, total_loss / n_batch, time.time() - start))"
   ]
  },
  {
   "cell_type": "markdown",
   "metadata": {
    "id": "e_6UjiDY91sd"
   },
   "source": [
    "Next we instantiate the model and an <a href=https://jmlr.org/papers/volume12/duchi11a/duchi11a.pdf>Adagrad</a> optimizer. As with other homeworks, you are free to change the hyperparameters, though you should not need to."
   ]
  },
  {
   "cell_type": "code",
   "execution_count": null,
   "metadata": {
    "id": "PXSquloq0-yl"
   },
   "outputs": [],
   "source": [
    "### DO NOT EDIT ###\n",
    "\n",
    "if __name__ == \"__main__\":\n",
    "    # HYPERPARAMETERS - Feel free to change\n",
    "    BATCH_SIZE = 1024\n",
    "    LEARNING_RATE = 0.01\n",
    "    N_EPOCHS = 10\n",
    "    HIDDEN_SIZE = 300\n",
    "    DROPOUT_PROB = 0.1\n",
    "    EMBED_SIZE = 100\n",
    "    WEIGHT_DECAY = 1e-8\n",
    "    N_EMBEDDINGS = vocab.n_tokens # Do not change!\n",
    "    N_FEATURES = 48 # Do not change!\n",
    "    N_CLASSES = vocab.n_trans # Do not change!\n",
    "    \n",
    "    device = torch.device('cuda' if torch.cuda.is_available() else 'cpu')\n",
    "    \n",
    "    train_data_loader = torch.utils.data.DataLoader(train_dataset, batch_size=BATCH_SIZE, drop_last=True, shuffle=True)\n",
    "    model = Model(N_EMBEDDINGS, EMBED_SIZE, N_FEATURES, HIDDEN_SIZE, N_CLASSES, DROPOUT_PROB).to(device)\n",
    "    optimizer = optim.Adagrad(model.parameters(), lr=LEARNING_RATE, weight_decay=WEIGHT_DECAY)"
   ]
  },
  {
   "cell_type": "markdown",
   "metadata": {
    "id": "c9ta0IRdi4_w"
   },
   "source": [
    "Run the cell below to train the model."
   ]
  },
  {
   "cell_type": "code",
   "execution_count": null,
   "metadata": {
    "id": "5QJYewzf1BcX"
   },
   "outputs": [],
   "source": [
    "### DO NOT EDIT ###\n",
    "\n",
    "if __name__=='__main__':\n",
    "    train_model(model, vocab, train_data_loader, optimizer, N_EPOCHS, device)"
   ]
  },
  {
   "cell_type": "markdown",
   "metadata": {
    "id": "mclt1pAO4Y-X"
   },
   "source": [
    "# Step 5: Evaluate Model [28 points]\n",
    "\n",
    "Now that you have a trained model, we can use it to parse unseen sentences from a test set."
   ]
  },
  {
   "cell_type": "markdown",
   "metadata": {
    "id": "8-0LcUAaGm_y"
   },
   "source": [
    "## <font color='red'>TODO</font>: Select Best Legal Prediction [8 points]\n",
    "We will provide you with a function that takes a (trained) model and a batch of parser configurations, and returns the highest probability prediction for each configuration.\n",
    "\n",
    "However, it is possible that the model will predict an illegal action. For example, the model may predict `S` (shift) when the buffer is empty, which is not a valid move. We certainly hope that the model will not do this, but we cannot guarantee this for an unseen sentence, and so have to account for the possibility at inference time.\n",
    "\n",
    "Thus, you should return the highest probability <b>legal</b> action for each parser configuration. Your job is to write a function `select_best_legal_action(parser_configs, predictions, n_labels)` that does exactly this. You have some flexibility in how you choose to implement this. \n",
    "\n",
    "<font color='green'>Here are some <b>hints</b>:\n",
    "* `predictions` is of size `[N, 2*n_labels+1]`, where `N=len(parser_configs)`. It contains the (unnormalized) probabilities for each action as output by the `forward(...)` method of your model.\n",
    "* Consider a single row of `predictions`. The first `n_labels` indices `[0,...,n_labels-1]` correspond to the various `LA-label` actions. The second `n_labels` indices `[n_labels,...,2*n_labels-1]` correspond to the `RA-label` actions. The very last index `2*n_labels` corresponds to the `S` action.\n",
    "* For each row of `predictions`, you will want to determine which actions are legal. <b>You will need to think about how to tell which actions are legal based on a parser configuration.</b> Once you know this, we suggest building a bit map of size `2*n_labels+1`, where an index contains a `1` if its corersponding action is legal and a `0` otherwise.\n",
    "* You can then select the best action by either masking out the illegal actions, or by multiplying your bit map by a large number and adding it to the probabilities, so that the `argmax` operation can only return a legal index.\n",
    "* When thinking about which actions are legal, you do not need to worry about whether certain labels should be allowed or not. You just need to focus on when `LA`, `RA`, and `S` are allowed (regardless of whether a particular label makes sense on a particular `LA` or `RA` arc).</font>\n",
    "\n",
    "This function is worth <b>8 points</b>, and there is no partial credit."
   ]
  },
  {
   "cell_type": "code",
   "execution_count": null,
   "metadata": {
    "id": "pSDzMZZHsDWO"
   },
   "outputs": [],
   "source": [
    "def select_best_legal_action(parser_configs, predictions, n_labels):\n",
    "    '''\n",
    "    Returns the highest probability **legal** prediction for each parser configuration.\n",
    "    Inputs:\n",
    "        parser_configs: list of parser configurations of length N\n",
    "        predictions: np.array of size [N, 2*n_labels + 1]\n",
    "        n_labels: int, the number of labels in our model\n",
    "    Returns:\n",
    "        preds: np.array of length N, containing the indices of the highest probability legal action for each example\n",
    "    '''\n",
    "    preds = np.argmax(predictions, axis = 1) # Change this! This selects the highest probability action, regardless of legality.\n",
    "\n",
    "    ### TODO ###\n",
    "\n",
    "    return preds"
   ]
  },
  {
   "cell_type": "markdown",
   "metadata": {
    "id": "7-yJnqOu4_bp"
   },
   "source": [
    "Now we provide you with a function that takes a (trained) model and makes the best legal prediction for a batch of parser configurations. You do <b>not</b> need to edit this cell."
   ]
  },
  {
   "cell_type": "code",
   "execution_count": null,
   "metadata": {
    "id": "YrDAfdLEwGoU"
   },
   "outputs": [],
   "source": [
    "### DO NOT EDIT ###\n",
    "\n",
    "def predict(model, vocab, parser_configs):\n",
    "    '''\n",
    "    Predicts the next transition for each ParserConfiguration in the batch (`parsers`).\n",
    "    '''\n",
    "    model_device = next(model.parameters()).device\n",
    "    \n",
    "    x = np.array([extract_features(p) for p in parser_configs])\n",
    "    x = torch.from_numpy(x).long().to(model_device)\n",
    "    \n",
    "    with torch.no_grad():\n",
    "        pred = model(x)\n",
    "\n",
    "    pred = pred.detach().cpu().numpy()\n",
    "    pred = select_best_legal_action(parser_configs, pred, vocab.n_labels)\n",
    "    actions = [vocab.id2tran[p] for p in pred]\n",
    "    return actions"
   ]
  },
  {
   "cell_type": "markdown",
   "metadata": {
    "id": "76nx_Dp05RJI"
   },
   "source": [
    "## Test Set Attachment Score [20 points]\n",
    "\n",
    "The following functions use your model to parse all sentences in the test set, and compute the attachment score. The <b>unlabeled attachment score</b> is the percentage of arcs in the test set for which your model gets the head correct. The <b>labeled attachment score</b> is the percentage of arcs for which your model gets <em>both</em> the head and the label correct. Thus, attachment score is a number between 0 and 100, and a higher score is better.\n",
    "\n",
    "You do <b>not</b> need to edit this cell."
   ]
  },
  {
   "cell_type": "code",
   "execution_count": null,
   "metadata": {
    "id": "MjE1uJm3kPvp"
   },
   "outputs": [],
   "source": [
    "### DO NOT EDIT ###\n",
    "\n",
    "def run_inference(sentences, model, vocab, batch_size=2000):\n",
    "    '''\n",
    "    Infers the dependency parse for each sentence given a trained model.\n",
    "    '''\n",
    "    N = len(sentences)\n",
    "\n",
    "    # Initialize parser configs\n",
    "    parser_configs = [None] * N\n",
    "    for i in range(N):\n",
    "        sent = sentences[i]\n",
    "        parser_config = ParserConfiguration(sent, vocab)\n",
    "        parser_configs[i] = parser_config\n",
    "\n",
    "    parses_completed = [False] * N # Indicates whether a given parse is completed\n",
    "    \n",
    "    while sum(parses_completed) != N:\n",
    "\n",
    "        # Get batch along with indices\n",
    "        batch_idxes = []\n",
    "        for idx in range(N):\n",
    "            if not parses_completed[idx]: batch_idxes.append(idx)\n",
    "            if len(batch_idxes) == batch_size: break\n",
    "        batch = [parser_configs[idx] for idx in batch_idxes]\n",
    "\n",
    "        # Make prediction, run a parse step, and check for completion\n",
    "        transitions = predict(model, vocab, batch)\n",
    "        for idx, parser, transition in zip(batch_idxes, batch, transitions):\n",
    "            parser.parse_step(transition)\n",
    "            if not parser.buffer.buffer and len(parser.stack.stack) == 1:\n",
    "                parses_completed[idx] = True\n",
    "    \n",
    "    return [parser.dependencies for parser in parser_configs]\n",
    "\n",
    "def transform_to_head_label(dependencies):\n",
    "    head = [-1] * len(dependencies.arcs)\n",
    "    label = [-1] * len(dependencies.arcs)\n",
    "    for dep in dependencies.arcs:\n",
    "        head[dep.dependent.idx-1] = dep.head.idx\n",
    "        label[dep.dependent.idx-1] = dep.label_id  \n",
    "    return head, label\n",
    "\n",
    "\n",
    "def evaluate(model, vocab, dataset, eval_batch_size=5000):\n",
    "    model.eval()\n",
    "    sentences = [x[0] for x in dataset]\n",
    "    gold_dependencies = [x[1] for x in dataset]\n",
    "    pred_dependencies = run_inference(sentences, model, vocab, eval_batch_size)\n",
    "    \n",
    "    UAS, LAS = 0.0, 0.0\n",
    "\n",
    "    all_tokens = 0\n",
    "    \n",
    "    for i in range(len(gold_dependencies)):\n",
    "        assert len(gold_dependencies[i].arcs) == len(pred_dependencies[i].arcs)\n",
    "        \n",
    "        # Get gold answers\n",
    "        gold_head, gold_label = transform_to_head_label(gold_dependencies[i])\n",
    "        \n",
    "        # Get predictions\n",
    "        pred_head, pred_label = transform_to_head_label(pred_dependencies[i])\n",
    "        \n",
    "        assert len(gold_head) == len(pred_head) and len(gold_label) == len(pred_label)\n",
    "        assert -1 not in gold_head + gold_label + pred_head + pred_label\n",
    "\n",
    "        for pred_h, gold_h, pred_l, gold_l  in zip(pred_head, gold_head, pred_label, gold_label):\n",
    "            UAS += (1 if pred_h == gold_h else 0)\n",
    "            LAS += (1 if pred_h == gold_h and pred_l == gold_l else 0)\n",
    "            all_tokens += 1\n",
    "    return UAS / all_tokens * 100, LAS / all_tokens * 100, pred_dependencies"
   ]
  },
  {
   "cell_type": "markdown",
   "metadata": {
    "id": "0mr2pxizujT3"
   },
   "source": [
    "Run the following cell to calculate your attachment scores. You must achieve a <b>labeled attachment score</b> of <b>≥ 80%</b> for full credit. Bear in mind that Gradescope uses a different (hidden) test set, so results may be slightly different."
   ]
  },
  {
   "cell_type": "code",
   "execution_count": null,
   "metadata": {
    "id": "MNlTOYpX1dR2"
   },
   "outputs": [],
   "source": [
    "### DO NOT EDIT ###\n",
    "\n",
    "if __name__==\"__main__\":\n",
    "    UAS, LAS, test_predictions = evaluate(model, vocab, test_data)\n",
    "    print(\"Test Set Unlabeled Attachment Score:\", UAS)\n",
    "    print(\"Test Set Labeled Attachment Score:\", LAS)"
   ]
  },
  {
   "cell_type": "markdown",
   "metadata": {
    "id": "0MWQIBtq6mcp"
   },
   "source": [
    "## Qualitative Analysis\n",
    "\n",
    "This section allows you to analyze your model qualitatively to get a feel for the strengths and shortcomings of the model. You do <b>not</b> need to code anything in this section.\n",
    "\n",
    "Run the following cells to print some example sentences from the test set. For each sentence, it will display the gold (correct) dependency tree, the dependency tree predicted by your model, and a diagnostic of the gold tree. The diagnostic tree annotates the edges of the gold tree as follows:\n",
    "* ✓: Edges for which you predicted both the <b>correct head & label</b>\n",
    "* ⍻: Edges for which you predicted the <b>correct head but incorrect label</b>\n",
    "* ×: Edges that you do not have in your tree (i.e., you predicted the <b>incorrect head<b>)."
   ]
  },
  {
   "cell_type": "code",
   "execution_count": null,
   "metadata": {
    "id": "6xAISqedkfHW"
   },
   "outputs": [],
   "source": [
    "### DO NOT EDIT ###\n",
    "\n",
    "def diagnose(sentence, gold, pred):\n",
    "    word, pos = [x.word for x in sentence], [x.pos for x in sentence]\n",
    "    gold_head, gold_label = transform_to_head_label(gold)\n",
    "    pred_head, pred_label = transform_to_head_label(pred)\n",
    "    gold_label = [gold.vocab.id2tok[x][4:] for x in gold_label]\n",
    "    pred_label = [gold.vocab.id2tok[x][4:] for x in pred_label]\n",
    "\n",
    "    diff = [\"✓\"] * len(pred_head)\n",
    "    for i in range(len(pred_head)):\n",
    "        if gold_head[i]!=pred_head[i]: diff[i] = \"×\"\n",
    "        elif gold_label[i]!=pred_label[i]: diff[i] = \"⍻\"\n",
    "    unlabeled_score=sum([x in {\"✓\",\"⍻\"}  for x in diff]) / len(diff)\n",
    "    score=sum([x == \"✓\" for x in diff]) / len(diff)\n",
    "\n",
    "    print(\"Your dependency tree:\")\n",
    "    sent = {\"word\": word[1:], \"pos\": pos[1:], \"label\": pred_label, \"head\": pred_head}\n",
    "    display_sentence(sent)\n",
    "    \n",
    "    print(\"Gold dependency tree:\")\n",
    "    sent[\"label\"], sent[\"head\"] = gold_label, gold_head\n",
    "    display_sentence(sent)\n",
    "    \n",
    "    print(\"Diagnostic of the gold tree:\")\n",
    "    sent[\"label\"], sent[\"head\"] = diff, gold_head\n",
    "    display_sentence(sent)\n",
    "    print('Unlabeled Attachment Score for this sentence:', unlabeled_score*100)\n",
    "    print('Labeled Attachment Score for this sentence:', score*100, '\\n')\n",
    "\n",
    "def diagnose_sentences(idxes, data, preds, min_len, max_len, num_to_print=5):\n",
    "    print('-'*100, '\\n')\n",
    "    for i in random.sample(list(filter(lambda x: len(data[x][0]) >= min_len and len(data[x][0]) <= max_len, idxes)), num_to_print):\n",
    "        diagnose(data[i][0], data[i][1], preds[i])\n",
    "        print('-'*100, '\\n')"
   ]
  },
  {
   "cell_type": "code",
   "execution_count": null,
   "metadata": {
    "id": "6kpw4l1jqP3Z"
   },
   "outputs": [],
   "source": [
    "if __name__== '__main__':\n",
    "    MIN_SENT_LEN, MAX_SENT_LEN = 8, 17 # You can change this if you're interested in seeing shorter/longer sentences\n",
    "    idxes=list(range(len(test_data))) # Sample from all sentences\n",
    "    diagnose_sentences(idxes, test_data, test_predictions, MIN_SENT_LEN, MAX_SENT_LEN, num_to_print=5)"
   ]
  },
  {
   "cell_type": "markdown",
   "metadata": {
    "id": "nYKSWRO93Mjz"
   },
   "source": [
    "# What to Submit\n",
    "\n",
    "To submit the assignment, download this notebook as a <TT>.py</TT> file. You can do this by going to <TT>File > Download > Download .py</TT>. Then rename it to `hwk4.py`. <b>Do not try to submit it as a <TT>.ipynb</TT> file!</b>\n",
    "\n",
    "You will also need to save your trained `model`. You can run the cell below to do this. After you save the files to your Google Drive, you need to manually download the file to your computer, and then submit them to the autograder.\n",
    "\n",
    "You will submit the following files to the autograder:\n",
    "1.   `hwk4.py`, the download of this notebook as a `.py` file (**not** a `.ipynb` file)\n",
    "1.   `model.pt`, the saved version of your `model`"
   ]
  },
  {
   "cell_type": "code",
   "execution_count": null,
   "metadata": {
    "id": "R2Jnt32ItMA7"
   },
   "outputs": [],
   "source": [
    "### DO NOT EDIT ###\n",
    "\n",
    "import pickle\n",
    "\n",
    "if __name__=='__main__':\n",
    "    from google.colab import drive\n",
    "    drive.mount('/content/drive')\n",
    "    print()\n",
    "    print(\"Saving model....\") \n",
    "    torch.save(model, 'drive/My Drive/model.pt')\n",
    "    print(\"Saved!\")"
   ]
  }
 ],
 "metadata": {
  "accelerator": "GPU",
  "colab": {
   "collapsed_sections": [],
   "provenance": []
  },
  "kernelspec": {
   "display_name": "Python 3 (ipykernel)",
   "language": "python",
   "name": "python3"
  },
  "language_info": {
   "codemirror_mode": {
    "name": "ipython",
    "version": 3
   },
   "file_extension": ".py",
   "mimetype": "text/x-python",
   "name": "python",
   "nbconvert_exporter": "python",
   "pygments_lexer": "ipython3",
   "version": "3.9.13"
  }
 },
 "nbformat": 4,
 "nbformat_minor": 1
}
